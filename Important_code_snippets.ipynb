{
  "nbformat": 4,
  "nbformat_minor": 0,
  "metadata": {
    "colab": {
      "name": "Important code snippets.ipynb",
      "provenance": [],
      "collapsed_sections": [],
      "toc_visible": true,
      "authorship_tag": "ABX9TyMh4YqMGuT+bIS+LN+Ycc6W",
      "include_colab_link": true
    },
    "kernelspec": {
      "name": "python3",
      "display_name": "Python 3"
    },
    "language_info": {
      "name": "python"
    }
  },
  "cells": [
    {
      "cell_type": "markdown",
      "metadata": {
        "id": "view-in-github",
        "colab_type": "text"
      },
      "source": [
        "<a href=\"https://colab.research.google.com/github/sanket-ghodake/handwritten-character-recognition/blob/main/Important_code_snippets.ipynb\" target=\"_parent\"><img src=\"https://colab.research.google.com/assets/colab-badge.svg\" alt=\"Open In Colab\"/></a>"
      ]
    },
    {
      "cell_type": "markdown",
      "source": [
        "\n",
        "# Accessing Google Drive from Google Colab"
      ],
      "metadata": {
        "id": "BUOheDTS5orO"
      }
    },
    {
      "cell_type": "markdown",
      "source": [
        "Links - [neptune.ai](https://neptune.ai/blog/google-colab-dealing-with-files#:~:text=Accessing%20Google%20Drive%20from%20Google%20Colab)"
      ],
      "metadata": {
        "id": "3w69JRe16Nqq"
      }
    },
    {
      "cell_type": "code",
      "source": [
        "from google.colab import drive\n",
        "drive.mount('/content/drive')"
      ],
      "metadata": {
        "id": "lOxWO83r7gkq"
      },
      "execution_count": null,
      "outputs": []
    },
    {
      "cell_type": "markdown",
      "source": [
        "# Use the right version of TensorFlow"
      ],
      "metadata": {
        "id": "_PUKDLTA7kfy"
      }
    },
    {
      "cell_type": "markdown",
      "source": [
        "The following hidden code cell ensures that the Colab will run on TensorFlow 2.X."
      ],
      "metadata": {
        "id": "-yMsT5r17wYu"
      }
    },
    {
      "cell_type": "code",
      "metadata": {
        "id": "lM75uNH-sTv2"
      },
      "source": [
        "#@title Run on TensorFlow 2.x { vertical-output: true }\n",
        "%tensorflow_version 2.x\n",
        "from __future__ import absolute_import, division, print_function, unicode_literals"
      ],
      "execution_count": null,
      "outputs": []
    },
    {
      "cell_type": "markdown",
      "source": [
        "# Import modules"
      ],
      "metadata": {
        "id": "KT5W3z0H8gYZ"
      }
    },
    {
      "cell_type": "code",
      "source": [
        "#@title Import relevant modules\n",
        "import numpy as np\n",
        "import pandas as pd\n",
        "import tensorflow as tf\n",
        "from tensorflow.keras import layers\n",
        "from matplotlib import pyplot as plt"
      ],
      "metadata": {
        "id": "E5zEDWEd803F"
      },
      "execution_count": null,
      "outputs": []
    },
    {
      "cell_type": "markdown",
      "source": [
        "# Formatting for how notebook should look"
      ],
      "metadata": {
        "id": "0h2ogSZU82QE"
      }
    },
    {
      "cell_type": "code",
      "source": [
        "# The following lines adjust the granularity of reporting. \n",
        "pd.options.display.max_rows = 10\n",
        "pd.options.display.float_format = \"{:.1f}\".format\n",
        "\n",
        "# The following line improves formatting when ouputting NumPy arrays.\n",
        "np.set_printoptions(linewidth = 200)"
      ],
      "metadata": {
        "id": "r6u1zWm09HOQ"
      },
      "execution_count": null,
      "outputs": []
    },
    {
      "cell_type": "markdown",
      "source": [
        "# Tensrflow Datasets"
      ],
      "metadata": {
        "id": "IeUuo3SF9s65"
      }
    },
    {
      "cell_type": "markdown",
      "source": [
        "More details - https://colab.research.google.com/github/tensorflow/datasets/blob/master/docs/overview.ipynb#scrollTo=6XvCUmCEd4Dm \n",
        "\n",
        "https://www.oreilly.com/library/view/ai-and-machine/9781492078180/ch04.html "
      ],
      "metadata": {
        "id": "RhcJiN1z9xkw"
      }
    },
    {
      "cell_type": "code",
      "source": [
        "#@title Mnist digit(70000) dataset in TF\n",
        "(x_train, y_train),(x_test, y_test) = tf.keras.datasets.mnist.load_data()"
      ],
      "metadata": {
        "id": "ieg3wGdO9z3L"
      },
      "execution_count": null,
      "outputs": []
    },
    {
      "cell_type": "markdown",
      "source": [
        "## Emnist dataset from tenserflow catalog\n",
        "https://www.tensorflow.org/datasets/catalog/emnist "
      ],
      "metadata": {
        "id": "V6wIFpaV-Ghb"
      }
    },
    {
      "cell_type": "code",
      "source": [
        "!pip install -q tfds-nightly tensorflow matplotlib\n",
        "import tensorflow_datasets as tfds"
      ],
      "metadata": {
        "colab": {
          "base_uri": "https://localhost:8080/"
        },
        "id": "bIwE_-7B9-XC",
        "outputId": "1edf2a53-ad48-4160-da62-2ca20602283a"
      },
      "execution_count": null,
      "outputs": [
        {
          "output_type": "stream",
          "name": "stdout",
          "text": [
            "\u001b[K     |████████████████████████████████| 4.2 MB 8.1 MB/s \n",
            "\u001b[?25h"
          ]
        }
      ]
    },
    {
      "cell_type": "code",
      "source": [
        "(x_train, y_train),(x_test, y_test) =  tfds.as_numpy(tfds.load('emnist',split = ['train', 'test'], batch_size=-1, as_supervised=True))"
      ],
      "metadata": {
        "id": "hVmbFtXx_du0"
      },
      "execution_count": null,
      "outputs": []
    },
    {
      "cell_type": "code",
      "source": [
        "print(\"Dimension:\",x_train.shape,y_train.shape)\n",
        "\n",
        "# Reshaping by removing extra dimension \n",
        "x_train=x_train[:,:, :, 0]\n",
        "x_test=x_test[:,:, :, 0]\n",
        "\n",
        "print(\"Dimension after:\",x_train.shape,y_train.shape)"
      ],
      "metadata": {
        "id": "Q9tURuJu-TGu"
      },
      "execution_count": null,
      "outputs": []
    },
    {
      "cell_type": "markdown",
      "source": [
        "# Executing model refer from google ML crash course"
      ],
      "metadata": {
        "id": "nF77k-i_AVyI"
      }
    },
    {
      "cell_type": "markdown",
      "source": [
        "For external image"
      ],
      "metadata": {
        "id": "i8Hq0JajBErE"
      }
    },
    {
      "cell_type": "code",
      "source": [
        "import cv2\n",
        "img = cv2.imread(\"/content/img/WhatsApp Image 2022-01-21 at 5.59.05 PM.jpeg\")\n",
        "\n",
        "img = cv2.cvtColor(img, cv2.COLOR_BGR2GRAY)\n",
        "img = cv2.resize(img,(28,28))\n",
        "\n",
        "from google.colab.patches import cv2_imshow\n",
        "cv2_imshow(img)\n",
        "plt.imshow(img)\n",
        "plt.show()\n",
        "\n",
        "# img = cv2.flip(img, 1)\n",
        "# img =cv2.rotate(img, cv2.ROTATE_90_COUNTERCLOCKWISE)\n",
        "\n",
        "img_final =np.reshape(img, (1,28,28,1))\n",
        "m=new_model.predict([img_final])\n",
        "print(m)\n",
        "t=np.argmax(m[0])\n",
        "\n",
        "print(t,\":\",end=\" \")\n",
        "\n",
        "# Dictionary of classes\n",
        "# dicti ={'0': '0', '1': '1', '2': '2', '3': '3', '4': '4', '5': '5', '6': '6', '7': '7', '8': '8', '9': '9', '10': 'A', '11': 'B', '12': 'C', '13': 'D', '14': 'E', '15': 'F', '16': 'G', '17': 'H', '18': 'I', '19': 'J', '20': 'K', '21': 'L', '22': 'M', '23': 'N', '24': 'O', '25': 'P', '26': 'Q', '27': 'R', '28': 'S', '29': 'T', '30': 'U', '31': 'V', '32': 'W', '33': 'X', '34': 'Y', '35': 'Z', '36': 'a', '37': 'b', '38': 'c', '39': 'd', '40': 'e', '41': 'f', '42': 'g', '43': 'h', '44': 'i', '45': 'j', '46': 'k', '47': 'l', '48': 'm', '49': 'n', '50': 'o', '51': 'p', '52': 'q', '53': 'r', '54': 's', '55': 't', '56': 'u', '57': 'v', '58': 'w', '59': 'x', '60': 'y', '61': 'z'}\n",
        "# print(\"Predicted class\",dicti[str(t)])\n"
      ],
      "metadata": {
        "id": "VFshURkdqf7W"
      },
      "execution_count": null,
      "outputs": []
    },
    {
      "cell_type": "markdown",
      "source": [
        "For image from dataset itself"
      ],
      "metadata": {
        "id": "bpvH7Gn4Bw9I"
      }
    },
    {
      "cell_type": "code",
      "source": [
        "import cv2\n",
        "\n",
        "# print(type(x_train[222]))\n",
        "img = x_train[222]\n",
        "img_final =np.reshape(img, (1,28,28,1))\n",
        "m=new_model.predict([img_final])\n",
        "\n",
        "from google.colab.patches import cv2_imshow\n",
        "cv2_imshow(img)\n",
        "plt.imshow(img)\n",
        "plt.show()\n",
        "\n",
        "print(m)\n",
        "t=np.argmax(m[0])\n",
        "print(t)\n",
        "\n",
        "# Dictionary of classes\n",
        "# dicti ={'0': '0', '1': '1', '2': '2', '3': '3', '4': '4', '5': '5', '6': '6', '7': '7', '8': '8', '9': '9', '10': 'A', '11': 'B', '12': 'C', '13': 'D', '14': 'E', '15': 'F', '16': 'G', '17': 'H', '18': 'I', '19': 'J', '20': 'K', '21': 'L', '22': 'M', '23': 'N', '24': 'O', '25': 'P', '26': 'Q', '27': 'R', '28': 'S', '29': 'T', '30': 'U', '31': 'V', '32': 'W', '33': 'X', '34': 'Y', '35': 'Z', '36': 'a', '37': 'b', '38': 'c', '39': 'd', '40': 'e', '41': 'f', '42': 'g', '43': 'h', '44': 'i', '45': 'j', '46': 'k', '47': 'l', '48': 'm', '49': 'n', '50': 'o', '51': 'p', '52': 'q', '53': 'r', '54': 's', '55': 't', '56': 'u', '57': 'v', '58': 'w', '59': 'x', '60': 'y', '61': 'z'}\n",
        "# print(\"Predicted class\",dicti[str(t)])\n"
      ],
      "metadata": {
        "id": "-HddVyafzwjf"
      },
      "execution_count": null,
      "outputs": []
    },
    {
      "cell_type": "markdown",
      "source": [
        "# Loading TF model"
      ],
      "metadata": {
        "id": "RnyL1mkICvMK"
      }
    },
    {
      "cell_type": "code",
      "source": [
        "new_model = tf.keras.models.load_model('/content/my_model.h5')\n",
        "\n",
        "# Show the model architecture\n",
        "new_model.summary()"
      ],
      "metadata": {
        "id": "8AWbL7WyCylA"
      },
      "execution_count": null,
      "outputs": []
    },
    {
      "cell_type": "markdown",
      "source": [
        "# Create Dictionary from CSV"
      ],
      "metadata": {
        "id": "8Okxf8VVC1mz"
      }
    },
    {
      "cell_type": "markdown",
      "source": [
        "https://stackoverflow.com/questions/40227875/how-do-i-read-a-2-column-csv-file-and-create-a-dictionary "
      ],
      "metadata": {
        "id": "mWzgzvDHDQ1t"
      }
    },
    {
      "cell_type": "code",
      "source": [
        "import csv\n",
        "\n",
        "with open('/content/t - Sheet1.csv') as f:\n",
        "    reader = csv.reader(f, skipinitialspace=True)\n",
        "    result = dict(reader)\n",
        "    print(result)"
      ],
      "metadata": {
        "id": "6yQmqQ4kDPt2"
      },
      "execution_count": null,
      "outputs": []
    },
    {
      "cell_type": "markdown",
      "source": [
        "# Format entire colom"
      ],
      "metadata": {
        "id": "-CwaZjHUDqbz"
      }
    },
    {
      "cell_type": "markdown",
      "source": [
        "Not important"
      ],
      "metadata": {
        "id": "LtAjaiGsD8P2"
      }
    },
    {
      "cell_type": "code",
      "source": [
        "i= \"\"\"21/01/2022  06:16 PM             3,073 WhatsApp Image 2022-01-21 at 5.56.21 PM.jpeg\n",
        "21/01/2022  06:16 PM             3,469 WhatsApp Image 2022-01-21 at 5.56.45 PM.jpeg\n",
        "21/01/2022  06:16 PM             2,654 WhatsApp Image 2022-01-21 at 5.57.03 PM.jpeg\n",
        "21/01/2022  06:16 PM             2,360 WhatsApp Image 2022-01-21 at 5.57.12 PM.jpeg\n",
        "21/01/2022  06:16 PM             2,441 WhatsApp Image 2022-01-21 at 5.57.26 PM.jpeg\n",
        "21/01/2022  06:16 PM             2,588 WhatsApp Image 2022-01-21 at 5.57.35 PM.jpeg\n",
        "21/01/2022  06:16 PM             2,528 WhatsApp Image 2022-01-21 at 5.57.44 PM.jpeg\n",
        "21/01/2022  06:16 PM             2,542 WhatsApp Image 2022-01-21 at 5.57.56 PM.jpeg\n",
        "21/01/2022  06:16 PM             2,470 WhatsApp Image 2022-01-21 at 6.05.37 PM.jpeg\"\"\"\n",
        "\n",
        "i= i.split(\"\\n\")\n",
        "print(i)\n",
        "k=[abs]\n",
        "for j in i :\n",
        "  k.append(j[j.index(\"W\"):])\n",
        "print(k)\n",
        "print(len(k))\n",
        "string= \"\\n\".join(k[1:])\n",
        "print(string)"
      ],
      "metadata": {
        "id": "4RdbMpBBq7Cj"
      },
      "execution_count": null,
      "outputs": []
    },
    {
      "cell_type": "markdown",
      "source": [
        "# Create training/testing dataset in np array format"
      ],
      "metadata": {
        "id": "vwJYnCiyHMDo"
      }
    },
    {
      "cell_type": "markdown",
      "source": [
        "Link - https://github.com/bijoycp/sign-language-recognition-using-convolutional-neural-networks/blob/master/2_create_dataset.py \n",
        "\n",
        "Directory of training images is shown below - \n",
        "\n",
        "![image.png](data:image/png;base64,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)"
      ],
      "metadata": {
        "id": "OqjkRBL-FaSB"
      }
    },
    {
      "cell_type": "code",
      "execution_count": null,
      "metadata": {
        "id": "K3htTKt45Mgk"
      },
      "outputs": [],
      "source": [
        "import cv2                 # working with, mainly resizing, images\n",
        "import numpy as np         # dealing with arrays\n",
        "import os                  # dealing with directories\n",
        "# from random import shuffle # mixing up or currently ordered data that might lead our network astray in training.\n",
        "from sklearn.utils import shuffle\n",
        "from matplotlib import pyplot as plt"
      ]
    },
    {
      "cell_type": "code",
      "source": [
        "path='/content/img' # needs img directory, you can change\n",
        "IMG_SIZE = 28"
      ],
      "metadata": {
        "id": "rtraA9vQFhBe"
      },
      "execution_count": null,
      "outputs": []
    },
    {
      "cell_type": "code",
      "source": [
        "def create_train_data():\n",
        "    x_train = []\n",
        "    y_train = []\n",
        "    label=0\n",
        "    for (dirpath,dirnames,filenames) in os.walk(path):\n",
        "        for dirname in dirnames:\n",
        "            print(\"directory = \",dirname)\n",
        "            if dirname == \".ipynb_checkpoints\":\n",
        "              continue\n",
        "            else :\n",
        "              label = int(dirname)\n",
        "            print(\"label = \",label)\n",
        "            for(direcpath,direcnames,files) in os.walk(path+\"/\"+dirname):\n",
        "                for file in files:\n",
        "                        actual_path=path+\"/\"+dirname+\"/\"+file\n",
        "                        print(\"files\",files,end=\",\")\n",
        "                        path1 =path+\"/\"+dirname+'/'+file\n",
        "                        img=cv2.imread(path1)#?\n",
        "                        img =cv2.cvtColor(img, cv2.COLOR_BGR2GRAY) #?\n",
        "                        img = cv2.resize(img, (IMG_SIZE,IMG_SIZE))\n",
        "                        x_train.append(img)\n",
        "                        y_train.append(label)\n",
        "                print(\"\\n\")\n",
        "            # label=label+1\n",
        "    x_train = np.array(x_train)\n",
        "    y_train = np.array(y_train)\n",
        "\n",
        "    # Reference - https://stackoverflow.com/questions/4601373/better-way-to-shuffle-two-numpy-arrays-in-unison \n",
        "    x_train,y_train =shuffle(x_train, y_train, random_state=0) \n",
        "    # np.save('train_data.npy', training_data)\n",
        "    return x_train,y_train"
      ],
      "metadata": {
        "id": "NqFD2zmTFlmx"
      },
      "execution_count": null,
      "outputs": []
    },
    {
      "cell_type": "code",
      "source": [
        "x_train,y_train = create_train_data()"
      ],
      "metadata": {
        "id": "6EpwxH3gFqKm"
      },
      "execution_count": null,
      "outputs": []
    },
    {
      "cell_type": "code",
      "source": [
        "print(type(x_train),type(y_train))\n",
        "print(x_train.shape,y_train.shape)"
      ],
      "metadata": {
        "id": "mr9jc8k2HFLq"
      },
      "execution_count": null,
      "outputs": []
    },
    {
      "cell_type": "code",
      "source": [
        "plt.imshow(x_train[2])\n",
        "print(y_train[2])"
      ],
      "metadata": {
        "id": "kq7Jlz_f_1Sc"
      },
      "execution_count": null,
      "outputs": []
    },
    {
      "cell_type": "markdown",
      "source": [
        "# Remove dimension from numpy array"
      ],
      "metadata": {
        "id": "lVLmeB8_R-65"
      }
    },
    {
      "cell_type": "markdown",
      "source": [
        "https://stackoverflow.com/questions/37152031/numpy-remove-a-dimension-from-np-array "
      ],
      "metadata": {
        "id": "bRTZ7G4qSFC8"
      }
    },
    {
      "cell_type": "code",
      "source": [
        "x = np.zeros( (106, 106, 3) )\n",
        "result = x[:, :, 0]\n",
        "print(result.shape)\n",
        "#answer (106,106)"
      ],
      "metadata": {
        "id": "9ylgMYSNSGcQ"
      },
      "execution_count": null,
      "outputs": []
    },
    {
      "cell_type": "markdown",
      "source": [
        "# tf.keras.utils - image_dataset_from_directory"
      ],
      "metadata": {
        "id": "NZsCMp4xIzmC"
      }
    },
    {
      "cell_type": "markdown",
      "source": [
        "https://www.tensorflow.org/api_docs/python/tf/keras/utils/image_dataset_from_directory \n",
        "\n",
        "https://keras.io/api/preprocessing/image/\n",
        "\n",
        "\n",
        "not giving class_names list also works if the folder names is an numeric sequence*\n"
      ],
      "metadata": {
        "id": "IgA4ljfjI5TG"
      }
    },
    {
      "cell_type": "code",
      "source": [
        "from tensorflow.keras.utils import image_dataset_from_directory #import"
      ],
      "metadata": {
        "id": "q20Cdhq9KfIw"
      },
      "execution_count": null,
      "outputs": []
    },
    {
      "cell_type": "code",
      "source": [
        "train_ds = tf.keras.utils.image_dataset_from_directory(\n",
        "    directory=\"/content/train\", labels='inferred', label_mode='int',\n",
        "    class_names=None, color_mode='grayscale', batch_size=32, image_size=(28,\n",
        "    28), shuffle=True, seed=None, validation_split=None, subset=None,\n",
        "    interpolation='bilinear', follow_links=False,\n",
        "    crop_to_aspect_ratio=False\n",
        ")"
      ],
      "metadata": {
        "id": "UHnW8kDlKhBb"
      },
      "execution_count": null,
      "outputs": []
    },
    {
      "cell_type": "code",
      "source": [
        "print(type(train_ds))\n",
        "print(train_ds.class_names)\n",
        "print(train_ds)\n",
        "# for image_batch, labels_batch in train_ds:\n",
        "#   print(image_batch.shape,image_batch)\n",
        "#   print(labels_batch.shape,labels_batch)"
      ],
      "metadata": {
        "id": "TE3BrLHG5l6d"
      },
      "execution_count": null,
      "outputs": []
    },
    {
      "cell_type": "code",
      "source": [
        "# https://www.tensorflow.org/tutorials/images/classification#standardize_the_data \n",
        "normalized_ds = train_ds.map(lambda x, y: (x, y))\n",
        "image_batch, labels_batch = next(iter(normalized_ds))\n",
        "first_image = image_batch[0]\n",
        "print(first_image.shape,image_batch.shape,type(first_image),type(image_batch))"
      ],
      "metadata": {
        "id": "-S0fQacLGln4"
      },
      "execution_count": null,
      "outputs": []
    },
    {
      "cell_type": "code",
      "source": [
        "x_train,y_train=image_batch,labels_batch\n",
        "#x_train.numpy() # https://stackoverflow.com/questions/34097281/convert-a-tensor-to-numpy-array-in-tensorflow\n",
        "print(type(x_train),type(x_train.numpy()))"
      ],
      "metadata": {
        "id": "-jzsjaadQFp-"
      },
      "execution_count": null,
      "outputs": []
    },
    {
      "cell_type": "code",
      "source": [
        "x_train,y_train=image_batch.numpy(),labels_batch.numpy()\n",
        "x_train=x_train[:,:, :, 0] #cliff of extra dimension"
      ],
      "metadata": {
        "id": "7VcXrCbNROU2"
      },
      "execution_count": null,
      "outputs": []
    },
    {
      "cell_type": "code",
      "source": [
        "print(type(x_train),type(y_train))\n",
        "print(x_train.shape,y_train.shape)"
      ],
      "metadata": {
        "id": "UMTs29eWL2HZ"
      },
      "execution_count": null,
      "outputs": []
    },
    {
      "cell_type": "code",
      "source": [
        "plt.imshow(x_train[2])\n",
        "print(type(y_train[2]))"
      ],
      "metadata": {
        "id": "yG7-iiaqL2HZ"
      },
      "execution_count": null,
      "outputs": []
    },
    {
      "cell_type": "markdown",
      "source": [
        "# Resize an image without distortion OpenCV"
      ],
      "metadata": {
        "id": "k1ZLDtYDTtcg"
      }
    },
    {
      "cell_type": "markdown",
      "source": [
        "https://stackoverflow.com/questions/44650888/resize-an-image-without-distortion-opencv "
      ],
      "metadata": {
        "id": "NwghMNt2Twnv"
      }
    },
    {
      "cell_type": "code",
      "source": [
        "def image_resize(image, width = None, height = None, inter = cv2.INTER_AREA):\n",
        "    # initialize the dimensions of the image to be resized and\n",
        "    # grab the image size\n",
        "    dim = None\n",
        "    (h, w) = image.shape[:2]\n",
        "\n",
        "    # if both the width and height are None, then return the\n",
        "    # original image\n",
        "    if width is None and height is None:\n",
        "        return image\n",
        "\n",
        "    # check to see if the width is None\n",
        "    if width is None:\n",
        "        # calculate the ratio of the height and construct the\n",
        "        # dimensions\n",
        "        r = height / float(h)\n",
        "        dim = (int(w * r), height)\n",
        "\n",
        "    # otherwise, the height is None\n",
        "    else:\n",
        "        # calculate the ratio of the width and construct the\n",
        "        # dimensions\n",
        "        r = width / float(w)\n",
        "        dim = (width, int(h * r))\n",
        "\n",
        "    # resize the image\n",
        "    resized = cv2.resize(image, dim, interpolation = inter)\n",
        "\n",
        "    # return the resized image\n",
        "    return resized"
      ],
      "metadata": {
        "id": "sZlUfMC7TvjB"
      },
      "execution_count": null,
      "outputs": []
    },
    {
      "cell_type": "code",
      "source": [
        "plt.imshow(image_resize(img_array, height = 100),cmap='gray')\n",
        "plt.show()"
      ],
      "metadata": {
        "id": "nMMTbBWKT5cw"
      },
      "execution_count": null,
      "outputs": []
    },
    {
      "cell_type": "markdown",
      "source": [
        "# Loading in your own data and save using pickle"
      ],
      "metadata": {
        "id": "LrJsh2PQxqSh"
      }
    },
    {
      "cell_type": "markdown",
      "source": [
        "https://pythonprogramming.net/loading-custom-data-deep-learning-python-tensorflow-keras/  "
      ],
      "metadata": {
        "id": "41fePk5kx55b"
      }
    },
    {
      "cell_type": "code",
      "source": [
        "import numpy as np\n",
        "import matplotlib.pyplot as plt\n",
        "import os\n",
        "import cv2\n",
        "from tqdm import tqdm\n",
        "\n",
        "DATADIR = \"/content/a/train\" # directory of train/test dataset\n",
        "\n",
        "CATEGORIES = [x for x in range(10)] # or folder names in strings \n",
        "\n",
        "# Demo of how function works ->\n",
        "for category in CATEGORIES:  # do dogs and cats\n",
        "    path = os.path.join(DATADIR,str(category))  # create path to dogs and cats\n",
        "    for img in os.listdir(path):  # iterate over each image per dogs and cats\n",
        "        print(os.path.join(path,img))\n",
        "        img_array = cv2.imread(os.path.join(path,img) ,cv2.IMREAD_GRAYSCALE)  # convert to array\n",
        "        print(type(img_array))\n",
        "        plt.imshow(img_array, cmap='gray')  # graph it\n",
        "        plt.show()  # display!\n",
        "\n",
        "        print(img_array,img_array.shape,type(img_array),sep=\"\\n\")\n",
        "\n",
        "        break  # we just want one for now so break\n",
        "    break  #...and one more!\n",
        "\n",
        "# changing size of image to finalize input shape for ml model\n",
        "IMG_SIZE = 300\n",
        "\n",
        "new_array = cv2.resize(img_array, (IMG_SIZE, IMG_SIZE))\n",
        "plt.imshow(new_array, cmap='gray')\n",
        "plt.show()"
      ],
      "metadata": {
        "id": "IdGCfKMyx8Iv"
      },
      "execution_count": null,
      "outputs": []
    },
    {
      "cell_type": "code",
      "source": [
        "#create training data\n",
        "training_data = []\n",
        "\n",
        "def create_training_data(aspect_ratio=False):\n",
        "    for category in CATEGORIES:  # do dogs and cats\n",
        "\n",
        "        path = os.path.join(DATADIR,str(category))  # create path to dogs and cats\n",
        "        class_num = CATEGORIES.index(category)  # get the classification  (0 or a 1). 0=dog 1=cat\n",
        "\n",
        "        for img in tqdm(os.listdir(path)):  # iterate over each image per dogs and cats\n",
        "            try:\n",
        "                img_array = cv2.imread(os.path.join(path,img) ,cv2.IMREAD_GRAYSCALE)  # convert to array\n",
        "                \n",
        "                if aspect_ratio:\n",
        "                  # resized but maintain aspect ratio\n",
        "                  new_array = image_resize_maintain_aspect_ratio(img_array,height=IMG_SIZE)\n",
        "                else:\n",
        "                  # resized in square shape\n",
        "                  new_array = cv2.resize(img_array, (IMG_SIZE, IMG_SIZE))  # resize to normalize data size\n",
        "\n",
        "                training_data.append([new_array, class_num])  # add this to our training_data\n",
        "            except Exception as e:  # in the interest in keeping the output clean...\n",
        "                pass\n",
        "            #except OSError as e:\n",
        "            #    print(\"OSErrroBad img most likely\", e, os.path.join(path,img))\n",
        "            #except Exception as e:\n",
        "            #    print(\"general exception\", e, os.path.join(path,img))\n",
        "\n",
        "create_training_data() #don't use argument aspect_ratio (To use, load function - https://colab.research.google.com/drive/11gfaJEI9Q5D3YhocdW4fe8CK7dbp5uhJ?authuser=1#scrollTo=k1ZLDtYDTtcg&line=1&uniqifier=1 )\n",
        "\n",
        "print(\"\\n\",len(training_data))"
      ],
      "metadata": {
        "id": "YNWx8yy7yD-i"
      },
      "execution_count": null,
      "outputs": []
    },
    {
      "cell_type": "code",
      "source": [
        "import random\n",
        "random.shuffle(training_data)\n",
        "\n",
        "# Our training_data is a list, meaning it's mutable, so it's now nicely shuffled. \n",
        "#We can confirm this by iterating over a few of the initial samples and printing out the class.\n",
        "for sample in training_data[:10]:\n",
        "    print(sample[1])"
      ],
      "metadata": {
        "id": "bIMaPuOLyeCl"
      },
      "execution_count": null,
      "outputs": []
    },
    {
      "cell_type": "code",
      "source": [
        "X = [] #features\n",
        "y = [] #labels\n",
        "\n",
        "for features,label in training_data:\n",
        "    X.append(features)\n",
        "    y.append(label)\n",
        "\n",
        "print(type(X[0]),X[0].shape)\n",
        "# print(X[0].reshape(-1, IMG_SIZE, IMG_SIZE, 1)) # Gives error TODO \n",
        "print(np.array(X).shape,np.array(X).reshape(-1, IMG_SIZE, IMG_SIZE, 1).shape)\n",
        "\n",
        "X = np.array(X).reshape(-1, IMG_SIZE, IMG_SIZE, 1)"
      ],
      "metadata": {
        "id": "7-739Dl6yjEx"
      },
      "execution_count": null,
      "outputs": []
    },
    {
      "cell_type": "code",
      "source": [
        "# save data \n",
        "\n",
        "import pickle\n",
        "\n",
        "pickle_out = open(\"X.pickle\",\"wb\")\n",
        "pickle.dump(X, pickle_out)\n",
        "pickle_out.close()\n",
        "\n",
        "pickle_out = open(\"y.pickle\",\"wb\")\n",
        "pickle.dump(y, pickle_out)\n",
        "pickle_out.close()"
      ],
      "metadata": {
        "id": "VFcAOfw3yqJc"
      },
      "execution_count": null,
      "outputs": []
    },
    {
      "cell_type": "code",
      "source": [
        "# load data\n",
        "\n",
        "pickle_in = open(\"/content/X.pickle\",\"rb\")\n",
        "X = pickle.load(pickle_in)\n",
        "\n",
        "pickle_in = open(\"/content/y.pickle\",\"rb\")\n",
        "y = pickle.load(pickle_in)\n",
        "\n",
        "print(type(X),X.shape) #ndarray\n",
        "print(type(y)) #list"
      ],
      "metadata": {
        "id": "RweVVZr8ysa4"
      },
      "execution_count": null,
      "outputs": []
    },
    {
      "cell_type": "code",
      "source": [
        "x_train = X\n",
        "y_train = np.array(y)"
      ],
      "metadata": {
        "id": "7H6piMN8yu7h"
      },
      "execution_count": null,
      "outputs": []
    },
    {
      "cell_type": "markdown",
      "source": [
        "# Multiple image prediction easy way "
      ],
      "metadata": {
        "id": "263yFj241jtV"
      }
    },
    {
      "cell_type": "markdown",
      "source": [
        "https://colab.research.google.com/github/lmoroney/dlaicourse/blob/master/Course%202%20-%20Part%208%20-%20Lesson%202%20-%20Notebook%20(RockPaperScissors).ipynb#scrollTo=BZSlp3DAjdYf \n"
      ],
      "metadata": {
        "id": "S1IpxVQ51uxY"
      }
    },
    {
      "cell_type": "code",
      "metadata": {
        "id": "ZABJp7T3VLCU"
      },
      "source": [
        "import numpy as np\n",
        "from google.colab import files\n",
        "from keras.preprocessing import image\n",
        "\n",
        "uploaded = files.upload()\n",
        "\n",
        "for fn in uploaded.keys():\n",
        " \n",
        "  # predicting images\n",
        "  path = fn\n",
        "  img = image.load_img(path, target_size=(150, 150))\n",
        "  x = image.img_to_array(img)\n",
        "  x = np.expand_dims(x, axis=0)\n",
        "\n",
        "  images = np.vstack([x])\n",
        "  classes = model.predict(images, batch_size=10)\n",
        "  print(fn)\n",
        "  print(classes)"
      ],
      "execution_count": null,
      "outputs": []
    },
    {
      "cell_type": "markdown",
      "source": [
        "# kaggle dataset into colab"
      ],
      "metadata": {
        "id": "VExHmYjJkbMZ"
      }
    },
    {
      "cell_type": "markdown",
      "source": [
        " kaggle.json link - https://drive.google.com/file/d/1vwIiEeLMrIF32jMEueIn9asofJV2SNSY/view?usp=sharing \n",
        "\n",
        "Reference - https://www.analyticsvidhya.com/blog/2021/06/how-to-load-kaggle-datasets-directly-into-google-colab/ [link text](https://)"
      ],
      "metadata": {
        "id": "uSGtcaD7iJn3"
      }
    },
    {
      "cell_type": "code",
      "source": [
        "# upload kaggle.json file first in colab\n",
        "! pip install kaggle\n",
        "! mkdir ~/.kaggle\n",
        "! cp kaggle.json ~/.kaggle/\n",
        "! chmod 600 ~/.kaggle/kaggle.json"
      ],
      "metadata": {
        "id": "26Kfp3vWjuAs"
      },
      "execution_count": null,
      "outputs": []
    },
    {
      "cell_type": "code",
      "source": [
        "# API command ('!' at starting)\n",
        "! kaggle datasets download -d sanikamal/rock-paper-scissors-dataset"
      ],
      "metadata": {
        "id": "oNShK920iL86"
      },
      "execution_count": null,
      "outputs": []
    },
    {
      "cell_type": "markdown",
      "source": [
        "# Basic model training code refer from google crash course on ML "
      ],
      "metadata": {
        "id": "ROd5Kb9jndNU"
      }
    },
    {
      "cell_type": "markdown",
      "source": [
        "https://colab.research.google.com/github/google/eng-edu/blob/main/ml/cc/exercises/multi-class_classification_with_MNIST.ipynb?utm_source=mlcc&utm_campaign=colab-external&utm_medium=referral&utm_content=multiclass_tf2-colab&hl=en#scrollTo=VFshURkdqf7W&uniqifier=1  \n"
      ],
      "metadata": {
        "id": "vXGoiaANnyoA"
      }
    },
    {
      "cell_type": "code",
      "source": [
        "%tensorflow_version 2.x\n",
        "from __future__ import absolute_import, division, print_function, unicode_literals\n",
        "\n",
        "import numpy as np\n",
        "import pandas as pd\n",
        "import tensorflow as tf\n",
        "from tensorflow.keras import layers\n",
        "from matplotlib import pyplot as plt\n",
        "\n",
        "# The following lines adjust the granularity of reporting. \n",
        "pd.options.display.max_rows = 10\n",
        "pd.options.display.float_format = \"{:.1f}\".format\n",
        "\n",
        "# The following line improves formatting when ouputting NumPy arrays.\n",
        "np.set_printoptions(linewidth = 200)"
      ],
      "metadata": {
        "id": "-UQB6UnGVTPO"
      },
      "execution_count": null,
      "outputs": []
    },
    {
      "cell_type": "code",
      "source": [
        "x_train_normalized = x_train / 255.0\n",
        "# x_test_normalized = x_test / 255.0\n",
        "\n",
        "def plot_curve(epochs, hist, list_of_metrics):\n",
        "  \"\"\"Plot a curve of one or more classification metrics vs. epoch.\"\"\"  \n",
        "  # list_of_metrics should be one of the names shown in:\n",
        "  # https://www.tensorflow.org/tutorials/structured_data/imbalanced_data#define_the_model_and_metrics  \n",
        "\n",
        "  plt.figure()\n",
        "  plt.xlabel(\"Epoch\")\n",
        "  plt.ylabel(\"Value\")\n",
        "\n",
        "  for m in list_of_metrics:\n",
        "    x = hist[m]\n",
        "    plt.plot(epochs[1:], x[1:], label=m)\n",
        "\n",
        "  plt.legend()\n",
        "\n",
        "print(\"Loaded the plot_curve function.\")\n",
        "\n",
        "def create_model(my_learning_rate):\n",
        "  \"\"\"Create and compile a deep neural net.\"\"\"\n",
        "  \n",
        "  # All models in this course are sequential.\n",
        "  model = tf.keras.models.Sequential()\n",
        "\n",
        "  # The features are stored in a two-dimensional 28X28 array. \n",
        "  # Flatten that two-dimensional array into a a one-dimensional \n",
        "  # 784-element array.\n",
        "  model.add(tf.keras.layers.Flatten(input_shape=(100, 100)))\n",
        "\n",
        "  # Define the first hidden layer.   \n",
        "  model.add(tf.keras.layers.Dense(units=256, activation='relu'))\n",
        "  model.add(tf.keras.layers.Dense(units=128, activation='relu'))\n",
        "    \n",
        "  # Define a dropout regularization layer. \n",
        "  model.add(tf.keras.layers.Dropout(rate=0.2))#0.2\n",
        "\n",
        "  # Define the output layer. The units parameter is set to 10 because\n",
        "  # the model must choose among 10 possible output values (representing\n",
        "  # the digits from 0 to 9, inclusive).\n",
        "  #\n",
        "  # Don't change this layer.\n",
        "  model.add(tf.keras.layers.Dense(units=3, activation='softmax'))     \n",
        "                           \n",
        "  # Construct the layers into a model that TensorFlow can execute.  \n",
        "  # Notice that the loss function for multi-class classification\n",
        "  # is different than the loss function for binary classification.  \n",
        "  model.compile(optimizer=tf.keras.optimizers.Adam(learning_rate=my_learning_rate),\n",
        "                loss=\"sparse_categorical_crossentropy\",\n",
        "                metrics=['accuracy'])# lr changed to learning_rate\n",
        "  \n",
        "  return model    \n",
        "\n",
        "\n",
        "def train_model(model, train_features, train_label, epochs,\n",
        "                batch_size=None, validation_split=0.1):\n",
        "  \"\"\"Train the model by feeding it data.\"\"\"\n",
        "\n",
        "  history = model.fit(x=train_features, y=train_label, batch_size=batch_size,\n",
        "                      epochs=epochs, shuffle=True, \n",
        "                      validation_split=validation_split)\n",
        " \n",
        "  # To track the progression of training, gather a snapshot\n",
        "  # of the model's metrics at each epoch. \n",
        "  epochs = history.epoch\n",
        "  hist = pd.DataFrame(history.history)\n",
        "\n",
        "  return epochs, hist    \n",
        "\n",
        "  # The following variables are the hyperparameters.\n",
        "learning_rate =0.003 #0.003\n",
        "epochs = 60\n",
        "batch_size = 100#4000\n",
        "validation_split = 0.2#0.2\n",
        "\n",
        "# Establish the model's topography.\n",
        "my_model = create_model(learning_rate)\n",
        "\n",
        "# Train the model on the normalized training set.\n",
        "epochs, hist = train_model(my_model, x_train_normalized, y_train, \n",
        "                           epochs, batch_size, validation_split)\n",
        "\n",
        "# Plot a graph of the metric vs. epochs.\n",
        "list_of_metrics_to_plot = ['accuracy']\n",
        "plot_curve(epochs, hist, list_of_metrics_to_plot)\n",
        "\n",
        "# Evaluate against the test set.\n",
        "# print(\"\\n Evaluate the new model against the test set:\")\n",
        "# my_model.evaluate(x=x_test_normalized, y=y_test, batch_size=batch_size)"
      ],
      "metadata": {
        "id": "D8VGw65heogi"
      },
      "execution_count": null,
      "outputs": []
    },
    {
      "cell_type": "markdown",
      "source": [
        "# Show image in colab using cv2"
      ],
      "metadata": {
        "id": "6Mvx3eZCHR_U"
      }
    },
    {
      "cell_type": "code",
      "source": [
        "from google.colab.patches import cv2_imshow"
      ],
      "metadata": {
        "id": "jhGka1XJHWuR"
      },
      "execution_count": null,
      "outputs": []
    },
    {
      "cell_type": "code",
      "source": [
        "cv2_imshow(img)"
      ],
      "metadata": {
        "id": "KP-t6jrrHXVB"
      },
      "execution_count": null,
      "outputs": []
    },
    {
      "cell_type": "markdown",
      "source": [
        "# Important list and dictionary for HCR"
      ],
      "metadata": {
        "id": "dIO1zZDnIgUv"
      }
    },
    {
      "cell_type": "markdown",
      "source": [
        "https://stackoverflow.com/questions/16060899/alphabet-range-in-python  "
      ],
      "metadata": {
        "id": "d8fxHuCSLvw1"
      }
    },
    {
      "cell_type": "code",
      "source": [
        "#Digits list\n",
        "digit_list = ['0','1','2','3','4','5','6','7','8','9']\n",
        "digit_dict =  {'0': '0', '1': '1', '2': '2', '3': '3', '4': '4', '5': '5', '6': '6', '7': '7', '8': '8', '9': '9'}\n",
        "\n",
        "import string\n",
        "#Upper case alphabets\n",
        "# alpha_lower_list = list(string.ascii_lowercase)\n",
        "alpha_lower_list = ['a', 'b', 'c', 'd', 'e', 'f', 'g', 'h', 'i', 'j', 'k', 'l', 'm', 'n', 'o', 'p', 'q', 'r', 's', 't', 'u', 'v', 'w', 'x', 'y', 'z']\n",
        "alpha_lower_dict = {'10': 'A', '11': 'B', '12': 'C', '13': 'D', '14': 'E', '15': 'F', '16': 'G', '17': 'H', '18': 'I', '19': 'J', '20': 'K', '21': 'L', '22': 'M', '23': 'N', '24': 'O', '25': 'P', '26': 'Q', '27': 'R', '28': 'S', '29': 'T', '30': 'U', '31': 'V', '32': 'W', '33': 'X', '34': 'Y', '35': 'Z'}\n",
        "\n",
        "#Lowe case alphabets\n",
        "# alpha_upper_list = list(string.ascii_uppercase)\n",
        "alpha_upper_list = ['A', 'B', 'C', 'D', 'E', 'F', 'G', 'H', 'I', 'J', 'K', 'L', 'M', 'N', 'O', 'P', 'Q', 'R', 'S', 'T', 'U', 'V', 'W', 'X', 'Y', 'Z']\n",
        "alpha_upper_dict = {'36': 'a', '37': 'b', '38': 'c', '39': 'd', '40': 'e', '41': 'f', '42': 'g', '43': 'h', '44': 'i', '45': 'j', '46': 'k', '47': 'l', '48': 'm', '49': 'n', '50': 'o', '51': 'p', '52': 'q', '53': 'r', '54': 's', '55': 't', '56': 'u', '57': 'v', '58': 'w', '59': 'x', '60': 'y', '61': 'z'}\n",
        "\n",
        "# alphanumeric\n",
        "# alphanumeric_list = digit_list+alpha_upper_list+alpha_lower_list\n",
        "alphanumeric_list = ['0', '1', '2', '3', '4', '5', '6', '7', '8', '9', 'A', 'B', 'C', 'D', 'E', 'F', 'G', 'H', 'I', 'J', 'K', 'L', 'M', 'N', 'O', 'P', 'Q', 'R', 'S', 'T', 'U', 'V', 'W', 'X', 'Y', 'Z', 'a', 'b', 'c', 'd', 'e', 'f', 'g', 'h', 'i', 'j', 'k', 'l', 'm', 'n', 'o', 'p', 'q', 'r', 's', 't', 'u', 'v', 'w', 'x', 'y', 'z']\n",
        "alphanumeric_dict ={'0': '0', '1': '1', '2': '2', '3': '3', '4': '4', '5': '5', '6': '6', '7': '7', '8': '8', '9': '9', '10': 'A', '11': 'B', '12': 'C', '13': 'D', '14': 'E', '15': 'F', '16': 'G', '17': 'H', '18': 'I', '19': 'J', '20': 'K', '21': 'L', '22': 'M', '23': 'N', '24': 'O', '25': 'P', '26': 'Q', '27': 'R', '28': 'S', '29': 'T', '30': 'U', '31': 'V', '32': 'W', '33': 'X', '34': 'Y', '35': 'Z', '36': 'a', '37': 'b', '38': 'c', '39': 'd', '40': 'e', '41': 'f', '42': 'g', '43': 'h', '44': 'i', '45': 'j', '46': 'k', '47': 'l', '48': 'm', '49': 'n', '50': 'o', '51': 'p', '52': 'q', '53': 'r', '54': 's', '55': 't', '56': 'u', '57': 'v', '58': 'w', '59': 'x', '60': 'y', '61': 'z'}\n",
        "\n",
        "# alphanumeric merged 47 classes\n",
        "# alphanumeric_list = digit_list+alpha_upper_list+alpha_lower_list\n",
        "alphanumeric_merge_list= ['0', '1', '2', '3', '4', '5', '6', '7', '8', '9', 'A', 'B', 'C', 'D', 'E', 'F', 'G', 'H', 'I', 'J', 'K', 'L', 'M', 'N', 'O', 'P', 'Q', 'R', 'S', 'T', 'U', 'V', 'W', 'X', 'Y', 'Z', 'a', 'b', 'd', 'e', 'f', 'g', 'h', 'n', 'q', 'r','t']\n"
      ],
      "metadata": {
        "id": "dgaMCTKrIoCi"
      },
      "execution_count": null,
      "outputs": []
    },
    {
      "cell_type": "markdown",
      "source": [
        "# Converting an OpenCV Image to Black and White"
      ],
      "metadata": {
        "id": "GKOIYRFdYj8c"
      }
    },
    {
      "cell_type": "markdown",
      "source": [
        "This is auto thresholding method, works well on dataset images but not on whole paper\n",
        "\n",
        "https://stackoverflow.com/questions/7624765/converting-an-opencv-image-to-black-and-white  \n",
        "\n"
      ],
      "metadata": {
        "id": "idb9v1RnYlOs"
      }
    },
    {
      "cell_type": "code",
      "source": [
        "import cv2\n",
        "from google.colab.patches import cv2_imshow\n",
        "im_gray = cv2.imread('/content/WhatsApp Image 2022-01-19 at 1.34.32 PM.jpeg', cv2.IMREAD_GRAYSCALE)\n",
        "# im_gray = cv2.resize(im_gray, (100, 100))"
      ],
      "metadata": {
        "id": "kfikMAffSoNO"
      },
      "execution_count": null,
      "outputs": []
    },
    {
      "cell_type": "code",
      "source": [
        "(thresh, im_bw) = cv2.threshold(im_gray, 128, 255, cv2.THRESH_BINARY | cv2.THRESH_OTSU)"
      ],
      "metadata": {
        "id": "JXFRZgJ8Sozt"
      },
      "execution_count": null,
      "outputs": []
    },
    {
      "cell_type": "code",
      "source": [
        "# thresh = 127\n",
        "print(thresh)\n",
        "im_bw = cv2.threshold(im_gray, 105, 255, cv2.THRESH_BINARY)[1]"
      ],
      "metadata": {
        "id": "6LUI6H11SrY8"
      },
      "execution_count": null,
      "outputs": []
    },
    {
      "cell_type": "code",
      "source": [
        "\n",
        "cv2_imshow(im_bw)\n",
        "plt.imshow(im_bw,cmap='gray')\n",
        "plt.show()"
      ],
      "metadata": {
        "id": "N9n5oZ1QSwo1"
      },
      "execution_count": null,
      "outputs": []
    },
    {
      "cell_type": "markdown",
      "source": [
        "# Save model"
      ],
      "metadata": {
        "id": "I-VOLd7Z5ipU"
      }
    },
    {
      "cell_type": "code",
      "source": [
        "my_model.save('my_model.h5')"
      ],
      "metadata": {
        "id": "zWy0zw_S5qHF"
      },
      "execution_count": null,
      "outputs": []
    },
    {
      "cell_type": "markdown",
      "source": [
        "# Enumerate function "
      ],
      "metadata": {
        "id": "PYqR8kdTB5IW"
      }
    },
    {
      "cell_type": "markdown",
      "source": [
        "Here is function used with list"
      ],
      "metadata": {
        "id": "u3kM0EWfB_PE"
      }
    },
    {
      "cell_type": "code",
      "source": [
        "images = [1,2,3,4]\n",
        "for i, image in enumerate(images,start=1):\n",
        "  print(i,image)"
      ],
      "metadata": {
        "id": "ikR2DtTJCF9E"
      },
      "execution_count": null,
      "outputs": []
    },
    {
      "cell_type": "markdown",
      "source": [
        "# ipyplot - display image list in colab"
      ],
      "metadata": {
        "id": "WwmRuYsOJwaR"
      }
    },
    {
      "cell_type": "markdown",
      "source": [
        "https://colab.research.google.com/drive/100qE4AMrIwrWFyx9gfckiz7RIfv7lJZY?usp=sharing  "
      ],
      "metadata": {
        "id": "XuYe_VSeJzXt"
      }
    },
    {
      "cell_type": "markdown",
      "source": [
        "# Matplotlib multiple plots in colab"
      ],
      "metadata": {
        "id": "zSV8o9s6LdrI"
      }
    },
    {
      "cell_type": "code",
      "source": [
        "import matplotlib.pyplot as plt\n",
        "\n",
        "def plt_multiple_image(images=None,figure_size =(100,100),columns = 5,cmap='gray'):\n",
        "  '''\n",
        "  https://stackoverflow.com/questions/19471814/display-multiple-images-in-one-ipython-notebook-cell \n",
        "  images =[(image1,label),...]  \n",
        "  '''\n",
        "  if images is None:\n",
        "    return 0\n",
        "  plt.figure(figsize=figure_size)\n",
        "  for i,(image,label) in enumerate(images):\n",
        "      plt.subplot(len(images) / columns + 1, columns, i + 1)\n",
        "      plt.imshow(image,cmap=cmap)\n",
        "      plt.title(label)\n",
        "      \n",
        "plt_multiple_image(images=images,columns=3)\n"
      ],
      "metadata": {
        "id": "4ewHbQAQLipK"
      },
      "execution_count": null,
      "outputs": []
    },
    {
      "cell_type": "markdown",
      "source": [
        "# Resize image opencv"
      ],
      "metadata": {
        "id": "8YlGFyKdwfhu"
      }
    },
    {
      "cell_type": "markdown",
      "source": [
        "https://www.geeksforgeeks.org/image-resizing-using-opencv-python/\n",
        "\n",
        "https://docs.opencv.org/4.x/da/d6e/tutorial_py_geometric_transformations.html\n",
        "\n"
      ],
      "metadata": {
        "id": "S-uXZWgHwjKS"
      }
    },
    {
      "cell_type": "code",
      "source": [
        "img = cv2.resize(img,(100,100),interpolation = cv2.INTER_AREA)"
      ],
      "metadata": {
        "id": "kHElnsDkwjZD"
      },
      "execution_count": null,
      "outputs": []
    },
    {
      "cell_type": "markdown",
      "source": [
        "# Grayscale image opencv"
      ],
      "metadata": {
        "id": "ZqS9bv_Ix_25"
      }
    },
    {
      "cell_type": "markdown",
      "source": [
        "https://www.geeksforgeeks.org/python-grayscaling-of-images-using-opencv/"
      ],
      "metadata": {
        "id": "Hl6rmp7eyDQZ"
      }
    },
    {
      "cell_type": "code",
      "source": [
        "gray_image = cv2.cvtColor(image, cv2.COLOR_BGR2GRAY)"
      ],
      "metadata": {
        "id": "6mjiUNDYyDfK"
      },
      "execution_count": null,
      "outputs": []
    },
    {
      "cell_type": "markdown",
      "source": [
        "# Crop from sides opencv"
      ],
      "metadata": {
        "id": "Ev4O2mOfyq4q"
      }
    },
    {
      "cell_type": "markdown",
      "source": [
        "https://stackoverflow.com/questions/15589517/how-to-crop-an-image-in-opencv-using-python "
      ],
      "metadata": {
        "id": "Lj0c-Qs_yujO"
      }
    },
    {
      "cell_type": "code",
      "source": [
        "dist = 10\n",
        "crop_img = img[dist:dilation.shape[1], dist:dilation.shape[0]]"
      ],
      "metadata": {
        "id": "oC3BuwwGyuyU"
      },
      "execution_count": null,
      "outputs": []
    },
    {
      "cell_type": "markdown",
      "source": [
        "# Remove whitespace from an image in OpenCV"
      ],
      "metadata": {
        "id": "0DTnE-mNP7Vh"
      }
    },
    {
      "cell_type": "markdown",
      "source": [
        "https://stackoverflow.com/questions/49907382/how-to-remove-whitespace-from-an-image-in-opencv#:~:text=One%20possible%20way%20of%20doing,(white%20in%20this%20case). \n",
        "\n"
      ],
      "metadata": {
        "id": "AhWJPiSmP-OC"
      }
    },
    {
      "cell_type": "code",
      "source": [
        "#TODO - read file outside the function \n",
        "\n",
        "def crop_image_remove_white(filename, pixel_value=255):\n",
        "    gray = cv2.imread(filename, cv2.IMREAD_GRAYSCALE)\n",
        "\n",
        "    # OTSU threshold lines are added by me.\n",
        "    (thresh, im_bw) = cv2.threshold(gray, 128, 255, cv2.THRESH_BINARY | cv2.THRESH_OTSU)\n",
        "    gray = cv2.threshold(gray, thresh, 255, cv2.THRESH_BINARY)[1]\n",
        "\n",
        "    crop_rows = gray[~np.all(gray == pixel_value, axis=1), :]\n",
        "    cropped_image = crop_rows[:, ~np.all(crop_rows == pixel_value, axis=0)]\n",
        "    cv2_imshow(cropped_image)\n",
        "    print(cropped_image.shape)\n",
        "    return cropped_image\n",
        "\n",
        "crop_image_remove_white('/content/{7E1E388F-14A6-4F74-88C4-5AFD64715FB9}.png')"
      ],
      "metadata": {
        "id": "wZntwOqvQNt0"
      },
      "execution_count": null,
      "outputs": []
    },
    {
      "cell_type": "markdown",
      "source": [
        "# OTSU threshold OpenCV"
      ],
      "metadata": {
        "id": "LHvxT_PJQbod"
      }
    },
    {
      "cell_type": "markdown",
      "source": [
        "https://stackoverflow.com/questions/7624765/converting-an-opencv-image-to-black-and-white#:~:text=Step%2Dby%2Dstep%20answer%20similar%20to%20the%20one%20you%20refer%20to%2C%20using%20the%20new%20cv2%20Python%20bindings%3A "
      ],
      "metadata": {
        "id": "DU_l98NXQcYR"
      }
    },
    {
      "cell_type": "code",
      "source": [
        "(thresh, im_bw) = cv2.threshold(gray, 128, 255, cv2.THRESH_BINARY | cv2.THRESH_OTSU)\n",
        "gray = cv2.threshold(gray, thresh, 255, cv2.THRESH_BINARY)[1]"
      ],
      "metadata": {
        "id": "QQQjTwSQQjhh"
      },
      "execution_count": null,
      "outputs": []
    },
    {
      "cell_type": "markdown",
      "source": [
        "# np array with same values "
      ],
      "metadata": {
        "id": "mEvMAxFJTnOG"
      }
    },
    {
      "cell_type": "markdown",
      "source": [
        "https://stackoverflow.com/questions/5891410/numpy-array-initialization-fill-with-identical-values#:~:text=np.full((3%2C%205)%2C%207%2C%20dtype%3Dint) "
      ],
      "metadata": {
        "id": "4STqGaDgTqsF"
      }
    },
    {
      "cell_type": "code",
      "source": [
        "back = np.full((square_side,square_side),255,np.uint8)"
      ],
      "metadata": {
        "id": "yznUwiV1Tq5i"
      },
      "execution_count": null,
      "outputs": []
    },
    {
      "cell_type": "markdown",
      "source": [
        "# Overlay image into centre of another image(white background)"
      ],
      "metadata": {
        "id": "ibs0nkQ_U0tr"
      }
    },
    {
      "cell_type": "markdown",
      "source": [
        "https://stackoverflow.com/questions/58248121/opencv-python-how-to-overlay-an-image-into-the-centre-of-another-image#:~:text=Here%20is%20one%20way.%20You%20compute%20the%20offsets%20in%20x%20and%20y%20for%20the%20top%20left%20corner%20of%20the%20resized%20image%20where%20it%20would%20be%20when%20the%20resized%20image%20is%20centered%20in%20the%20background%20image.%20Then%20use%20numpy%20indexing%20to%20place%20the%20resized%20image%20in%20the%20center%20of%20the%20background. "
      ],
      "metadata": {
        "id": "gqK-96NqUMp2"
      }
    },
    {
      "cell_type": "code",
      "source": [
        "def overlay_image_centre(img):\n",
        "  # grayscale image \n",
        "  h, w = img.shape\n",
        "  print(h,w)\n",
        "\n",
        "  square_side = max(h,w)+10\n",
        "\n",
        "  # load background image as white\n",
        "  back = np.full((square_side,square_side),255,np.uint8)\n",
        "  hh, ww = back.shape\n",
        "  print(hh,ww)\n",
        "\n",
        "  # compute xoff and yoff for placement of upper left corner of resized image   \n",
        "  yoff = round((hh-h)/2)\n",
        "  xoff = round((ww-w)/2)\n",
        "  print(yoff,xoff)\n",
        "\n",
        "  # use numpy indexing to place the resized image in the center of background image\n",
        "  result = back.copy()\n",
        "  result[yoff:yoff+h, xoff:xoff+w] = img\n",
        "\n",
        "  # view result\n",
        "  cv2_imshow(result)\n",
        "  return result \n"
      ],
      "metadata": {
        "id": "lQV86RU2T0RW"
      },
      "execution_count": null,
      "outputs": []
    },
    {
      "cell_type": "markdown",
      "source": [
        "# Invert b/w image"
      ],
      "metadata": {
        "id": "UtOKNV3GZGpK"
      }
    },
    {
      "cell_type": "markdown",
      "source": [
        "https://stackoverflow.com/questions/19580102/inverting-image-in-python-with-opencv#:~:text=imagem%20%3D%20(255%2Dimagem)"
      ],
      "metadata": {
        "id": "QqDq_LbhZJXW"
      }
    },
    {
      "cell_type": "code",
      "source": [
        "imagem = (255-imagem)"
      ],
      "metadata": {
        "id": "PvWCrrd9ZLaF"
      },
      "execution_count": null,
      "outputs": []
    },
    {
      "cell_type": "code",
      "source": [
        "# another method \n",
        "imagem = cv2.bitwise_not(imagem)"
      ],
      "metadata": {
        "id": "8xAG8QUcZUBf"
      },
      "execution_count": null,
      "outputs": []
    },
    {
      "cell_type": "markdown",
      "source": [
        "# Morphological transformations \n",
        "## representation of erosion, dilation, opening, closing opencv"
      ],
      "metadata": {
        "id": "5nfQzggJdASW"
      }
    },
    {
      "cell_type": "markdown",
      "source": [
        "https://docs.opencv.org/3.4/d9/d61/tutorial_py_morphological_ops.html "
      ],
      "metadata": {
        "id": "EoH6OyfPdHSG"
      }
    },
    {
      "cell_type": "code",
      "source": [
        "img = cv2.imread('/content/{7E1E388F-14A6-4F74-88C4-5AFD64715FB9}.png')\n",
        "\n",
        "img = cv2.resize(img,(100,100),interpolation = cv2.INTER_AREA) # resize for inputs to be of same size\n",
        "im_gray=cv2.cvtColor(img,cv2.COLOR_BGR2GRAY)\n",
        "\n",
        "(thresh, im_bw) = cv2.threshold(im_gray, 128, 255, cv2.THRESH_BINARY | cv2.THRESH_OTSU)\n",
        "im_bw = cv2.threshold(img, thresh, 255, cv2.THRESH_BINARY)[1]\n",
        "\n",
        "# refer - https://docs.opencv.org/3.4/d9/d61/tutorial_py_morphological_ops.html#:~:text=kernel%20%3D%20np.ones((5%2C5)%2Cnp.uint8) \n",
        "# kernel = np.full((5,5),255,np.uint8) # white background \n",
        "kernel = np.ones((5,5),np.uint8) \n",
        "\n",
        "img = (255-im_bw) #invert threshold(b/w) image \n",
        "\n",
        "erosion = cv2.erode(img,kernel,iterations = 1)\n",
        "dilation = cv2.dilate(img,kernel,iterations = 1)\n",
        "\n",
        "opening = cv2.morphologyEx(img, cv2.MORPH_OPEN, kernel)\n",
        "\n",
        "closing = cv2.morphologyEx(img, cv2.MORPH_CLOSE, kernel)\n",
        "\n",
        "ipyplot.plot_images([img,im_gray,im_bw,kernel,erosion,dilation,opening,closing],['original','gray','thresholding','kernel0','erosion','dilation','opening','closing'] ,max_images=10, img_width=100)\n"
      ],
      "metadata": {
        "id": "HPeaYyZbdSxc"
      },
      "execution_count": null,
      "outputs": []
    },
    {
      "cell_type": "markdown",
      "source": [
        "# Delete image from directory "
      ],
      "metadata": {
        "id": "BRRstXzgqHAi"
      }
    },
    {
      "cell_type": "markdown",
      "source": [
        "https://stackoverflow.com/questions/25156547/delete-an-image-in-opencv-using-python#:~:text=try%3A%20%0A%20%20%20%20os.remove(%22my.png%22)%0Aexcept%3A%20pass "
      ],
      "metadata": {
        "id": "g6CXyG9cqKo2"
      }
    },
    {
      "cell_type": "code",
      "source": [
        "try: \n",
        "    os.remove(\"my.png\")\n",
        "except: pass"
      ],
      "metadata": {
        "id": "kwZyqXYZqNDD"
      },
      "execution_count": null,
      "outputs": []
    },
    {
      "cell_type": "markdown",
      "source": [
        "#  pad zeroes to a string"
      ],
      "metadata": {
        "id": "5Zdb7sRqsUWW"
      }
    },
    {
      "cell_type": "markdown",
      "source": [
        "https://stackoverflow.com/questions/339007/how-to-pad-zeroes-to-a-string "
      ],
      "metadata": {
        "id": "SxPuW8fssWe8"
      }
    },
    {
      "cell_type": "code",
      "source": [
        "n = '4'\n",
        "print(n.zfill(3))"
      ],
      "metadata": {
        "colab": {
          "base_uri": "https://localhost:8080/"
        },
        "id": "-mJNu9uXsWss",
        "outputId": "158d753e-2d50-4fd9-c32d-b7161104559f"
      },
      "execution_count": null,
      "outputs": [
        {
          "output_type": "stream",
          "name": "stdout",
          "text": [
            "004\n"
          ]
        }
      ]
    },
    {
      "cell_type": "markdown",
      "source": [
        "# Remove folder in colab "
      ],
      "metadata": {
        "id": "HJFul3Hw1lwL"
      }
    },
    {
      "cell_type": "markdown",
      "source": [
        "https://stackoverflow.com/questions/52265978/how-to-delete-a-locally-uploaded-file-on-google-colab#:~:text=%25rm%20%2Drf%20%3Cfolder_name%3E "
      ],
      "metadata": {
        "id": "fO6tLks31pBC"
      }
    },
    {
      "cell_type": "code",
      "source": [
        "%rm -rf '/content/dataset'"
      ],
      "metadata": {
        "id": "2ujprfum1pSo"
      },
      "execution_count": null,
      "outputs": []
    },
    {
      "cell_type": "markdown",
      "source": [
        "# Reading our own dataset files and make a (partial) pipeling for image input"
      ],
      "metadata": {
        "id": "bsazh0oq4FY2"
      }
    },
    {
      "cell_type": "code",
      "source": [
        "import numpy as np\n",
        "import matplotlib.pyplot as plt\n",
        "import os\n",
        "import cv2\n",
        "from tqdm import tqdm"
      ],
      "metadata": {
        "id": "7513PQSxhtiu"
      },
      "execution_count": null,
      "outputs": []
    },
    {
      "cell_type": "code",
      "source": [
        "#create training data\n",
        "training_data = []\n",
        "CATEGORIES = [0,1,2]\n",
        "DATADIR = '/content/dataset'\n",
        "def count_least_number_images_in_class_training_data():\n",
        "    count = 10000 # count least images among any of the folder  \n",
        "    for category in CATEGORIES:  # do \n",
        "        index = 0\n",
        "        path = os.path.join(DATADIR,str(category))  # create path to classes\n",
        "        class_num = CATEGORIES.index(category)  # get the classification \n",
        "        print(path)\n",
        "        for img in tqdm(os.listdir(path)):  # iterate over each image \n",
        "            try:\n",
        "                img_array = cv2.imread(os.path.join(path,img) ,cv2.IMREAD_GRAYSCALE)  # convert to array\n",
        "                if img_array.shape == (180,364):\n",
        "                  os.remove(os.path.join(path,img))\n",
        "                  continue\n",
        "                index+=1\n",
        "            except Exception as e:  # in the interest in keeping the output clean...\n",
        "                pass\n",
        "        if count>index:\n",
        "          count=index \n",
        "    print('---------------------')\n",
        "    return count\n",
        "\n",
        "def create_training_data():\n",
        "    count = count_least_number_images_in_class_training_data()\n",
        "    fill = len(str(count))+1 # for giving names to images\n",
        "    for category in CATEGORIES:  # do \n",
        "        index = 0\n",
        "        path = os.path.join(DATADIR,str(category))  # create path to classes\n",
        "        class_num = CATEGORIES.index(category)  # get the classification  \n",
        "\n",
        "        for img in tqdm(os.listdir(path)):  # iterate over each image \n",
        "            try:\n",
        "                index+=1\n",
        "\n",
        "                # comment following if statement for unbalanced classes\n",
        "                if index>count:\n",
        "                  break # for balanced classes\n",
        "                img_array = cv2.imread(os.path.join(path,img) ,cv2.IMREAD_GRAYSCALE)  # convert to array\n",
        "                \n",
        "                # Reference - https://stackoverflow.com/questions/18805348/how-rename-the-images-in-folder/47105286#:~:text=import%20os%0Afor%20dirname%20in%20os.listdir(%22.%22)%3A%0A%20%20%20%20if%20os.path.isdir(dirname)%3A%0A%20%20%20%20%20%20%20%20for%20i%2C%20filename%20in%20enumerate(os.listdir(dirname))%3A%0A%20%20%20%20%20%20%20%20%20%20%20%20os.rename(dirname%20%2B%20%22/%22%20%2B%20filename%2C%20dirname%20%2B%20%22/%22%20%2B%20str(i)%20%2B%20%22.bmp%22)\n",
        "                os.rename(os.path.join(path,img),os.path.join(path,str(category)+\"_\"+str(index).zfill(fill)+\".jpg\"))\n",
        "                print(path)\n",
        "                  \n",
        "                  \n",
        "                training_data.append([img_array, class_num])  # add this to our training_data\n",
        "            except Exception as e:  # in the interest in keeping the output clean...\n",
        "                pass\n",
        "            #except OSError as e:\n",
        "            #    print(\"OSErrroBad img most likely\", e, os.path.join(path,img))\n",
        "            #except Exception as e:\n",
        "            #    print(\"general exception\", e, os.path.join(path,img))\n",
        "        \n",
        "\n",
        "create_training_data() #don't use argument aspect_ratio (To use, load function - https://colab.research.google.com/drive/11gfaJEI9Q5D3YhocdW4fe8CK7dbp5uhJ?authuser=1#scrollTo=k1ZLDtYDTtcg&line=1&uniqifier=1 )\n",
        "\n",
        "print(\"\\n\",len(training_data))"
      ],
      "metadata": {
        "id": "6w1WLOxc4URH"
      },
      "execution_count": null,
      "outputs": []
    },
    {
      "cell_type": "markdown",
      "source": [
        "# Creating and downloading zip"
      ],
      "metadata": {
        "id": "jLNQZgSI4oYG"
      }
    },
    {
      "cell_type": "markdown",
      "source": [
        "https://stackoverflow.com/questions/50453428/how-do-i-download-multiple-files-or-an-entire-folder-from-google-colab#:~:text=!zip%20%2Dr%20/content,content/file.zip%22) "
      ],
      "metadata": {
        "id": "y9c-NoIH4sqN"
      }
    },
    {
      "cell_type": "code",
      "source": [
        "!zip -r /content/file.zip /content/Folder_To_Zip\n",
        "\n",
        "from google.colab import files\n",
        "files.download(\"/content/file.zip\")"
      ],
      "metadata": {
        "id": "9u2G_QmY4s7s"
      },
      "execution_count": null,
      "outputs": []
    },
    {
      "cell_type": "markdown",
      "source": [
        "# ipyplot print images classwise"
      ],
      "metadata": {
        "id": "KCOSsWHjTa-M"
      }
    },
    {
      "cell_type": "markdown",
      "source": [
        "X and y are numpy arrays of shape - (216, 28, 28) (216,) respectively. "
      ],
      "metadata": {
        "id": "y9V79BmXTjHE"
      }
    },
    {
      "cell_type": "code",
      "source": [
        "ipyplot.plot_class_representations(X,y, img_width=28,force_b64=True)\n",
        "ipyplot.plot_class_tabs(X, y, max_imgs_per_tab=10, img_width=50)"
      ],
      "metadata": {
        "colab": {
          "base_uri": "https://localhost:8080/",
          "height": 270
        },
        "id": "EkjDM9BsRvDy",
        "outputId": "7dda2a3c-bda7-482b-9e47-d91454f5e895"
      },
      "execution_count": null,
      "outputs": [
        {
          "output_type": "display_data",
          "data": {
            "text/html": [
              "\n",
              "    <style>\n",
              "        #ipyplot-html-viewer-toggle-J65hHtL5aknfMdfk4rBepP {\n",
              "            position: absolute;\n",
              "            top: -9999px;\n",
              "            left: -9999px;\n",
              "            visibility: hidden;\n",
              "        }\n",
              "\n",
              "        #ipyplot-html-viewer-label-J65hHtL5aknfMdfk4rBepP { \n",
              "            position: relative;\n",
              "            display: inline-block;\n",
              "            cursor: pointer;\n",
              "            color: blue;\n",
              "            text-decoration: underline;\n",
              "        }\n",
              "\n",
              "        #ipyplot-html-viewer-textarea-J65hHtL5aknfMdfk4rBepP {\n",
              "            background: lightgrey;\n",
              "            width: 100%;\n",
              "            height: 0px;\n",
              "            display: none;\n",
              "        }\n",
              "\n",
              "        #ipyplot-html-viewer-toggle-J65hHtL5aknfMdfk4rBepP:checked ~ #ipyplot-html-viewer-textarea-J65hHtL5aknfMdfk4rBepP {\n",
              "            height: 200px;\n",
              "            display: block;\n",
              "        }\n",
              "\n",
              "        #ipyplot-html-viewer-toggle-J65hHtL5aknfMdfk4rBepP:checked + #ipyplot-html-viewer-label-J65hHtL5aknfMdfk4rBepP:after {\n",
              "            content: \"hide html\";\n",
              "            position: absolute;\n",
              "            top: 0;\n",
              "            left: 0;\n",
              "            right: 0;\n",
              "            bottom: 0;\n",
              "            background: white;\n",
              "            cursor: pointer;\n",
              "            color: blue;\n",
              "            text-decoration: underline;\n",
              "        }\n",
              "    </style>\n",
              "    <div>\n",
              "        <input type=\"checkbox\" id=\"ipyplot-html-viewer-toggle-J65hHtL5aknfMdfk4rBepP\">\n",
              "        <label id=\"ipyplot-html-viewer-label-J65hHtL5aknfMdfk4rBepP\" for=\"ipyplot-html-viewer-toggle-J65hHtL5aknfMdfk4rBepP\">show html</label>\n",
              "        <textarea id=\"ipyplot-html-viewer-textarea-J65hHtL5aknfMdfk4rBepP\" readonly>\n",
              "            \n",
              "        <style>\n",
              "        #ipyplot-imgs-container-div-8fBDPs5rp8NMdDQDJoW9Kp {\n",
              "            width: 100%;\n",
              "            height: 100%;\n",
              "            margin: 0%;\n",
              "            overflow: auto;\n",
              "            position: relative;\n",
              "            overflow-y: scroll;\n",
              "        }\n",
              "\n",
              "        div.ipyplot-placeholder-div-8fBDPs5rp8NMdDQDJoW9Kp {\n",
              "            width: 28px;\n",
              "            display: inline-block;\n",
              "            margin: 3px;\n",
              "            position: relative;\n",
              "        }\n",
              "\n",
              "        div.ipyplot-content-div-8fBDPs5rp8NMdDQDJoW9Kp {\n",
              "            width: 28px;\n",
              "            background: white;\n",
              "            display: inline-block;\n",
              "            vertical-align: top;\n",
              "            text-align: center;\n",
              "            position: relative;\n",
              "            border: 2px solid #ddd;\n",
              "            top: 0;\n",
              "            left: 0;\n",
              "        }\n",
              "\n",
              "        div.ipyplot-content-div-8fBDPs5rp8NMdDQDJoW9Kp span.ipyplot-img-close {\n",
              "            display: none;\n",
              "        }\n",
              "\n",
              "        div.ipyplot-content-div-8fBDPs5rp8NMdDQDJoW9Kp span {\n",
              "            width: 100%;\n",
              "            height: 100%;\n",
              "            position: absolute;\n",
              "            top: 0;\n",
              "            left: 0;\n",
              "        }\n",
              "\n",
              "        div.ipyplot-content-div-8fBDPs5rp8NMdDQDJoW9Kp img {\n",
              "            width: 28px;\n",
              "        }\n",
              "\n",
              "        div.ipyplot-content-div-8fBDPs5rp8NMdDQDJoW9Kp span.ipyplot-img-close:hover {\n",
              "            cursor: zoom-out;\n",
              "        }\n",
              "        div.ipyplot-content-div-8fBDPs5rp8NMdDQDJoW9Kp span.ipyplot-img-expand:hover {\n",
              "            cursor: zoom-in;\n",
              "        }\n",
              "\n",
              "        div[id^=ipyplot-content-div-8fBDPs5rp8NMdDQDJoW9Kp]:target {\n",
              "            transform: scale(2.5);\n",
              "            transform-origin: left top;\n",
              "            z-index: 5000;\n",
              "            top: 0;\n",
              "            left: 0;\n",
              "            position: absolute;\n",
              "        }\n",
              "\n",
              "        div[id^=ipyplot-content-div-8fBDPs5rp8NMdDQDJoW9Kp]:target span.ipyplot-img-close {\n",
              "            display: block;\n",
              "        }\n",
              "\n",
              "        div[id^=ipyplot-content-div-8fBDPs5rp8NMdDQDJoW9Kp]:target span.ipyplot-img-expand {\n",
              "            display: none;\n",
              "        }\n",
              "        </style>\n",
              "    <div id=\"ipyplot-imgs-container-div-8fBDPs5rp8NMdDQDJoW9Kp\">\n",
              "    <div class=\"ipyplot-placeholder-div-8fBDPs5rp8NMdDQDJoW9Kp\">\n",
              "        <div id=\"ipyplot-content-div-8fBDPs5rp8NMdDQDJoW9Kp-ikuSeD7NFgbyhbaMiB95TQ\" class=\"ipyplot-content-div-8fBDPs5rp8NMdDQDJoW9Kp\">\n",
              "            <h4 style=\"font-size: 12px; word-wrap: break-word;\">0</h4>\n",
              "            <img src=\"data:image/png;base64,iVBORw0KGgoAAAANSUhEUgAAABwAAAAcCAAAAABXZoBIAAAA+UlEQVR4nGP8z4AbMOGRo0CSBc7693txA4S11oCNEcL6DwH/vm3hZocq4+R+AhGESd7j5UAy78w/ZMnf+xiRLeP+hiT5dyuqw1Akv3EzYJPE7pU/a//CXftnMhtEUMRCAKr1O9zY71xQHbH/vSEMru8YxkpbMziKIAsg6ZSY+X9GrAiSTmRJi///YxmQjYWELSQErpTIbIfIsXWywo39AXUQjwCqP1kYGBgYYKnhC5p3mRgYGBgYmdFEYQH9//////+ucaJKHkOOlW9IvmPn5jn2ByU+73JD9bJxL/727R80khkhjvn/60IwAwMDA0NBLisi0BgHIN0CADsUv5wUb4RnAAAAAElFTkSuQmCC\"/>\n",
              "            <a href=\"#!\">\n",
              "                <span class=\"ipyplot-img-close\"/>\n",
              "            </a>\n",
              "            <a href=\"#ipyplot-content-div-8fBDPs5rp8NMdDQDJoW9Kp-ikuSeD7NFgbyhbaMiB95TQ\">\n",
              "                <span class=\"ipyplot-img-expand\"/>\n",
              "            </a>\n",
              "        </div>\n",
              "    </div>\n",
              "    \n",
              "    <div class=\"ipyplot-placeholder-div-8fBDPs5rp8NMdDQDJoW9Kp\">\n",
              "        <div id=\"ipyplot-content-div-8fBDPs5rp8NMdDQDJoW9Kp-Q633VieDHKqxMZLdPTksav\" class=\"ipyplot-content-div-8fBDPs5rp8NMdDQDJoW9Kp\">\n",
              "            <h4 style=\"font-size: 12px; word-wrap: break-word;\">1</h4>\n",
              "            <img src=\"data:image/png;base64,iVBORw0KGgoAAAANSUhEUgAAABwAAAAcCAAAAABXZoBIAAAAcUlEQVR4nGP8z4AbMOGRo47kBhkZGRmZBUiSLAjm96cMDAwMX8gw1r2UgYGB4Q2y1v9wsJyRgYGBgXE5QoQJWRmCJM1OYUU8km6T1HBLMvhE45HEZ+dglXz3A49kzkHijGVB5vBJMzAwMLDD+YwDkG4BKSkn01Hpz1UAAAAASUVORK5CYII=\"/>\n",
              "            <a href=\"#!\">\n",
              "                <span class=\"ipyplot-img-close\"/>\n",
              "            </a>\n",
              "            <a href=\"#ipyplot-content-div-8fBDPs5rp8NMdDQDJoW9Kp-Q633VieDHKqxMZLdPTksav\">\n",
              "                <span class=\"ipyplot-img-expand\"/>\n",
              "            </a>\n",
              "        </div>\n",
              "    </div>\n",
              "    \n",
              "    <div class=\"ipyplot-placeholder-div-8fBDPs5rp8NMdDQDJoW9Kp\">\n",
              "        <div id=\"ipyplot-content-div-8fBDPs5rp8NMdDQDJoW9Kp-Fh3nQhqAuskyhYMkAPSBfd\" class=\"ipyplot-content-div-8fBDPs5rp8NMdDQDJoW9Kp\">\n",
              "            <h4 style=\"font-size: 12px; word-wrap: break-word;\">2</h4>\n",
              "            <img src=\"data:image/png;base64,iVBORw0KGgoAAAANSUhEUgAAABwAAAAcCAAAAABXZoBIAAAA2klEQVR4nGP8z4AbMOGRo4Lk/5MyMjIyOT9//kWW/Q8B97gZGBgYWLi5J//5DwcwyTuMUMVsqxCSGHb++oPFQTCdDHc+YNgJN5aBYQemsQhJTGM5dPBISq/yNsCURTj8WKw+mp1Ikv936zMwMDB4XIMLMCKi7GD2VQYGBgYDaQYG9mXsqMYeV0HYxf0N1diL0gwYkiwQ3nPT368wHQuV/PYUizehdn4TQRVENfY7AwMDAxMnAwMDQ68PAwMjB7pOJvtv3759+4YU2VB/PrRmYFDcy4ZmJeMApFsAcmq94hlz6uUAAAAASUVORK5CYII=\"/>\n",
              "            <a href=\"#!\">\n",
              "                <span class=\"ipyplot-img-close\"/>\n",
              "            </a>\n",
              "            <a href=\"#ipyplot-content-div-8fBDPs5rp8NMdDQDJoW9Kp-Fh3nQhqAuskyhYMkAPSBfd\">\n",
              "                <span class=\"ipyplot-img-expand\"/>\n",
              "            </a>\n",
              "        </div>\n",
              "    </div>\n",
              "    </div>\n",
              "        </textarea>\n",
              "    </div>\n",
              "    "
            ],
            "text/plain": [
              "<IPython.core.display.HTML object>"
            ]
          },
          "metadata": {}
        },
        {
          "output_type": "display_data",
          "data": {
            "text/html": [
              "\n",
              "        <style>\n",
              "        #ipyplot-imgs-container-div-8fBDPs5rp8NMdDQDJoW9Kp {\n",
              "            width: 100%;\n",
              "            height: 100%;\n",
              "            margin: 0%;\n",
              "            overflow: auto;\n",
              "            position: relative;\n",
              "            overflow-y: scroll;\n",
              "        }\n",
              "\n",
              "        div.ipyplot-placeholder-div-8fBDPs5rp8NMdDQDJoW9Kp {\n",
              "            width: 28px;\n",
              "            display: inline-block;\n",
              "            margin: 3px;\n",
              "            position: relative;\n",
              "        }\n",
              "\n",
              "        div.ipyplot-content-div-8fBDPs5rp8NMdDQDJoW9Kp {\n",
              "            width: 28px;\n",
              "            background: white;\n",
              "            display: inline-block;\n",
              "            vertical-align: top;\n",
              "            text-align: center;\n",
              "            position: relative;\n",
              "            border: 2px solid #ddd;\n",
              "            top: 0;\n",
              "            left: 0;\n",
              "        }\n",
              "\n",
              "        div.ipyplot-content-div-8fBDPs5rp8NMdDQDJoW9Kp span.ipyplot-img-close {\n",
              "            display: none;\n",
              "        }\n",
              "\n",
              "        div.ipyplot-content-div-8fBDPs5rp8NMdDQDJoW9Kp span {\n",
              "            width: 100%;\n",
              "            height: 100%;\n",
              "            position: absolute;\n",
              "            top: 0;\n",
              "            left: 0;\n",
              "        }\n",
              "\n",
              "        div.ipyplot-content-div-8fBDPs5rp8NMdDQDJoW9Kp img {\n",
              "            width: 28px;\n",
              "        }\n",
              "\n",
              "        div.ipyplot-content-div-8fBDPs5rp8NMdDQDJoW9Kp span.ipyplot-img-close:hover {\n",
              "            cursor: zoom-out;\n",
              "        }\n",
              "        div.ipyplot-content-div-8fBDPs5rp8NMdDQDJoW9Kp span.ipyplot-img-expand:hover {\n",
              "            cursor: zoom-in;\n",
              "        }\n",
              "\n",
              "        div[id^=ipyplot-content-div-8fBDPs5rp8NMdDQDJoW9Kp]:target {\n",
              "            transform: scale(2.5);\n",
              "            transform-origin: left top;\n",
              "            z-index: 5000;\n",
              "            top: 0;\n",
              "            left: 0;\n",
              "            position: absolute;\n",
              "        }\n",
              "\n",
              "        div[id^=ipyplot-content-div-8fBDPs5rp8NMdDQDJoW9Kp]:target span.ipyplot-img-close {\n",
              "            display: block;\n",
              "        }\n",
              "\n",
              "        div[id^=ipyplot-content-div-8fBDPs5rp8NMdDQDJoW9Kp]:target span.ipyplot-img-expand {\n",
              "            display: none;\n",
              "        }\n",
              "        </style>\n",
              "    <div id=\"ipyplot-imgs-container-div-8fBDPs5rp8NMdDQDJoW9Kp\">\n",
              "    <div class=\"ipyplot-placeholder-div-8fBDPs5rp8NMdDQDJoW9Kp\">\n",
              "        <div id=\"ipyplot-content-div-8fBDPs5rp8NMdDQDJoW9Kp-ikuSeD7NFgbyhbaMiB95TQ\" class=\"ipyplot-content-div-8fBDPs5rp8NMdDQDJoW9Kp\">\n",
              "            <h4 style=\"font-size: 12px; word-wrap: break-word;\">0</h4>\n",
              "            <img src=\"data:image/png;base64,iVBORw0KGgoAAAANSUhEUgAAABwAAAAcCAAAAABXZoBIAAAA+UlEQVR4nGP8z4AbMOGRo0CSBc7693txA4S11oCNEcL6DwH/vm3hZocq4+R+AhGESd7j5UAy78w/ZMnf+xiRLeP+hiT5dyuqw1Akv3EzYJPE7pU/a//CXftnMhtEUMRCAKr1O9zY71xQHbH/vSEMru8YxkpbMziKIAsg6ZSY+X9GrAiSTmRJi///YxmQjYWELSQErpTIbIfIsXWywo39AXUQjwCqP1kYGBgYYKnhC5p3mRgYGBgYmdFEYQH9//////+ucaJKHkOOlW9IvmPn5jn2ByU+73JD9bJxL/727R80khkhjvn/60IwAwMDA0NBLisi0BgHIN0CADsUv5wUb4RnAAAAAElFTkSuQmCC\"/>\n",
              "            <a href=\"#!\">\n",
              "                <span class=\"ipyplot-img-close\"/>\n",
              "            </a>\n",
              "            <a href=\"#ipyplot-content-div-8fBDPs5rp8NMdDQDJoW9Kp-ikuSeD7NFgbyhbaMiB95TQ\">\n",
              "                <span class=\"ipyplot-img-expand\"/>\n",
              "            </a>\n",
              "        </div>\n",
              "    </div>\n",
              "    \n",
              "    <div class=\"ipyplot-placeholder-div-8fBDPs5rp8NMdDQDJoW9Kp\">\n",
              "        <div id=\"ipyplot-content-div-8fBDPs5rp8NMdDQDJoW9Kp-Q633VieDHKqxMZLdPTksav\" class=\"ipyplot-content-div-8fBDPs5rp8NMdDQDJoW9Kp\">\n",
              "            <h4 style=\"font-size: 12px; word-wrap: break-word;\">1</h4>\n",
              "            <img src=\"data:image/png;base64,iVBORw0KGgoAAAANSUhEUgAAABwAAAAcCAAAAABXZoBIAAAAcUlEQVR4nGP8z4AbMOGRo47kBhkZGRmZBUiSLAjm96cMDAwMX8gw1r2UgYGB4Q2y1v9wsJyRgYGBgXE5QoQJWRmCJM1OYUU8km6T1HBLMvhE45HEZ+dglXz3A49kzkHijGVB5vBJMzAwMLDD+YwDkG4BKSkn01Hpz1UAAAAASUVORK5CYII=\"/>\n",
              "            <a href=\"#!\">\n",
              "                <span class=\"ipyplot-img-close\"/>\n",
              "            </a>\n",
              "            <a href=\"#ipyplot-content-div-8fBDPs5rp8NMdDQDJoW9Kp-Q633VieDHKqxMZLdPTksav\">\n",
              "                <span class=\"ipyplot-img-expand\"/>\n",
              "            </a>\n",
              "        </div>\n",
              "    </div>\n",
              "    \n",
              "    <div class=\"ipyplot-placeholder-div-8fBDPs5rp8NMdDQDJoW9Kp\">\n",
              "        <div id=\"ipyplot-content-div-8fBDPs5rp8NMdDQDJoW9Kp-Fh3nQhqAuskyhYMkAPSBfd\" class=\"ipyplot-content-div-8fBDPs5rp8NMdDQDJoW9Kp\">\n",
              "            <h4 style=\"font-size: 12px; word-wrap: break-word;\">2</h4>\n",
              "            <img src=\"data:image/png;base64,iVBORw0KGgoAAAANSUhEUgAAABwAAAAcCAAAAABXZoBIAAAA2klEQVR4nGP8z4AbMOGRo4Lk/5MyMjIyOT9//kWW/Q8B97gZGBgYWLi5J//5DwcwyTuMUMVsqxCSGHb++oPFQTCdDHc+YNgJN5aBYQemsQhJTGM5dPBISq/yNsCURTj8WKw+mp1Ikv936zMwMDB4XIMLMCKi7GD2VQYGBgYDaQYG9mXsqMYeV0HYxf0N1diL0gwYkiwQ3nPT368wHQuV/PYUizehdn4TQRVENfY7AwMDAxMnAwMDQ68PAwMjB7pOJvtv3759+4YU2VB/PrRmYFDcy4ZmJeMApFsAcmq94hlz6uUAAAAASUVORK5CYII=\"/>\n",
              "            <a href=\"#!\">\n",
              "                <span class=\"ipyplot-img-close\"/>\n",
              "            </a>\n",
              "            <a href=\"#ipyplot-content-div-8fBDPs5rp8NMdDQDJoW9Kp-Fh3nQhqAuskyhYMkAPSBfd\">\n",
              "                <span class=\"ipyplot-img-expand\"/>\n",
              "            </a>\n",
              "        </div>\n",
              "    </div>\n",
              "    </div>"
            ],
            "text/plain": [
              "<IPython.core.display.HTML object>"
            ]
          },
          "metadata": {}
        },
        {
          "output_type": "display_data",
          "data": {
            "text/html": [
              "\n",
              "    <style>\n",
              "        #ipyplot-html-viewer-toggle-CbTrZicqU9FJKujz3Zynpx {\n",
              "            position: absolute;\n",
              "            top: -9999px;\n",
              "            left: -9999px;\n",
              "            visibility: hidden;\n",
              "        }\n",
              "\n",
              "        #ipyplot-html-viewer-label-CbTrZicqU9FJKujz3Zynpx { \n",
              "            position: relative;\n",
              "            display: inline-block;\n",
              "            cursor: pointer;\n",
              "            color: blue;\n",
              "            text-decoration: underline;\n",
              "        }\n",
              "\n",
              "        #ipyplot-html-viewer-textarea-CbTrZicqU9FJKujz3Zynpx {\n",
              "            background: lightgrey;\n",
              "            width: 100%;\n",
              "            height: 0px;\n",
              "            display: none;\n",
              "        }\n",
              "\n",
              "        #ipyplot-html-viewer-toggle-CbTrZicqU9FJKujz3Zynpx:checked ~ #ipyplot-html-viewer-textarea-CbTrZicqU9FJKujz3Zynpx {\n",
              "            height: 200px;\n",
              "            display: block;\n",
              "        }\n",
              "\n",
              "        #ipyplot-html-viewer-toggle-CbTrZicqU9FJKujz3Zynpx:checked + #ipyplot-html-viewer-label-CbTrZicqU9FJKujz3Zynpx:after {\n",
              "            content: \"hide html\";\n",
              "            position: absolute;\n",
              "            top: 0;\n",
              "            left: 0;\n",
              "            right: 0;\n",
              "            bottom: 0;\n",
              "            background: white;\n",
              "            cursor: pointer;\n",
              "            color: blue;\n",
              "            text-decoration: underline;\n",
              "        }\n",
              "    </style>\n",
              "    <div>\n",
              "        <input type=\"checkbox\" id=\"ipyplot-html-viewer-toggle-CbTrZicqU9FJKujz3Zynpx\">\n",
              "        <label id=\"ipyplot-html-viewer-label-CbTrZicqU9FJKujz3Zynpx\" for=\"ipyplot-html-viewer-toggle-CbTrZicqU9FJKujz3Zynpx\">show html</label>\n",
              "        <textarea id=\"ipyplot-html-viewer-textarea-CbTrZicqU9FJKujz3Zynpx\" readonly>\n",
              "            <div>\n",
              "        <style>\n",
              "            input.ipyplot-tab-HmdyCtev4WgLoppT8itidx {\n",
              "                display: none;\n",
              "            }\n",
              "            input.ipyplot-tab-HmdyCtev4WgLoppT8itidx + label.ipyplot-tab-label-HmdyCtev4WgLoppT8itidx {\n",
              "                border: 1px solid #999;\n",
              "                background: #EEE;\n",
              "                padding: 4px 12px;\n",
              "                border-radius: 4px 4px 0 0;\n",
              "                position: relative;\n",
              "                top: 1px;\n",
              "            }\n",
              "            input.ipyplot-tab-HmdyCtev4WgLoppT8itidx:checked + label.ipyplot-tab-label-HmdyCtev4WgLoppT8itidx {\n",
              "                background: #FFF;\n",
              "                border-bottom: 1px solid transparent;\n",
              "            }\n",
              "            input.ipyplot-tab-HmdyCtev4WgLoppT8itidx ~ .tab {\n",
              "                border-top: 1px solid #999;\n",
              "                padding: 12px;\n",
              "            }\n",
              "\n",
              "            input.ipyplot-tab-HmdyCtev4WgLoppT8itidx ~ .tab {\n",
              "                display: none\n",
              "            }\n",
              "    #tab7BnDefwNgb9TqLWMzo2GJq:checked ~ .tab.content7BnDefwNgb9TqLWMzo2GJq,#tabd4PeXxgbNFCHw8es8JA6eq:checked ~ .tab.contentd4PeXxgbNFCHw8es8JA6eq,#tabUB2asRiaNSmimEhYTypCiX:checked ~ .tab.contentUB2asRiaNSmimEhYTypCiX{ display: block; }</style><input class=\"ipyplot-tab-HmdyCtev4WgLoppT8itidx\" type=\"radio\" name=\"tabs-HmdyCtev4WgLoppT8itidx\" id=\"tab7BnDefwNgb9TqLWMzo2GJq\" checked /><label class=\"ipyplot-tab-label-HmdyCtev4WgLoppT8itidx\" for=\"tab7BnDefwNgb9TqLWMzo2GJq\">0</label><input class=\"ipyplot-tab-HmdyCtev4WgLoppT8itidx\" type=\"radio\" name=\"tabs-HmdyCtev4WgLoppT8itidx\" id=\"tabd4PeXxgbNFCHw8es8JA6eq\"/><label class=\"ipyplot-tab-label-HmdyCtev4WgLoppT8itidx\" for=\"tabd4PeXxgbNFCHw8es8JA6eq\">1</label><input class=\"ipyplot-tab-HmdyCtev4WgLoppT8itidx\" type=\"radio\" name=\"tabs-HmdyCtev4WgLoppT8itidx\" id=\"tabUB2asRiaNSmimEhYTypCiX\"/><label class=\"ipyplot-tab-label-HmdyCtev4WgLoppT8itidx\" for=\"tabUB2asRiaNSmimEhYTypCiX\">2</label><div class=\"tab content7BnDefwNgb9TqLWMzo2GJq\">\n",
              "        <style>\n",
              "        #ipyplot-imgs-container-div-dAdZnkPU4JL6Uu572R3P6v {\n",
              "            width: 100%;\n",
              "            height: 100%;\n",
              "            margin: 0%;\n",
              "            overflow: auto;\n",
              "            position: relative;\n",
              "            overflow-y: scroll;\n",
              "        }\n",
              "\n",
              "        div.ipyplot-placeholder-div-dAdZnkPU4JL6Uu572R3P6v {\n",
              "            width: 50px;\n",
              "            display: inline-block;\n",
              "            margin: 3px;\n",
              "            position: relative;\n",
              "        }\n",
              "\n",
              "        div.ipyplot-content-div-dAdZnkPU4JL6Uu572R3P6v {\n",
              "            width: 50px;\n",
              "            background: white;\n",
              "            display: inline-block;\n",
              "            vertical-align: top;\n",
              "            text-align: center;\n",
              "            position: relative;\n",
              "            border: 2px solid #ddd;\n",
              "            top: 0;\n",
              "            left: 0;\n",
              "        }\n",
              "\n",
              "        div.ipyplot-content-div-dAdZnkPU4JL6Uu572R3P6v span.ipyplot-img-close {\n",
              "            display: none;\n",
              "        }\n",
              "\n",
              "        div.ipyplot-content-div-dAdZnkPU4JL6Uu572R3P6v span {\n",
              "            width: 100%;\n",
              "            height: 100%;\n",
              "            position: absolute;\n",
              "            top: 0;\n",
              "            left: 0;\n",
              "        }\n",
              "\n",
              "        div.ipyplot-content-div-dAdZnkPU4JL6Uu572R3P6v img {\n",
              "            width: 50px;\n",
              "        }\n",
              "\n",
              "        div.ipyplot-content-div-dAdZnkPU4JL6Uu572R3P6v span.ipyplot-img-close:hover {\n",
              "            cursor: zoom-out;\n",
              "        }\n",
              "        div.ipyplot-content-div-dAdZnkPU4JL6Uu572R3P6v span.ipyplot-img-expand:hover {\n",
              "            cursor: zoom-in;\n",
              "        }\n",
              "\n",
              "        div[id^=ipyplot-content-div-dAdZnkPU4JL6Uu572R3P6v]:target {\n",
              "            transform: scale(2.5);\n",
              "            transform-origin: left top;\n",
              "            z-index: 5000;\n",
              "            top: 0;\n",
              "            left: 0;\n",
              "            position: absolute;\n",
              "        }\n",
              "\n",
              "        div[id^=ipyplot-content-div-dAdZnkPU4JL6Uu572R3P6v]:target span.ipyplot-img-close {\n",
              "            display: block;\n",
              "        }\n",
              "\n",
              "        div[id^=ipyplot-content-div-dAdZnkPU4JL6Uu572R3P6v]:target span.ipyplot-img-expand {\n",
              "            display: none;\n",
              "        }\n",
              "        </style>\n",
              "    <div id=\"ipyplot-imgs-container-div-dAdZnkPU4JL6Uu572R3P6v\">\n",
              "    <div class=\"ipyplot-placeholder-div-dAdZnkPU4JL6Uu572R3P6v\">\n",
              "        <div id=\"ipyplot-content-div-dAdZnkPU4JL6Uu572R3P6v-W3aRjBN6Pi8252pcFTvDNS\" class=\"ipyplot-content-div-dAdZnkPU4JL6Uu572R3P6v\">\n",
              "            <h4 style=\"font-size: 12px; word-wrap: break-word;\">0</h4>\n",
              "            <img src=\"data:image/png;base64,iVBORw0KGgoAAAANSUhEUgAAADIAAAAyCAAAAAA7VNdtAAACoElEQVR4nN2WS08TURTHz7TT6UOYlmp5FSgmmvgAefgqCxIXRqOmiUtlbVz4PfwGLnTFxpWJCYnulERi1EYN1hZDCcRSoaWAQhlabO9M73VBmTmduQNhY4xnd+89vznn3P85vRUYHNYchyb+K0Tk7FFSIfqCuZpcwoHIzvRUcu+A7Zwa63fuj5CN/Pz06y86os0GlgKRDpfhIZil/PFqPEu3ylBPhoEn5JDu3Q/YRVGSs2uf3rNd37pVlgCyql1idOXxcyezBAbQNmW3vmi4ZPp7rVLeoRYCPj5JcaOwWmGxanUHAEhkBi7wELIyMZHmI6Ch0AhZfftyyoYAL7pkhHx9NGdHACA1UfkbyS1bgm0qNQ4iHbEPos5/K1sSq64v49t1iBIlNV2hatwXks2IEk8a7QuCp6Wd5ErEQLZvnDAjqy/iWJTQ+djGszk0A4bCOlL8sIAIKXx5LD+ztmX0jkev2mYqfR1hKdh3vEngnOmIgMRyHj0zHPlV8Moe3hd5U+mQh6/GWmfS3xXgReEhYvDStdMk8zmzXDFqUdl+iBTsHwQlP5uo1ng/vwZi5KAWFxLepdRiGbn1jgT2i1LNTZY6C8lVNJ7uaKzNguDxrcwpcjmn4VzPRWULgo0WfjoYwTvO7i5rLQ2F0gZ/AADUsrpWTDN7YdPQqSGvyvHUjfCitMYGXTxnAAAI3+xFK1a3avah3xa5+67IdNPLl3ra7KoJX7nd12ws0SX727MWyO0WKYk+OCujPaTg4uTTN2bk4uhJP4kMNaSMovTe2cwRul7Z7TYG7mbXseu3Brzmz+A+oflMMTW+IAoAALQWGR0Z6myRzURDwzi6umrdxbRvF9F6RqI9Fn+wvGJMLal775focXM7kPP+HGT/7L+Lv4P8ATau/1LZuEQ1AAAAAElFTkSuQmCC\"/>\n",
              "            <a href=\"#!\">\n",
              "                <span class=\"ipyplot-img-close\"/>\n",
              "            </a>\n",
              "            <a href=\"#ipyplot-content-div-dAdZnkPU4JL6Uu572R3P6v-W3aRjBN6Pi8252pcFTvDNS\">\n",
              "                <span class=\"ipyplot-img-expand\"/>\n",
              "            </a>\n",
              "        </div>\n",
              "    </div>\n",
              "    \n",
              "    <div class=\"ipyplot-placeholder-div-dAdZnkPU4JL6Uu572R3P6v\">\n",
              "        <div id=\"ipyplot-content-div-dAdZnkPU4JL6Uu572R3P6v-MBHfa9PnAHUvpwj77MCTZM\" class=\"ipyplot-content-div-dAdZnkPU4JL6Uu572R3P6v\">\n",
              "            <h4 style=\"font-size: 12px; word-wrap: break-word;\">1</h4>\n",
              "            <img src=\"data:image/png;base64,iVBORw0KGgoAAAANSUhEUgAAADIAAAAyCAAAAAA7VNdtAAADmUlEQVR4nN2WS28bVRTH//fOw+N3YxM7LQpJ6tDUoWpiSKq2ApWsikhVwQLxFfgIfAK+A1sW3XRRdQE0WVCaIhEegjxJahHiOHFM2jiKHWc8z3tZeMaemSZVu0GIu5mZc8/vnsc9594hHK866CsT/ytEPEXOGeOk/QZCBPISiHbYNKmDSEoq8iLkSAdAzVK5qrlIKPXWiEJPRdjSDuFEPl5YKrZcmdI/LQ1FT0aa+/regw3CiahtbtW68lpfrvcUpPRjbfO7rbY15pEf/7kwmj0J0UoPZ2u1shmMDuC7i4W+FAkinO98PzN35NcllNgcwOH6fLqQJAGktfHo3mqAEBMXY/MNAGb16wPj7ZTgR/TNX386DjhEpMJQfVVl4Oq6Np47E0CYoRnBGKx63w2eetwEAM20HamzQ1wt/VbuJmnwai4OgGvh/onRUHvJTi86Vqzd+bvbdkf46e3Zmd91gBhWOiO6mQiEr9f3dJcYmPpwUpS0ogrOIMuO4/WGKfoQQY646RKnPs+Jk4l9UqmlogKRYnsAYJa3hsL+8N3Q2PCt6fMiyMAnVxqt8JV4qDA9t2wDrXkl306Zi7T9JMmkdOOzEQAIX78OAIjm36+t2oC+HqnZXkQIKQSAMP7u5eGBYK6dXFmcex1rVSoWAJybvCkHAZsDAJHTMnWcBwBWfTDTBGDrarACIMoiAEj9+QT1WGH15aIByD2ZHhIgrOpKiQEIXX6nx4foT1UOJPKXzof9BNv/5f6iDSA8MeGUvxMLMzmAxOBwVvIjT+9/U9QBgEZjjq7zIAIARHuz8a620bSZuXxnzsmCYbBAJbdJ7z1QvLttsf0V50s13BL0IWp1JxclYDYnxGz88FWpO6VkEyE/whkAVB9lk5MhNPYsMVSdffi3x3xh6to5fyxUBAC1vJrLpLW1RVMK7c480VyARl6f+uBN98R0mkFoH1P08ImcbDz+loOazU6TCvHRa7fGFPgQ2vteY7kFoPLzlqL+4fEIoK/lC7l83nMqc84559rSFxkAoIIkSf4LJH3zy4ZuMt4ZTixSLGwAAIPt0VayEZkNf3Q17lvDQWyDxZqMe7eFUDo4lonaFz/2E52MxUdur5W2Lc9Mqn9obOxshCcDhLvf7Li6sbKwttudCF+4NJ7P9eD54ZaIbWjP/qocwK19ppx9YzCmCC9AAODgSO0iUuxM+AT9AGJz1kE4oTTYbScgLzn+s38X/w7yD3iYa2NI+S2OAAAAAElFTkSuQmCC\"/>\n",
              "            <a href=\"#!\">\n",
              "                <span class=\"ipyplot-img-close\"/>\n",
              "            </a>\n",
              "            <a href=\"#ipyplot-content-div-dAdZnkPU4JL6Uu572R3P6v-MBHfa9PnAHUvpwj77MCTZM\">\n",
              "                <span class=\"ipyplot-img-expand\"/>\n",
              "            </a>\n",
              "        </div>\n",
              "    </div>\n",
              "    \n",
              "    <div class=\"ipyplot-placeholder-div-dAdZnkPU4JL6Uu572R3P6v\">\n",
              "        <div id=\"ipyplot-content-div-dAdZnkPU4JL6Uu572R3P6v-ZmoxMuFumVz9CxQQFpESRg\" class=\"ipyplot-content-div-dAdZnkPU4JL6Uu572R3P6v\">\n",
              "            <h4 style=\"font-size: 12px; word-wrap: break-word;\">2</h4>\n",
              "            <img src=\"data:image/png;base64,iVBORw0KGgoAAAANSUhEUgAAADIAAAAyCAAAAAA7VNdtAAAC5UlEQVR4nM2Wy08TQRzHv9tun0tfFBBsUQOGpygmEFIlPIzEBGM8qHcPXv13PHkRE08mJmrQRMNDAWMj4YBALdSUWqVaqy3Yd3fXw9Ld6Xa2KRfj7zQ7M5/5PeY3v98yIo4quiMT/whhaZOH/jH1I6lgQQ/wTo+zHqRUKohYn8uxEPm2c+2NgJ41qxCmMsjftgP7hvWlgg4Qmvu9ToFt7BpR+VuhRTxYXVpPGnfDAIDIdzcnsO4ht9eqjWQ+PX2R4pmi9CXs/dABbIybPKuFiDn/85WvxFqxCABbs7C1WiqMkSW9edeqR5Uw7MRMSFC2iYSWrYdzGXmfnTNn4jwAiKWNR3qPSdlHRCPwYEM5mmtuc5fX4i+XfvBUX0pZwtxk3pBXtn1+N3qcpsXSongiZhKx34L8GVmMUg1z9bigIeF5IpKEYd7LBz81kGw0TdXSeWNQSwtMRPQJxOhUJ6Ai5DsgkP1gXBMhhUA273+oCyHc33m8Lw3MDQyfLsJoLWQFSgGivcqBm+boYhD9Y1+W93I1Eb2UR4yx+6prlzuB81cW/LRqUq3F5Gkzuhwns7A6XkUKdSFcb5fDAg4ARNksIt8odcw+0OumnF1LC3SMdHFCRk7t7ouna2nJRff+AADSgVh5buhOXy0kteL/xQNA5N6b8pzTy9ENk64ts70asLkh5j4+Scq7NNKSzx8OQs9CQOn9ChFhMgsILZw3LPkbf9tusydf+5VXySvDCsQzOb8FAMgGZ9ZG+NlAXkFAR7zjIQkR8sFEAttyiM3tp0x05JhvQT41sQzFE8+14QaGiuhbRsNrh1fBK6YYOiamewx0LTANZxMxqETXOj7tqyj9FQljc1ugFu/YrTM1moW5uXMnxTPFomJV04UpHwdtpKHvepPSkgCgdfT2YKUOFcK6hhwd5cYHQDD6pkYcalNVvVJprwBQMl8atFYlLkMpIVITB8Abu+3VyzQEyhztb4GK1Jb/9k/pLwfMEDZeJa0lAAAAAElFTkSuQmCC\"/>\n",
              "            <a href=\"#!\">\n",
              "                <span class=\"ipyplot-img-close\"/>\n",
              "            </a>\n",
              "            <a href=\"#ipyplot-content-div-dAdZnkPU4JL6Uu572R3P6v-ZmoxMuFumVz9CxQQFpESRg\">\n",
              "                <span class=\"ipyplot-img-expand\"/>\n",
              "            </a>\n",
              "        </div>\n",
              "    </div>\n",
              "    \n",
              "    <div class=\"ipyplot-placeholder-div-dAdZnkPU4JL6Uu572R3P6v\">\n",
              "        <div id=\"ipyplot-content-div-dAdZnkPU4JL6Uu572R3P6v-ETEA7uNfHonPU4tLQYX5dZ\" class=\"ipyplot-content-div-dAdZnkPU4JL6Uu572R3P6v\">\n",
              "            <h4 style=\"font-size: 12px; word-wrap: break-word;\">3</h4>\n",
              "            <img src=\"data:image/png;base64,iVBORw0KGgoAAAANSUhEUgAAADIAAAAyCAAAAAA7VNdtAAACUklEQVR4nN2Wz2sTQRTH3+yPZpOuae2PYFItSYtKrFQFxUMkWlqr2Js3oWj/Bf8N/wIP4kk8SMFTEH+iRQsSqWCwoIFSWy01taEJ2TWbzc54iOnObJ7J9iLi97LzZubDm3kz780SBnuVtGfiv0IUpI/WqjXOZJoud0LMpVcf3AHHTl/vb4vUihv5pWfvOYQWB1IJwrv1aPVO6mCsG4A0BRAavlXhZvBerNyyZG++XWQAANytMNcyfZNxzEs1f7NH7+8NIUFURh+gXnL3n5SggoQDoP7dRLe/fLeEzgcA0Lgwc6ug9T8SgjhECfIDsh4i3sktiKjg2GEZH8FOHwBU/ehM2V43qF9E7ho4MjG3bS58tnwievTUeOzYkKMyzAmGSAdSsxNAoFAo2f4QST8ze0ICAMbwUtKKkNDYZKNB8ChjQe5QpxCEOeiu23rpIAQhcqNTkf3vhQgfHwgzPz4vANB8drXsE6GV7L0cZdsLjz/h+YOcPt143VPq3cy823GjbdhtETBXXmwlitmvbk8g2t0eAbpiWMBlO5ycSaIIl8jGmh7g731i6hCOcIW4npeqHBIe3ucaXMTiV4Zc46fh7LYj58/28UntlrSdN9e8m2oo/XC9jhfY8PGr0stvCBKIR3gnHELC0zEzY4tXX9KIEwkKcRWMcPLG4HxRRKZPR5JR8Y6IT0X56aX98u5DAUQfv/3F+5wQcR30x+Kj+aL627K7pi5fHFVBlOf0pcFzKt1qVlpLu5Ae8RJAvInuWKbTzBRGgprSkjYtSGf9s38Xfwf5BfLWDvLqVkxNAAAAAElFTkSuQmCC\"/>\n",
              "            <a href=\"#!\">\n",
              "                <span class=\"ipyplot-img-close\"/>\n",
              "            </a>\n",
              "            <a href=\"#ipyplot-content-div-dAdZnkPU4JL6Uu572R3P6v-ETEA7uNfHonPU4tLQYX5dZ\">\n",
              "                <span class=\"ipyplot-img-expand\"/>\n",
              "            </a>\n",
              "        </div>\n",
              "    </div>\n",
              "    \n",
              "    <div class=\"ipyplot-placeholder-div-dAdZnkPU4JL6Uu572R3P6v\">\n",
              "        <div id=\"ipyplot-content-div-dAdZnkPU4JL6Uu572R3P6v-FS7mEcUjVCv9cNZhqXESv3\" class=\"ipyplot-content-div-dAdZnkPU4JL6Uu572R3P6v\">\n",
              "            <h4 style=\"font-size: 12px; word-wrap: break-word;\">4</h4>\n",
              "            <img src=\"data:image/png;base64,iVBORw0KGgoAAAANSUhEUgAAADIAAAAyCAAAAAA7VNdtAAACpElEQVR4nO2Wz2sTURDHZ982a37ULElJWqOmaVQQfwRbkSpaolCxCJUiHvQPEMT/w7uIRy8iXlRE/FHQxkIqpUVTa1uxxag1RA+NIUnzc7PZ7POQ5OUlOwZ7Fec0O+99Mt8382Y3AoWtGtky8U8hXUhMVxW17lLRuk38C6SwGF6uL5RcE8M9Qkekmo0Vu2KR0GJ9oeIk6nFXVyek+P7WirWS36Sg1QKbD2PWYVn4I0IzM5Nv0nW/njYdTVc6CMut3n3Rtg4gFvKOll38gzL96K0K7ZZ8XLjoFkUUodnX9w0AQHoy6/VZdtgxRE3nEQIAPt60Oa4GMWTj3QaOZMJgGUWRpdtRHAEAibtYHJJaUhquAAR0fvhMOCLZGEIkGykoVTwjQ8q/fugsavUGHYurca0zkp1fbvZEDlzb++B5IdEZ2Xg2X2YSnR7ZMkL0SBx7mTAkM/eFnaTbt4eC31yiSgrRhs2L6Dg55gJwjVnFBeQ8DBFMLGb3Hx4AAJN3RCskqgZtyOyTXUPumrf70qDNuMEozNx7NNhXc8vJvDEJgsgHTp2Wau7ak7m8btjQRBrDWs4QCwAAlD5NhdYNE4dlyX39phFBAPr9aehD0UhwFWuI1nPT0DNwToqEptYwAuuLuvDZM+juffVyBR85hrDK0KqiljYTluhPNAePNNtMq7lcXND48mo6gkBrbTShpSEqh7DmusePmPhNLcTO8z5+qW7l2A0Z1w4AV2YzlBkTJnl78SEE8JyZOLS9+cgVWe6LGSFiJtqJ6wftXIg7ZSx0L2xAhAvH3PsDLZK5LP2XU+vJIrtrQMEmk/7xs972X+EqQ9dn78wQ9sLWYHB0aJ/HKbUh/IUR/HLSaeKQQHCo2yAVWjtWzSv8B0syS8jUCv//w2zRfgO+R/j2SxKkYwAAAABJRU5ErkJggg==\"/>\n",
              "            <a href=\"#!\">\n",
              "                <span class=\"ipyplot-img-close\"/>\n",
              "            </a>\n",
              "            <a href=\"#ipyplot-content-div-dAdZnkPU4JL6Uu572R3P6v-FS7mEcUjVCv9cNZhqXESv3\">\n",
              "                <span class=\"ipyplot-img-expand\"/>\n",
              "            </a>\n",
              "        </div>\n",
              "    </div>\n",
              "    \n",
              "    <div class=\"ipyplot-placeholder-div-dAdZnkPU4JL6Uu572R3P6v\">\n",
              "        <div id=\"ipyplot-content-div-dAdZnkPU4JL6Uu572R3P6v-bXC4iGLerapwa8EBTh386k\" class=\"ipyplot-content-div-dAdZnkPU4JL6Uu572R3P6v\">\n",
              "            <h4 style=\"font-size: 12px; word-wrap: break-word;\">5</h4>\n",
              "            <img src=\"data:image/png;base64,iVBORw0KGgoAAAANSUhEUgAAADIAAAAyCAAAAAA7VNdtAAACbUlEQVR4nN2Wz2sTQRTH3+5mZ+O2VRNDSf0FVRAkprRiepFaDyr+unkV/wdv/i8eRK+il4JSW4QWoSi2YCgeRBBsTJb8MKS7bpL9NR5iJm92Zkt7EXEuO7v7PvO+897se6tQOOhQD0z8V0gq4Xm/74XKYErT49p+kPJGuU0AACD0rzw4tifSb1X6GrHX3m219QEStSdPmtM5ZqHEUhn8WHlSM5WoY7vBQBiFiUk69ehukhdvZ/n1xnCV4dW2wWomCYvs7Websq2ZyI5HqO80AhmC5fN58aya/JgqaM55ieovXjWkCCQJo/aHLTlBu35q6IkTpulETkBYq3rDOYc4TY8zVNThyt7maksmjO58anGIqgd/4tddtorHRcT5vrpSxTLT1GdZ/VXtSbzU3r5cxyE2Mq47uhvTJMi3pW1EqOaEiXc2eoUQ630HmaSyZhiBbKCIpXGKgZw40rClCPPidSwu4Apxd7GXiApIfelNDyOexefIF5Gf62VsQ7RWgIORPTcmIM7naohkmaldjJC5GzkBCbuIIHrU43QZl65mBETFJ5IYTp/biV6YZXOGoLqhqUHgcwS4SKSsjimaH/JPjDzSwBC0TBjFv+bZO+f39kKF73/62qnRzSjjStwOjcOnJ2Rekjvg0eJ8FhXypDKOR+FhCWeAIVFPYgwAYC7cKuVxt2CIMVXxRW2GHly4v5DntLAMNj8+fxoKyPzlM2cLeb5UMT53E75Ulbo9ihyFdG7x3syh+DLonLS/upXHayqTHcDc9dsXxwXPSGWmBK16RkfIzGJRJGJdLHR6OKMkTSQdO9749jH+2b+Lv4P8Braa1GMU90f5AAAAAElFTkSuQmCC\"/>\n",
              "            <a href=\"#!\">\n",
              "                <span class=\"ipyplot-img-close\"/>\n",
              "            </a>\n",
              "            <a href=\"#ipyplot-content-div-dAdZnkPU4JL6Uu572R3P6v-bXC4iGLerapwa8EBTh386k\">\n",
              "                <span class=\"ipyplot-img-expand\"/>\n",
              "            </a>\n",
              "        </div>\n",
              "    </div>\n",
              "    \n",
              "    <div class=\"ipyplot-placeholder-div-dAdZnkPU4JL6Uu572R3P6v\">\n",
              "        <div id=\"ipyplot-content-div-dAdZnkPU4JL6Uu572R3P6v-KxsG46Z6D4xRcApzwSbESU\" class=\"ipyplot-content-div-dAdZnkPU4JL6Uu572R3P6v\">\n",
              "            <h4 style=\"font-size: 12px; word-wrap: break-word;\">6</h4>\n",
              "            <img src=\"data:image/png;base64,iVBORw0KGgoAAAANSUhEUgAAADIAAAAyCAAAAAA7VNdtAAACjElEQVR4nO2WUU8TQRDHZ+/aUmiP5kqJRImWRDAYgzTBXDTRUEmQJyLisx/BD8DH8MFv4BPRqEQfkGjSxAcgQYvEaIyKlcLRIlBpe9febden7s72rhhejfN0/97+5mZmZ2dLGJzUlBMT/xQSaNGM1ixKhFS7OtS/INRcfVHs4tLqvW30kOMRVv68UAhy6cQV51pCORYBAi64Qpbmf0QN7TikvvVmuQqoI+jB6nzlhi5Hgo3uPTUCLaGT0MzbEl4kh8mcctFt6TpWX3m4+LttYHVzx6dN848apy/G+MclpFF4/LLoRQAytXvpSHN/JIQdraz5EZB/ltBSzRpIuajBkC8BQJ8/2Gw+S0h5r94GAfPdkR/CfmZ/tUMgwlNAuZRzS6+2hSQdnY5NeQHFbiFk5/WTjChxQIv3HOZtyhHmg3xf2ECboo8N6R8Oaz4hIsRcLvFnNXrh1nnLREdFeEPph0W4StyYnkm+zx5Q8BpH6kVT4OEz18f7StkvtvDd8OZSWFi0+fvYwPjw2lKugnw7XmQ/sy72Maj1R79u7IrklfhQxIOUP26LwBl17K38YYP/EEpNJjwItVCqQdjcXc+h7mGj47oHUXBHqtZKLWsKTWKXR8GDEHy29j8V6ltoaJy7OQheBM8IKFW+MVSMTmO63wdxcUUpxQ4GJieMuA+ipdxdXgB5APRNGH1I8h1P3p+JgL9pZ+NYcqR7bNgzOZthdkrnmyOq1t3u4iCu1J3CMwHbsxgAQL86Jc9xFEz4lO22rgeAxJ20jCBxZS7t9xUaicqXEkKSsyMARDZQ9UE9JA92XKWGQlhL1ZzY3amRaHskcGnWDcuI1TvtufhwNzaqVdby2u96Jf//w5zQ/gC4bvSg/Q0WEAAAAABJRU5ErkJggg==\"/>\n",
              "            <a href=\"#!\">\n",
              "                <span class=\"ipyplot-img-close\"/>\n",
              "            </a>\n",
              "            <a href=\"#ipyplot-content-div-dAdZnkPU4JL6Uu572R3P6v-KxsG46Z6D4xRcApzwSbESU\">\n",
              "                <span class=\"ipyplot-img-expand\"/>\n",
              "            </a>\n",
              "        </div>\n",
              "    </div>\n",
              "    \n",
              "    <div class=\"ipyplot-placeholder-div-dAdZnkPU4JL6Uu572R3P6v\">\n",
              "        <div id=\"ipyplot-content-div-dAdZnkPU4JL6Uu572R3P6v-R2soN3d36jHp5NHbJFTrk5\" class=\"ipyplot-content-div-dAdZnkPU4JL6Uu572R3P6v\">\n",
              "            <h4 style=\"font-size: 12px; word-wrap: break-word;\">7</h4>\n",
              "            <img src=\"data:image/png;base64,iVBORw0KGgoAAAANSUhEUgAAADIAAAAyCAAAAAA7VNdtAAACh0lEQVR4nO2VTWgTQRTH3+xud5NN0mCaBpNoiQqFakojtdKTqCiCB6EKSkHxJniSXjx68ShevCpCQTwpelEE7UEbLxY/YoiVtpgmfsRaTdtokt3sdsfDzu7OfsSSs51TZvL/zfzfezNvEYZOB9MxsYl0PDj7FK+WfrNOjYa2bae2diD1NzfyPufJEnPhYsAbkQv5tY/ZqoeXR5FDOygr5pDmJ8Jit8sWAAC369YfzdBRyMzEHi85AACgI9cWPZDJcFsCAPqnDR0VKrP+L0TVTJ0Zk6IINisIIYSsud9MlPmj9b1CnYJYBgMgrFrPyY2sTr1uGXpGjPZHMADSZhckYkitNvzIjny9/a5JAD6UyJzfDQCg3bxbbuj/S7OpnTyNaNW5Yp3A/PDhntRwCAAAjuF7Bf2YtalggidhY4wxbr64HCcEG7uirBt10ypnunQ7iB9f0tfIKdLzZzWCiIm4dYtQEJEM4JaEbeHLubdGbqKZuGZVq8n5ZA0AAHECSbn7vaTO7afK0TUw6HcICII4jmQwOjAapxAhmeS9EXMERvfamqHgvtmOJwZsMEAjy/O5zy2HxImoS8saNX11P7uoboDIpYp1O3/mHmfLykbGWuXiSsyY5O5Mf3K3eYLgJtkMq++vhwzZ3Mw3k8BK015KtjdS0z2j4iSnR4OgUbfeAxPuZW2IOMY++KHvJivI2FqjXPlOjYk2RBipPjEceL7nrUPHRwS7sUgCeSmNwZ44PRgxqmr0jYVL6fZE8uTDmtmJTEQuXRXbIuMvV8zOh8268H1Hfz0teMjFA33+g+lua4EqZaYHfVGdNx030mf3bemm+xWi8ijnP2DXxVWiQzGfbQVtfvf/Y+Qvv4cwNEjgOYMAAAAASUVORK5CYII=\"/>\n",
              "            <a href=\"#!\">\n",
              "                <span class=\"ipyplot-img-close\"/>\n",
              "            </a>\n",
              "            <a href=\"#ipyplot-content-div-dAdZnkPU4JL6Uu572R3P6v-R2soN3d36jHp5NHbJFTrk5\">\n",
              "                <span class=\"ipyplot-img-expand\"/>\n",
              "            </a>\n",
              "        </div>\n",
              "    </div>\n",
              "    \n",
              "    <div class=\"ipyplot-placeholder-div-dAdZnkPU4JL6Uu572R3P6v\">\n",
              "        <div id=\"ipyplot-content-div-dAdZnkPU4JL6Uu572R3P6v-agcyBve3YRnQeaVfDareKQ\" class=\"ipyplot-content-div-dAdZnkPU4JL6Uu572R3P6v\">\n",
              "            <h4 style=\"font-size: 12px; word-wrap: break-word;\">8</h4>\n",
              "            <img src=\"data:image/png;base64,iVBORw0KGgoAAAANSUhEUgAAADIAAAAyCAAAAAA7VNdtAAACkUlEQVR4nO3Vy28SQRwH8O/yLFCILbTSIKUxPlJSU01oehKNmpqYqNHE2IMnPZio/4F/gX+FFy8e2sRnfMWDYG2rsaVh4wMjIBXaghDaZZFl2fGwyz7YxaQ3EzunneH3YWZ+86IItltM2xY75B8lFoM2ppBeU/9Xiwofsv+FtPhG6t3jeViVprrl6o2gvSupl+lYLkNXta0vyPSkESEQuHJh9eXdum6odNo75LfpCcc012ffM3m9ANj7xZsH9GRjmcnP0AbxAJCsXTIgyTu/uEIXAVU6ZNKqpRabXQFgodpfcvprdKanaxQAyBW5l40n85zyu8luEVzeWpkSWOmkUxYdWX9AK9eA1e13NwdGyhmqmS1LbbyOWH/LwuntD0WHW85d9SqYRwulJgCwK4Mhq5oQnmmnxOwKjfn3n90j1rhWY64KAFtvvUMa0lh+symRvvDUlMO9W6rZzvemRBIbOOHSkA/xNvGfPB1RJcrjE0Ma2SyvmQuX+MhKMcGLe1UCrx+K86dM7ZxLRChXxI+e4JF9qvUpfn0W3xJnKwhEQyiblScA4D46Iaj6WJyJp1vQls7zIjA1hZQST+M/pBm4Do7bjUn986i00whB4l7se3u1PKeO9WgIqUuB3M+SmEosfMqvLOXl9XVFRm0aYh7o3+QBgK/kvvkAoPg8/qXEKfOwhXzauTgvWGY3xP6WbjsIQLHpQlW1T1GTKxKxT1ReiQSrayYBoARBnTn4D7s6iLk/II2USFtW+7qZz10e6SAw2xrtJoOnMDB5JtLZCyCY9ZFyid4Ku/WnMnCtwM4lDcKd0WHH8TGP0iCT4HWu0pvjHR2AsGNXIn0e1ZUMSjXyRpImuuE1feOD2nuE2nn3/2PyBwXZ8OGsvnrEAAAAAElFTkSuQmCC\"/>\n",
              "            <a href=\"#!\">\n",
              "                <span class=\"ipyplot-img-close\"/>\n",
              "            </a>\n",
              "            <a href=\"#ipyplot-content-div-dAdZnkPU4JL6Uu572R3P6v-agcyBve3YRnQeaVfDareKQ\">\n",
              "                <span class=\"ipyplot-img-expand\"/>\n",
              "            </a>\n",
              "        </div>\n",
              "    </div>\n",
              "    \n",
              "    <div class=\"ipyplot-placeholder-div-dAdZnkPU4JL6Uu572R3P6v\">\n",
              "        <div id=\"ipyplot-content-div-dAdZnkPU4JL6Uu572R3P6v-att2pSU4Xij7hYG7yFhYfs\" class=\"ipyplot-content-div-dAdZnkPU4JL6Uu572R3P6v\">\n",
              "            <h4 style=\"font-size: 12px; word-wrap: break-word;\">9</h4>\n",
              "            <img src=\"data:image/png;base64,iVBORw0KGgoAAAANSUhEUgAAADIAAAAyCAAAAAA7VNdtAAACRklEQVR4nO2WvW/TQBTA39nYzldJHUVpI1FRUhJVpi60YgCBCFLoEhbmTvwL/C+IsUNHUKUuLIgOjQRbpVZRg1CkUlURJJDw0TbOOfUHU87PztlVVsSb7t7d797HPb8zcWFSESYm/inkim9mn1OCpnJM5hzpR35v1iRxNLFguayr0Yj75cN2TUDIUR9WU5GIsfWyCw67Wxca3x35TiwCOd55ewIAqBxoa9feVy2LaLqCvWHyesEfGACAcjWTzSbTL5rU24d2GR1rDDFNAAB4B+t3mQ4lURzzmsnhRsObYCSUALAcb8wccy0a8R3EUQBsOGx/syPMIGFI7/3eEC8IEtg21y5DWhsHA6QX46pzSi8iEfq1j9TKfE7q/XE4AELEJNKS6fuFTn3ID85LMvY7tVCt5tyQDI7XCACQbOn2jNPnLYUgJDE31241u/xQuIgwpem9z81fIQjv2xfVexWncdIPiYWDiDltMUNOjRAjHITIxUd5cOTQKvWQUWsh8aVqur5/5CsfavMQhkozhe7O7ieKddxKJqNgXaMGnXpzgIMvPbzBQZi4xseDi4HpS1fp6TwH8XqRbQzcQLYyejbKCkAwu/HZW3mZhxAIk8LzCiL4ZekTSVur3MTbvHFYs8ivr5US2IXLEGXlweNi0qe6LJZY+ZkWaP7s9h0a3A0AAKaSkgMqZmVKP/tp+yy5kEwL168lgqewOjk/fvOqK+ElC1aerBZn1VjAZWYltUTbPxQ/slzmPGKeFQDzzA6cx39eyf9/mAnlL/pFweu+7+dyAAAAAElFTkSuQmCC\"/>\n",
              "            <a href=\"#!\">\n",
              "                <span class=\"ipyplot-img-close\"/>\n",
              "            </a>\n",
              "            <a href=\"#ipyplot-content-div-dAdZnkPU4JL6Uu572R3P6v-att2pSU4Xij7hYG7yFhYfs\">\n",
              "                <span class=\"ipyplot-img-expand\"/>\n",
              "            </a>\n",
              "        </div>\n",
              "    </div>\n",
              "    </div></div><div class=\"tab contentd4PeXxgbNFCHw8es8JA6eq\">\n",
              "        <style>\n",
              "        #ipyplot-imgs-container-div-nunPphdQm4NhdHSp3KW2KL {\n",
              "            width: 100%;\n",
              "            height: 100%;\n",
              "            margin: 0%;\n",
              "            overflow: auto;\n",
              "            position: relative;\n",
              "            overflow-y: scroll;\n",
              "        }\n",
              "\n",
              "        div.ipyplot-placeholder-div-nunPphdQm4NhdHSp3KW2KL {\n",
              "            width: 50px;\n",
              "            display: inline-block;\n",
              "            margin: 3px;\n",
              "            position: relative;\n",
              "        }\n",
              "\n",
              "        div.ipyplot-content-div-nunPphdQm4NhdHSp3KW2KL {\n",
              "            width: 50px;\n",
              "            background: white;\n",
              "            display: inline-block;\n",
              "            vertical-align: top;\n",
              "            text-align: center;\n",
              "            position: relative;\n",
              "            border: 2px solid #ddd;\n",
              "            top: 0;\n",
              "            left: 0;\n",
              "        }\n",
              "\n",
              "        div.ipyplot-content-div-nunPphdQm4NhdHSp3KW2KL span.ipyplot-img-close {\n",
              "            display: none;\n",
              "        }\n",
              "\n",
              "        div.ipyplot-content-div-nunPphdQm4NhdHSp3KW2KL span {\n",
              "            width: 100%;\n",
              "            height: 100%;\n",
              "            position: absolute;\n",
              "            top: 0;\n",
              "            left: 0;\n",
              "        }\n",
              "\n",
              "        div.ipyplot-content-div-nunPphdQm4NhdHSp3KW2KL img {\n",
              "            width: 50px;\n",
              "        }\n",
              "\n",
              "        div.ipyplot-content-div-nunPphdQm4NhdHSp3KW2KL span.ipyplot-img-close:hover {\n",
              "            cursor: zoom-out;\n",
              "        }\n",
              "        div.ipyplot-content-div-nunPphdQm4NhdHSp3KW2KL span.ipyplot-img-expand:hover {\n",
              "            cursor: zoom-in;\n",
              "        }\n",
              "\n",
              "        div[id^=ipyplot-content-div-nunPphdQm4NhdHSp3KW2KL]:target {\n",
              "            transform: scale(2.5);\n",
              "            transform-origin: left top;\n",
              "            z-index: 5000;\n",
              "            top: 0;\n",
              "            left: 0;\n",
              "            position: absolute;\n",
              "        }\n",
              "\n",
              "        div[id^=ipyplot-content-div-nunPphdQm4NhdHSp3KW2KL]:target span.ipyplot-img-close {\n",
              "            display: block;\n",
              "        }\n",
              "\n",
              "        div[id^=ipyplot-content-div-nunPphdQm4NhdHSp3KW2KL]:target span.ipyplot-img-expand {\n",
              "            display: none;\n",
              "        }\n",
              "        </style>\n",
              "    <div id=\"ipyplot-imgs-container-div-nunPphdQm4NhdHSp3KW2KL\">\n",
              "    <div class=\"ipyplot-placeholder-div-nunPphdQm4NhdHSp3KW2KL\">\n",
              "        <div id=\"ipyplot-content-div-nunPphdQm4NhdHSp3KW2KL-UMu3uHXH2d3iQqvq6TYWGh\" class=\"ipyplot-content-div-nunPphdQm4NhdHSp3KW2KL\">\n",
              "            <h4 style=\"font-size: 12px; word-wrap: break-word;\">0</h4>\n",
              "            <img src=\"data:image/png;base64,iVBORw0KGgoAAAANSUhEUgAAADIAAAAyCAAAAAA7VNdtAAABeElEQVR4nO2Vy0vDQBDGv93NNmmVgo+i9VIVKmixB0+C4p/swavX6sWDUEU9eBHbQsUWihg27TbrIYilO3mBoIhzGjb5ZSbfPJYZ5DWem/hTiGOdhFopwwAA0iuILIj/eNlSLgCNxlFzLQsy7l+dBhKAxmt1OxMCM9XQAAx0SBXaRsx0PEX0Kt0ZtmKMiS+XQuwopfrxy10viqLDTFHcjcbBauT6/UFgJ0eJfHHeidynM7dYX0iPEnTa18PIHbZvu0GGxMBnKu5Qz+2jGaE4JzQj2zJ5Uom6SNfLiTiLlapMQmyR3c0T1br345OzkcL6YSkcPascCFBu9gfvvViEUkws1WqlWCJm9rVO0JlGQnK2EpFE+0e+GWHEXkpBjLFrmoKoN7ujqU6eCXIjPbk8d2GkIA/dna3yHEInZsznZiWWPx2FMQEwAMaT1kdphAsHggOYELuPRlb21Z7kAPzK7vyvgJGzNAkCzQDAiKIrWBYk0X5FW/4c8gEXgWyvimqNxQAAAABJRU5ErkJggg==\"/>\n",
              "            <a href=\"#!\">\n",
              "                <span class=\"ipyplot-img-close\"/>\n",
              "            </a>\n",
              "            <a href=\"#ipyplot-content-div-nunPphdQm4NhdHSp3KW2KL-UMu3uHXH2d3iQqvq6TYWGh\">\n",
              "                <span class=\"ipyplot-img-expand\"/>\n",
              "            </a>\n",
              "        </div>\n",
              "    </div>\n",
              "    \n",
              "    <div class=\"ipyplot-placeholder-div-nunPphdQm4NhdHSp3KW2KL\">\n",
              "        <div id=\"ipyplot-content-div-nunPphdQm4NhdHSp3KW2KL-VC3yrNJbwTyfNf7ySUGkTh\" class=\"ipyplot-content-div-nunPphdQm4NhdHSp3KW2KL\">\n",
              "            <h4 style=\"font-size: 12px; word-wrap: break-word;\">1</h4>\n",
              "            <img src=\"data:image/png;base64,iVBORw0KGgoAAAANSUhEUgAAADIAAAAyCAAAAAA7VNdtAAABTklEQVR4nN2US0sDMRSFTx5jUtFKRVuoWKUg/QMWdKd/2KVLN4obBcG1COpCXIgKVuaRSdyos8g1JlChelZDwsc9uffcYQ6p4snEv0Kkd2JNnjsGOKlUFoe8XZ2e5Aq2Goy3R3FI+XB2UGSw9Wh+GGkMrjYwcKgtPWYKcTUcgOeL/kp/IQphjFsAeDzC4h6BBJrszMurIc6Dc8kkS0VoTR1hM2XMWZuKMB4u7d/yVrsjPgtSKfORbHkwJGLSyM+Y3th5Ki6TjIn25lYnVIV6qamCLaMQ+81uBZAfFESEVpHIVxhNXhAWiUVudH2osNZKMnZ/fH5XRBlrNJmUfr/DiKFCTSFNGDm1lrPwu/hNxFXlx5el1pJCdHd9KQMYg6A6RgWmu2/1yY3gqKSIRFRvV67eSo5Cj3tz3jUjt6kqc8MAx7SWnnUaCepPjXL6yDtbvGDrd4yJoAAAAABJRU5ErkJggg==\"/>\n",
              "            <a href=\"#!\">\n",
              "                <span class=\"ipyplot-img-close\"/>\n",
              "            </a>\n",
              "            <a href=\"#ipyplot-content-div-nunPphdQm4NhdHSp3KW2KL-VC3yrNJbwTyfNf7ySUGkTh\">\n",
              "                <span class=\"ipyplot-img-expand\"/>\n",
              "            </a>\n",
              "        </div>\n",
              "    </div>\n",
              "    \n",
              "    <div class=\"ipyplot-placeholder-div-nunPphdQm4NhdHSp3KW2KL\">\n",
              "        <div id=\"ipyplot-content-div-nunPphdQm4NhdHSp3KW2KL-JUsn9nG5bEckhV698NmWkB\" class=\"ipyplot-content-div-nunPphdQm4NhdHSp3KW2KL\">\n",
              "            <h4 style=\"font-size: 12px; word-wrap: break-word;\">2</h4>\n",
              "            <img src=\"data:image/png;base64,iVBORw0KGgoAAAANSUhEUgAAADIAAAAyCAAAAAA7VNdtAAABmUlEQVR4nN3WzUsCQRQA8Dez46xZbUFaEFpIH+SpLkHRf9CfGp0i6NCpQ5cgAg0vIRamhEoiqLu6H9NBs9p5uzsLEtE7DbP8due9eTMsERA3aGzxrwhD5ryRNQIQLMkTqqRbuikCdTaOD/NqxOkXr64fgLqbLSe1rKuQfunirC3AhcalRU9ySl/p1l8BAMDu1poWsjC5YkTjn5M8QZRIZMyGCBHe3QghBMsglFCqfWklwtcKB0sTQbFU5X1JFQg9vwtZovwayldWU+Nh761legoEwDKd8eC9XOk4SmRa5Pb9Y32oRKbRe6q27HgEj3BCNWzfZvMV4blxCcRuS1jIbq0jZz6MGLv7e/PxSDK7k49JNCOT5pMx0ph4kactw3S51XHieRPTKNZMf/2wC/YbvW0wPcd/Tkbsfq/SHPhPTFTD6Iz6CxCQiy2frAiiG4YWeDPh6W+fmrxsAQB4cr/hJG1UX54tAiCkTAKLLAhhwABsJq88gNDs0WKHAwwyBUPzPSP42RDDoe0SAKHN6f5CBJCw+LN/F79DPgDZWHJhox0aWwAAAABJRU5ErkJggg==\"/>\n",
              "            <a href=\"#!\">\n",
              "                <span class=\"ipyplot-img-close\"/>\n",
              "            </a>\n",
              "            <a href=\"#ipyplot-content-div-nunPphdQm4NhdHSp3KW2KL-JUsn9nG5bEckhV698NmWkB\">\n",
              "                <span class=\"ipyplot-img-expand\"/>\n",
              "            </a>\n",
              "        </div>\n",
              "    </div>\n",
              "    \n",
              "    <div class=\"ipyplot-placeholder-div-nunPphdQm4NhdHSp3KW2KL\">\n",
              "        <div id=\"ipyplot-content-div-nunPphdQm4NhdHSp3KW2KL-XGHBJkpTKCjrSPkRzDHKDi\" class=\"ipyplot-content-div-nunPphdQm4NhdHSp3KW2KL\">\n",
              "            <h4 style=\"font-size: 12px; word-wrap: break-word;\">3</h4>\n",
              "            <img src=\"data:image/png;base64,iVBORw0KGgoAAAANSUhEUgAAADIAAAAyCAAAAAA7VNdtAAAA/klEQVR4nOXVsWoCQRAG4H+WO08OC9HggaJiukCws5AIYpuHTaVvIDa+gp0gmICQJlnvdnesEguHc68I5HTKhY/9Z2+YI0bRUoXFTZHg4sQZrZkADqqV0I98bVZLHcGZ3ng08CPpfv12DOFs/8PE9ciHgK2BAWM31+ql60fYggFkn9t3LQQTXozo57ASkh+5ViUldN/ts7RM/kOwOyelH0t2rihx5qz9xjLqPA8bebdcbsv46fu4OBQKRlEzifNukV5MBdIXzCW/XaeZ1L6w+QEQAIRxt1X1JKQCgrLtyeus7klqj9MHKNMbjxIxgpDWpjrL+b1K5EqVafj/gJwAyopFbDVlddMAAAAASUVORK5CYII=\"/>\n",
              "            <a href=\"#!\">\n",
              "                <span class=\"ipyplot-img-close\"/>\n",
              "            </a>\n",
              "            <a href=\"#ipyplot-content-div-nunPphdQm4NhdHSp3KW2KL-XGHBJkpTKCjrSPkRzDHKDi\">\n",
              "                <span class=\"ipyplot-img-expand\"/>\n",
              "            </a>\n",
              "        </div>\n",
              "    </div>\n",
              "    \n",
              "    <div class=\"ipyplot-placeholder-div-nunPphdQm4NhdHSp3KW2KL\">\n",
              "        <div id=\"ipyplot-content-div-nunPphdQm4NhdHSp3KW2KL-cyrddVFwpYteAg5BpvHGfL\" class=\"ipyplot-content-div-nunPphdQm4NhdHSp3KW2KL\">\n",
              "            <h4 style=\"font-size: 12px; word-wrap: break-word;\">4</h4>\n",
              "            <img src=\"data:image/png;base64,iVBORw0KGgoAAAANSUhEUgAAADIAAAAyCAAAAAA7VNdtAAABhklEQVR4nN2VS0vDQBCAZ7PbmEQjolTbXJRChVp6EERBD/Um6MGLf9Mf4E2h5CqIePABehEKpRWlsc1j46ExhsyQGCj4mNPOTr6d2ZnJLAuhqCiFiX+FCGIvcEdetAy5PsNZPtK7sq8jg1M+2qqKfMR5vDiPDF65tr78DYRBEII/WfsSmTHi9i/tZ4CoKyTuDow4N2enw1hTGPoAI8Ho9Y2I9ktwXZgisos1nerj6PMQznlCIzKGEOm8DBMqxylLI9LtPnQTJ5t6usVQkuXgzn6KNa2+11pMn5pGgv5tZ/DppWQdHjfn04GhUkpvHMe1ut9uIAJfXxFqvLZ2GguIyCklObEyEen7RRFa/ijCqK6eipcw7/lASOC9F0TY7Eodt1UmIqrbJ6340mSQaUQxrEalmBcAzdSzBwZGFCbxHM5GmGqamdXCA9bYOBh37gGAnEikF7WyuWtNeoWY4aQXgBA4AwE+CJKhEGOtvQQCfGjW5ggzI8KNn9eSpnJsppAc+Q1/5Q8iH+H7X3eLwc0rAAAAAElFTkSuQmCC\"/>\n",
              "            <a href=\"#!\">\n",
              "                <span class=\"ipyplot-img-close\"/>\n",
              "            </a>\n",
              "            <a href=\"#ipyplot-content-div-nunPphdQm4NhdHSp3KW2KL-cyrddVFwpYteAg5BpvHGfL\">\n",
              "                <span class=\"ipyplot-img-expand\"/>\n",
              "            </a>\n",
              "        </div>\n",
              "    </div>\n",
              "    \n",
              "    <div class=\"ipyplot-placeholder-div-nunPphdQm4NhdHSp3KW2KL\">\n",
              "        <div id=\"ipyplot-content-div-nunPphdQm4NhdHSp3KW2KL-7D4bC5aYJV7CAsyXaMuEP2\" class=\"ipyplot-content-div-nunPphdQm4NhdHSp3KW2KL\">\n",
              "            <h4 style=\"font-size: 12px; word-wrap: break-word;\">5</h4>\n",
              "            <img src=\"data:image/png;base64,iVBORw0KGgoAAAANSUhEUgAAADIAAAAyCAAAAAA7VNdtAAABHklEQVR4nO3WO07DQBAG4H/ixCYQwiNSIFUEDSgFUmpEwx04KxdAAgQdJ0gHGELjB/Fjh4by98grUQTEVCuvPo1nd9ZrUfhGx1usL+nyx1o5UQQdkZbEJcv3XBSjyVavJcmfbm6fAVxcney0I0X8eH23AjC4LMk0Kz9d3D8UANAPSCk0S50tM/a+RhbpRt8DShoWGQCi8XSPLJi1leHhZOhJPl/eksqPlPFr6kmwygrnSVzFhN3JrCnX+Ij9EFHHtsMkQTjYMLKzqXD/aBr5kd74dLbtSQ5mZ7vNhJ0Xkf6mcY54mWVJu8siZvyTP05UHQA4+lPAiStSAMhrZnjHDo/PFwDmI/YZF5o7+YizxuuVE3W1Nl7inJjxy7bSjC+ZF1EkQqm2NAAAAABJRU5ErkJggg==\"/>\n",
              "            <a href=\"#!\">\n",
              "                <span class=\"ipyplot-img-close\"/>\n",
              "            </a>\n",
              "            <a href=\"#ipyplot-content-div-nunPphdQm4NhdHSp3KW2KL-7D4bC5aYJV7CAsyXaMuEP2\">\n",
              "                <span class=\"ipyplot-img-expand\"/>\n",
              "            </a>\n",
              "        </div>\n",
              "    </div>\n",
              "    \n",
              "    <div class=\"ipyplot-placeholder-div-nunPphdQm4NhdHSp3KW2KL\">\n",
              "        <div id=\"ipyplot-content-div-nunPphdQm4NhdHSp3KW2KL-2j9yrw3SYag2PffzSPgUvX\" class=\"ipyplot-content-div-nunPphdQm4NhdHSp3KW2KL\">\n",
              "            <h4 style=\"font-size: 12px; word-wrap: break-word;\">6</h4>\n",
              "            <img src=\"data:image/png;base64,iVBORw0KGgoAAAANSUhEUgAAADIAAAAyCAAAAAA7VNdtAAAA+UlEQVR4nN2VsQoCMRBEZ++iRjhtFESwulbwByz8dgt/QLDUzkbEQkRE48XiBAsnuUQsPLdJSHjZYXeSiEVsJNHEXyGKrN2vlxsAoKGbaRiyXy5WUDAYTyeDMOS0mc+hYLAf5oGILYyFgYUpWKMZAlsAFgAleMXkuZpIMOKPWiEi77OqLNZ777iwaCTVWYt2xI00u72Opyxsqz0YDXUpkClkSNLSmnrPjRw3q/XZjbDTLrvtwU3wVqYeWS7ze0pcN1vGZ/lZ5GXGYFt+kOV3EVuUY+QzLuJ6xtnNkEQJFAwUZRiS5bN++fHlGTuRyK34XhlSEfVq5deRBwW2PN9czS1OAAAAAElFTkSuQmCC\"/>\n",
              "            <a href=\"#!\">\n",
              "                <span class=\"ipyplot-img-close\"/>\n",
              "            </a>\n",
              "            <a href=\"#ipyplot-content-div-nunPphdQm4NhdHSp3KW2KL-2j9yrw3SYag2PffzSPgUvX\">\n",
              "                <span class=\"ipyplot-img-expand\"/>\n",
              "            </a>\n",
              "        </div>\n",
              "    </div>\n",
              "    \n",
              "    <div class=\"ipyplot-placeholder-div-nunPphdQm4NhdHSp3KW2KL\">\n",
              "        <div id=\"ipyplot-content-div-nunPphdQm4NhdHSp3KW2KL-fMffaXidYbGbFDhUXhu9oD\" class=\"ipyplot-content-div-nunPphdQm4NhdHSp3KW2KL\">\n",
              "            <h4 style=\"font-size: 12px; word-wrap: break-word;\">7</h4>\n",
              "            <img src=\"data:image/png;base64,iVBORw0KGgoAAAANSUhEUgAAADIAAAAyCAAAAAA7VNdtAAABlElEQVR4nM3Wv0/CQBQH8O+1tIAIiIlpookmxkBw0JA4yWSM/iX+d846ujgxGBcdMEFxUDSA/BCQQttzganfXjjjwI33+uG9vuu9ICR0l6EtlpfEyJ6UgQ9hmhrEGzba0kqvb7AgJ6Ony1usFMqnDi2bkWn7vgK8+DuJ3KJEmEkAb3fFHCUstRm3AEy73R8mKJG+BADb5j0jxK3ePNNnI4kcP17XNInXqvGXmC3SMX/UVwn2LtJTCkJEfHt/TZNkji/2NQsznAI9dQWBaUV995FEGEKXyEA5dv737guDBxXEsC1d0nuofk3JPp8IAIDGVWKzmNXK4jc/B75eYYAvWbeVRJgsrM7isntAybye7/ceqYwSMdv9qNQn4ShrshFLxDwAqLfyJSv0oyxLfKt0lAEAt90lXWZZknsn404fAAybXAM6k0UqpfgqeJNdlx27ksxXMCFN5gVIGQCAlc6SKcBJMBkCgHN2uBoug5PMbvkVwMF53g4HBZ0Mg05zJCRyTjq+KJGBL4VE+OSjiXIt7X+YP5BfHvV0H6M8O7YAAAAASUVORK5CYII=\"/>\n",
              "            <a href=\"#!\">\n",
              "                <span class=\"ipyplot-img-close\"/>\n",
              "            </a>\n",
              "            <a href=\"#ipyplot-content-div-nunPphdQm4NhdHSp3KW2KL-fMffaXidYbGbFDhUXhu9oD\">\n",
              "                <span class=\"ipyplot-img-expand\"/>\n",
              "            </a>\n",
              "        </div>\n",
              "    </div>\n",
              "    \n",
              "    <div class=\"ipyplot-placeholder-div-nunPphdQm4NhdHSp3KW2KL\">\n",
              "        <div id=\"ipyplot-content-div-nunPphdQm4NhdHSp3KW2KL-WyCSTCm3g3Wd2VXBU6FXLF\" class=\"ipyplot-content-div-nunPphdQm4NhdHSp3KW2KL\">\n",
              "            <h4 style=\"font-size: 12px; word-wrap: break-word;\">8</h4>\n",
              "            <img src=\"data:image/png;base64,iVBORw0KGgoAAAANSUhEUgAAADIAAAAyCAAAAAA7VNdtAAAByUlEQVR4nM2Wz0sCURDH5+26mj9KAklCQoQ0LEIqSLrYX1BQhy5d+rf6Ezp26lAehKCiKIQOLUQEhmmki4qr67r7OuyuHd6s+/YSvdOw8z7MzHdm2Eco+D2Cb+KPkICbgwIAED9Ip6UMhFSaHzGH8kutJ6zTZJgX6b6eXzc1cicfFHgRtfZwOwL47G8iCK6Y1mnrAKDJbcSJRTH7j+U6BQDaG3EiRuPyzAAAAAlLAkPouKuj+VoHrYW4NtgV+T0zvhHabLEpTk0BxhfCITM006OY1QrbGY/ElHfVJwKGOvaLYM30QgYm8wlVbLKMJJJmFwZDpGjQsU6OlrkQRf62LXGnxLqxWqqn97ZFseHHkPpNwzENTmTYZmXyQMzJKA7ZRuIIER0jHkLcmGKTe8X9bS7EGCiOmT9e4kK+riqOTiPdFBk/Ukur/GQh4uwcxaRjo3SfP6yLsXw2hgRBougdW+N4IRfDBEXWwZnJ+FomihDT9oVKkq9fEhAhFkQJdyS0sltM8iKWXtHVrZyEImwtpgYAAOHFBJ4XEiWSBUKFQH4jxY0s7DUEUwxnSgmsjwBAmDdM700lVAjOp12CIAjYX9wIDPE6//al9AOm+oGjj3HArQAAAABJRU5ErkJggg==\"/>\n",
              "            <a href=\"#!\">\n",
              "                <span class=\"ipyplot-img-close\"/>\n",
              "            </a>\n",
              "            <a href=\"#ipyplot-content-div-nunPphdQm4NhdHSp3KW2KL-WyCSTCm3g3Wd2VXBU6FXLF\">\n",
              "                <span class=\"ipyplot-img-expand\"/>\n",
              "            </a>\n",
              "        </div>\n",
              "    </div>\n",
              "    \n",
              "    <div class=\"ipyplot-placeholder-div-nunPphdQm4NhdHSp3KW2KL\">\n",
              "        <div id=\"ipyplot-content-div-nunPphdQm4NhdHSp3KW2KL-AQZtoFJbhvEVYFVXnoQu9w\" class=\"ipyplot-content-div-nunPphdQm4NhdHSp3KW2KL\">\n",
              "            <h4 style=\"font-size: 12px; word-wrap: break-word;\">9</h4>\n",
              "            <img src=\"data:image/png;base64,iVBORw0KGgoAAAANSUhEUgAAADIAAAAyCAAAAAA7VNdtAAABWUlEQVR4nN2UTUvDQBCG3918FRFNoWmDoIJQKB4UEQuCIF79sf4K8eLBq4JghYKILRRLY7rZDw8NeMgk3UDFjzmF3X3IOzPvDDOoG7w28a8Qt3CiZZoaZhwvCJglkjzeXKeBaO73+74lIl5vr+ZeFr3Hx7QwIhejJCSk0jRBIkbBQJkyXxAIYxwAZ3TyVUVmvOSuHNFK1UT0PElqIvJtMJiSN8W+5JHe86ZzVE/YdDic1BMG+D4toQIpa8yvHbEKhPv0vJBOXnhYjEczyjPFOhqtFsjkLu50N23+4m5E7QAAkqeH55mVsCDuHYYAIMcvow8rxIt6By0AgBaSGuYi4oS73Wb+6VAFJc/Il5WIIvVUIktiRcjXBiN32Y87+bsRk/dFZFT65BJhHAC8te12wxJh3GXgauvs8iK0RNb3zlvgcuf0pENqINQqkWaAcRu+Z4ssib/VypUjn8PQaHDWL48lAAAAAElFTkSuQmCC\"/>\n",
              "            <a href=\"#!\">\n",
              "                <span class=\"ipyplot-img-close\"/>\n",
              "            </a>\n",
              "            <a href=\"#ipyplot-content-div-nunPphdQm4NhdHSp3KW2KL-AQZtoFJbhvEVYFVXnoQu9w\">\n",
              "                <span class=\"ipyplot-img-expand\"/>\n",
              "            </a>\n",
              "        </div>\n",
              "    </div>\n",
              "    </div></div><div class=\"tab contentUB2asRiaNSmimEhYTypCiX\">\n",
              "        <style>\n",
              "        #ipyplot-imgs-container-div-DMszvDj3VdbtjzGuDs6nwA {\n",
              "            width: 100%;\n",
              "            height: 100%;\n",
              "            margin: 0%;\n",
              "            overflow: auto;\n",
              "            position: relative;\n",
              "            overflow-y: scroll;\n",
              "        }\n",
              "\n",
              "        div.ipyplot-placeholder-div-DMszvDj3VdbtjzGuDs6nwA {\n",
              "            width: 50px;\n",
              "            display: inline-block;\n",
              "            margin: 3px;\n",
              "            position: relative;\n",
              "        }\n",
              "\n",
              "        div.ipyplot-content-div-DMszvDj3VdbtjzGuDs6nwA {\n",
              "            width: 50px;\n",
              "            background: white;\n",
              "            display: inline-block;\n",
              "            vertical-align: top;\n",
              "            text-align: center;\n",
              "            position: relative;\n",
              "            border: 2px solid #ddd;\n",
              "            top: 0;\n",
              "            left: 0;\n",
              "        }\n",
              "\n",
              "        div.ipyplot-content-div-DMszvDj3VdbtjzGuDs6nwA span.ipyplot-img-close {\n",
              "            display: none;\n",
              "        }\n",
              "\n",
              "        div.ipyplot-content-div-DMszvDj3VdbtjzGuDs6nwA span {\n",
              "            width: 100%;\n",
              "            height: 100%;\n",
              "            position: absolute;\n",
              "            top: 0;\n",
              "            left: 0;\n",
              "        }\n",
              "\n",
              "        div.ipyplot-content-div-DMszvDj3VdbtjzGuDs6nwA img {\n",
              "            width: 50px;\n",
              "        }\n",
              "\n",
              "        div.ipyplot-content-div-DMszvDj3VdbtjzGuDs6nwA span.ipyplot-img-close:hover {\n",
              "            cursor: zoom-out;\n",
              "        }\n",
              "        div.ipyplot-content-div-DMszvDj3VdbtjzGuDs6nwA span.ipyplot-img-expand:hover {\n",
              "            cursor: zoom-in;\n",
              "        }\n",
              "\n",
              "        div[id^=ipyplot-content-div-DMszvDj3VdbtjzGuDs6nwA]:target {\n",
              "            transform: scale(2.5);\n",
              "            transform-origin: left top;\n",
              "            z-index: 5000;\n",
              "            top: 0;\n",
              "            left: 0;\n",
              "            position: absolute;\n",
              "        }\n",
              "\n",
              "        div[id^=ipyplot-content-div-DMszvDj3VdbtjzGuDs6nwA]:target span.ipyplot-img-close {\n",
              "            display: block;\n",
              "        }\n",
              "\n",
              "        div[id^=ipyplot-content-div-DMszvDj3VdbtjzGuDs6nwA]:target span.ipyplot-img-expand {\n",
              "            display: none;\n",
              "        }\n",
              "        </style>\n",
              "    <div id=\"ipyplot-imgs-container-div-DMszvDj3VdbtjzGuDs6nwA\">\n",
              "    <div class=\"ipyplot-placeholder-div-DMszvDj3VdbtjzGuDs6nwA\">\n",
              "        <div id=\"ipyplot-content-div-DMszvDj3VdbtjzGuDs6nwA-CXYfr3EnnokmuXgzmeH2fg\" class=\"ipyplot-content-div-DMszvDj3VdbtjzGuDs6nwA\">\n",
              "            <h4 style=\"font-size: 12px; word-wrap: break-word;\">0</h4>\n",
              "            <img src=\"data:image/png;base64,iVBORw0KGgoAAAANSUhEUgAAADIAAAAyCAAAAAA7VNdtAAACTklEQVR4nN2WS2sTURTH/2dmmmSSqGHyqA1GCNVFFRVFoRQkoJsW1I0bN7r2k7j0WwhSKKUuCop15ypY1IopplRjmj4M2MljMjHzuC5iwryTbEQ8q3vOnN/877nnzGWIYVLjJib+K0Swu0xrawSAhLBI4yFa6dl2lKCH8zcWQ+MgrLP1enVHIOjhc0eY6SXSCQ+OrK00vj5dkXsgMIrEJbD5uwvZUSrq7g8ADGCqWgdUk1uQXDr2Wsj+vLYWS1xzIYGHbLZaPfcMBveF45g5IcLUVndCBIel/Y5TR/DMHKpsNVJSznEADhVnsc3ykeKM2RHmOh9xineGbAjxojOB3MNpRyLZ08HFAY7yKbkU2aiY7d4EyKnCNPdB3asazPS/eRz7EM8/Oqhuvjtu19V+QDNc7XduPT43V5Oipd3jvhuSTojOFI9qZ66HlHL/3ZS5Opt2HqIHosvf92Wtvw6HDjZjHMxQLjl8Tq4yu5X15S9yv6l0JpeJMsIv6eFNfxVtZ32j1Bh4DbNGBqCnF/031tt7u/xZHXis2fwT7vgj1eevyipcZm2TFTE7ilxcK7oBgLeMmhVRVl+ozbIXYTMron9aAW+MRKyTzJnAaMKq8u3NR980VfdEik8qvghv2Y0FUQ51V+rsxWzMZEDsgiciiMpwFQYAdMXCncspnYFxcU9EH3SYm75XgAbAEPL5ZNA1nrq03QAx4s7O37/tWxUANrT6yweEKT6SefxeZgFmVbn1U9cjpnBy6UqQhu17YUqHEYii0bGRMe2f/bv4O8hvI3nxEiCjT8UAAAAASUVORK5CYII=\"/>\n",
              "            <a href=\"#!\">\n",
              "                <span class=\"ipyplot-img-close\"/>\n",
              "            </a>\n",
              "            <a href=\"#ipyplot-content-div-DMszvDj3VdbtjzGuDs6nwA-CXYfr3EnnokmuXgzmeH2fg\">\n",
              "                <span class=\"ipyplot-img-expand\"/>\n",
              "            </a>\n",
              "        </div>\n",
              "    </div>\n",
              "    \n",
              "    <div class=\"ipyplot-placeholder-div-DMszvDj3VdbtjzGuDs6nwA\">\n",
              "        <div id=\"ipyplot-content-div-DMszvDj3VdbtjzGuDs6nwA-iXQyYP5wfbrvgGKjKbsixD\" class=\"ipyplot-content-div-DMszvDj3VdbtjzGuDs6nwA\">\n",
              "            <h4 style=\"font-size: 12px; word-wrap: break-word;\">1</h4>\n",
              "            <img src=\"data:image/png;base64,iVBORw0KGgoAAAANSUhEUgAAADIAAAAyCAAAAAA7VNdtAAADCklEQVR4nM2Wy08TQRzHvzPbbkstpRWsQtMQ3sQSoxJfqNEgJnLAmzdPHvw3/B+8eZaDB+OFSITEmKCYKMUXBgSxQnkUKJW2KbtluzvjYVvaslMeF+PvNDO/+cz8XvvbIRxHFXpk4h8htr0Led/IEZC1TYUR5up0Hg7JZokyEUnqVPexVpvdfgjk0zuy82UhZRDujpxtbGs5EEnODr+m+kKcA4Cy2NTj8VnM3oN8fRyOE54z/V9aD2/UnvcfgKyHo8WJpmXCNdotlyByRUTdUspV0af2UKPAtN1U/nn2MlOuYtrKyrbAsALCFgdHs3uVW9/jlRF9dTqxY1HODk4LkLytemQqQxkgm3PGdAYgHl+tjORmviUYgGAADJSpyZgCADZR1eYRI76WBlzBmx1goCw+ryjAbo0KEUiEAS0DdzsBAPNjszEAMFhlRO7sa1Zpd2/IDQCodVEACHQ1VUYcl1q3NakhIAMAtJVlFQBCD7oqI7SuhjFSZZa7kXg/GgcAX6u3MkJkubhmJD9/NO92ywJEFEW7cOe+SHouaQ44E0VZhMw8mdjvFmtxJ6eGxtfMob5vKovy89GEKsrgPshWJP/deNvOeaVDIHpqtbDNf6en1hwX7CMiJPd7ZDRROO241wx2Zi5LAeaq87otCNei488nzRZA5fp6D8tqIPjxJm0DN/xn2q1INjr0aloxzXB1D/R70mNTkh2zb1UC8EbuCxALEpv4kPed2D00SuZHJqmMlV+mfRcUqy87qY1CY5L4wothnolugkDPn0IEETNyO4WMcC0WUzkrNh1XW1e714oQupsHQ1VLNaDN96/U+okFKZWyWgld9gZvNEkO6y0WMa2njt6HJ5zVhQouzwvLlSMOCTD0UF9/i7PYz8sQaq925ozCRLKdCjopdP3ivY6qkl1liOw7vbmcyHvh8p3svV0ngXOPv5QoR5wN12umllIGAbgzEGy5ek3kKimNDNe1VDiS1ClgHAu2trkdon852fvhxTYVRgDm8Pndgv0ipDiv9FqwIAfLf/tS+gtibR8cd9x9KgAAAABJRU5ErkJggg==\"/>\n",
              "            <a href=\"#!\">\n",
              "                <span class=\"ipyplot-img-close\"/>\n",
              "            </a>\n",
              "            <a href=\"#ipyplot-content-div-DMszvDj3VdbtjzGuDs6nwA-iXQyYP5wfbrvgGKjKbsixD\">\n",
              "                <span class=\"ipyplot-img-expand\"/>\n",
              "            </a>\n",
              "        </div>\n",
              "    </div>\n",
              "    \n",
              "    <div class=\"ipyplot-placeholder-div-DMszvDj3VdbtjzGuDs6nwA\">\n",
              "        <div id=\"ipyplot-content-div-DMszvDj3VdbtjzGuDs6nwA-fwnZtetMcaTsDTu9Vjn5Rt\" class=\"ipyplot-content-div-DMszvDj3VdbtjzGuDs6nwA\">\n",
              "            <h4 style=\"font-size: 12px; word-wrap: break-word;\">2</h4>\n",
              "            <img src=\"data:image/png;base64,iVBORw0KGgoAAAANSUhEUgAAADIAAAAyCAAAAAA7VNdtAAABkklEQVR4nO3VP0vDQBQA8LzkUvvHqtWCIFoX3cTiUEREEcFv4ffxE7i4u7g4iS5ddBLBpaBVqhWsttKl/2ty6Z3LJb00jzSZ7VtyuZcf7+VySYArYUMNLSYkdBDXmVmuA4gxSyzMT48n1dMrogtB148Os2PIx0O7ln8fnv8YEFtC6jiE9/InNdKXUp1bMnvgRyoX12/uFLeaHcunMV4+e/UkdQKeOWeRudk0kCwagpjFAgtKRGPd88s6kgWsMUHoSyloEbsxiKF36kfwFvxJiPAloEaQWYLMOcFpW9pBmg7jCWvdP9oa1JVc1EUY9iRbpWLHIWR700W4NUDI912va4+BJE1FJmQ1U/HWaXXljdcQF4gVi+7sJb1VLHM4Bl3cvV0lskV/q+zza8SgH2xB9LWkVu/fjBI0nEVO7/Ybz0HEkGjLSjMViMgbhgX718hkEJ4EjMCEU4OHrqKJo7yTOcWujO9n4ipTQN1MeIk2N2PFR/vpbRznUmSgKBARBKRVMgpPzPP+0HR2cco1A5P//j8mf3M4eRGEX6LDAAAAAElFTkSuQmCC\"/>\n",
              "            <a href=\"#!\">\n",
              "                <span class=\"ipyplot-img-close\"/>\n",
              "            </a>\n",
              "            <a href=\"#ipyplot-content-div-DMszvDj3VdbtjzGuDs6nwA-fwnZtetMcaTsDTu9Vjn5Rt\">\n",
              "                <span class=\"ipyplot-img-expand\"/>\n",
              "            </a>\n",
              "        </div>\n",
              "    </div>\n",
              "    \n",
              "    <div class=\"ipyplot-placeholder-div-DMszvDj3VdbtjzGuDs6nwA\">\n",
              "        <div id=\"ipyplot-content-div-DMszvDj3VdbtjzGuDs6nwA-bZ5RTkemAaNbB4Le2mUfNQ\" class=\"ipyplot-content-div-DMszvDj3VdbtjzGuDs6nwA\">\n",
              "            <h4 style=\"font-size: 12px; word-wrap: break-word;\">3</h4>\n",
              "            <img src=\"data:image/png;base64,iVBORw0KGgoAAAANSUhEUgAAADIAAAAyCAAAAAA7VNdtAAACJUlEQVR4nN2Wz0/UQBTH33S6LfsDEMTAuiES8IoaDRoSb3rggnrUePBP8M/wj/BslHhQ4kVD9GBijHLAxYO/YnYFNiEkNLil2/3RzvOw22mnDjuzF0N8l85L32fee9836ZQgDGrGwMR/hZiCF3hN0l0htWxbA8HdJ+8yFAAA2mPnr1zWQIj3/rnRRTpjFW+0VFAXRkJgvdnWP3jG9YsKpLru7v0C6CGhV6u5/QvDxusHu6afeGVZcjk5svX05U9pxNHI9sPvekQ8ShZoEjFCswMjkVJkAIR1H5algtI6knxBhXDFzOEsBQC72HaZJjI017LRYNbE/lZHEyndc0yE4KDiahc2sQQAgF8fNxR1pdtH5+MPRV2pw9+ulr84CkLMggdvX9VVRApxNz81uBeG8q6Ewlhzu6ZqPt0La4XRko7Ozp7UQEjsZkrz80UAwOg7T4gMMUcyfG1Nn7tUAIAXZcYMJO3S8rQEYfXKYZyQBr99BOfZWsAMJP6FBRlyuPpogzt+ef8NRdLc2GNIAEKHTziJtD6vxU5np7ZO0GBRZMBkCAkTDiIIehv8tIrfZIAj3SbfT5h+v2Nv8shkFuxzhq8tRYIJCD2Ra4WScCsbTN25nZMh+Ru5lU0Jcvbu1PBCPlFN0r7dBCBJA3NyZuZ+VQgSFUMKvSupZ52RW1dPnykKSUUkv8gyAuKfWl4cT9VJBPHj6zXahOZsYY+/EC07tn8X/wb5A2Nzzhm3GHA2AAAAAElFTkSuQmCC\"/>\n",
              "            <a href=\"#!\">\n",
              "                <span class=\"ipyplot-img-close\"/>\n",
              "            </a>\n",
              "            <a href=\"#ipyplot-content-div-DMszvDj3VdbtjzGuDs6nwA-bZ5RTkemAaNbB4Le2mUfNQ\">\n",
              "                <span class=\"ipyplot-img-expand\"/>\n",
              "            </a>\n",
              "        </div>\n",
              "    </div>\n",
              "    \n",
              "    <div class=\"ipyplot-placeholder-div-DMszvDj3VdbtjzGuDs6nwA\">\n",
              "        <div id=\"ipyplot-content-div-DMszvDj3VdbtjzGuDs6nwA-UQz7YPZj7weFSfxsX6KaDk\" class=\"ipyplot-content-div-DMszvDj3VdbtjzGuDs6nwA\">\n",
              "            <h4 style=\"font-size: 12px; word-wrap: break-word;\">4</h4>\n",
              "            <img src=\"data:image/png;base64,iVBORw0KGgoAAAANSUhEUgAAADIAAAAyCAAAAAA7VNdtAAACoklEQVR4nOWW208TQRSHz+yF0m7v25ZrpYCVJiRECRFBjWiMJPLAg3+fzz4alXiJRBPQRJFYBE0f0CqIWiiUYtm2272MD3Z3Z7tDN7yZOE9zzuzXc35nzpkUYTjtYk5N/LsIZzexapYDI5ZB7ojyvagZDPbFo4Irou/ceymZYQbnpoZdEL2+9ebZsmV/602e4SipEfJr+Ud3P5Ixt7dLOiUKgZQ33n44JI5qudye3B4prX+RyCMpl9utURBCi1KRbA2HsazROpCIwgf8LWJ56sUQUeKTv/b2G5RvTo7iiUW89l/F1Mkg5a/lCortkK6FSKz6c9dWMW/srNjRHsGa/eLis7dG/O0Tw5oKAMj0ePt7g7TZIKJwfjGMOaRUmsEQy7o1f/fs6D6H8+9fGVeOqASJiFMAcLy4a7roNW6dyu3lB6tGEFWl9XELIpeeLyyVmgYjCLQStyBbiw9Xjwwj0J8MuyFyYelx9uDvHnHi2JVzITek8GRh+bi5R0LmztUhl8TqP14vZH8bFuZjYykPlbCQ6saLpYrpZsX+Pi+dsBBdlqymRN3z812GoegIIwaZ42ZpQSxr3gOfmLwIGGEVdLlckBnMiNEw70CIhQKhaoEPdtZ2oFFce3oEwM3MTITbIQCVd1I0lfq8oijF9UUAgEjGnD4qgsufvobS4+dX7lexWgcAAA/rlG9bWq12cHSY38wbDp/fx7ZHAABK5axZDrarK2p+aXW6pqr27DStuQsme9LTQ50OBPEdHQ3q4yhkLqeHLiScWrwDmfRWhYIEb16/FA5EwIl4kiPD+w7EJzCjc9cGbT4TYcVk3FmLiRlfajph9xFaesfrm606bt8QIj0tTmQploqHVWx7VHSmL8Gx7MkI1jC2IxjxlHcJ/d9/e/4A2SrovYxtrjoAAAAASUVORK5CYII=\"/>\n",
              "            <a href=\"#!\">\n",
              "                <span class=\"ipyplot-img-close\"/>\n",
              "            </a>\n",
              "            <a href=\"#ipyplot-content-div-DMszvDj3VdbtjzGuDs6nwA-UQz7YPZj7weFSfxsX6KaDk\">\n",
              "                <span class=\"ipyplot-img-expand\"/>\n",
              "            </a>\n",
              "        </div>\n",
              "    </div>\n",
              "    \n",
              "    <div class=\"ipyplot-placeholder-div-DMszvDj3VdbtjzGuDs6nwA\">\n",
              "        <div id=\"ipyplot-content-div-DMszvDj3VdbtjzGuDs6nwA-gZRHtfKvMMqdajLMzKsKBY\" class=\"ipyplot-content-div-DMszvDj3VdbtjzGuDs6nwA\">\n",
              "            <h4 style=\"font-size: 12px; word-wrap: break-word;\">5</h4>\n",
              "            <img src=\"data:image/png;base64,iVBORw0KGgoAAAANSUhEUgAAADIAAAAyCAAAAAA7VNdtAAAC1ElEQVR4nM3Wy08TQRwH8O/so+2W0i4glPJSIoEEpTw0BgkmvkKiJurN/85o4kETD3jRRFHiSYMcBAkRYilQalsqjz62dLvdHQ9dYV994Ik5zWTmM4/f7vx2CcVpC3NqcXYJZ27S8kk4KHjHCU2EKjtp9dhQtASb3XWIEns5LxmiHp6Z7KlDEl8+fDa242WWF23rmMjy7LqpMzVbLE731iTZRN7UqRx85YdsxBQTXuAt3Vuf4lZhDbJegiFOSudKFFr6Y+Cqtz5hmsYnXMlvGwoFtDlhqAHSe/3eBBPL/skCKG9GSg1srO/+7W6ce+8hAKh0qFo34UBCk52A8m8kQxogQhtLoVL9NbAKx40dpRjGT2xDHQmtzLz2TOx47GV1o9UkpDL18g9+dGwAFAAYt5+tRVhOX0zOJTz7BQrA9+SRWIuI/ds5qmmA1x0/iucpAOHhg5obCweE+eJeGtCUSCwqUQAl21HMpL09LRQ2FmTW64qWdhUArjZ74CxBngprSy1ZfyETT8sASPe19nokEICQX9nO7KUOFAAYvtNVjwAQbyZfxTRNowDI+ExnA4QTtaSs12lLyPpUnEhhO1Go1AhI5reHUoB3e9jqRPv+dKES2K7J5PLbCAsK9I1M9ToTTUNxa+6FDACEbb1IVhcXAQAD+aEqJH/IRp/PVw7i6lLf5CS9gzVeGhNJLuXW3+kphZDsSXJxcdXIr9cru4d6Xd6p9n0zEPlgbXX1uEWNWaKsGrzhImeW1jLW1AcwDCz337BK9mdk35pNWkNeUiqTwR7BkUixhGQYTRgG5PJ4gCmWmO6hZkeiFmWDQOv5fo5MX/ExqkoEv+hIhGDbZpk0uTlCAQiD4TGejA7aDmckoVuprSQ3danDrQKaJ9R3gSVNdmEk/uEbhajv7kiF8D5RcBgPgBgCru6lJC4YcDMAKGFsmdWBAKpGnD841UlD5cz+w/wH+Qt6RAQrgBUi6AAAAABJRU5ErkJggg==\"/>\n",
              "            <a href=\"#!\">\n",
              "                <span class=\"ipyplot-img-close\"/>\n",
              "            </a>\n",
              "            <a href=\"#ipyplot-content-div-DMszvDj3VdbtjzGuDs6nwA-gZRHtfKvMMqdajLMzKsKBY\">\n",
              "                <span class=\"ipyplot-img-expand\"/>\n",
              "            </a>\n",
              "        </div>\n",
              "    </div>\n",
              "    \n",
              "    <div class=\"ipyplot-placeholder-div-DMszvDj3VdbtjzGuDs6nwA\">\n",
              "        <div id=\"ipyplot-content-div-DMszvDj3VdbtjzGuDs6nwA-4Q8hZAKchanLjagJDQxkUE\" class=\"ipyplot-content-div-DMszvDj3VdbtjzGuDs6nwA\">\n",
              "            <h4 style=\"font-size: 12px; word-wrap: break-word;\">6</h4>\n",
              "            <img src=\"data:image/png;base64,iVBORw0KGgoAAAANSUhEUgAAADIAAAAyCAAAAAA7VNdtAAACWUlEQVR4nN3WTWsTQRgH8P/sq8kmMVuMFbVNAq2vCEXxIIr1VhA92YPQb+DN7+DnaEFEbyKFotiroBVtqyFFxYIYsG0SkuaVbHZ3xsNuk4nOxs1FxOc0M8kvM88zO7MhDKOGNLL4r4jy64BrtV0CAEw5pKlhCKuuPStFAFBn8srlbAjCiq+fP62oAKibLjnRpC4wbCAaq3OmDEIIAdTDd558Z78HP4uVz9U+v6sC3hNh1wrFzvCFWYVHi7bS4j7UVDKc5B6/rInSHUK2FkMJfiupE0rwRIn0GsIcBKQXiewR2TPkD+n3Ijoe14vtkWbRE1MXEqMsTIqdnCY71ihEMScylffVUITa3ojc+Fb2LxEmuky49JVIgwIg2G0Wg+cYIOaZdh2AJJe2g8s1SE7csD+2KChplv0RRkQF5cj0QlJdr8Ohvf1jkjacRKZmbW1bt1v+IVGNeCu/QxhNpeUAApw1zS3j60rD6xmnUntf9onrXFs4Gkj09PXExq7lVzaWdt7u1Ql1W/JYfCYtJmCpZH7z4AxoRmGtDQCdH9L4/SBivVjerFO/U9moesWuddk+f/q4q4PWXs1zJSJqv8TmQ/EN464sfehyP2ZzXJx+eX15FQFBuYeNI28efAoS6NJ+m58lF/hoZS9lhESJBpKr9871O+HeL/Esd7BF1wUAKGpEPki5rYxpXMk4wrgUkbo4d6zrG0c6H4OQEBkEAIOkJ46fnr2bDFpAvykpUABQFsvM3zRi8QDBk8lbZd0jE7dngr4PgPS3tdN0/WtVMUSnUUDCxj/77+LvkJ9znvOAhpPFYAAAAABJRU5ErkJggg==\"/>\n",
              "            <a href=\"#!\">\n",
              "                <span class=\"ipyplot-img-close\"/>\n",
              "            </a>\n",
              "            <a href=\"#ipyplot-content-div-DMszvDj3VdbtjzGuDs6nwA-4Q8hZAKchanLjagJDQxkUE\">\n",
              "                <span class=\"ipyplot-img-expand\"/>\n",
              "            </a>\n",
              "        </div>\n",
              "    </div>\n",
              "    \n",
              "    <div class=\"ipyplot-placeholder-div-DMszvDj3VdbtjzGuDs6nwA\">\n",
              "        <div id=\"ipyplot-content-div-DMszvDj3VdbtjzGuDs6nwA-F4uV4wNmHnExPj3UuMq4SR\" class=\"ipyplot-content-div-DMszvDj3VdbtjzGuDs6nwA\">\n",
              "            <h4 style=\"font-size: 12px; word-wrap: break-word;\">7</h4>\n",
              "            <img src=\"data:image/png;base64,iVBORw0KGgoAAAANSUhEUgAAADIAAAAyCAAAAAA7VNdtAAACKElEQVR4nO2VPW/TQBjH/3e249YOgSZEiaq2tFKBUiReqhaQQCCBWIChE0wsTHwRPghzi8SAGJCKxIB4EwNSxVQhRIBU4FZK5DSu7btjwMbn+JI4C2Lgv9h+nvs9L77nbCIwqujIxH9kZOnJ7e6WHwcQ1C7XdSWQQt4+aI5Ft769cOXOxDBk593aK5bYt/360lSfqsVvBc8uFIhkprXbD3eEUlEW98njTV+OxJ3XxFo+IkfpKazzaL3Hwb4EhihNKJi4F5Z1OS8KxaVa1h51SEwjEy9obG61FYUN3EpNU/UyGKEjI2plECpZOFcd895BIhrEn3VUWVhm9nhCW4eKRg5EJBtkTs7WxxXIgPbL5y6eLg3Iouh0fGa2qgoVZRFhdmICz8/YpCz69ELYcuRE1JqcquLn95ATAGAH5gtpxFyx+IfnclSjdmJxGm+ethkFAG/+/lwPsjwnDn5qdBNEMOf9rrbxssMIAASNw5fPmDJiHAc6G46E8PbHpul/+xFGzy3PPZZCAMBr7kmFMXffAfNiAt3PX0P0Iq1tT0KEn35fZM+N3o68laqBkryxmyps+ZG8yo2IYF/RyxBp0bXftzqj4s1VeyiiFczYK0j35L2r8TwmSwRPI/b5lUU9iB7Cytl4qYQQDQQQRCtXKQcPjl6/dkqVXUKoDh3gRmn17pgPcLtSURYsITO3HBPgeunGpf4NAiDJsfJcRgAQYll5kbz6Z//7fwf5BTi/u7jO6JtIAAAAAElFTkSuQmCC\"/>\n",
              "            <a href=\"#!\">\n",
              "                <span class=\"ipyplot-img-close\"/>\n",
              "            </a>\n",
              "            <a href=\"#ipyplot-content-div-DMszvDj3VdbtjzGuDs6nwA-F4uV4wNmHnExPj3UuMq4SR\">\n",
              "                <span class=\"ipyplot-img-expand\"/>\n",
              "            </a>\n",
              "        </div>\n",
              "    </div>\n",
              "    \n",
              "    <div class=\"ipyplot-placeholder-div-DMszvDj3VdbtjzGuDs6nwA\">\n",
              "        <div id=\"ipyplot-content-div-DMszvDj3VdbtjzGuDs6nwA-DQAsZnLNAeuwmMXGvKmd93\" class=\"ipyplot-content-div-DMszvDj3VdbtjzGuDs6nwA\">\n",
              "            <h4 style=\"font-size: 12px; word-wrap: break-word;\">8</h4>\n",
              "            <img src=\"data:image/png;base64,iVBORw0KGgoAAAANSUhEUgAAADIAAAAyCAAAAAA7VNdtAAACr0lEQVR4nO2W20sUURzHv2dmzq7urtteMaOipEKIygyqByGworAHfejBh+zBv6LXoP6C/oCgJ02DAgkKukCUkWhE4qVVNy+l687e1L3PzOlhZnZH51L73u/pzPn9Pr/bOb/DEIZGhWuY+I80LEJ9mV6s1B0orkA4/Ffky8ONptpHOXr52nXqjKQmRydkg2JpB6GTlnF0RJq+P63s0cyhhTghu+PPZyp7FEzOZQqMWCBawflnI7v7VWw7lbG6tHpislmV/uDydrXaRiFuWs9BWxWWvy1uO0QxbhGFqZ3geata9iOEP9rJVldEVSnw/4Dwoav3SuNjoubAoWOQZbU5ob6+9mOHg6qn/GayqNgiHKc6jA72IusOB3gASM8uZSQ7hG+NqlEkD4H/XPfFIACIUzO/ynYI7eiMUEopdZcB34muswcAYDcWT1ZNiFa+52aErlJGqqd8AECpwxxpiHC8RVynjFQPBQFWSmyp+XC8BVprcvB2hQCMBoDi0tTXrL5vvmU1hI/qq+LC+4l4QbXnqEf6scMrrna/GalJaeXd6EJOOw5CXJtPYk3l8NAle6S6+PLNXE5du72pT4nfb9eo5PdlL0RskMr6x6ezRe3DHVhLctnlErA1vNFmh6wNv47pBEqpDJRKCYCciNduqBFh+Xx28sWkIWR9tmXx5xEfZ0Lk8bFSLra/OE0Sj+J3ta6xmiRfDRBYDQgAgGu+s6XaGaJ8fjDPrN4AzbU+HsbExO8FO3sArFLQEMMdEjwOBAD9ud3TMSfAd6vfa0aMgy7QZl53IQiSVDw91COYEMlYSrTrxsGKnjynKFL4vG5qQCJn5nMgjPChqNTccWUgYJMiqRcgTj8eYVSh/v5Bt+QNtdkdkTFKT1qSmhTB39ttY2yKApYvMAJCPM7dJv//YRqUP3xtANPDeJ8mAAAAAElFTkSuQmCC\"/>\n",
              "            <a href=\"#!\">\n",
              "                <span class=\"ipyplot-img-close\"/>\n",
              "            </a>\n",
              "            <a href=\"#ipyplot-content-div-DMszvDj3VdbtjzGuDs6nwA-DQAsZnLNAeuwmMXGvKmd93\">\n",
              "                <span class=\"ipyplot-img-expand\"/>\n",
              "            </a>\n",
              "        </div>\n",
              "    </div>\n",
              "    \n",
              "    <div class=\"ipyplot-placeholder-div-DMszvDj3VdbtjzGuDs6nwA\">\n",
              "        <div id=\"ipyplot-content-div-DMszvDj3VdbtjzGuDs6nwA-AApF8HF6nDicmHWyCEd8MA\" class=\"ipyplot-content-div-DMszvDj3VdbtjzGuDs6nwA\">\n",
              "            <h4 style=\"font-size: 12px; word-wrap: break-word;\">9</h4>\n",
              "            <img src=\"data:image/png;base64,iVBORw0KGgoAAAANSUhEUgAAADIAAAAyCAAAAAA7VNdtAAACqklEQVR4nN2W30/TUBTH7227dT+obHODwUCkLJJhXCLKg75ATDBqjJFEQzDhn/C/8dmYaHwz4I9EMdGoMSAJe5Aoc2G4yhY2NgE72q23Ptw2u+1uKXvxwft0zmk/93zvvefcFuqg08F0TPwjhKNG8QJhJ8iWBBgtNNDFHg9BsrL3OQNYrS+d7KclakdqC5K88g1AFB6bueU5DrKzsphXc78BAJvFYDgdpTC6dRw+nI37fXgfudj0c719WLLUy9mvS1+KptvcWS65CdvLPHiNNCKgNN0QTS7WLU81WgVaT5/lbU9pm2xBdGQT0kBuCOvxWXxG8LohfHePn/SFVISCWJbv67tQKyhMrWysun/qlCty+rqYk/lPL4wlpW4n3RDIj5wcVj3VV1jW0ESyyw0BIODlVF3AdnR6IkAh7EhTevt9bw0XgKc3StswG6Lvrj19v49FctH4CWqbWxGUXdnABPCNXbncSyPswnalqmEFz46L1D6215jPb84hDMUdbkVLlmZlPasAAADwipcuJhxuGEtXlhav8Tht6P67apPSkfauVD8+yShGvtFzIYccpDC98uaxYcLYoCNBIpXMlmnenEs7EiSy/UHCBh+fmXMmSGRz4Qc2xucnjyBIpLZxgI3E1LARUkpVCAGC0R6OirC8gaCGGZIeLbEecMjemQ1BGgLxkUD489mqHyDAgHrh5TLDggZzXqULM0luPQfxnLom4/5U0ZGIrh0c2GMqWW40hPS4Lq8ucxHyNcJGpGBziPOjusKkBKJECcTbraBGSwHDcTo7NHlPtM9CIJF04U++lSnQE0f+u9OJtsQEMnBju5yRzM3yJUQR8ldH2rXClpJGff/Xap7Bp6MFB5NnWBigfCyhpVvlrYrxfUB8OCa0v96OANJz6mP4H/0p/QU0jhS/XxXu0gAAAABJRU5ErkJggg==\"/>\n",
              "            <a href=\"#!\">\n",
              "                <span class=\"ipyplot-img-close\"/>\n",
              "            </a>\n",
              "            <a href=\"#ipyplot-content-div-DMszvDj3VdbtjzGuDs6nwA-AApF8HF6nDicmHWyCEd8MA\">\n",
              "                <span class=\"ipyplot-img-expand\"/>\n",
              "            </a>\n",
              "        </div>\n",
              "    </div>\n",
              "    </div></div></div>\n",
              "        </textarea>\n",
              "    </div>\n",
              "    "
            ],
            "text/plain": [
              "<IPython.core.display.HTML object>"
            ]
          },
          "metadata": {}
        },
        {
          "output_type": "display_data",
          "data": {
            "text/html": [
              "<div>\n",
              "        <style>\n",
              "            input.ipyplot-tab-HmdyCtev4WgLoppT8itidx {\n",
              "                display: none;\n",
              "            }\n",
              "            input.ipyplot-tab-HmdyCtev4WgLoppT8itidx + label.ipyplot-tab-label-HmdyCtev4WgLoppT8itidx {\n",
              "                border: 1px solid #999;\n",
              "                background: #EEE;\n",
              "                padding: 4px 12px;\n",
              "                border-radius: 4px 4px 0 0;\n",
              "                position: relative;\n",
              "                top: 1px;\n",
              "            }\n",
              "            input.ipyplot-tab-HmdyCtev4WgLoppT8itidx:checked + label.ipyplot-tab-label-HmdyCtev4WgLoppT8itidx {\n",
              "                background: #FFF;\n",
              "                border-bottom: 1px solid transparent;\n",
              "            }\n",
              "            input.ipyplot-tab-HmdyCtev4WgLoppT8itidx ~ .tab {\n",
              "                border-top: 1px solid #999;\n",
              "                padding: 12px;\n",
              "            }\n",
              "\n",
              "            input.ipyplot-tab-HmdyCtev4WgLoppT8itidx ~ .tab {\n",
              "                display: none\n",
              "            }\n",
              "    #tab7BnDefwNgb9TqLWMzo2GJq:checked ~ .tab.content7BnDefwNgb9TqLWMzo2GJq,#tabd4PeXxgbNFCHw8es8JA6eq:checked ~ .tab.contentd4PeXxgbNFCHw8es8JA6eq,#tabUB2asRiaNSmimEhYTypCiX:checked ~ .tab.contentUB2asRiaNSmimEhYTypCiX{ display: block; }</style><input class=\"ipyplot-tab-HmdyCtev4WgLoppT8itidx\" type=\"radio\" name=\"tabs-HmdyCtev4WgLoppT8itidx\" id=\"tab7BnDefwNgb9TqLWMzo2GJq\" checked /><label class=\"ipyplot-tab-label-HmdyCtev4WgLoppT8itidx\" for=\"tab7BnDefwNgb9TqLWMzo2GJq\">0</label><input class=\"ipyplot-tab-HmdyCtev4WgLoppT8itidx\" type=\"radio\" name=\"tabs-HmdyCtev4WgLoppT8itidx\" id=\"tabd4PeXxgbNFCHw8es8JA6eq\"/><label class=\"ipyplot-tab-label-HmdyCtev4WgLoppT8itidx\" for=\"tabd4PeXxgbNFCHw8es8JA6eq\">1</label><input class=\"ipyplot-tab-HmdyCtev4WgLoppT8itidx\" type=\"radio\" name=\"tabs-HmdyCtev4WgLoppT8itidx\" id=\"tabUB2asRiaNSmimEhYTypCiX\"/><label class=\"ipyplot-tab-label-HmdyCtev4WgLoppT8itidx\" for=\"tabUB2asRiaNSmimEhYTypCiX\">2</label><div class=\"tab content7BnDefwNgb9TqLWMzo2GJq\">\n",
              "        <style>\n",
              "        #ipyplot-imgs-container-div-dAdZnkPU4JL6Uu572R3P6v {\n",
              "            width: 100%;\n",
              "            height: 100%;\n",
              "            margin: 0%;\n",
              "            overflow: auto;\n",
              "            position: relative;\n",
              "            overflow-y: scroll;\n",
              "        }\n",
              "\n",
              "        div.ipyplot-placeholder-div-dAdZnkPU4JL6Uu572R3P6v {\n",
              "            width: 50px;\n",
              "            display: inline-block;\n",
              "            margin: 3px;\n",
              "            position: relative;\n",
              "        }\n",
              "\n",
              "        div.ipyplot-content-div-dAdZnkPU4JL6Uu572R3P6v {\n",
              "            width: 50px;\n",
              "            background: white;\n",
              "            display: inline-block;\n",
              "            vertical-align: top;\n",
              "            text-align: center;\n",
              "            position: relative;\n",
              "            border: 2px solid #ddd;\n",
              "            top: 0;\n",
              "            left: 0;\n",
              "        }\n",
              "\n",
              "        div.ipyplot-content-div-dAdZnkPU4JL6Uu572R3P6v span.ipyplot-img-close {\n",
              "            display: none;\n",
              "        }\n",
              "\n",
              "        div.ipyplot-content-div-dAdZnkPU4JL6Uu572R3P6v span {\n",
              "            width: 100%;\n",
              "            height: 100%;\n",
              "            position: absolute;\n",
              "            top: 0;\n",
              "            left: 0;\n",
              "        }\n",
              "\n",
              "        div.ipyplot-content-div-dAdZnkPU4JL6Uu572R3P6v img {\n",
              "            width: 50px;\n",
              "        }\n",
              "\n",
              "        div.ipyplot-content-div-dAdZnkPU4JL6Uu572R3P6v span.ipyplot-img-close:hover {\n",
              "            cursor: zoom-out;\n",
              "        }\n",
              "        div.ipyplot-content-div-dAdZnkPU4JL6Uu572R3P6v span.ipyplot-img-expand:hover {\n",
              "            cursor: zoom-in;\n",
              "        }\n",
              "\n",
              "        div[id^=ipyplot-content-div-dAdZnkPU4JL6Uu572R3P6v]:target {\n",
              "            transform: scale(2.5);\n",
              "            transform-origin: left top;\n",
              "            z-index: 5000;\n",
              "            top: 0;\n",
              "            left: 0;\n",
              "            position: absolute;\n",
              "        }\n",
              "\n",
              "        div[id^=ipyplot-content-div-dAdZnkPU4JL6Uu572R3P6v]:target span.ipyplot-img-close {\n",
              "            display: block;\n",
              "        }\n",
              "\n",
              "        div[id^=ipyplot-content-div-dAdZnkPU4JL6Uu572R3P6v]:target span.ipyplot-img-expand {\n",
              "            display: none;\n",
              "        }\n",
              "        </style>\n",
              "    <div id=\"ipyplot-imgs-container-div-dAdZnkPU4JL6Uu572R3P6v\">\n",
              "    <div class=\"ipyplot-placeholder-div-dAdZnkPU4JL6Uu572R3P6v\">\n",
              "        <div id=\"ipyplot-content-div-dAdZnkPU4JL6Uu572R3P6v-W3aRjBN6Pi8252pcFTvDNS\" class=\"ipyplot-content-div-dAdZnkPU4JL6Uu572R3P6v\">\n",
              "            <h4 style=\"font-size: 12px; word-wrap: break-word;\">0</h4>\n",
              "            <img src=\"data:image/png;base64,iVBORw0KGgoAAAANSUhEUgAAADIAAAAyCAAAAAA7VNdtAAACoElEQVR4nN2WS08TURTHz7TT6UOYlmp5FSgmmvgAefgqCxIXRqOmiUtlbVz4PfwGLnTFxpWJCYnulERi1EYN1hZDCcRSoaWAQhlabO9M73VBmTmduQNhY4xnd+89vznn3P85vRUYHNYchyb+K0Tk7FFSIfqCuZpcwoHIzvRUcu+A7Zwa63fuj5CN/Pz06y86os0GlgKRDpfhIZil/PFqPEu3ylBPhoEn5JDu3Q/YRVGSs2uf3rNd37pVlgCyql1idOXxcyezBAbQNmW3vmi4ZPp7rVLeoRYCPj5JcaOwWmGxanUHAEhkBi7wELIyMZHmI6Ch0AhZfftyyoYAL7pkhHx9NGdHACA1UfkbyS1bgm0qNQ4iHbEPos5/K1sSq64v49t1iBIlNV2hatwXks2IEk8a7QuCp6Wd5ErEQLZvnDAjqy/iWJTQ+djGszk0A4bCOlL8sIAIKXx5LD+ztmX0jkev2mYqfR1hKdh3vEngnOmIgMRyHj0zHPlV8Moe3hd5U+mQh6/GWmfS3xXgReEhYvDStdMk8zmzXDFqUdl+iBTsHwQlP5uo1ng/vwZi5KAWFxLepdRiGbn1jgT2i1LNTZY6C8lVNJ7uaKzNguDxrcwpcjmn4VzPRWULgo0WfjoYwTvO7i5rLQ2F0gZ/AADUsrpWTDN7YdPQqSGvyvHUjfCitMYGXTxnAAAI3+xFK1a3avah3xa5+67IdNPLl3ra7KoJX7nd12ws0SX727MWyO0WKYk+OCujPaTg4uTTN2bk4uhJP4kMNaSMovTe2cwRul7Z7TYG7mbXseu3Brzmz+A+oflMMTW+IAoAALQWGR0Z6myRzURDwzi6umrdxbRvF9F6RqI9Fn+wvGJMLal775focXM7kPP+HGT/7L+Lv4P8ATau/1LZuEQ1AAAAAElFTkSuQmCC\"/>\n",
              "            <a href=\"#!\">\n",
              "                <span class=\"ipyplot-img-close\"/>\n",
              "            </a>\n",
              "            <a href=\"#ipyplot-content-div-dAdZnkPU4JL6Uu572R3P6v-W3aRjBN6Pi8252pcFTvDNS\">\n",
              "                <span class=\"ipyplot-img-expand\"/>\n",
              "            </a>\n",
              "        </div>\n",
              "    </div>\n",
              "    \n",
              "    <div class=\"ipyplot-placeholder-div-dAdZnkPU4JL6Uu572R3P6v\">\n",
              "        <div id=\"ipyplot-content-div-dAdZnkPU4JL6Uu572R3P6v-MBHfa9PnAHUvpwj77MCTZM\" class=\"ipyplot-content-div-dAdZnkPU4JL6Uu572R3P6v\">\n",
              "            <h4 style=\"font-size: 12px; word-wrap: break-word;\">1</h4>\n",
              "            <img src=\"data:image/png;base64,iVBORw0KGgoAAAANSUhEUgAAADIAAAAyCAAAAAA7VNdtAAADmUlEQVR4nN2WS28bVRTH//fOw+N3YxM7LQpJ6tDUoWpiSKq2ApWsikhVwQLxFfgIfAK+A1sW3XRRdQE0WVCaIhEegjxJahHiOHFM2jiKHWc8z3tZeMaemSZVu0GIu5mZc8/vnsc9594hHK866CsT/ytEPEXOGeOk/QZCBPISiHbYNKmDSEoq8iLkSAdAzVK5qrlIKPXWiEJPRdjSDuFEPl5YKrZcmdI/LQ1FT0aa+/regw3CiahtbtW68lpfrvcUpPRjbfO7rbY15pEf/7kwmj0J0UoPZ2u1shmMDuC7i4W+FAkinO98PzN35NcllNgcwOH6fLqQJAGktfHo3mqAEBMXY/MNAGb16wPj7ZTgR/TNX386DjhEpMJQfVVl4Oq6Np47E0CYoRnBGKx63w2eetwEAM20HamzQ1wt/VbuJmnwai4OgGvh/onRUHvJTi86Vqzd+bvbdkf46e3Zmd91gBhWOiO6mQiEr9f3dJcYmPpwUpS0ogrOIMuO4/WGKfoQQY646RKnPs+Jk4l9UqmlogKRYnsAYJa3hsL+8N3Q2PCt6fMiyMAnVxqt8JV4qDA9t2wDrXkl306Zi7T9JMmkdOOzEQAIX78OAIjm36+t2oC+HqnZXkQIKQSAMP7u5eGBYK6dXFmcex1rVSoWAJybvCkHAZsDAJHTMnWcBwBWfTDTBGDrarACIMoiAEj9+QT1WGH15aIByD2ZHhIgrOpKiQEIXX6nx4foT1UOJPKXzof9BNv/5f6iDSA8MeGUvxMLMzmAxOBwVvIjT+9/U9QBgEZjjq7zIAIARHuz8a620bSZuXxnzsmCYbBAJbdJ7z1QvLttsf0V50s13BL0IWp1JxclYDYnxGz88FWpO6VkEyE/whkAVB9lk5MhNPYsMVSdffi3x3xh6to5fyxUBAC1vJrLpLW1RVMK7c480VyARl6f+uBN98R0mkFoH1P08ImcbDz+loOazU6TCvHRa7fGFPgQ2vteY7kFoPLzlqL+4fEIoK/lC7l83nMqc84559rSFxkAoIIkSf4LJH3zy4ZuMt4ZTixSLGwAAIPt0VayEZkNf3Q17lvDQWyDxZqMe7eFUDo4lonaFz/2E52MxUdur5W2Lc9Mqn9obOxshCcDhLvf7Li6sbKwttudCF+4NJ7P9eD54ZaIbWjP/qocwK19ppx9YzCmCC9AAODgSO0iUuxM+AT9AGJz1kE4oTTYbScgLzn+s38X/w7yD3iYa2NI+S2OAAAAAElFTkSuQmCC\"/>\n",
              "            <a href=\"#!\">\n",
              "                <span class=\"ipyplot-img-close\"/>\n",
              "            </a>\n",
              "            <a href=\"#ipyplot-content-div-dAdZnkPU4JL6Uu572R3P6v-MBHfa9PnAHUvpwj77MCTZM\">\n",
              "                <span class=\"ipyplot-img-expand\"/>\n",
              "            </a>\n",
              "        </div>\n",
              "    </div>\n",
              "    \n",
              "    <div class=\"ipyplot-placeholder-div-dAdZnkPU4JL6Uu572R3P6v\">\n",
              "        <div id=\"ipyplot-content-div-dAdZnkPU4JL6Uu572R3P6v-ZmoxMuFumVz9CxQQFpESRg\" class=\"ipyplot-content-div-dAdZnkPU4JL6Uu572R3P6v\">\n",
              "            <h4 style=\"font-size: 12px; word-wrap: break-word;\">2</h4>\n",
              "            <img src=\"data:image/png;base64,iVBORw0KGgoAAAANSUhEUgAAADIAAAAyCAAAAAA7VNdtAAAC5UlEQVR4nM2Wy08TQRzHv9tun0tfFBBsUQOGpygmEFIlPIzEBGM8qHcPXv13PHkRE08mJmrQRMNDAWMj4YBALdSUWqVaqy3Yd3fXw9Ld6Xa2KRfj7zQ7M5/5PeY3v98yIo4quiMT/whhaZOH/jH1I6lgQQ/wTo+zHqRUKohYn8uxEPm2c+2NgJ41qxCmMsjftgP7hvWlgg4Qmvu9ToFt7BpR+VuhRTxYXVpPGnfDAIDIdzcnsO4ht9eqjWQ+PX2R4pmi9CXs/dABbIybPKuFiDn/85WvxFqxCABbs7C1WiqMkSW9edeqR5Uw7MRMSFC2iYSWrYdzGXmfnTNn4jwAiKWNR3qPSdlHRCPwYEM5mmtuc5fX4i+XfvBUX0pZwtxk3pBXtn1+N3qcpsXSongiZhKx34L8GVmMUg1z9bigIeF5IpKEYd7LBz81kGw0TdXSeWNQSwtMRPQJxOhUJ6Ai5DsgkP1gXBMhhUA273+oCyHc33m8Lw3MDQyfLsJoLWQFSgGivcqBm+boYhD9Y1+W93I1Eb2UR4yx+6prlzuB81cW/LRqUq3F5Gkzuhwns7A6XkUKdSFcb5fDAg4ARNksIt8odcw+0OumnF1LC3SMdHFCRk7t7ouna2nJRff+AADSgVh5buhOXy0kteL/xQNA5N6b8pzTy9ENk64ts70asLkh5j4+Scq7NNKSzx8OQs9CQOn9ChFhMgsILZw3LPkbf9tusydf+5VXySvDCsQzOb8FAMgGZ9ZG+NlAXkFAR7zjIQkR8sFEAttyiM3tp0x05JhvQT41sQzFE8+14QaGiuhbRsNrh1fBK6YYOiamewx0LTANZxMxqETXOj7tqyj9FQljc1ugFu/YrTM1moW5uXMnxTPFomJV04UpHwdtpKHvepPSkgCgdfT2YKUOFcK6hhwd5cYHQDD6pkYcalNVvVJprwBQMl8atFYlLkMpIVITB8Abu+3VyzQEyhztb4GK1Jb/9k/pLwfMEDZeJa0lAAAAAElFTkSuQmCC\"/>\n",
              "            <a href=\"#!\">\n",
              "                <span class=\"ipyplot-img-close\"/>\n",
              "            </a>\n",
              "            <a href=\"#ipyplot-content-div-dAdZnkPU4JL6Uu572R3P6v-ZmoxMuFumVz9CxQQFpESRg\">\n",
              "                <span class=\"ipyplot-img-expand\"/>\n",
              "            </a>\n",
              "        </div>\n",
              "    </div>\n",
              "    \n",
              "    <div class=\"ipyplot-placeholder-div-dAdZnkPU4JL6Uu572R3P6v\">\n",
              "        <div id=\"ipyplot-content-div-dAdZnkPU4JL6Uu572R3P6v-ETEA7uNfHonPU4tLQYX5dZ\" class=\"ipyplot-content-div-dAdZnkPU4JL6Uu572R3P6v\">\n",
              "            <h4 style=\"font-size: 12px; word-wrap: break-word;\">3</h4>\n",
              "            <img src=\"data:image/png;base64,iVBORw0KGgoAAAANSUhEUgAAADIAAAAyCAAAAAA7VNdtAAACUklEQVR4nN2Wz2sTQRTH3+yPZpOuae2PYFItSYtKrFQFxUMkWlqr2Js3oWj/Bf8N/wIP4kk8SMFTEH+iRQsSqWCwoIFSWy01taEJ2TWbzc54iOnObJ7J9iLi97LzZubDm3kz780SBnuVtGfiv0IUpI/WqjXOZJoud0LMpVcf3AHHTl/vb4vUihv5pWfvOYQWB1IJwrv1aPVO6mCsG4A0BRAavlXhZvBerNyyZG++XWQAANytMNcyfZNxzEs1f7NH7+8NIUFURh+gXnL3n5SggoQDoP7dRLe/fLeEzgcA0Lgwc6ug9T8SgjhECfIDsh4i3sktiKjg2GEZH8FOHwBU/ehM2V43qF9E7ho4MjG3bS58tnwievTUeOzYkKMyzAmGSAdSsxNAoFAo2f4QST8ze0ICAMbwUtKKkNDYZKNB8ChjQe5QpxCEOeiu23rpIAQhcqNTkf3vhQgfHwgzPz4vANB8drXsE6GV7L0cZdsLjz/h+YOcPt143VPq3cy823GjbdhtETBXXmwlitmvbk8g2t0eAbpiWMBlO5ycSaIIl8jGmh7g731i6hCOcIW4npeqHBIe3ucaXMTiV4Zc46fh7LYj58/28UntlrSdN9e8m2oo/XC9jhfY8PGr0stvCBKIR3gnHELC0zEzY4tXX9KIEwkKcRWMcPLG4HxRRKZPR5JR8Y6IT0X56aX98u5DAUQfv/3F+5wQcR30x+Kj+aL627K7pi5fHFVBlOf0pcFzKt1qVlpLu5Ae8RJAvInuWKbTzBRGgprSkjYtSGf9s38Xfwf5BfLWDvLqVkxNAAAAAElFTkSuQmCC\"/>\n",
              "            <a href=\"#!\">\n",
              "                <span class=\"ipyplot-img-close\"/>\n",
              "            </a>\n",
              "            <a href=\"#ipyplot-content-div-dAdZnkPU4JL6Uu572R3P6v-ETEA7uNfHonPU4tLQYX5dZ\">\n",
              "                <span class=\"ipyplot-img-expand\"/>\n",
              "            </a>\n",
              "        </div>\n",
              "    </div>\n",
              "    \n",
              "    <div class=\"ipyplot-placeholder-div-dAdZnkPU4JL6Uu572R3P6v\">\n",
              "        <div id=\"ipyplot-content-div-dAdZnkPU4JL6Uu572R3P6v-FS7mEcUjVCv9cNZhqXESv3\" class=\"ipyplot-content-div-dAdZnkPU4JL6Uu572R3P6v\">\n",
              "            <h4 style=\"font-size: 12px; word-wrap: break-word;\">4</h4>\n",
              "            <img src=\"data:image/png;base64,iVBORw0KGgoAAAANSUhEUgAAADIAAAAyCAAAAAA7VNdtAAACpElEQVR4nO2Wz2sTURDHZ982a37ULElJWqOmaVQQfwRbkSpaolCxCJUiHvQPEMT/w7uIRy8iXlRE/FHQxkIqpUVTa1uxxag1RA+NIUnzc7PZ7POQ5OUlOwZ7Fec0O+99Mt8382Y3AoWtGtky8U8hXUhMVxW17lLRuk38C6SwGF6uL5RcE8M9Qkekmo0Vu2KR0GJ9oeIk6nFXVyek+P7WirWS36Sg1QKbD2PWYVn4I0IzM5Nv0nW/njYdTVc6CMut3n3Rtg4gFvKOll38gzL96K0K7ZZ8XLjoFkUUodnX9w0AQHoy6/VZdtgxRE3nEQIAPt60Oa4GMWTj3QaOZMJgGUWRpdtRHAEAibtYHJJaUhquAAR0fvhMOCLZGEIkGykoVTwjQ8q/fugsavUGHYurca0zkp1fbvZEDlzb++B5IdEZ2Xg2X2YSnR7ZMkL0SBx7mTAkM/eFnaTbt4eC31yiSgrRhs2L6Dg55gJwjVnFBeQ8DBFMLGb3Hx4AAJN3RCskqgZtyOyTXUPumrf70qDNuMEozNx7NNhXc8vJvDEJgsgHTp2Wau7ak7m8btjQRBrDWs4QCwAAlD5NhdYNE4dlyX39phFBAPr9aehD0UhwFWuI1nPT0DNwToqEptYwAuuLuvDZM+juffVyBR85hrDK0KqiljYTluhPNAePNNtMq7lcXND48mo6gkBrbTShpSEqh7DmusePmPhNLcTO8z5+qW7l2A0Z1w4AV2YzlBkTJnl78SEE8JyZOLS9+cgVWe6LGSFiJtqJ6wftXIg7ZSx0L2xAhAvH3PsDLZK5LP2XU+vJIrtrQMEmk/7xs972X+EqQ9dn78wQ9sLWYHB0aJ/HKbUh/IUR/HLSaeKQQHCo2yAVWjtWzSv8B0syS8jUCv//w2zRfgO+R/j2SxKkYwAAAABJRU5ErkJggg==\"/>\n",
              "            <a href=\"#!\">\n",
              "                <span class=\"ipyplot-img-close\"/>\n",
              "            </a>\n",
              "            <a href=\"#ipyplot-content-div-dAdZnkPU4JL6Uu572R3P6v-FS7mEcUjVCv9cNZhqXESv3\">\n",
              "                <span class=\"ipyplot-img-expand\"/>\n",
              "            </a>\n",
              "        </div>\n",
              "    </div>\n",
              "    \n",
              "    <div class=\"ipyplot-placeholder-div-dAdZnkPU4JL6Uu572R3P6v\">\n",
              "        <div id=\"ipyplot-content-div-dAdZnkPU4JL6Uu572R3P6v-bXC4iGLerapwa8EBTh386k\" class=\"ipyplot-content-div-dAdZnkPU4JL6Uu572R3P6v\">\n",
              "            <h4 style=\"font-size: 12px; word-wrap: break-word;\">5</h4>\n",
              "            <img src=\"data:image/png;base64,iVBORw0KGgoAAAANSUhEUgAAADIAAAAyCAAAAAA7VNdtAAACbUlEQVR4nN2Wz2sTQRTH3+5mZ+O2VRNDSf0FVRAkprRiepFaDyr+unkV/wdv/i8eRK+il4JSW4QWoSi2YCgeRBBsTJb8MKS7bpL9NR5iJm92Zkt7EXEuO7v7PvO+897se6tQOOhQD0z8V0gq4Xm/74XKYErT49p+kPJGuU0AACD0rzw4tifSb1X6GrHX3m219QEStSdPmtM5ZqHEUhn8WHlSM5WoY7vBQBiFiUk69ehukhdvZ/n1xnCV4dW2wWomCYvs7Websq2ZyI5HqO80AhmC5fN58aya/JgqaM55ieovXjWkCCQJo/aHLTlBu35q6IkTpulETkBYq3rDOYc4TY8zVNThyt7maksmjO58anGIqgd/4tddtorHRcT5vrpSxTLT1GdZ/VXtSbzU3r5cxyE2Mq47uhvTJMi3pW1EqOaEiXc2eoUQ630HmaSyZhiBbKCIpXGKgZw40rClCPPidSwu4Apxd7GXiApIfelNDyOexefIF5Gf62VsQ7RWgIORPTcmIM7naohkmaldjJC5GzkBCbuIIHrU43QZl65mBETFJ5IYTp/biV6YZXOGoLqhqUHgcwS4SKSsjimaH/JPjDzSwBC0TBjFv+bZO+f39kKF73/62qnRzSjjStwOjcOnJ2Rekjvg0eJ8FhXypDKOR+FhCWeAIVFPYgwAYC7cKuVxt2CIMVXxRW2GHly4v5DntLAMNj8+fxoKyPzlM2cLeb5UMT53E75Ulbo9ihyFdG7x3syh+DLonLS/upXHayqTHcDc9dsXxwXPSGWmBK16RkfIzGJRJGJdLHR6OKMkTSQdO9749jH+2b+Lv4P8Braa1GMU90f5AAAAAElFTkSuQmCC\"/>\n",
              "            <a href=\"#!\">\n",
              "                <span class=\"ipyplot-img-close\"/>\n",
              "            </a>\n",
              "            <a href=\"#ipyplot-content-div-dAdZnkPU4JL6Uu572R3P6v-bXC4iGLerapwa8EBTh386k\">\n",
              "                <span class=\"ipyplot-img-expand\"/>\n",
              "            </a>\n",
              "        </div>\n",
              "    </div>\n",
              "    \n",
              "    <div class=\"ipyplot-placeholder-div-dAdZnkPU4JL6Uu572R3P6v\">\n",
              "        <div id=\"ipyplot-content-div-dAdZnkPU4JL6Uu572R3P6v-KxsG46Z6D4xRcApzwSbESU\" class=\"ipyplot-content-div-dAdZnkPU4JL6Uu572R3P6v\">\n",
              "            <h4 style=\"font-size: 12px; word-wrap: break-word;\">6</h4>\n",
              "            <img src=\"data:image/png;base64,iVBORw0KGgoAAAANSUhEUgAAADIAAAAyCAAAAAA7VNdtAAACjElEQVR4nO2WUU8TQRDHZ+/aUmiP5kqJRImWRDAYgzTBXDTRUEmQJyLisx/BD8DH8MFv4BPRqEQfkGjSxAcgQYvEaIyKlcLRIlBpe9febden7s72rhhejfN0/97+5mZmZ2dLGJzUlBMT/xQSaNGM1ixKhFS7OtS/INRcfVHs4tLqvW30kOMRVv68UAhy6cQV51pCORYBAi64Qpbmf0QN7TikvvVmuQqoI+jB6nzlhi5Hgo3uPTUCLaGT0MzbEl4kh8mcctFt6TpWX3m4+LttYHVzx6dN848apy/G+MclpFF4/LLoRQAytXvpSHN/JIQdraz5EZB/ltBSzRpIuajBkC8BQJ8/2Gw+S0h5r94GAfPdkR/CfmZ/tUMgwlNAuZRzS6+2hSQdnY5NeQHFbiFk5/WTjChxQIv3HOZtyhHmg3xf2ECboo8N6R8Oaz4hIsRcLvFnNXrh1nnLREdFeEPph0W4StyYnkm+zx5Q8BpH6kVT4OEz18f7StkvtvDd8OZSWFi0+fvYwPjw2lKugnw7XmQ/sy72Maj1R79u7IrklfhQxIOUP26LwBl17K38YYP/EEpNJjwItVCqQdjcXc+h7mGj47oHUXBHqtZKLWsKTWKXR8GDEHy29j8V6ltoaJy7OQheBM8IKFW+MVSMTmO63wdxcUUpxQ4GJieMuA+ipdxdXgB5APRNGH1I8h1P3p+JgL9pZ+NYcqR7bNgzOZthdkrnmyOq1t3u4iCu1J3CMwHbsxgAQL86Jc9xFEz4lO22rgeAxJ20jCBxZS7t9xUaicqXEkKSsyMARDZQ9UE9JA92XKWGQlhL1ZzY3amRaHskcGnWDcuI1TvtufhwNzaqVdby2u96Jf//w5zQ/gC4bvSg/Q0WEAAAAABJRU5ErkJggg==\"/>\n",
              "            <a href=\"#!\">\n",
              "                <span class=\"ipyplot-img-close\"/>\n",
              "            </a>\n",
              "            <a href=\"#ipyplot-content-div-dAdZnkPU4JL6Uu572R3P6v-KxsG46Z6D4xRcApzwSbESU\">\n",
              "                <span class=\"ipyplot-img-expand\"/>\n",
              "            </a>\n",
              "        </div>\n",
              "    </div>\n",
              "    \n",
              "    <div class=\"ipyplot-placeholder-div-dAdZnkPU4JL6Uu572R3P6v\">\n",
              "        <div id=\"ipyplot-content-div-dAdZnkPU4JL6Uu572R3P6v-R2soN3d36jHp5NHbJFTrk5\" class=\"ipyplot-content-div-dAdZnkPU4JL6Uu572R3P6v\">\n",
              "            <h4 style=\"font-size: 12px; word-wrap: break-word;\">7</h4>\n",
              "            <img src=\"data:image/png;base64,iVBORw0KGgoAAAANSUhEUgAAADIAAAAyCAAAAAA7VNdtAAACh0lEQVR4nO2VTWgTQRTH3+xud5NN0mCaBpNoiQqFakojtdKTqCiCB6EKSkHxJniSXjx68ShevCpCQTwpelEE7UEbLxY/YoiVtpgmfsRaTdtokt3sdsfDzu7OfsSSs51TZvL/zfzfezNvEYZOB9MxsYl0PDj7FK+WfrNOjYa2bae2diD1NzfyPufJEnPhYsAbkQv5tY/ZqoeXR5FDOygr5pDmJ8Jit8sWAAC369YfzdBRyMzEHi85AACgI9cWPZDJcFsCAPqnDR0VKrP+L0TVTJ0Zk6IINisIIYSsud9MlPmj9b1CnYJYBgMgrFrPyY2sTr1uGXpGjPZHMADSZhckYkitNvzIjny9/a5JAD6UyJzfDQCg3bxbbuj/S7OpnTyNaNW5Yp3A/PDhntRwCAAAjuF7Bf2YtalggidhY4wxbr64HCcEG7uirBt10ypnunQ7iB9f0tfIKdLzZzWCiIm4dYtQEJEM4JaEbeHLubdGbqKZuGZVq8n5ZA0AAHECSbn7vaTO7afK0TUw6HcICII4jmQwOjAapxAhmeS9EXMERvfamqHgvtmOJwZsMEAjy/O5zy2HxImoS8saNX11P7uoboDIpYp1O3/mHmfLykbGWuXiSsyY5O5Mf3K3eYLgJtkMq++vhwzZ3Mw3k8BK015KtjdS0z2j4iSnR4OgUbfeAxPuZW2IOMY++KHvJivI2FqjXPlOjYk2RBipPjEceL7nrUPHRwS7sUgCeSmNwZ44PRgxqmr0jYVL6fZE8uTDmtmJTEQuXRXbIuMvV8zOh8268H1Hfz0teMjFA33+g+lua4EqZaYHfVGdNx030mf3bemm+xWi8ijnP2DXxVWiQzGfbQVtfvf/Y+Qvv4cwNEjgOYMAAAAASUVORK5CYII=\"/>\n",
              "            <a href=\"#!\">\n",
              "                <span class=\"ipyplot-img-close\"/>\n",
              "            </a>\n",
              "            <a href=\"#ipyplot-content-div-dAdZnkPU4JL6Uu572R3P6v-R2soN3d36jHp5NHbJFTrk5\">\n",
              "                <span class=\"ipyplot-img-expand\"/>\n",
              "            </a>\n",
              "        </div>\n",
              "    </div>\n",
              "    \n",
              "    <div class=\"ipyplot-placeholder-div-dAdZnkPU4JL6Uu572R3P6v\">\n",
              "        <div id=\"ipyplot-content-div-dAdZnkPU4JL6Uu572R3P6v-agcyBve3YRnQeaVfDareKQ\" class=\"ipyplot-content-div-dAdZnkPU4JL6Uu572R3P6v\">\n",
              "            <h4 style=\"font-size: 12px; word-wrap: break-word;\">8</h4>\n",
              "            <img src=\"data:image/png;base64,iVBORw0KGgoAAAANSUhEUgAAADIAAAAyCAAAAAA7VNdtAAACkUlEQVR4nO3Vy28SQRwH8O/yLFCILbTSIKUxPlJSU01oehKNmpqYqNHE2IMnPZio/4F/gX+FFy8e2sRnfMWDYG2rsaVh4wMjIBXaghDaZZFl2fGwyz7YxaQ3EzunneH3YWZ+86IItltM2xY75B8lFoM2ppBeU/9Xiwofsv+FtPhG6t3jeViVprrl6o2gvSupl+lYLkNXta0vyPSkESEQuHJh9eXdum6odNo75LfpCcc012ffM3m9ANj7xZsH9GRjmcnP0AbxAJCsXTIgyTu/uEIXAVU6ZNKqpRabXQFgodpfcvprdKanaxQAyBW5l40n85zyu8luEVzeWpkSWOmkUxYdWX9AK9eA1e13NwdGyhmqmS1LbbyOWH/LwuntD0WHW85d9SqYRwulJgCwK4Mhq5oQnmmnxOwKjfn3n90j1rhWY64KAFtvvUMa0lh+symRvvDUlMO9W6rZzvemRBIbOOHSkA/xNvGfPB1RJcrjE0Ma2SyvmQuX+MhKMcGLe1UCrx+K86dM7ZxLRChXxI+e4JF9qvUpfn0W3xJnKwhEQyiblScA4D46Iaj6WJyJp1vQls7zIjA1hZQST+M/pBm4Do7bjUn986i00whB4l7se3u1PKeO9WgIqUuB3M+SmEosfMqvLOXl9XVFRm0aYh7o3+QBgK/kvvkAoPg8/qXEKfOwhXzauTgvWGY3xP6WbjsIQLHpQlW1T1GTKxKxT1ReiQSrayYBoARBnTn4D7s6iLk/II2USFtW+7qZz10e6SAw2xrtJoOnMDB5JtLZCyCY9ZFyid4Ku/WnMnCtwM4lDcKd0WHH8TGP0iCT4HWu0pvjHR2AsGNXIn0e1ZUMSjXyRpImuuE1feOD2nuE2nn3/2PyBwXZ8OGsvnrEAAAAAElFTkSuQmCC\"/>\n",
              "            <a href=\"#!\">\n",
              "                <span class=\"ipyplot-img-close\"/>\n",
              "            </a>\n",
              "            <a href=\"#ipyplot-content-div-dAdZnkPU4JL6Uu572R3P6v-agcyBve3YRnQeaVfDareKQ\">\n",
              "                <span class=\"ipyplot-img-expand\"/>\n",
              "            </a>\n",
              "        </div>\n",
              "    </div>\n",
              "    \n",
              "    <div class=\"ipyplot-placeholder-div-dAdZnkPU4JL6Uu572R3P6v\">\n",
              "        <div id=\"ipyplot-content-div-dAdZnkPU4JL6Uu572R3P6v-att2pSU4Xij7hYG7yFhYfs\" class=\"ipyplot-content-div-dAdZnkPU4JL6Uu572R3P6v\">\n",
              "            <h4 style=\"font-size: 12px; word-wrap: break-word;\">9</h4>\n",
              "            <img src=\"data:image/png;base64,iVBORw0KGgoAAAANSUhEUgAAADIAAAAyCAAAAAA7VNdtAAACRklEQVR4nO2WvW/TQBTA39nYzldJHUVpI1FRUhJVpi60YgCBCFLoEhbmTvwL/C+IsUNHUKUuLIgOjQRbpVZRg1CkUlURJJDw0TbOOfUHU87PztlVVsSb7t7d797HPb8zcWFSESYm/inkim9mn1OCpnJM5hzpR35v1iRxNLFguayr0Yj75cN2TUDIUR9WU5GIsfWyCw67Wxca3x35TiwCOd55ewIAqBxoa9feVy2LaLqCvWHyesEfGACAcjWTzSbTL5rU24d2GR1rDDFNAAB4B+t3mQ4lURzzmsnhRsObYCSUALAcb8wccy0a8R3EUQBsOGx/syPMIGFI7/3eEC8IEtg21y5DWhsHA6QX46pzSi8iEfq1j9TKfE7q/XE4AELEJNKS6fuFTn3ID85LMvY7tVCt5tyQDI7XCACQbOn2jNPnLYUgJDE31241u/xQuIgwpem9z81fIQjv2xfVexWncdIPiYWDiDltMUNOjRAjHITIxUd5cOTQKvWQUWsh8aVqur5/5CsfavMQhkozhe7O7ieKddxKJqNgXaMGnXpzgIMvPbzBQZi4xseDi4HpS1fp6TwH8XqRbQzcQLYyejbKCkAwu/HZW3mZhxAIk8LzCiL4ZekTSVur3MTbvHFYs8ivr5US2IXLEGXlweNi0qe6LJZY+ZkWaP7s9h0a3A0AAKaSkgMqZmVKP/tp+yy5kEwL168lgqewOjk/fvOqK+ElC1aerBZn1VjAZWYltUTbPxQ/slzmPGKeFQDzzA6cx39eyf9/mAnlL/pFweu+7+dyAAAAAElFTkSuQmCC\"/>\n",
              "            <a href=\"#!\">\n",
              "                <span class=\"ipyplot-img-close\"/>\n",
              "            </a>\n",
              "            <a href=\"#ipyplot-content-div-dAdZnkPU4JL6Uu572R3P6v-att2pSU4Xij7hYG7yFhYfs\">\n",
              "                <span class=\"ipyplot-img-expand\"/>\n",
              "            </a>\n",
              "        </div>\n",
              "    </div>\n",
              "    </div></div><div class=\"tab contentd4PeXxgbNFCHw8es8JA6eq\">\n",
              "        <style>\n",
              "        #ipyplot-imgs-container-div-nunPphdQm4NhdHSp3KW2KL {\n",
              "            width: 100%;\n",
              "            height: 100%;\n",
              "            margin: 0%;\n",
              "            overflow: auto;\n",
              "            position: relative;\n",
              "            overflow-y: scroll;\n",
              "        }\n",
              "\n",
              "        div.ipyplot-placeholder-div-nunPphdQm4NhdHSp3KW2KL {\n",
              "            width: 50px;\n",
              "            display: inline-block;\n",
              "            margin: 3px;\n",
              "            position: relative;\n",
              "        }\n",
              "\n",
              "        div.ipyplot-content-div-nunPphdQm4NhdHSp3KW2KL {\n",
              "            width: 50px;\n",
              "            background: white;\n",
              "            display: inline-block;\n",
              "            vertical-align: top;\n",
              "            text-align: center;\n",
              "            position: relative;\n",
              "            border: 2px solid #ddd;\n",
              "            top: 0;\n",
              "            left: 0;\n",
              "        }\n",
              "\n",
              "        div.ipyplot-content-div-nunPphdQm4NhdHSp3KW2KL span.ipyplot-img-close {\n",
              "            display: none;\n",
              "        }\n",
              "\n",
              "        div.ipyplot-content-div-nunPphdQm4NhdHSp3KW2KL span {\n",
              "            width: 100%;\n",
              "            height: 100%;\n",
              "            position: absolute;\n",
              "            top: 0;\n",
              "            left: 0;\n",
              "        }\n",
              "\n",
              "        div.ipyplot-content-div-nunPphdQm4NhdHSp3KW2KL img {\n",
              "            width: 50px;\n",
              "        }\n",
              "\n",
              "        div.ipyplot-content-div-nunPphdQm4NhdHSp3KW2KL span.ipyplot-img-close:hover {\n",
              "            cursor: zoom-out;\n",
              "        }\n",
              "        div.ipyplot-content-div-nunPphdQm4NhdHSp3KW2KL span.ipyplot-img-expand:hover {\n",
              "            cursor: zoom-in;\n",
              "        }\n",
              "\n",
              "        div[id^=ipyplot-content-div-nunPphdQm4NhdHSp3KW2KL]:target {\n",
              "            transform: scale(2.5);\n",
              "            transform-origin: left top;\n",
              "            z-index: 5000;\n",
              "            top: 0;\n",
              "            left: 0;\n",
              "            position: absolute;\n",
              "        }\n",
              "\n",
              "        div[id^=ipyplot-content-div-nunPphdQm4NhdHSp3KW2KL]:target span.ipyplot-img-close {\n",
              "            display: block;\n",
              "        }\n",
              "\n",
              "        div[id^=ipyplot-content-div-nunPphdQm4NhdHSp3KW2KL]:target span.ipyplot-img-expand {\n",
              "            display: none;\n",
              "        }\n",
              "        </style>\n",
              "    <div id=\"ipyplot-imgs-container-div-nunPphdQm4NhdHSp3KW2KL\">\n",
              "    <div class=\"ipyplot-placeholder-div-nunPphdQm4NhdHSp3KW2KL\">\n",
              "        <div id=\"ipyplot-content-div-nunPphdQm4NhdHSp3KW2KL-UMu3uHXH2d3iQqvq6TYWGh\" class=\"ipyplot-content-div-nunPphdQm4NhdHSp3KW2KL\">\n",
              "            <h4 style=\"font-size: 12px; word-wrap: break-word;\">0</h4>\n",
              "            <img src=\"data:image/png;base64,iVBORw0KGgoAAAANSUhEUgAAADIAAAAyCAAAAAA7VNdtAAABeElEQVR4nO2Vy0vDQBDGv93NNmmVgo+i9VIVKmixB0+C4p/swavX6sWDUEU9eBHbQsUWihg27TbrIYilO3mBoIhzGjb5ZSbfPJYZ5DWem/hTiGOdhFopwwAA0iuILIj/eNlSLgCNxlFzLQsy7l+dBhKAxmt1OxMCM9XQAAx0SBXaRsx0PEX0Kt0ZtmKMiS+XQuwopfrxy10viqLDTFHcjcbBauT6/UFgJ0eJfHHeidynM7dYX0iPEnTa18PIHbZvu0GGxMBnKu5Qz+2jGaE4JzQj2zJ5Uom6SNfLiTiLlapMQmyR3c0T1br345OzkcL6YSkcPascCFBu9gfvvViEUkws1WqlWCJm9rVO0JlGQnK2EpFE+0e+GWHEXkpBjLFrmoKoN7ujqU6eCXIjPbk8d2GkIA/dna3yHEInZsznZiWWPx2FMQEwAMaT1kdphAsHggOYELuPRlb21Z7kAPzK7vyvgJGzNAkCzQDAiKIrWBYk0X5FW/4c8gEXgWyvimqNxQAAAABJRU5ErkJggg==\"/>\n",
              "            <a href=\"#!\">\n",
              "                <span class=\"ipyplot-img-close\"/>\n",
              "            </a>\n",
              "            <a href=\"#ipyplot-content-div-nunPphdQm4NhdHSp3KW2KL-UMu3uHXH2d3iQqvq6TYWGh\">\n",
              "                <span class=\"ipyplot-img-expand\"/>\n",
              "            </a>\n",
              "        </div>\n",
              "    </div>\n",
              "    \n",
              "    <div class=\"ipyplot-placeholder-div-nunPphdQm4NhdHSp3KW2KL\">\n",
              "        <div id=\"ipyplot-content-div-nunPphdQm4NhdHSp3KW2KL-VC3yrNJbwTyfNf7ySUGkTh\" class=\"ipyplot-content-div-nunPphdQm4NhdHSp3KW2KL\">\n",
              "            <h4 style=\"font-size: 12px; word-wrap: break-word;\">1</h4>\n",
              "            <img src=\"data:image/png;base64,iVBORw0KGgoAAAANSUhEUgAAADIAAAAyCAAAAAA7VNdtAAABTklEQVR4nN2US0sDMRSFTx5jUtFKRVuoWKUg/QMWdKd/2KVLN4obBcG1COpCXIgKVuaRSdyos8g1JlChelZDwsc9uffcYQ6p4snEv0Kkd2JNnjsGOKlUFoe8XZ2e5Aq2Goy3R3FI+XB2UGSw9Wh+GGkMrjYwcKgtPWYKcTUcgOeL/kp/IQphjFsAeDzC4h6BBJrszMurIc6Dc8kkS0VoTR1hM2XMWZuKMB4u7d/yVrsjPgtSKfORbHkwJGLSyM+Y3th5Ki6TjIn25lYnVIV6qamCLaMQ+81uBZAfFESEVpHIVxhNXhAWiUVudH2osNZKMnZ/fH5XRBlrNJmUfr/DiKFCTSFNGDm1lrPwu/hNxFXlx5el1pJCdHd9KQMYg6A6RgWmu2/1yY3gqKSIRFRvV67eSo5Cj3tz3jUjt6kqc8MAx7SWnnUaCepPjXL6yDtbvGDrd4yJoAAAAABJRU5ErkJggg==\"/>\n",
              "            <a href=\"#!\">\n",
              "                <span class=\"ipyplot-img-close\"/>\n",
              "            </a>\n",
              "            <a href=\"#ipyplot-content-div-nunPphdQm4NhdHSp3KW2KL-VC3yrNJbwTyfNf7ySUGkTh\">\n",
              "                <span class=\"ipyplot-img-expand\"/>\n",
              "            </a>\n",
              "        </div>\n",
              "    </div>\n",
              "    \n",
              "    <div class=\"ipyplot-placeholder-div-nunPphdQm4NhdHSp3KW2KL\">\n",
              "        <div id=\"ipyplot-content-div-nunPphdQm4NhdHSp3KW2KL-JUsn9nG5bEckhV698NmWkB\" class=\"ipyplot-content-div-nunPphdQm4NhdHSp3KW2KL\">\n",
              "            <h4 style=\"font-size: 12px; word-wrap: break-word;\">2</h4>\n",
              "            <img src=\"data:image/png;base64,iVBORw0KGgoAAAANSUhEUgAAADIAAAAyCAAAAAA7VNdtAAABmUlEQVR4nN3WzUsCQRQA8Dez46xZbUFaEFpIH+SpLkHRf9CfGp0i6NCpQ5cgAg0vIRamhEoiqLu6H9NBs9p5uzsLEtE7DbP8due9eTMsERA3aGzxrwhD5ryRNQIQLMkTqqRbuikCdTaOD/NqxOkXr64fgLqbLSe1rKuQfunirC3AhcalRU9ySl/p1l8BAMDu1poWsjC5YkTjn5M8QZRIZMyGCBHe3QghBMsglFCqfWklwtcKB0sTQbFU5X1JFQg9vwtZovwayldWU+Nh761legoEwDKd8eC9XOk4SmRa5Pb9Y32oRKbRe6q27HgEj3BCNWzfZvMV4blxCcRuS1jIbq0jZz6MGLv7e/PxSDK7k49JNCOT5pMx0ph4kactw3S51XHieRPTKNZMf/2wC/YbvW0wPcd/Tkbsfq/SHPhPTFTD6Iz6CxCQiy2frAiiG4YWeDPh6W+fmrxsAQB4cr/hJG1UX54tAiCkTAKLLAhhwABsJq88gNDs0WKHAwwyBUPzPSP42RDDoe0SAKHN6f5CBJCw+LN/F79DPgDZWHJhox0aWwAAAABJRU5ErkJggg==\"/>\n",
              "            <a href=\"#!\">\n",
              "                <span class=\"ipyplot-img-close\"/>\n",
              "            </a>\n",
              "            <a href=\"#ipyplot-content-div-nunPphdQm4NhdHSp3KW2KL-JUsn9nG5bEckhV698NmWkB\">\n",
              "                <span class=\"ipyplot-img-expand\"/>\n",
              "            </a>\n",
              "        </div>\n",
              "    </div>\n",
              "    \n",
              "    <div class=\"ipyplot-placeholder-div-nunPphdQm4NhdHSp3KW2KL\">\n",
              "        <div id=\"ipyplot-content-div-nunPphdQm4NhdHSp3KW2KL-XGHBJkpTKCjrSPkRzDHKDi\" class=\"ipyplot-content-div-nunPphdQm4NhdHSp3KW2KL\">\n",
              "            <h4 style=\"font-size: 12px; word-wrap: break-word;\">3</h4>\n",
              "            <img src=\"data:image/png;base64,iVBORw0KGgoAAAANSUhEUgAAADIAAAAyCAAAAAA7VNdtAAAA/klEQVR4nOXVsWoCQRAG4H+WO08OC9HggaJiukCws5AIYpuHTaVvIDa+gp0gmICQJlnvdnesEguHc68I5HTKhY/9Z2+YI0bRUoXFTZHg4sQZrZkADqqV0I98bVZLHcGZ3ng08CPpfv12DOFs/8PE9ciHgK2BAWM31+ql60fYggFkn9t3LQQTXozo57ASkh+5ViUldN/ts7RM/kOwOyelH0t2rihx5qz9xjLqPA8bebdcbsv46fu4OBQKRlEzifNukV5MBdIXzCW/XaeZ1L6w+QEQAIRxt1X1JKQCgrLtyeus7klqj9MHKNMbjxIxgpDWpjrL+b1K5EqVafj/gJwAyopFbDVlddMAAAAASUVORK5CYII=\"/>\n",
              "            <a href=\"#!\">\n",
              "                <span class=\"ipyplot-img-close\"/>\n",
              "            </a>\n",
              "            <a href=\"#ipyplot-content-div-nunPphdQm4NhdHSp3KW2KL-XGHBJkpTKCjrSPkRzDHKDi\">\n",
              "                <span class=\"ipyplot-img-expand\"/>\n",
              "            </a>\n",
              "        </div>\n",
              "    </div>\n",
              "    \n",
              "    <div class=\"ipyplot-placeholder-div-nunPphdQm4NhdHSp3KW2KL\">\n",
              "        <div id=\"ipyplot-content-div-nunPphdQm4NhdHSp3KW2KL-cyrddVFwpYteAg5BpvHGfL\" class=\"ipyplot-content-div-nunPphdQm4NhdHSp3KW2KL\">\n",
              "            <h4 style=\"font-size: 12px; word-wrap: break-word;\">4</h4>\n",
              "            <img src=\"data:image/png;base64,iVBORw0KGgoAAAANSUhEUgAAADIAAAAyCAAAAAA7VNdtAAABhklEQVR4nN2VS0vDQBCAZ7PbmEQjolTbXJRChVp6EERBD/Um6MGLf9Mf4E2h5CqIePABehEKpRWlsc1j46ExhsyQGCj4mNPOTr6d2ZnJLAuhqCiFiX+FCGIvcEdetAy5PsNZPtK7sq8jg1M+2qqKfMR5vDiPDF65tr78DYRBEII/WfsSmTHi9i/tZ4CoKyTuDow4N2enw1hTGPoAI8Ho9Y2I9ktwXZgisos1nerj6PMQznlCIzKGEOm8DBMqxylLI9LtPnQTJ5t6usVQkuXgzn6KNa2+11pMn5pGgv5tZ/DppWQdHjfn04GhUkpvHMe1ut9uIAJfXxFqvLZ2GguIyCklObEyEen7RRFa/ijCqK6eipcw7/lASOC9F0TY7Eodt1UmIqrbJ6340mSQaUQxrEalmBcAzdSzBwZGFCbxHM5GmGqamdXCA9bYOBh37gGAnEikF7WyuWtNeoWY4aQXgBA4AwE+CJKhEGOtvQQCfGjW5ggzI8KNn9eSpnJsppAc+Q1/5Q8iH+H7X3eLwc0rAAAAAElFTkSuQmCC\"/>\n",
              "            <a href=\"#!\">\n",
              "                <span class=\"ipyplot-img-close\"/>\n",
              "            </a>\n",
              "            <a href=\"#ipyplot-content-div-nunPphdQm4NhdHSp3KW2KL-cyrddVFwpYteAg5BpvHGfL\">\n",
              "                <span class=\"ipyplot-img-expand\"/>\n",
              "            </a>\n",
              "        </div>\n",
              "    </div>\n",
              "    \n",
              "    <div class=\"ipyplot-placeholder-div-nunPphdQm4NhdHSp3KW2KL\">\n",
              "        <div id=\"ipyplot-content-div-nunPphdQm4NhdHSp3KW2KL-7D4bC5aYJV7CAsyXaMuEP2\" class=\"ipyplot-content-div-nunPphdQm4NhdHSp3KW2KL\">\n",
              "            <h4 style=\"font-size: 12px; word-wrap: break-word;\">5</h4>\n",
              "            <img src=\"data:image/png;base64,iVBORw0KGgoAAAANSUhEUgAAADIAAAAyCAAAAAA7VNdtAAABHklEQVR4nO3WO07DQBAG4H/ixCYQwiNSIFUEDSgFUmpEwx04KxdAAgQdJ0gHGELjB/Fjh4by98grUQTEVCuvPo1nd9ZrUfhGx1usL+nyx1o5UQQdkZbEJcv3XBSjyVavJcmfbm6fAVxcney0I0X8eH23AjC4LMk0Kz9d3D8UANAPSCk0S50tM/a+RhbpRt8DShoWGQCi8XSPLJi1leHhZOhJPl/eksqPlPFr6kmwygrnSVzFhN3JrCnX+Ij9EFHHtsMkQTjYMLKzqXD/aBr5kd74dLbtSQ5mZ7vNhJ0Xkf6mcY54mWVJu8siZvyTP05UHQA4+lPAiStSAMhrZnjHDo/PFwDmI/YZF5o7+YizxuuVE3W1Nl7inJjxy7bSjC+ZF1EkQqm2NAAAAABJRU5ErkJggg==\"/>\n",
              "            <a href=\"#!\">\n",
              "                <span class=\"ipyplot-img-close\"/>\n",
              "            </a>\n",
              "            <a href=\"#ipyplot-content-div-nunPphdQm4NhdHSp3KW2KL-7D4bC5aYJV7CAsyXaMuEP2\">\n",
              "                <span class=\"ipyplot-img-expand\"/>\n",
              "            </a>\n",
              "        </div>\n",
              "    </div>\n",
              "    \n",
              "    <div class=\"ipyplot-placeholder-div-nunPphdQm4NhdHSp3KW2KL\">\n",
              "        <div id=\"ipyplot-content-div-nunPphdQm4NhdHSp3KW2KL-2j9yrw3SYag2PffzSPgUvX\" class=\"ipyplot-content-div-nunPphdQm4NhdHSp3KW2KL\">\n",
              "            <h4 style=\"font-size: 12px; word-wrap: break-word;\">6</h4>\n",
              "            <img src=\"data:image/png;base64,iVBORw0KGgoAAAANSUhEUgAAADIAAAAyCAAAAAA7VNdtAAAA+UlEQVR4nN2VsQoCMRBEZ++iRjhtFESwulbwByz8dgt/QLDUzkbEQkRE48XiBAsnuUQsPLdJSHjZYXeSiEVsJNHEXyGKrN2vlxsAoKGbaRiyXy5WUDAYTyeDMOS0mc+hYLAf5oGILYyFgYUpWKMZAlsAFgAleMXkuZpIMOKPWiEi77OqLNZ777iwaCTVWYt2xI00u72Opyxsqz0YDXUpkClkSNLSmnrPjRw3q/XZjbDTLrvtwU3wVqYeWS7ze0pcN1vGZ/lZ5GXGYFt+kOV3EVuUY+QzLuJ6xtnNkEQJFAwUZRiS5bN++fHlGTuRyK34XhlSEfVq5deRBwW2PN9czS1OAAAAAElFTkSuQmCC\"/>\n",
              "            <a href=\"#!\">\n",
              "                <span class=\"ipyplot-img-close\"/>\n",
              "            </a>\n",
              "            <a href=\"#ipyplot-content-div-nunPphdQm4NhdHSp3KW2KL-2j9yrw3SYag2PffzSPgUvX\">\n",
              "                <span class=\"ipyplot-img-expand\"/>\n",
              "            </a>\n",
              "        </div>\n",
              "    </div>\n",
              "    \n",
              "    <div class=\"ipyplot-placeholder-div-nunPphdQm4NhdHSp3KW2KL\">\n",
              "        <div id=\"ipyplot-content-div-nunPphdQm4NhdHSp3KW2KL-fMffaXidYbGbFDhUXhu9oD\" class=\"ipyplot-content-div-nunPphdQm4NhdHSp3KW2KL\">\n",
              "            <h4 style=\"font-size: 12px; word-wrap: break-word;\">7</h4>\n",
              "            <img src=\"data:image/png;base64,iVBORw0KGgoAAAANSUhEUgAAADIAAAAyCAAAAAA7VNdtAAABlElEQVR4nM3Wv0/CQBQH8O+1tIAIiIlpookmxkBw0JA4yWSM/iX+d846ujgxGBcdMEFxUDSA/BCQQttzganfXjjjwI33+uG9vuu9ICR0l6EtlpfEyJ6UgQ9hmhrEGzba0kqvb7AgJ6Ony1usFMqnDi2bkWn7vgK8+DuJ3KJEmEkAb3fFHCUstRm3AEy73R8mKJG+BADb5j0jxK3ePNNnI4kcP17XNInXqvGXmC3SMX/UVwn2LtJTCkJEfHt/TZNkji/2NQsznAI9dQWBaUV995FEGEKXyEA5dv737guDBxXEsC1d0nuofk3JPp8IAIDGVWKzmNXK4jc/B75eYYAvWbeVRJgsrM7isntAybye7/ceqYwSMdv9qNQn4ShrshFLxDwAqLfyJSv0oyxLfKt0lAEAt90lXWZZknsn404fAAybXAM6k0UqpfgqeJNdlx27ksxXMCFN5gVIGQCAlc6SKcBJMBkCgHN2uBoug5PMbvkVwMF53g4HBZ0Mg05zJCRyTjq+KJGBL4VE+OSjiXIt7X+YP5BfHvV0H6M8O7YAAAAASUVORK5CYII=\"/>\n",
              "            <a href=\"#!\">\n",
              "                <span class=\"ipyplot-img-close\"/>\n",
              "            </a>\n",
              "            <a href=\"#ipyplot-content-div-nunPphdQm4NhdHSp3KW2KL-fMffaXidYbGbFDhUXhu9oD\">\n",
              "                <span class=\"ipyplot-img-expand\"/>\n",
              "            </a>\n",
              "        </div>\n",
              "    </div>\n",
              "    \n",
              "    <div class=\"ipyplot-placeholder-div-nunPphdQm4NhdHSp3KW2KL\">\n",
              "        <div id=\"ipyplot-content-div-nunPphdQm4NhdHSp3KW2KL-WyCSTCm3g3Wd2VXBU6FXLF\" class=\"ipyplot-content-div-nunPphdQm4NhdHSp3KW2KL\">\n",
              "            <h4 style=\"font-size: 12px; word-wrap: break-word;\">8</h4>\n",
              "            <img src=\"data:image/png;base64,iVBORw0KGgoAAAANSUhEUgAAADIAAAAyCAAAAAA7VNdtAAAByUlEQVR4nM2Wz0sCURDH5+26mj9KAklCQoQ0LEIqSLrYX1BQhy5d+rf6Ezp26lAehKCiKIQOLUQEhmmki4qr67r7OuyuHd6s+/YSvdOw8z7MzHdm2Eco+D2Cb+KPkICbgwIAED9Ip6UMhFSaHzGH8kutJ6zTZJgX6b6eXzc1cicfFHgRtfZwOwL47G8iCK6Y1mnrAKDJbcSJRTH7j+U6BQDaG3EiRuPyzAAAAAlLAkPouKuj+VoHrYW4NtgV+T0zvhHabLEpTk0BxhfCITM006OY1QrbGY/ElHfVJwKGOvaLYM30QgYm8wlVbLKMJJJmFwZDpGjQsU6OlrkQRf62LXGnxLqxWqqn97ZFseHHkPpNwzENTmTYZmXyQMzJKA7ZRuIIER0jHkLcmGKTe8X9bS7EGCiOmT9e4kK+riqOTiPdFBk/Ukur/GQh4uwcxaRjo3SfP6yLsXw2hgRBougdW+N4IRfDBEXWwZnJ+FomihDT9oVKkq9fEhAhFkQJdyS0sltM8iKWXtHVrZyEImwtpgYAAOHFBJ4XEiWSBUKFQH4jxY0s7DUEUwxnSgmsjwBAmDdM700lVAjOp12CIAjYX9wIDPE6//al9AOm+oGjj3HArQAAAABJRU5ErkJggg==\"/>\n",
              "            <a href=\"#!\">\n",
              "                <span class=\"ipyplot-img-close\"/>\n",
              "            </a>\n",
              "            <a href=\"#ipyplot-content-div-nunPphdQm4NhdHSp3KW2KL-WyCSTCm3g3Wd2VXBU6FXLF\">\n",
              "                <span class=\"ipyplot-img-expand\"/>\n",
              "            </a>\n",
              "        </div>\n",
              "    </div>\n",
              "    \n",
              "    <div class=\"ipyplot-placeholder-div-nunPphdQm4NhdHSp3KW2KL\">\n",
              "        <div id=\"ipyplot-content-div-nunPphdQm4NhdHSp3KW2KL-AQZtoFJbhvEVYFVXnoQu9w\" class=\"ipyplot-content-div-nunPphdQm4NhdHSp3KW2KL\">\n",
              "            <h4 style=\"font-size: 12px; word-wrap: break-word;\">9</h4>\n",
              "            <img src=\"data:image/png;base64,iVBORw0KGgoAAAANSUhEUgAAADIAAAAyCAAAAAA7VNdtAAABWUlEQVR4nN2UTUvDQBCG3918FRFNoWmDoIJQKB4UEQuCIF79sf4K8eLBq4JghYKILRRLY7rZDw8NeMgk3UDFjzmF3X3IOzPvDDOoG7w28a8Qt3CiZZoaZhwvCJglkjzeXKeBaO73+74lIl5vr+ZeFr3Hx7QwIhejJCSk0jRBIkbBQJkyXxAIYxwAZ3TyVUVmvOSuHNFK1UT0PElqIvJtMJiSN8W+5JHe86ZzVE/YdDic1BMG+D4toQIpa8yvHbEKhPv0vJBOXnhYjEczyjPFOhqtFsjkLu50N23+4m5E7QAAkqeH55mVsCDuHYYAIMcvow8rxIt6By0AgBaSGuYi4oS73Wb+6VAFJc/Il5WIIvVUIktiRcjXBiN32Y87+bsRk/dFZFT65BJhHAC8te12wxJh3GXgauvs8iK0RNb3zlvgcuf0pENqINQqkWaAcRu+Z4ssib/VypUjn8PQaHDWL48lAAAAAElFTkSuQmCC\"/>\n",
              "            <a href=\"#!\">\n",
              "                <span class=\"ipyplot-img-close\"/>\n",
              "            </a>\n",
              "            <a href=\"#ipyplot-content-div-nunPphdQm4NhdHSp3KW2KL-AQZtoFJbhvEVYFVXnoQu9w\">\n",
              "                <span class=\"ipyplot-img-expand\"/>\n",
              "            </a>\n",
              "        </div>\n",
              "    </div>\n",
              "    </div></div><div class=\"tab contentUB2asRiaNSmimEhYTypCiX\">\n",
              "        <style>\n",
              "        #ipyplot-imgs-container-div-DMszvDj3VdbtjzGuDs6nwA {\n",
              "            width: 100%;\n",
              "            height: 100%;\n",
              "            margin: 0%;\n",
              "            overflow: auto;\n",
              "            position: relative;\n",
              "            overflow-y: scroll;\n",
              "        }\n",
              "\n",
              "        div.ipyplot-placeholder-div-DMszvDj3VdbtjzGuDs6nwA {\n",
              "            width: 50px;\n",
              "            display: inline-block;\n",
              "            margin: 3px;\n",
              "            position: relative;\n",
              "        }\n",
              "\n",
              "        div.ipyplot-content-div-DMszvDj3VdbtjzGuDs6nwA {\n",
              "            width: 50px;\n",
              "            background: white;\n",
              "            display: inline-block;\n",
              "            vertical-align: top;\n",
              "            text-align: center;\n",
              "            position: relative;\n",
              "            border: 2px solid #ddd;\n",
              "            top: 0;\n",
              "            left: 0;\n",
              "        }\n",
              "\n",
              "        div.ipyplot-content-div-DMszvDj3VdbtjzGuDs6nwA span.ipyplot-img-close {\n",
              "            display: none;\n",
              "        }\n",
              "\n",
              "        div.ipyplot-content-div-DMszvDj3VdbtjzGuDs6nwA span {\n",
              "            width: 100%;\n",
              "            height: 100%;\n",
              "            position: absolute;\n",
              "            top: 0;\n",
              "            left: 0;\n",
              "        }\n",
              "\n",
              "        div.ipyplot-content-div-DMszvDj3VdbtjzGuDs6nwA img {\n",
              "            width: 50px;\n",
              "        }\n",
              "\n",
              "        div.ipyplot-content-div-DMszvDj3VdbtjzGuDs6nwA span.ipyplot-img-close:hover {\n",
              "            cursor: zoom-out;\n",
              "        }\n",
              "        div.ipyplot-content-div-DMszvDj3VdbtjzGuDs6nwA span.ipyplot-img-expand:hover {\n",
              "            cursor: zoom-in;\n",
              "        }\n",
              "\n",
              "        div[id^=ipyplot-content-div-DMszvDj3VdbtjzGuDs6nwA]:target {\n",
              "            transform: scale(2.5);\n",
              "            transform-origin: left top;\n",
              "            z-index: 5000;\n",
              "            top: 0;\n",
              "            left: 0;\n",
              "            position: absolute;\n",
              "        }\n",
              "\n",
              "        div[id^=ipyplot-content-div-DMszvDj3VdbtjzGuDs6nwA]:target span.ipyplot-img-close {\n",
              "            display: block;\n",
              "        }\n",
              "\n",
              "        div[id^=ipyplot-content-div-DMszvDj3VdbtjzGuDs6nwA]:target span.ipyplot-img-expand {\n",
              "            display: none;\n",
              "        }\n",
              "        </style>\n",
              "    <div id=\"ipyplot-imgs-container-div-DMszvDj3VdbtjzGuDs6nwA\">\n",
              "    <div class=\"ipyplot-placeholder-div-DMszvDj3VdbtjzGuDs6nwA\">\n",
              "        <div id=\"ipyplot-content-div-DMszvDj3VdbtjzGuDs6nwA-CXYfr3EnnokmuXgzmeH2fg\" class=\"ipyplot-content-div-DMszvDj3VdbtjzGuDs6nwA\">\n",
              "            <h4 style=\"font-size: 12px; word-wrap: break-word;\">0</h4>\n",
              "            <img src=\"data:image/png;base64,iVBORw0KGgoAAAANSUhEUgAAADIAAAAyCAAAAAA7VNdtAAACTklEQVR4nN2WS2sTURTH/2dmmmSSqGHyqA1GCNVFFRVFoRQkoJsW1I0bN7r2k7j0WwhSKKUuCop15ypY1IopplRjmj4M2MljMjHzuC5iwryTbEQ8q3vOnN/877nnzGWIYVLjJib+K0Swu0xrawSAhLBI4yFa6dl2lKCH8zcWQ+MgrLP1enVHIOjhc0eY6SXSCQ+OrK00vj5dkXsgMIrEJbD5uwvZUSrq7g8ADGCqWgdUk1uQXDr2Wsj+vLYWS1xzIYGHbLZaPfcMBveF45g5IcLUVndCBIel/Y5TR/DMHKpsNVJSznEADhVnsc3ykeKM2RHmOh9xineGbAjxojOB3MNpRyLZ08HFAY7yKbkU2aiY7d4EyKnCNPdB3asazPS/eRz7EM8/Oqhuvjtu19V+QDNc7XduPT43V5Oipd3jvhuSTojOFI9qZ66HlHL/3ZS5Opt2HqIHosvf92Wtvw6HDjZjHMxQLjl8Tq4yu5X15S9yv6l0JpeJMsIv6eFNfxVtZ32j1Bh4DbNGBqCnF/031tt7u/xZHXis2fwT7vgj1eevyipcZm2TFTE7ilxcK7oBgLeMmhVRVl+ozbIXYTMron9aAW+MRKyTzJnAaMKq8u3NR980VfdEik8qvghv2Y0FUQ51V+rsxWzMZEDsgiciiMpwFQYAdMXCncspnYFxcU9EH3SYm75XgAbAEPL5ZNA1nrq03QAx4s7O37/tWxUANrT6yweEKT6SefxeZgFmVbn1U9cjpnBy6UqQhu17YUqHEYii0bGRMe2f/bv4O8hvI3nxEiCjT8UAAAAASUVORK5CYII=\"/>\n",
              "            <a href=\"#!\">\n",
              "                <span class=\"ipyplot-img-close\"/>\n",
              "            </a>\n",
              "            <a href=\"#ipyplot-content-div-DMszvDj3VdbtjzGuDs6nwA-CXYfr3EnnokmuXgzmeH2fg\">\n",
              "                <span class=\"ipyplot-img-expand\"/>\n",
              "            </a>\n",
              "        </div>\n",
              "    </div>\n",
              "    \n",
              "    <div class=\"ipyplot-placeholder-div-DMszvDj3VdbtjzGuDs6nwA\">\n",
              "        <div id=\"ipyplot-content-div-DMszvDj3VdbtjzGuDs6nwA-iXQyYP5wfbrvgGKjKbsixD\" class=\"ipyplot-content-div-DMszvDj3VdbtjzGuDs6nwA\">\n",
              "            <h4 style=\"font-size: 12px; word-wrap: break-word;\">1</h4>\n",
              "            <img src=\"data:image/png;base64,iVBORw0KGgoAAAANSUhEUgAAADIAAAAyCAAAAAA7VNdtAAADCklEQVR4nM2Wy08TQRzHvzPbbkstpRWsQtMQ3sQSoxJfqNEgJnLAmzdPHvw3/B+8eZaDB+OFSITEmKCYKMUXBgSxQnkUKJW2KbtluzvjYVvaslMeF+PvNDO/+cz8XvvbIRxHFXpk4h8htr0Led/IEZC1TYUR5up0Hg7JZokyEUnqVPexVpvdfgjk0zuy82UhZRDujpxtbGs5EEnODr+m+kKcA4Cy2NTj8VnM3oN8fRyOE54z/V9aD2/UnvcfgKyHo8WJpmXCNdotlyByRUTdUspV0af2UKPAtN1U/nn2MlOuYtrKyrbAsALCFgdHs3uVW9/jlRF9dTqxY1HODk4LkLytemQqQxkgm3PGdAYgHl+tjORmviUYgGAADJSpyZgCADZR1eYRI76WBlzBmx1goCw+ryjAbo0KEUiEAS0DdzsBAPNjszEAMFhlRO7sa1Zpd2/IDQCodVEACHQ1VUYcl1q3NakhIAMAtJVlFQBCD7oqI7SuhjFSZZa7kXg/GgcAX6u3MkJkubhmJD9/NO92ywJEFEW7cOe+SHouaQ44E0VZhMw8mdjvFmtxJ6eGxtfMob5vKovy89GEKsrgPshWJP/deNvOeaVDIHpqtbDNf6en1hwX7CMiJPd7ZDRROO241wx2Zi5LAeaq87otCNei488nzRZA5fp6D8tqIPjxJm0DN/xn2q1INjr0aloxzXB1D/R70mNTkh2zb1UC8EbuCxALEpv4kPed2D00SuZHJqmMlV+mfRcUqy87qY1CY5L4wothnolugkDPn0IEETNyO4WMcC0WUzkrNh1XW1e714oQupsHQ1VLNaDN96/U+okFKZWyWgld9gZvNEkO6y0WMa2njt6HJ5zVhQouzwvLlSMOCTD0UF9/i7PYz8sQaq925ozCRLKdCjopdP3ivY6qkl1liOw7vbmcyHvh8p3svV0ngXOPv5QoR5wN12umllIGAbgzEGy5ek3kKimNDNe1VDiS1ClgHAu2trkdon852fvhxTYVRgDm8Pndgv0ipDiv9FqwIAfLf/tS+gtibR8cd9x9KgAAAABJRU5ErkJggg==\"/>\n",
              "            <a href=\"#!\">\n",
              "                <span class=\"ipyplot-img-close\"/>\n",
              "            </a>\n",
              "            <a href=\"#ipyplot-content-div-DMszvDj3VdbtjzGuDs6nwA-iXQyYP5wfbrvgGKjKbsixD\">\n",
              "                <span class=\"ipyplot-img-expand\"/>\n",
              "            </a>\n",
              "        </div>\n",
              "    </div>\n",
              "    \n",
              "    <div class=\"ipyplot-placeholder-div-DMszvDj3VdbtjzGuDs6nwA\">\n",
              "        <div id=\"ipyplot-content-div-DMszvDj3VdbtjzGuDs6nwA-fwnZtetMcaTsDTu9Vjn5Rt\" class=\"ipyplot-content-div-DMszvDj3VdbtjzGuDs6nwA\">\n",
              "            <h4 style=\"font-size: 12px; word-wrap: break-word;\">2</h4>\n",
              "            <img src=\"data:image/png;base64,iVBORw0KGgoAAAANSUhEUgAAADIAAAAyCAAAAAA7VNdtAAABkklEQVR4nO3VP0vDQBQA8LzkUvvHqtWCIFoX3cTiUEREEcFv4ffxE7i4u7g4iS5ddBLBpaBVqhWsttKl/2ty6Z3LJb00jzSZ7VtyuZcf7+VySYArYUMNLSYkdBDXmVmuA4gxSyzMT48n1dMrogtB148Os2PIx0O7ln8fnv8YEFtC6jiE9/InNdKXUp1bMnvgRyoX12/uFLeaHcunMV4+e/UkdQKeOWeRudk0kCwagpjFAgtKRGPd88s6kgWsMUHoSyloEbsxiKF36kfwFvxJiPAloEaQWYLMOcFpW9pBmg7jCWvdP9oa1JVc1EUY9iRbpWLHIWR700W4NUDI912va4+BJE1FJmQ1U/HWaXXljdcQF4gVi+7sJb1VLHM4Bl3cvV0lskV/q+zza8SgH2xB9LWkVu/fjBI0nEVO7/Ybz0HEkGjLSjMViMgbhgX718hkEJ4EjMCEU4OHrqKJo7yTOcWujO9n4ipTQN1MeIk2N2PFR/vpbRznUmSgKBARBKRVMgpPzPP+0HR2cco1A5P//j8mf3M4eRGEX6LDAAAAAElFTkSuQmCC\"/>\n",
              "            <a href=\"#!\">\n",
              "                <span class=\"ipyplot-img-close\"/>\n",
              "            </a>\n",
              "            <a href=\"#ipyplot-content-div-DMszvDj3VdbtjzGuDs6nwA-fwnZtetMcaTsDTu9Vjn5Rt\">\n",
              "                <span class=\"ipyplot-img-expand\"/>\n",
              "            </a>\n",
              "        </div>\n",
              "    </div>\n",
              "    \n",
              "    <div class=\"ipyplot-placeholder-div-DMszvDj3VdbtjzGuDs6nwA\">\n",
              "        <div id=\"ipyplot-content-div-DMszvDj3VdbtjzGuDs6nwA-bZ5RTkemAaNbB4Le2mUfNQ\" class=\"ipyplot-content-div-DMszvDj3VdbtjzGuDs6nwA\">\n",
              "            <h4 style=\"font-size: 12px; word-wrap: break-word;\">3</h4>\n",
              "            <img src=\"data:image/png;base64,iVBORw0KGgoAAAANSUhEUgAAADIAAAAyCAAAAAA7VNdtAAACJUlEQVR4nN2Wz0/UQBTH33S6LfsDEMTAuiES8IoaDRoSb3rggnrUePBP8M/wj/BslHhQ4kVD9GBijHLAxYO/YnYFNiEkNLil2/3RzvOw22mnDjuzF0N8l85L32fee9836ZQgDGrGwMR/hZiCF3hN0l0htWxbA8HdJ+8yFAAA2mPnr1zWQIj3/rnRRTpjFW+0VFAXRkJgvdnWP3jG9YsKpLru7v0C6CGhV6u5/QvDxusHu6afeGVZcjk5svX05U9pxNHI9sPvekQ8ShZoEjFCswMjkVJkAIR1H5algtI6knxBhXDFzOEsBQC72HaZJjI017LRYNbE/lZHEyndc0yE4KDiahc2sQQAgF8fNxR1pdtH5+MPRV2pw9+ulr84CkLMggdvX9VVRApxNz81uBeG8q6Ewlhzu6ZqPt0La4XRko7Ozp7UQEjsZkrz80UAwOg7T4gMMUcyfG1Nn7tUAIAXZcYMJO3S8rQEYfXKYZyQBr99BOfZWsAMJP6FBRlyuPpogzt+ef8NRdLc2GNIAEKHTziJtD6vxU5np7ZO0GBRZMBkCAkTDiIIehv8tIrfZIAj3SbfT5h+v2Nv8shkFuxzhq8tRYIJCD2Ra4WScCsbTN25nZMh+Ru5lU0Jcvbu1PBCPlFN0r7dBCBJA3NyZuZ+VQgSFUMKvSupZ52RW1dPnykKSUUkv8gyAuKfWl4cT9VJBPHj6zXahOZsYY+/EC07tn8X/wb5A2Nzzhm3GHA2AAAAAElFTkSuQmCC\"/>\n",
              "            <a href=\"#!\">\n",
              "                <span class=\"ipyplot-img-close\"/>\n",
              "            </a>\n",
              "            <a href=\"#ipyplot-content-div-DMszvDj3VdbtjzGuDs6nwA-bZ5RTkemAaNbB4Le2mUfNQ\">\n",
              "                <span class=\"ipyplot-img-expand\"/>\n",
              "            </a>\n",
              "        </div>\n",
              "    </div>\n",
              "    \n",
              "    <div class=\"ipyplot-placeholder-div-DMszvDj3VdbtjzGuDs6nwA\">\n",
              "        <div id=\"ipyplot-content-div-DMszvDj3VdbtjzGuDs6nwA-UQz7YPZj7weFSfxsX6KaDk\" class=\"ipyplot-content-div-DMszvDj3VdbtjzGuDs6nwA\">\n",
              "            <h4 style=\"font-size: 12px; word-wrap: break-word;\">4</h4>\n",
              "            <img src=\"data:image/png;base64,iVBORw0KGgoAAAANSUhEUgAAADIAAAAyCAAAAAA7VNdtAAACoklEQVR4nOWW208TQRSHz+yF0m7v25ZrpYCVJiRECRFBjWiMJPLAg3+fzz4alXiJRBPQRJFYBE0f0CqIWiiUYtm2272MD3Z3Z7tDN7yZOE9zzuzXc35nzpkUYTjtYk5N/LsIZzexapYDI5ZB7ojyvagZDPbFo4Irou/ceymZYQbnpoZdEL2+9ebZsmV/602e4SipEfJr+Ud3P5Ixt7dLOiUKgZQ33n44JI5qudye3B4prX+RyCMpl9utURBCi1KRbA2HsazROpCIwgf8LWJ56sUQUeKTv/b2G5RvTo7iiUW89l/F1Mkg5a/lCortkK6FSKz6c9dWMW/srNjRHsGa/eLis7dG/O0Tw5oKAMj0ePt7g7TZIKJwfjGMOaRUmsEQy7o1f/fs6D6H8+9fGVeOqASJiFMAcLy4a7roNW6dyu3lB6tGEFWl9XELIpeeLyyVmgYjCLQStyBbiw9Xjwwj0J8MuyFyYelx9uDvHnHi2JVzITek8GRh+bi5R0LmztUhl8TqP14vZH8bFuZjYykPlbCQ6saLpYrpZsX+Pi+dsBBdlqymRN3z812GoegIIwaZ42ZpQSxr3gOfmLwIGGEVdLlckBnMiNEw70CIhQKhaoEPdtZ2oFFce3oEwM3MTITbIQCVd1I0lfq8oijF9UUAgEjGnD4qgsufvobS4+dX7lexWgcAAA/rlG9bWq12cHSY38wbDp/fx7ZHAABK5axZDrarK2p+aXW6pqr27DStuQsme9LTQ50OBPEdHQ3q4yhkLqeHLiScWrwDmfRWhYIEb16/FA5EwIl4kiPD+w7EJzCjc9cGbT4TYcVk3FmLiRlfajph9xFaesfrm606bt8QIj0tTmQploqHVWx7VHSmL8Gx7MkI1jC2IxjxlHcJ/d9/e/4A2SrovYxtrjoAAAAASUVORK5CYII=\"/>\n",
              "            <a href=\"#!\">\n",
              "                <span class=\"ipyplot-img-close\"/>\n",
              "            </a>\n",
              "            <a href=\"#ipyplot-content-div-DMszvDj3VdbtjzGuDs6nwA-UQz7YPZj7weFSfxsX6KaDk\">\n",
              "                <span class=\"ipyplot-img-expand\"/>\n",
              "            </a>\n",
              "        </div>\n",
              "    </div>\n",
              "    \n",
              "    <div class=\"ipyplot-placeholder-div-DMszvDj3VdbtjzGuDs6nwA\">\n",
              "        <div id=\"ipyplot-content-div-DMszvDj3VdbtjzGuDs6nwA-gZRHtfKvMMqdajLMzKsKBY\" class=\"ipyplot-content-div-DMszvDj3VdbtjzGuDs6nwA\">\n",
              "            <h4 style=\"font-size: 12px; word-wrap: break-word;\">5</h4>\n",
              "            <img src=\"data:image/png;base64,iVBORw0KGgoAAAANSUhEUgAAADIAAAAyCAAAAAA7VNdtAAAC1ElEQVR4nM3Wy08TQRwH8O/so+2W0i4glPJSIoEEpTw0BgkmvkKiJurN/85o4kETD3jRRFHiSYMcBAkRYilQalsqjz62dLvdHQ9dYV994Ik5zWTmM4/f7vx2CcVpC3NqcXYJZ27S8kk4KHjHCU2EKjtp9dhQtASb3XWIEns5LxmiHp6Z7KlDEl8+fDa242WWF23rmMjy7LqpMzVbLE731iTZRN7UqRx85YdsxBQTXuAt3Vuf4lZhDbJegiFOSudKFFr6Y+Cqtz5hmsYnXMlvGwoFtDlhqAHSe/3eBBPL/skCKG9GSg1srO/+7W6ce+8hAKh0qFo34UBCk52A8m8kQxogQhtLoVL9NbAKx40dpRjGT2xDHQmtzLz2TOx47GV1o9UkpDL18g9+dGwAFAAYt5+tRVhOX0zOJTz7BQrA9+SRWIuI/ds5qmmA1x0/iucpAOHhg5obCweE+eJeGtCUSCwqUQAl21HMpL09LRQ2FmTW64qWdhUArjZ74CxBngprSy1ZfyETT8sASPe19nokEICQX9nO7KUOFAAYvtNVjwAQbyZfxTRNowDI+ExnA4QTtaSs12lLyPpUnEhhO1Go1AhI5reHUoB3e9jqRPv+dKES2K7J5PLbCAsK9I1M9ToTTUNxa+6FDACEbb1IVhcXAQAD+aEqJH/IRp/PVw7i6lLf5CS9gzVeGhNJLuXW3+kphZDsSXJxcdXIr9cru4d6Xd6p9n0zEPlgbXX1uEWNWaKsGrzhImeW1jLW1AcwDCz337BK9mdk35pNWkNeUiqTwR7BkUixhGQYTRgG5PJ4gCmWmO6hZkeiFmWDQOv5fo5MX/ExqkoEv+hIhGDbZpk0uTlCAQiD4TGejA7aDmckoVuprSQ3danDrQKaJ9R3gSVNdmEk/uEbhajv7kiF8D5RcBgPgBgCru6lJC4YcDMAKGFsmdWBAKpGnD841UlD5cz+w/wH+Qt6RAQrgBUi6AAAAABJRU5ErkJggg==\"/>\n",
              "            <a href=\"#!\">\n",
              "                <span class=\"ipyplot-img-close\"/>\n",
              "            </a>\n",
              "            <a href=\"#ipyplot-content-div-DMszvDj3VdbtjzGuDs6nwA-gZRHtfKvMMqdajLMzKsKBY\">\n",
              "                <span class=\"ipyplot-img-expand\"/>\n",
              "            </a>\n",
              "        </div>\n",
              "    </div>\n",
              "    \n",
              "    <div class=\"ipyplot-placeholder-div-DMszvDj3VdbtjzGuDs6nwA\">\n",
              "        <div id=\"ipyplot-content-div-DMszvDj3VdbtjzGuDs6nwA-4Q8hZAKchanLjagJDQxkUE\" class=\"ipyplot-content-div-DMszvDj3VdbtjzGuDs6nwA\">\n",
              "            <h4 style=\"font-size: 12px; word-wrap: break-word;\">6</h4>\n",
              "            <img src=\"data:image/png;base64,iVBORw0KGgoAAAANSUhEUgAAADIAAAAyCAAAAAA7VNdtAAACWUlEQVR4nN3WTWsTQRgH8P/sq8kmMVuMFbVNAq2vCEXxIIr1VhA92YPQb+DN7+DnaEFEbyKFotiroBVtqyFFxYIYsG0SkuaVbHZ3xsNuk4nOxs1FxOc0M8kvM88zO7MhDKOGNLL4r4jy64BrtV0CAEw5pKlhCKuuPStFAFBn8srlbAjCiq+fP62oAKibLjnRpC4wbCAaq3OmDEIIAdTDd558Z78HP4uVz9U+v6sC3hNh1wrFzvCFWYVHi7bS4j7UVDKc5B6/rInSHUK2FkMJfiupE0rwRIn0GsIcBKQXiewR2TPkD+n3Ijoe14vtkWbRE1MXEqMsTIqdnCY71ihEMScylffVUITa3ojc+Fb2LxEmuky49JVIgwIg2G0Wg+cYIOaZdh2AJJe2g8s1SE7csD+2KChplv0RRkQF5cj0QlJdr8Ohvf1jkjacRKZmbW1bt1v+IVGNeCu/QxhNpeUAApw1zS3j60rD6xmnUntf9onrXFs4Gkj09PXExq7lVzaWdt7u1Ql1W/JYfCYtJmCpZH7z4AxoRmGtDQCdH9L4/SBivVjerFO/U9moesWuddk+f/q4q4PWXs1zJSJqv8TmQ/EN464sfehyP2ZzXJx+eX15FQFBuYeNI28efAoS6NJ+m58lF/hoZS9lhESJBpKr9871O+HeL/Esd7BF1wUAKGpEPki5rYxpXMk4wrgUkbo4d6zrG0c6H4OQEBkEAIOkJ46fnr2bDFpAvykpUABQFsvM3zRi8QDBk8lbZd0jE7dngr4PgPS3tdN0/WtVMUSnUUDCxj/77+LvkJ9znvOAhpPFYAAAAABJRU5ErkJggg==\"/>\n",
              "            <a href=\"#!\">\n",
              "                <span class=\"ipyplot-img-close\"/>\n",
              "            </a>\n",
              "            <a href=\"#ipyplot-content-div-DMszvDj3VdbtjzGuDs6nwA-4Q8hZAKchanLjagJDQxkUE\">\n",
              "                <span class=\"ipyplot-img-expand\"/>\n",
              "            </a>\n",
              "        </div>\n",
              "    </div>\n",
              "    \n",
              "    <div class=\"ipyplot-placeholder-div-DMszvDj3VdbtjzGuDs6nwA\">\n",
              "        <div id=\"ipyplot-content-div-DMszvDj3VdbtjzGuDs6nwA-F4uV4wNmHnExPj3UuMq4SR\" class=\"ipyplot-content-div-DMszvDj3VdbtjzGuDs6nwA\">\n",
              "            <h4 style=\"font-size: 12px; word-wrap: break-word;\">7</h4>\n",
              "            <img src=\"data:image/png;base64,iVBORw0KGgoAAAANSUhEUgAAADIAAAAyCAAAAAA7VNdtAAACKElEQVR4nO2VPW/TQBjH/3e249YOgSZEiaq2tFKBUiReqhaQQCCBWIChE0wsTHwRPghzi8SAGJCKxIB4EwNSxVQhRIBU4FZK5DSu7btjwMbn+JI4C2Lgv9h+nvs9L77nbCIwqujIxH9kZOnJ7e6WHwcQ1C7XdSWQQt4+aI5Ft769cOXOxDBk593aK5bYt/360lSfqsVvBc8uFIhkprXbD3eEUlEW98njTV+OxJ3XxFo+IkfpKazzaL3Hwb4EhihNKJi4F5Z1OS8KxaVa1h51SEwjEy9obG61FYUN3EpNU/UyGKEjI2plECpZOFcd895BIhrEn3VUWVhm9nhCW4eKRg5EJBtkTs7WxxXIgPbL5y6eLg3Iouh0fGa2qgoVZRFhdmICz8/YpCz69ELYcuRE1JqcquLn95ATAGAH5gtpxFyx+IfnclSjdmJxGm+ethkFAG/+/lwPsjwnDn5qdBNEMOf9rrbxssMIAASNw5fPmDJiHAc6G46E8PbHpul/+xFGzy3PPZZCAMBr7kmFMXffAfNiAt3PX0P0Iq1tT0KEn35fZM+N3o68laqBkryxmyps+ZG8yo2IYF/RyxBp0bXftzqj4s1VeyiiFczYK0j35L2r8TwmSwRPI/b5lUU9iB7Cytl4qYQQDQQQRCtXKQcPjl6/dkqVXUKoDh3gRmn17pgPcLtSURYsITO3HBPgeunGpf4NAiDJsfJcRgAQYll5kbz6Z//7fwf5BTi/u7jO6JtIAAAAAElFTkSuQmCC\"/>\n",
              "            <a href=\"#!\">\n",
              "                <span class=\"ipyplot-img-close\"/>\n",
              "            </a>\n",
              "            <a href=\"#ipyplot-content-div-DMszvDj3VdbtjzGuDs6nwA-F4uV4wNmHnExPj3UuMq4SR\">\n",
              "                <span class=\"ipyplot-img-expand\"/>\n",
              "            </a>\n",
              "        </div>\n",
              "    </div>\n",
              "    \n",
              "    <div class=\"ipyplot-placeholder-div-DMszvDj3VdbtjzGuDs6nwA\">\n",
              "        <div id=\"ipyplot-content-div-DMszvDj3VdbtjzGuDs6nwA-DQAsZnLNAeuwmMXGvKmd93\" class=\"ipyplot-content-div-DMszvDj3VdbtjzGuDs6nwA\">\n",
              "            <h4 style=\"font-size: 12px; word-wrap: break-word;\">8</h4>\n",
              "            <img src=\"data:image/png;base64,iVBORw0KGgoAAAANSUhEUgAAADIAAAAyCAAAAAA7VNdtAAACr0lEQVR4nO2W20sUURzHv2dmzq7urtteMaOipEKIygyqByGworAHfejBh+zBv6LXoP6C/oCgJ02DAgkKukCUkWhE4qVVNy+l687e1L3PzOlhZnZH51L73u/pzPn9Pr/bOb/DEIZGhWuY+I80LEJ9mV6s1B0orkA4/Ffky8ONptpHOXr52nXqjKQmRydkg2JpB6GTlnF0RJq+P63s0cyhhTghu+PPZyp7FEzOZQqMWCBawflnI7v7VWw7lbG6tHpislmV/uDydrXaRiFuWs9BWxWWvy1uO0QxbhGFqZ3geata9iOEP9rJVldEVSnw/4Dwoav3SuNjoubAoWOQZbU5ob6+9mOHg6qn/GayqNgiHKc6jA72IusOB3gASM8uZSQ7hG+NqlEkD4H/XPfFIACIUzO/ynYI7eiMUEopdZcB34muswcAYDcWT1ZNiFa+52aErlJGqqd8AECpwxxpiHC8RVynjFQPBQFWSmyp+XC8BVprcvB2hQCMBoDi0tTXrL5vvmU1hI/qq+LC+4l4QbXnqEf6scMrrna/GalJaeXd6EJOOw5CXJtPYk3l8NAle6S6+PLNXE5du72pT4nfb9eo5PdlL0RskMr6x6ezRe3DHVhLctnlErA1vNFmh6wNv47pBEqpDJRKCYCciNduqBFh+Xx28sWkIWR9tmXx5xEfZ0Lk8bFSLra/OE0Sj+J3ta6xmiRfDRBYDQgAgGu+s6XaGaJ8fjDPrN4AzbU+HsbExO8FO3sArFLQEMMdEjwOBAD9ud3TMSfAd6vfa0aMgy7QZl53IQiSVDw91COYEMlYSrTrxsGKnjynKFL4vG5qQCJn5nMgjPChqNTccWUgYJMiqRcgTj8eYVSh/v5Bt+QNtdkdkTFKT1qSmhTB39ttY2yKApYvMAJCPM7dJv//YRqUP3xtANPDeJ8mAAAAAElFTkSuQmCC\"/>\n",
              "            <a href=\"#!\">\n",
              "                <span class=\"ipyplot-img-close\"/>\n",
              "            </a>\n",
              "            <a href=\"#ipyplot-content-div-DMszvDj3VdbtjzGuDs6nwA-DQAsZnLNAeuwmMXGvKmd93\">\n",
              "                <span class=\"ipyplot-img-expand\"/>\n",
              "            </a>\n",
              "        </div>\n",
              "    </div>\n",
              "    \n",
              "    <div class=\"ipyplot-placeholder-div-DMszvDj3VdbtjzGuDs6nwA\">\n",
              "        <div id=\"ipyplot-content-div-DMszvDj3VdbtjzGuDs6nwA-AApF8HF6nDicmHWyCEd8MA\" class=\"ipyplot-content-div-DMszvDj3VdbtjzGuDs6nwA\">\n",
              "            <h4 style=\"font-size: 12px; word-wrap: break-word;\">9</h4>\n",
              "            <img src=\"data:image/png;base64,iVBORw0KGgoAAAANSUhEUgAAADIAAAAyCAAAAAA7VNdtAAACqklEQVR4nN2W30/TUBTH7227dT+obHODwUCkLJJhXCLKg75ATDBqjJFEQzDhn/C/8dmYaHwz4I9EMdGoMSAJe5Aoc2G4yhY2NgE72q23Ptw2u+1uKXvxwft0zmk/93zvvefcFuqg08F0TPwjhKNG8QJhJ8iWBBgtNNDFHg9BsrL3OQNYrS+d7KclakdqC5K88g1AFB6bueU5DrKzsphXc78BAJvFYDgdpTC6dRw+nI37fXgfudj0c719WLLUy9mvS1+KptvcWS65CdvLPHiNNCKgNN0QTS7WLU81WgVaT5/lbU9pm2xBdGQT0kBuCOvxWXxG8LohfHePn/SFVISCWJbv67tQKyhMrWysun/qlCty+rqYk/lPL4wlpW4n3RDIj5wcVj3VV1jW0ESyyw0BIODlVF3AdnR6IkAh7EhTevt9bw0XgKc3StswG6Lvrj19v49FctH4CWqbWxGUXdnABPCNXbncSyPswnalqmEFz46L1D6215jPb84hDMUdbkVLlmZlPasAAADwipcuJhxuGEtXlhav8Tht6P67apPSkfauVD8+yShGvtFzIYccpDC98uaxYcLYoCNBIpXMlmnenEs7EiSy/UHCBh+fmXMmSGRz4Qc2xucnjyBIpLZxgI3E1LARUkpVCAGC0R6OirC8gaCGGZIeLbEecMjemQ1BGgLxkUD489mqHyDAgHrh5TLDggZzXqULM0luPQfxnLom4/5U0ZGIrh0c2GMqWW40hPS4Lq8ucxHyNcJGpGBziPOjusKkBKJECcTbraBGSwHDcTo7NHlPtM9CIJF04U++lSnQE0f+u9OJtsQEMnBju5yRzM3yJUQR8ldH2rXClpJGff/Xap7Bp6MFB5NnWBigfCyhpVvlrYrxfUB8OCa0v96OANJz6mP4H/0p/QU0jhS/XxXu0gAAAABJRU5ErkJggg==\"/>\n",
              "            <a href=\"#!\">\n",
              "                <span class=\"ipyplot-img-close\"/>\n",
              "            </a>\n",
              "            <a href=\"#ipyplot-content-div-DMszvDj3VdbtjzGuDs6nwA-AApF8HF6nDicmHWyCEd8MA\">\n",
              "                <span class=\"ipyplot-img-expand\"/>\n",
              "            </a>\n",
              "        </div>\n",
              "    </div>\n",
              "    </div></div></div>"
            ],
            "text/plain": [
              "<IPython.core.display.HTML object>"
            ]
          },
          "metadata": {}
        }
      ]
    },
    {
      "cell_type": "markdown",
      "source": [
        "# overwrite image in directory"
      ],
      "metadata": {
        "id": "qyY-lhoTVPT6"
      }
    },
    {
      "cell_type": "markdown",
      "source": [
        "https://stackoverflow.com/questions/48705379/python-image-resize-and-write-with-same-name/52288628#:~:text=cv2.imwrite(imagePath%2C%20newimage) "
      ],
      "metadata": {
        "id": "orpQZ7dFVUsD"
      }
    },
    {
      "cell_type": "code",
      "source": [
        "cv2.imwrite(imagePath, newimage)"
      ],
      "metadata": {
        "id": "lP1Z1fUFVU64"
      },
      "execution_count": null,
      "outputs": []
    },
    {
      "cell_type": "markdown",
      "source": [
        "# Reading our own dataset files and make a (full) pipeling for image input"
      ],
      "metadata": {
        "id": "JhgvWfRGgTGW"
      }
    },
    {
      "cell_type": "markdown",
      "source": [
        "unzip dataset"
      ],
      "metadata": {
        "id": "jJ5knN33hRuv"
      }
    },
    {
      "cell_type": "code",
      "source": [
        "!unzip \"/content/dataset.zip\""
      ],
      "metadata": {
        "id": "iC9BBbs3hThQ"
      },
      "execution_count": null,
      "outputs": []
    },
    {
      "cell_type": "markdown",
      "source": [
        "imports "
      ],
      "metadata": {
        "id": "AgFZXAvdhYWW"
      }
    },
    {
      "cell_type": "code",
      "source": [
        "import cv2\n",
        "from google.colab.patches import cv2_imshow\n",
        "import numpy as np\n",
        "! pip install ipyplot\n",
        "import ipyplot\n",
        "import glob\n",
        "import os\n",
        "import urllib.request\n",
        "import zipfile"
      ],
      "metadata": {
        "id": "GTkDQ4MlhZhL"
      },
      "execution_count": null,
      "outputs": []
    },
    {
      "cell_type": "markdown",
      "source": [
        "preprocessing fucntions"
      ],
      "metadata": {
        "id": "bsJlY30ogvEH"
      }
    },
    {
      "cell_type": "code",
      "source": [
        "def crop_image_remove_white(gray, pixel_value=255):\n",
        "    # gray = cv2.imread(filename, cv2.IMREAD_GRAYSCALE)\n",
        "    \n",
        "    # STEP 1\n",
        "    # OTSU threshold lines are added by me. \n",
        "    (thresh, im_bw) = cv2.threshold(gray, 128, 255, cv2.THRESH_BINARY | cv2.THRESH_OTSU)\n",
        "    gray = cv2.threshold(gray, thresh, 255, cv2.THRESH_BINARY)[1]\n",
        "\n",
        "    crop_rows = gray[~np.all(gray == pixel_value, axis=1), :]\n",
        "    cropped_image = crop_rows[:, ~np.all(crop_rows == pixel_value, axis=0)]\n",
        "    # cv2_imshow(cropped_image)\n",
        "    # print(cropped_image.shape)\n",
        "    return cropped_image\n",
        "\n",
        "# STEP 2 (INPUT FIRST STEP)\n",
        "\n",
        "# gray = cv2.imread('/content/0_0.jpg', cv2.IMREAD_GRAYSCALE)\n",
        "# crop_image = crop_image_remove_white(gray)\n",
        "\n"
      ],
      "metadata": {
        "id": "_mFUOvTD2Zlv"
      },
      "execution_count": null,
      "outputs": []
    },
    {
      "cell_type": "code",
      "source": [
        "def overlay_image_centre(img):\n",
        "  # grayscale image \n",
        "  h, w = img.shape\n",
        "  # print(h,w)\n",
        "\n",
        "  square_side = max(h,w)+10\n",
        "\n",
        "  # load background image as white\n",
        "  back = np.full((square_side,square_side),255,np.uint8)\n",
        "  hh, ww = back.shape\n",
        "  # print(hh,ww)\n",
        "\n",
        "  # compute xoff and yoff for placement of upper left corner of resized image   \n",
        "  yoff = round((hh-h)/2)\n",
        "  xoff = round((ww-w)/2)\n",
        "  # print(yoff,xoff)\n",
        "\n",
        "  # use numpy indexing to place the resized image in the center of background image\n",
        "  result = back.copy()\n",
        "  result[yoff:yoff+h, xoff:xoff+w] = img\n",
        "\n",
        "  # view result\n",
        "  # cv2_imshow(result)\n",
        "  return result \n",
        "\n",
        "# t = overlay_image_centre(crop_image)\n",
        "\n",
        "# print(type(t))"
      ],
      "metadata": {
        "id": "oYTLPxvTgl3q"
      },
      "execution_count": null,
      "outputs": []
    },
    {
      "cell_type": "code",
      "source": [
        "# dilation \n",
        "\n",
        "def dilation_resize(img):\n",
        "  img = cv2.resize(img,(100,100)) # resize for inputs to be of same size\n",
        "  \n",
        "  # refer - https://docs.opencv.org/3.4/d9/d61/tutorial_py_morphological_ops.html#:~:text=kernel%20%3D%20np.ones((5%2C5)%2Cnp.uint8) \n",
        "  # kernel = np.full((5,5),255,np.uint8) # white background \n",
        "  kernel = np.ones((5,5),np.uint8) \n",
        "\n",
        "  img = (255-img) #invert threshold(b/w) image \n",
        "\n",
        "  # erosion = cv2.erode(img,kernel,iterations = 1)\n",
        "\n",
        "  dilation = cv2.dilate(img,kernel,iterations = 1)\n",
        "\n",
        "  # opening = cv2.morphologyEx(img, cv2.MORPH_OPEN, kernel)\n",
        "\n",
        "  # closing = cv2.morphologyEx(img, cv2.MORPH_CLOSE, kernel)\n",
        "\n",
        "  img = (255-dilation) #invert threshold(b/w) image \n",
        "  img = cv2.resize(img,(28,28))\n",
        "\n",
        "  return img\n",
        "  \n",
        "# img = cv2.imread('/content/0_0.jpg')\n",
        "# cv2_imshow(dilation_resize(img))"
      ],
      "metadata": {
        "id": "fQjwUwJv6vWn"
      },
      "execution_count": null,
      "outputs": []
    },
    {
      "cell_type": "markdown",
      "source": [
        "reading dataset and preprocessing image"
      ],
      "metadata": {
        "id": "tnwCr1yMhp7g"
      }
    },
    {
      "cell_type": "code",
      "source": [
        "import numpy as np\n",
        "import matplotlib.pyplot as plt\n",
        "import os\n",
        "import cv2\n",
        "from tqdm import tqdm"
      ],
      "metadata": {
        "id": "dZKJojMpgl3s"
      },
      "execution_count": null,
      "outputs": []
    },
    {
      "cell_type": "code",
      "source": [
        "from IPython.core.display import display_markdown\n",
        "#create training data\n",
        "training_data = []\n",
        "CATEGORIES = [0,1,2]\n",
        "images= []\n",
        "images_path = []\n",
        "DATADIR = '/content/dataset'\n",
        "def count_least_number_images_in_class_training_data():\n",
        "    count = 10000 # count least images among any of the folder  \n",
        "    for category in CATEGORIES:  # do \n",
        "        index = 0\n",
        "        path = os.path.join(DATADIR,str(category))  # create path to classes\n",
        "        class_num = CATEGORIES.index(category)  # get the classification \n",
        "        print(path)\n",
        "        for img in tqdm(os.listdir(path)):  # iterate over each image \n",
        "            try:\n",
        "                img_array = cv2.imread(os.path.join(path,img) ,cv2.IMREAD_GRAYSCALE)  # convert to array\n",
        "                if img_array.shape == (180,364):\n",
        "                  os.remove(os.path.join(path,img))\n",
        "                  continue\n",
        "                index+=1\n",
        "            except Exception as e:  # in the interest in keeping the output clean...\n",
        "                pass\n",
        "        if count>index:\n",
        "          count=index \n",
        "    print('---------------------')\n",
        "    return count\n",
        "\n",
        "exception = 0\n",
        "def create_training_data():\n",
        "    count = count_least_number_images_in_class_training_data()\n",
        "    fill = len(str(count))+1 # for giving names to images\n",
        "    \n",
        "    for category in CATEGORIES:  # do \n",
        "        index = 0\n",
        "        path = os.path.join(DATADIR,str(category))  # create path to classes\n",
        "        class_num = CATEGORIES.index(category)  # get the classification  \n",
        "\n",
        "        for img in tqdm(os.listdir(path)):  # iterate over each image \n",
        "            try:\n",
        "                \n",
        "\n",
        "                # comment following if statement for unbalanced classes\n",
        "                if (index+1)>count:\n",
        "                  #remove that image \n",
        "                  os.remove(os.path.join(path,img))\n",
        "                  continue # for balanced classes\n",
        "                img_array = cv2.imread(os.path.join(path,img) ,cv2.IMREAD_GRAYSCALE)  # convert to array\n",
        "                # TODO - first cropped image and the preprocess and see result. Current code resizes image at last.\n",
        "\n",
        "                # STEP 1 and 2\n",
        "                cropped = crop_image_remove_white(img_array)\n",
        "                \n",
        "                # STEP 3\n",
        "                overlay = overlay_image_centre(cropped)\n",
        "                \n",
        "                # STEP 4 \n",
        "                dilation = dilation_resize(overlay)\n",
        "               \n",
        "                # for debug \n",
        "                # images.append([img_array,cropped,overlay,dilation])\n",
        "                # ipyplot.plot_images([img_array,cropped,overlay,dilation],['original','cropped_threshold','overlay','dilation'] ,max_images=10, img_width=100)\n",
        "              \n",
        "\n",
        "                # Reference - https://stackoverflow.com/questions/18805348/how-rename-the-images-in-folder/47105286#:~:text=import%20os%0Afor%20dirname%20in%20os.listdir(%22.%22)%3A%0A%20%20%20%20if%20os.path.isdir(dirname)%3A%0A%20%20%20%20%20%20%20%20for%20i%2C%20filename%20in%20enumerate(os.listdir(dirname))%3A%0A%20%20%20%20%20%20%20%20%20%20%20%20os.rename(dirname%20%2B%20%22/%22%20%2B%20filename%2C%20dirname%20%2B%20%22/%22%20%2B%20str(i)%20%2B%20%22.bmp%22)\n",
        "                os.rename(os.path.join(path,img),os.path.join(path,str(category)+\"_\"+str(index).zfill(fill)+\".jpg\"))\n",
        "                cv2.imwrite(os.path.join(path,str(category)+\"_\"+str(index).zfill(fill)+\".jpg\"),dilation) # overwrite image \n",
        "                index+=1\n",
        "                \n",
        "                images_path.append(os.path.join(path,str(category)+\"_\"+str(index).zfill(fill)+\".jpg\"))\n",
        "                # print(path)     \n",
        "                  \n",
        "                training_data.append([dilation, class_num])  # add this to our training_data\n",
        "            except Exception as e:  # in the interest in keeping the output clean...\n",
        "                global exception\n",
        "                exception+=1\n",
        "                pass\n",
        "            #except OSError as e:\n",
        "            #    print(\"OSErrroBad img most likely\", e, os.path.join(path,img))\n",
        "            #except Exception as e:\n",
        "            #    print(\"general exception\", e, os.path.join(path,img))\n",
        "\n",
        "            # break # for one iteration break/ debug\n",
        "        print(\"\\nImages in class\",category,\"are\",index)\n",
        "        # break # for debug \n",
        "\n",
        "print('exceptions occurred :',exception)\n",
        "create_training_data() #don't use argument aspect_ratio (To use, load function - https://colab.research.google.com/drive/11gfaJEI9Q5D3YhocdW4fe8CK7dbp5uhJ?authuser=1#scrollTo=k1ZLDtYDTtcg&line=1&uniqifier=1 )\n",
        "print(\"\\n\",\"Length of training data \",len(training_data))\n",
        "# ipyplot.plot_class_representations(images_path, img_width=150,force_b64=True)\n"
      ],
      "metadata": {
        "colab": {
          "base_uri": "https://localhost:8080/"
        },
        "outputId": "058a66b8-4dbe-47ce-e7b9-49ea8cca6643",
        "id": "LH9QxXKamL3m"
      },
      "execution_count": null,
      "outputs": [
        {
          "output_type": "stream",
          "name": "stdout",
          "text": [
            "exceptions occurred : 0\n",
            "/content/dataset/0\n"
          ]
        },
        {
          "output_type": "stream",
          "name": "stderr",
          "text": [
            "100%|██████████| 190/190 [00:00<00:00, 2801.04it/s]\n"
          ]
        },
        {
          "output_type": "stream",
          "name": "stdout",
          "text": [
            "/content/dataset/1\n"
          ]
        },
        {
          "output_type": "stream",
          "name": "stderr",
          "text": [
            "100%|██████████| 190/190 [00:00<00:00, 2654.83it/s]\n"
          ]
        },
        {
          "output_type": "stream",
          "name": "stdout",
          "text": [
            "/content/dataset/2\n"
          ]
        },
        {
          "output_type": "stream",
          "name": "stderr",
          "text": [
            "100%|██████████| 190/190 [00:00<00:00, 2532.49it/s]\n"
          ]
        },
        {
          "output_type": "stream",
          "name": "stdout",
          "text": [
            "---------------------\n"
          ]
        },
        {
          "output_type": "stream",
          "name": "stderr",
          "text": [
            "100%|██████████| 145/145 [00:00<00:00, 1716.45it/s]\n"
          ]
        },
        {
          "output_type": "stream",
          "name": "stdout",
          "text": [
            "Images in class  0 are  145\n"
          ]
        },
        {
          "output_type": "stream",
          "name": "stderr",
          "text": [
            "100%|██████████| 146/146 [00:00<00:00, 1830.06it/s]\n"
          ]
        },
        {
          "output_type": "stream",
          "name": "stdout",
          "text": [
            "Images in class  1 are  145\n"
          ]
        },
        {
          "output_type": "stream",
          "name": "stderr",
          "text": [
            "100%|██████████| 145/145 [00:00<00:00, 1806.30it/s]"
          ]
        },
        {
          "output_type": "stream",
          "name": "stdout",
          "text": [
            "Images in class  2 are  145\n",
            "\n",
            " Length of training data  435\n"
          ]
        },
        {
          "output_type": "stream",
          "name": "stderr",
          "text": [
            "\n"
          ]
        }
      ]
    },
    {
      "cell_type": "markdown",
      "source": [
        "downloading dataset directory "
      ],
      "metadata": {
        "id": "CuWKxv7og52v"
      }
    },
    {
      "cell_type": "code",
      "source": [
        "!zip -r /content/preprocessed_dataset.zip /content/dataset\n",
        "\n",
        "from google.colab import files\n",
        "files.download(\"/content/preprocessed_dataset.zip\")"
      ],
      "metadata": {
        "id": "zyjvPsRIiG7g"
      },
      "execution_count": null,
      "outputs": []
    },
    {
      "cell_type": "markdown",
      "source": [
        "stroring data in numpy "
      ],
      "metadata": {
        "id": "O0kXToiYg2I-"
      }
    },
    {
      "cell_type": "code",
      "source": [
        "import random\n",
        "random.shuffle(training_data)\n",
        "\n",
        "# Our training_data is a list, meaning it's mutable, so it's now nicely shuffled. \n",
        "#We can confirm this by iterating over a few of the initial samples and printing out the class.\n",
        "for sample in training_data[:10]:\n",
        "    print(sample[1])"
      ],
      "metadata": {
        "id": "REQDUPNPgl3t"
      },
      "execution_count": null,
      "outputs": []
    },
    {
      "cell_type": "code",
      "source": [
        "X = [] #features\n",
        "y = [] #labels\n",
        "\n",
        "for features,label in training_data:\n",
        "    X.append(features)\n",
        "    y.append(label)\n",
        "\n",
        "print(type(X[0]),X[0].shape)\n",
        "# print(X[0].reshape(-1, IMG_SIZE, IMG_SIZE, 1)) # Gives error TODO \n",
        "print(np.array(X).shape,np.array(X).reshape(-1, 28, 28, 1).shape,np.array(y).shape)\n",
        "\n",
        "# X = np.array(X).reshape(-1, 28, 28, 1)   \n",
        "X=np.array(X)\n",
        "y = np.array(y)"
      ],
      "metadata": {
        "colab": {
          "base_uri": "https://localhost:8080/"
        },
        "outputId": "9a44cc0c-d2d0-44ae-e3b3-9aaecfb23998",
        "id": "307ixoNLgl3t"
      },
      "execution_count": null,
      "outputs": [
        {
          "output_type": "stream",
          "name": "stdout",
          "text": [
            "<class 'numpy.ndarray'> (28, 28)\n",
            "(435, 28, 28) (435, 28, 28, 1) (435,)\n"
          ]
        }
      ]
    },
    {
      "cell_type": "code",
      "source": [
        "# ipyplot.plot_class_representations(X,y, img_width=28,force_b64=True)\n",
        "ipyplot.plot_class_tabs(X, y, max_imgs_per_tab=15, img_width=50)"
      ],
      "metadata": {
        "colab": {
          "base_uri": "https://localhost:8080/",
          "height": 176
        },
        "outputId": "a5b3713c-be6a-4240-97c6-1c2f2abc23f4",
        "id": "FEoY7vNdgl3u"
      },
      "execution_count": null,
      "outputs": [
        {
          "output_type": "display_data",
          "data": {
            "text/html": [
              "\n",
              "    <style>\n",
              "        #ipyplot-html-viewer-toggle-9VXnLsdsZJPyEEqzFeBiGZ {\n",
              "            position: absolute;\n",
              "            top: -9999px;\n",
              "            left: -9999px;\n",
              "            visibility: hidden;\n",
              "        }\n",
              "\n",
              "        #ipyplot-html-viewer-label-9VXnLsdsZJPyEEqzFeBiGZ { \n",
              "            position: relative;\n",
              "            display: inline-block;\n",
              "            cursor: pointer;\n",
              "            color: blue;\n",
              "            text-decoration: underline;\n",
              "        }\n",
              "\n",
              "        #ipyplot-html-viewer-textarea-9VXnLsdsZJPyEEqzFeBiGZ {\n",
              "            background: lightgrey;\n",
              "            width: 100%;\n",
              "            height: 0px;\n",
              "            display: none;\n",
              "        }\n",
              "\n",
              "        #ipyplot-html-viewer-toggle-9VXnLsdsZJPyEEqzFeBiGZ:checked ~ #ipyplot-html-viewer-textarea-9VXnLsdsZJPyEEqzFeBiGZ {\n",
              "            height: 200px;\n",
              "            display: block;\n",
              "        }\n",
              "\n",
              "        #ipyplot-html-viewer-toggle-9VXnLsdsZJPyEEqzFeBiGZ:checked + #ipyplot-html-viewer-label-9VXnLsdsZJPyEEqzFeBiGZ:after {\n",
              "            content: \"hide html\";\n",
              "            position: absolute;\n",
              "            top: 0;\n",
              "            left: 0;\n",
              "            right: 0;\n",
              "            bottom: 0;\n",
              "            background: white;\n",
              "            cursor: pointer;\n",
              "            color: blue;\n",
              "            text-decoration: underline;\n",
              "        }\n",
              "    </style>\n",
              "    <div>\n",
              "        <input type=\"checkbox\" id=\"ipyplot-html-viewer-toggle-9VXnLsdsZJPyEEqzFeBiGZ\">\n",
              "        <label id=\"ipyplot-html-viewer-label-9VXnLsdsZJPyEEqzFeBiGZ\" for=\"ipyplot-html-viewer-toggle-9VXnLsdsZJPyEEqzFeBiGZ\">show html</label>\n",
              "        <textarea id=\"ipyplot-html-viewer-textarea-9VXnLsdsZJPyEEqzFeBiGZ\" readonly>\n",
              "            <div>\n",
              "        <style>\n",
              "            input.ipyplot-tab-hbByzKV5TfZZYRzrG5quRn {\n",
              "                display: none;\n",
              "            }\n",
              "            input.ipyplot-tab-hbByzKV5TfZZYRzrG5quRn + label.ipyplot-tab-label-hbByzKV5TfZZYRzrG5quRn {\n",
              "                border: 1px solid #999;\n",
              "                background: #EEE;\n",
              "                padding: 4px 12px;\n",
              "                border-radius: 4px 4px 0 0;\n",
              "                position: relative;\n",
              "                top: 1px;\n",
              "            }\n",
              "            input.ipyplot-tab-hbByzKV5TfZZYRzrG5quRn:checked + label.ipyplot-tab-label-hbByzKV5TfZZYRzrG5quRn {\n",
              "                background: #FFF;\n",
              "                border-bottom: 1px solid transparent;\n",
              "            }\n",
              "            input.ipyplot-tab-hbByzKV5TfZZYRzrG5quRn ~ .tab {\n",
              "                border-top: 1px solid #999;\n",
              "                padding: 12px;\n",
              "            }\n",
              "\n",
              "            input.ipyplot-tab-hbByzKV5TfZZYRzrG5quRn ~ .tab {\n",
              "                display: none\n",
              "            }\n",
              "    #tabBsLEvDJMLVRiT4KRMndZoy:checked ~ .tab.contentBsLEvDJMLVRiT4KRMndZoy,#tabPnZqWRfjjEpuaLLFsdwEJF:checked ~ .tab.contentPnZqWRfjjEpuaLLFsdwEJF,#tabHa2qwvPcHTHAMxnLC64VMf:checked ~ .tab.contentHa2qwvPcHTHAMxnLC64VMf{ display: block; }</style><input class=\"ipyplot-tab-hbByzKV5TfZZYRzrG5quRn\" type=\"radio\" name=\"tabs-hbByzKV5TfZZYRzrG5quRn\" id=\"tabBsLEvDJMLVRiT4KRMndZoy\" checked /><label class=\"ipyplot-tab-label-hbByzKV5TfZZYRzrG5quRn\" for=\"tabBsLEvDJMLVRiT4KRMndZoy\">0</label><input class=\"ipyplot-tab-hbByzKV5TfZZYRzrG5quRn\" type=\"radio\" name=\"tabs-hbByzKV5TfZZYRzrG5quRn\" id=\"tabPnZqWRfjjEpuaLLFsdwEJF\"/><label class=\"ipyplot-tab-label-hbByzKV5TfZZYRzrG5quRn\" for=\"tabPnZqWRfjjEpuaLLFsdwEJF\">1</label><input class=\"ipyplot-tab-hbByzKV5TfZZYRzrG5quRn\" type=\"radio\" name=\"tabs-hbByzKV5TfZZYRzrG5quRn\" id=\"tabHa2qwvPcHTHAMxnLC64VMf\"/><label class=\"ipyplot-tab-label-hbByzKV5TfZZYRzrG5quRn\" for=\"tabHa2qwvPcHTHAMxnLC64VMf\">2</label><div class=\"tab contentBsLEvDJMLVRiT4KRMndZoy\">\n",
              "        <style>\n",
              "        #ipyplot-imgs-container-div-Xh4vQCYHYwTtSEJ9VKoKrj {\n",
              "            width: 100%;\n",
              "            height: 100%;\n",
              "            margin: 0%;\n",
              "            overflow: auto;\n",
              "            position: relative;\n",
              "            overflow-y: scroll;\n",
              "        }\n",
              "\n",
              "        div.ipyplot-placeholder-div-Xh4vQCYHYwTtSEJ9VKoKrj {\n",
              "            width: 50px;\n",
              "            display: inline-block;\n",
              "            margin: 3px;\n",
              "            position: relative;\n",
              "        }\n",
              "\n",
              "        div.ipyplot-content-div-Xh4vQCYHYwTtSEJ9VKoKrj {\n",
              "            width: 50px;\n",
              "            background: white;\n",
              "            display: inline-block;\n",
              "            vertical-align: top;\n",
              "            text-align: center;\n",
              "            position: relative;\n",
              "            border: 2px solid #ddd;\n",
              "            top: 0;\n",
              "            left: 0;\n",
              "        }\n",
              "\n",
              "        div.ipyplot-content-div-Xh4vQCYHYwTtSEJ9VKoKrj span.ipyplot-img-close {\n",
              "            display: none;\n",
              "        }\n",
              "\n",
              "        div.ipyplot-content-div-Xh4vQCYHYwTtSEJ9VKoKrj span {\n",
              "            width: 100%;\n",
              "            height: 100%;\n",
              "            position: absolute;\n",
              "            top: 0;\n",
              "            left: 0;\n",
              "        }\n",
              "\n",
              "        div.ipyplot-content-div-Xh4vQCYHYwTtSEJ9VKoKrj img {\n",
              "            width: 50px;\n",
              "        }\n",
              "\n",
              "        div.ipyplot-content-div-Xh4vQCYHYwTtSEJ9VKoKrj span.ipyplot-img-close:hover {\n",
              "            cursor: zoom-out;\n",
              "        }\n",
              "        div.ipyplot-content-div-Xh4vQCYHYwTtSEJ9VKoKrj span.ipyplot-img-expand:hover {\n",
              "            cursor: zoom-in;\n",
              "        }\n",
              "\n",
              "        div[id^=ipyplot-content-div-Xh4vQCYHYwTtSEJ9VKoKrj]:target {\n",
              "            transform: scale(2.5);\n",
              "            transform-origin: left top;\n",
              "            z-index: 5000;\n",
              "            top: 0;\n",
              "            left: 0;\n",
              "            position: absolute;\n",
              "        }\n",
              "\n",
              "        div[id^=ipyplot-content-div-Xh4vQCYHYwTtSEJ9VKoKrj]:target span.ipyplot-img-close {\n",
              "            display: block;\n",
              "        }\n",
              "\n",
              "        div[id^=ipyplot-content-div-Xh4vQCYHYwTtSEJ9VKoKrj]:target span.ipyplot-img-expand {\n",
              "            display: none;\n",
              "        }\n",
              "        </style>\n",
              "    <div id=\"ipyplot-imgs-container-div-Xh4vQCYHYwTtSEJ9VKoKrj\">\n",
              "    <div class=\"ipyplot-placeholder-div-Xh4vQCYHYwTtSEJ9VKoKrj\">\n",
              "        <div id=\"ipyplot-content-div-Xh4vQCYHYwTtSEJ9VKoKrj-FaxRzSJyyGSycsHvUDNyUm\" class=\"ipyplot-content-div-Xh4vQCYHYwTtSEJ9VKoKrj\">\n",
              "            <h4 style=\"font-size: 12px; word-wrap: break-word;\">0</h4>\n",
              "            <img src=\"data:image/png;base64,iVBORw0KGgoAAAANSUhEUgAAADIAAAAyCAAAAAA7VNdtAAADlklEQVR4nM2WTWwbRRTHf7P+ims7re1QJ2pSShpLIR9NSwkgJS0XBG3VUwQVlRAcuCJx5Q5CHLghDsCBAzcuqG0CEUpAoFSJ1BalIqEJiZMqxUn80djxOolrr3c4rO14vXYgF8Q77ZvRb96b/7x5O0JyWFMOTfxHiP2gSSkBIQ6DzN/KOH19l/4doqk5BBNfJt2Bl9s6PI7q/EV9kf/6akogopG84gyeeular+egKOqeDo/v3rhvuHouGl137545amsYRZtZ2RP67J0ldX/Mcey1N4aCjaKokfH5J0KPrGoAXq+2uwuFxJRTGQza6yIy8uONRQm6BPB1ndpZj+wBa99J/YK/HpLfHPt+pVBynj/p7+3KPFp9MKuip6a0wFmPsCLx6dEZI3s7rVfP+cOtT2Lxnx+qwNL2xbDbZkWmP1swPkauSmfPcZcPV5s/UZp0u4UlsXxm6jbQFHAdH7lWUcvR+dxeElA2NzpLByortvzJIEDvhzfvJfZH5e7cBwBN5z9KGQMVJL/+zXAAmnrfv6tJs42e9gCO12OGWyme9OSt2TQE33y7u/ZCtLzSDmgZ3XDL0zL953JWB9dAt6e22lv6Q4Asq1/eUXEruq0ArtYj1JqvI1C9elkxmXoQl4gjbVYCxVT7ZaS4trCsgnjmnNuK6JpeB1G/vpkG9EvvhKxIOZjThORu/w54QsN9DQnyW15nFSIUgL4r4cYE2/dc7YKapvRUf+AAJDExbyRY8gWAzXZQW4v9cEdWIwav1J5itWnRLaCm+KU8qKnbAs0mRADoel3E67YDdL51RdRGURyOOnvRdzaSewAnrodNUSQo/lDQZUWy3/6RWAEoerHsRShWxWRsdnRBewyKN+SwIHoqnirUIrnR0ek0RWg686IZkTmguDimDDiaKsll81p2dWImbizYf9ZcY9gA5iJS84VOl4bUpW310f3pUofxDPSYEe/1wKRKMfvTxrGOZ906gBKbS2RTG5s6OFwtFweGgqWNltq43Jn8+LeiBHwnutwaIGzxxaQGIJrbj3a9N7ivUvnw1sbGf00DuH02CSBymSKACAyPtDb3eatULFnh4acna+UCIPjqF1lTj6qIbG/rcNRFut8dNl/u/XNxhi+v5iisJAu6Uc86/pC/2Tt4oc28RtVfLK9qUiY+/yWVNzp8gRcuDz2tOL32hohh43NZzVCzSPh8jw2LWRDTlbE8E+oi/2z/25fS31Ugiy4sEspKAAAAAElFTkSuQmCC\"/>\n",
              "            <a href=\"#!\">\n",
              "                <span class=\"ipyplot-img-close\"/>\n",
              "            </a>\n",
              "            <a href=\"#ipyplot-content-div-Xh4vQCYHYwTtSEJ9VKoKrj-FaxRzSJyyGSycsHvUDNyUm\">\n",
              "                <span class=\"ipyplot-img-expand\"/>\n",
              "            </a>\n",
              "        </div>\n",
              "    </div>\n",
              "    \n",
              "    <div class=\"ipyplot-placeholder-div-Xh4vQCYHYwTtSEJ9VKoKrj\">\n",
              "        <div id=\"ipyplot-content-div-Xh4vQCYHYwTtSEJ9VKoKrj-nBUnSyRKxff2DVbEGWgNN3\" class=\"ipyplot-content-div-Xh4vQCYHYwTtSEJ9VKoKrj\">\n",
              "            <h4 style=\"font-size: 12px; word-wrap: break-word;\">1</h4>\n",
              "            <img src=\"data:image/png;base64,iVBORw0KGgoAAAANSUhEUgAAADIAAAAyCAAAAAA7VNdtAAADt0lEQVR4nM2WS28bVRTH/9cz47EdvzAOjkkT4Y6xklQJKQqtUAhRCkJqJTZQCZYRnwHxEfgCsGDBhg2rCqEiFIWWPoDQgKqQotYlxEmaNnGdxHHcxHY8z8PCj8xcT4BuEGd3557f/M85c869wwhPa56nJv4jRHR5RkQAO/Zlbkj2q7wlDE/7/y2i6/rcZ3ng7FCGfAFGYEwQHB6ML/Ly/T+vX9GB0GAQr56XdRLkRPLvVMqbNxaWcjqAg1+BLUPWyeMfngjb3TiVq99e2dQ0o7mSQ4zAxKnp0/HjVA42rl3N2t6hqgCA+S6akmxuZLPsJ2edmTbM4/uoYB152VWMfDZvAvAmRxQyAQC+4uxjWPXcPSnmGlh9M1cD4Hl+/J0J0gEA4aXlAgEbt3qOQVZ/PwAQf3Na6YbViCmZkHRCbuaVITfErBa2wOTE2FvjaDefP92/rqN0t+haMb2qA76hcxdP2pR9E6VLZUDUibWrcbS7dX0NkJQzZ+wfQehJCgCMews1FyT76S1A7HtOtREgtW4CqM58WehAKgs3c3WgKx5ldkRInkqHGMzd7VZLHOWy+80NBibEYkHHoEgp46fdKjGfvzMXKu6ZQKQ/0+2cLeYVGQBDU3nEOqyqAIv29oe4cdQtAKjv7WjkQMwnaxtlAvMIDJwxwcNA+38srugOxCo/3KoCkpKReSQwkJZA6vbmjuVIn8rFskkIvv1ujEe63xNv1wFBbDV5E7HUwzoBYl+CJyAl+kQAjLVCbuVKZAGw6h0EgLrlWHLlcT2hZacT9xHcCOuQAKAdmNvR57Ty7OUKAF0zyBXpkCHjwaUfa4CnKxzwuAbm5RHj4S93dgksMvByWnIiZBEAI180uUTu/pw3AAqnUhFOxbIsALUfrh1wyPycCgDRRKD1qJmLJxJ/Zt+E9pu/56VIc2t9oSZ59uY2TDkajE+ORzlETContqtkLNdSwRERAOjJ9x8/DjFzX6PoqDL4xosCh7Bw77PeCmCVcotquhswlmZnVtCYd5/y2mjqqLQtxJtQVis6gdbnH4xPMvPRzc/vN3YEnzI4Omgva6tFakvffbGiQYgF/ZkRSSss3W5IyGPvD/T3dtmQtl7gtPhIzKnmzg5WFyVtv6IDQDCcOv9BAA6z3S+1tctfZysA4GVkWAAgTp0bGUhxLWFrmMCpQ1O/YwHQGlmnY8nXJxROg+ux4RPF9VJ7lfpwLO73STzhROSeC6FS+4jLTL7Q4c7lAjT/ElpbzHV8Oi/xf7b/7Z/SX9Ede/aWnuJ+AAAAAElFTkSuQmCC\"/>\n",
              "            <a href=\"#!\">\n",
              "                <span class=\"ipyplot-img-close\"/>\n",
              "            </a>\n",
              "            <a href=\"#ipyplot-content-div-Xh4vQCYHYwTtSEJ9VKoKrj-nBUnSyRKxff2DVbEGWgNN3\">\n",
              "                <span class=\"ipyplot-img-expand\"/>\n",
              "            </a>\n",
              "        </div>\n",
              "    </div>\n",
              "    \n",
              "    <div class=\"ipyplot-placeholder-div-Xh4vQCYHYwTtSEJ9VKoKrj\">\n",
              "        <div id=\"ipyplot-content-div-Xh4vQCYHYwTtSEJ9VKoKrj-eVvfMGg3HvnhgMLEHqkcGs\" class=\"ipyplot-content-div-Xh4vQCYHYwTtSEJ9VKoKrj\">\n",
              "            <h4 style=\"font-size: 12px; word-wrap: break-word;\">2</h4>\n",
              "            <img src=\"data:image/png;base64,iVBORw0KGgoAAAANSUhEUgAAADIAAAAyCAAAAAA7VNdtAAADw0lEQVR4nO3W7U9bVRzA8e/p7W3pAx1jBcaEdoAjgEwZgyybEtiy6DKJGk3UxPd76Tvjf+Af4EsTE9+IZgka92Juc0FwxLCkE8bD6BzjYbaOh8JKRx/vw/FFSym0zPDWeN7d3z2f+zu/c8499wrJQZvlwOI/RawlYqYuZTqj5eZSCKdb+TeSeqTHJx8sprJXirvv45oXERneUhbGU1sT08v52POac74XkOTA/fK/ZuNGKr0Tu5dMfmLbj8hg4EbQ+WwDAPdRt7GwBUTHf7L2+vYh0cGr80lydXv7muQPAYDU9SAf2UqSuZFfH2byV0p5q786sLLwICO1uUGtx6+KvcSMjgxMZAAsDpue1tLr9o6TfcHhlWWJcSviOVxZRJa+HZrcBBC+npeXZqY2Rk9eUnweyx+JTUguzbd6bLtJZvPO1aAGKB7/6f7W0dhsbH7BUNSqk11rMybEV9cb99TyZOD2vAZQ8UFfZ5ViRGOQAfD0rQRNILNdZY6YyT9/CaQAcay7/6wXw3+mLM4pATjaF8cXY2iPZrscuaWQUkqZvv/FMQHgunJtXZdSxiN/h0JRKaU0tcBnr4HF0R/O9s1lSY4OrUtQatvf7K4EcDq3RyysxnIUzOTG7oElhod1wH76nTeq2dtWJsIA9twS594XY0MH0Dp7vaKI1JxrAMhsGIUEA8DmP9WkFAl8l1oBYuMhWUCEAOj7vKMYQEVzNcDSl4OyoJbsaJovHy1FyiqdALF7LcVZ9NLnoGnsilsB5NRvy+D0vlRWXDuAlACeE50iT8xvvk6A93xHeWmSbf5Pe3cIazHAVV+tluxrKbcBuDrqCogTwOqyl0ximptpQDiPKDu15B6mljqhiNyaeTIO1qrGMvYSPZmWJdKsXb8ZAdTGltwqFxyw8VBEL5FlK64B2NvbbIXEBIjNhoqJDI49NQSg1tbsyqIDbAbmMkUk/f1XMwkJqNbt3WcFECeaQwmMxNjg+QbyaS08XXgWujlrwKFaV/MruQnLkdfXB5eAO2GOqKoVYjEEqvj9x8nQcxNovljX0F1pKSQt8dsA+uPvHjfVeR3pu9OAIuamwjpQ3vL2W4crtgUiu+NWrvyc3ZPqmbZ6T/zaWL4YIUT7+5e7CsrLrcuhD503ogDadNil6ks7Hcq9FRfeO04xUS8oqzPaVgai0WxE8agmSHvb8eqeVylBLN6z+vzy0MOdG5Xv+lISzd3V4KjYPe9i++0xwpHVkbv5sKWxvz4l0ZzNHtiHoBtGMpUPY3VbTUCoRd9s8f8/zAHbP0sff43+GEvdAAAAAElFTkSuQmCC\"/>\n",
              "            <a href=\"#!\">\n",
              "                <span class=\"ipyplot-img-close\"/>\n",
              "            </a>\n",
              "            <a href=\"#ipyplot-content-div-Xh4vQCYHYwTtSEJ9VKoKrj-eVvfMGg3HvnhgMLEHqkcGs\">\n",
              "                <span class=\"ipyplot-img-expand\"/>\n",
              "            </a>\n",
              "        </div>\n",
              "    </div>\n",
              "    \n",
              "    <div class=\"ipyplot-placeholder-div-Xh4vQCYHYwTtSEJ9VKoKrj\">\n",
              "        <div id=\"ipyplot-content-div-Xh4vQCYHYwTtSEJ9VKoKrj-8ew3a89GLwra7mEK6Dh8U6\" class=\"ipyplot-content-div-Xh4vQCYHYwTtSEJ9VKoKrj\">\n",
              "            <h4 style=\"font-size: 12px; word-wrap: break-word;\">3</h4>\n",
              "            <img src=\"data:image/png;base64,iVBORw0KGgoAAAANSUhEUgAAADIAAAAyCAAAAAA7VNdtAAADrklEQVR4nL2Wz28TRxTHv7PrH7FTx9hySAh2RBzUSKCUKg4KIU4patpICKJWlUDlxgGJC1L/mB57gFsrtRWoFAgRQWmbH2obNyYVSdqGgB0c/COxE/9Y27ve7WFnnGV3bSk9MKfn9+az78133niGKDjo4A5M/B/E0jycScnuwEEQpRRZlrpHj3AgGi9ptvyl75aSssvfd/aUr3kWWRQEUeEdpDr5dRIA/GnlTIulCSKXl39d2oSrv/LX8wwA4PWdbDocaILkZhd+jpSAdWGDeqT4jD2oEUHRjz8G250EgN26P8k28MP+BH0WMT73tAoAqGi81firvVae/tBvZWF6ykz3/OuE2GgtZP0fiYU6g0drgphcKQM1SW60fDH2PFWj8OEzI+/JudJirAxwHGmEfPN9JE+/5xm53uOFsJuzAYCsmCO13cm71OS9oU/GCIB3vDwAeXOls8UM2VlOUYs7NHQjpGksaSrZ5zVDCi/zTIWhi2E3AEiFggxASUUzCjFBijtlatmvfNaq1pqg6toygkNl3tiX+HxSNbrHTrnUiDQ3WwIAVBajVZMsK9NZ1Qhd7WCJp5+oWpXmO07Y9Uh+YzWnWo5j/Yco8XKbqlvbZeprCkvNrKphrj3QpSqqpJ+VaNTS6eMNhcUmV1TDGQw4VUt+EaWlwn35nEOHKLV4NAMAFufJc0H6QenvP2mtaAkFoUNqmS31g20Dlz5lR728vMgKk+uHoY5s31sQAADWjuPd1CemEnRvueCo24BsfrWqKsJZFbbP2TXWDZZLXxxlM+uKSUma2fPBcdZcGw/Z8ec8nXZ9FqVIG5X0fuxn5Ufvx6hpJftnjCLC7H21htahMdaxO1OTCXrcYD/is+iQyuKcKo1zZFh1iULk2wWmkmeg1wUdQji6E9auLh4AlI1HM/PbbNaFL3uhR2Cx0M52u3lAyq799mApwxbiDQ/CiNQH4QFkZm//nmdnB4fH+2CCKLRhi0/Kx5Bdj8zVi+L94YleM4SN3K2Hg8K/6aJU93g/mhi3mSDEZlXXolRjkpjWTOganhhsgQnC+zrYXy4SmjDnOn3hfBvMEPtw8R5Mxrvhi++36Z3sCng26jEAvPvaT3nDbVJHCo9vGBDf53d2ZANSV6z1w0rqRXprXyl4Tp4Ih4yptbdYcevHm35NZPxpek805HjjFnM6zzra1zYLPCDbAm6M9JsJorv3Fchbv7yyEVTbzveANHisGJ4K8T2eoGbvafy4afq6MB9v53H1HxgSuSLs4pPaAAAAAElFTkSuQmCC\"/>\n",
              "            <a href=\"#!\">\n",
              "                <span class=\"ipyplot-img-close\"/>\n",
              "            </a>\n",
              "            <a href=\"#ipyplot-content-div-Xh4vQCYHYwTtSEJ9VKoKrj-8ew3a89GLwra7mEK6Dh8U6\">\n",
              "                <span class=\"ipyplot-img-expand\"/>\n",
              "            </a>\n",
              "        </div>\n",
              "    </div>\n",
              "    \n",
              "    <div class=\"ipyplot-placeholder-div-Xh4vQCYHYwTtSEJ9VKoKrj\">\n",
              "        <div id=\"ipyplot-content-div-Xh4vQCYHYwTtSEJ9VKoKrj-hy4JsgtGYmirFov3D49esH\" class=\"ipyplot-content-div-Xh4vQCYHYwTtSEJ9VKoKrj\">\n",
              "            <h4 style=\"font-size: 12px; word-wrap: break-word;\">4</h4>\n",
              "            <img src=\"data:image/png;base64,iVBORw0KGgoAAAANSUhEUgAAADIAAAAyCAAAAAA7VNdtAAADbUlEQVR4nO2WTW8TVxSG3zsfbhxPEjs2sU0SWkc4iREkJlGDQAUhEEoQQlRCahdlg1jCgmWl/gD+BhskVFWISKAqbSqVlkaluCmBEEIcYqj8lXRI6ng+PZ65LGLHM8ZGyZ6zu3POo/eee885dwjFbo3ZNfER2bVxzRw0L1NKAMpwXu/OEPnOvGURwHR1nhj/IFJ8tMoDIGTt3rJlEcDiO/JibMBTCyH2ginr3JPvZgQGAClLRsXFEuGbK/3uxirLj9IvZ1W1TtjC+nT5/OeB9xBqWtLMrcRmRRwUvIdniFnUQfHiteUa8ZI6RH6YzCaeVAi3R1OsTy/2t5H/f3hcNAD1J0kZ7eLsCC2lfnycWdOAFlIC1//Z5lvx8JejPAzNlRUlWUtpAz17HCpG6rfpf3UDYAe5lBm6cLqQzfUGAfAXxxbSqzOz0NeLvAMpJ/9OqQC4vceNnL7nwDFFfOv2EQDhcHgtnZuFthDq7O2wqywtAQACo+f+mzbaW1nB3U24rXzDAW8XoP6ekSaOkRrCLq0YXCvvPX1yqHBZiewnpFZ8HCcwAFWTU8GjNmQjmacd+/zRy2Mk9C1AnBdjAABKiRG6vTHrztQiRdvQWDzG1McDIJ5oPFUAaKmWPr1/E2BCRyai9dEVZGB0owCAd14l2xk/1dOQAHh/d2tttYW4AFboibqaIKRF4GurnXUltWwFb0M+MDep3WdX2eGsrSEM3ywVwNXCNkKskt4U0VWzAVIW5x5kmxA0cTcDAAqA6iFTwCou/uHf2yC+JCu5X/8CwLWHbIgKAEq22EgiefupuAIA4avjzDZCDsaXJcjJhL/d08na48U1+c/JZwDABY9fGARQHUriy+sJsJ9Eh3sOTvjsyPeT0upCEQCCl84eEWwbCwixlYKpLG4E0l1DPs4CAPLmH42ZfKDpMgBEvhgf2SKqZakdWHqqopTOrHbpMY8BEJBfbuQFSd2635YzX4144UD4/X3zAKXI/7wSdJkAAXn+CjIAoG0wEjk1vL3hCsL1xR5qlFKYc3P2XAgB4x4eP3rIXzuVqkrfiVfPxJxRf8I+nxL9Otod8tladXuMr0/Np5+/cQJEiPUW49fcdV+riLkubc4tWPaxTpn2wxFTqO9Vx2OReU1ZB+KOtuI9c74v5TovwzXoWvLxH2aX9g4WS0iMAHLWmAAAAABJRU5ErkJggg==\"/>\n",
              "            <a href=\"#!\">\n",
              "                <span class=\"ipyplot-img-close\"/>\n",
              "            </a>\n",
              "            <a href=\"#ipyplot-content-div-Xh4vQCYHYwTtSEJ9VKoKrj-hy4JsgtGYmirFov3D49esH\">\n",
              "                <span class=\"ipyplot-img-expand\"/>\n",
              "            </a>\n",
              "        </div>\n",
              "    </div>\n",
              "    \n",
              "    <div class=\"ipyplot-placeholder-div-Xh4vQCYHYwTtSEJ9VKoKrj\">\n",
              "        <div id=\"ipyplot-content-div-Xh4vQCYHYwTtSEJ9VKoKrj-aGnN4mgvwuWiJZy8GeynyP\" class=\"ipyplot-content-div-Xh4vQCYHYwTtSEJ9VKoKrj\">\n",
              "            <h4 style=\"font-size: 12px; word-wrap: break-word;\">5</h4>\n",
              "            <img src=\"data:image/png;base64,iVBORw0KGgoAAAANSUhEUgAAADIAAAAyCAAAAAA7VNdtAAADxklEQVR4nL2WXWgcVRTH/zOzO7vT7FfaNEljotmGNAlr3Ca6LtYqFStYLRaKiCCIaFBBsT7piwQfC76pL/qoLwq1KFopoqEtNQ+GNoZNmqKwoYZdZk3Sbjadnd3ZzBwfZu587aRYHzwvc++59zf3nHPPPfdyhLsV/q6J/4KEdh7SUSrKwoP7/x1CBqdVNJqb+V2c4nuinGeQC3R/5hxP6w2SV/8Wxge7jz7j+2G7qGunQqJkz4hMrcjrtYbOhoNWufTlTNHd7xtO9U9kR2N38KV4purpl8vok/VBhgQFuVltU61fmVNZ27fK5m10pDp6dUGvK269Vp4/f2hYDEC2Cqs0lL/nESWqVRZb7pHW8meVtwOQiz+Ub9FjuYMvqFFBLV39acsZovr1pVabYfrm2Y8B6K90jWjRwSTOVxYbHLV0a1iRt9uQwqcXAaB0Vp3V4+/kkZuW1V2Vr64S2wc2l21Qs3RaAMBF9j+dATC9fJuIiOSTHEuX3C83iYjIRv54Iw0A0tj4XgnAvS/+qhERyU/aViSPfK4TEdn7olxYAQAylDUVwF+X5QYBCA0NiCxoG3WvL5zpZrNoWS4aOnGA9Bz/zZqp2XfyEOdCmoWZTdM1ezcMAoDw8HDYUux+NO1epf79tzV4xHKajyeY+/FMl6my4tZQDAQJGTqLMWc5ZSFcRAquAqRpDGE271guqO0gadY3tOMM74FHuHdc9CLwu8L5kD2njic8iL62qduj+zJ7wkr6PtEDSQ+NeA1rFWVnmcn3RyIkREMehIvAi1DDJkKpsYNxe6YgsSomMBULctieFM9mOpyfbyt1KzDOPy1klz2pZyrnRJ7KX/xsZpLqR/hkpGk24pPPOmahtvzdAgAgsjfsQ4REckMHgM6Xjzt1Elj5rWo2HjjW7fNFnHw4ajkVcQD1xqXZLQBIHDj6VKdjLRER6Te/7jGX63qtZhfnwof5mAAAhz9aUOyabB/kxcetLD/wScGq5vOn81bsXl1oOFXeRorvZc3I86kPTM21d+8XrD2Z3jYcxM6x1OEbZmyM6jlelLpQLs4WWRIZ9j7ClZaxyaUf6+aU+XmucwgLLNnBh6NwC1vOaF5+K+OoYzGnPTo9576xXLfYrQsvBd6c4ef/1N2I61TGJ7I9AYeU7x/r9ahdHSGRO9F2Y0McOpbv8Ko892rpdclHCOk3rynkEY/10b4TyWrpuly3+smBgcH+iVHfkfbdyKTXrpyZW22FAGwj88SRbCrkIwKeChtL5arBAzDQnU7vbnNuh9fFHeX/eVz9A804ASUVK0VeAAAAAElFTkSuQmCC\"/>\n",
              "            <a href=\"#!\">\n",
              "                <span class=\"ipyplot-img-close\"/>\n",
              "            </a>\n",
              "            <a href=\"#ipyplot-content-div-Xh4vQCYHYwTtSEJ9VKoKrj-aGnN4mgvwuWiJZy8GeynyP\">\n",
              "                <span class=\"ipyplot-img-expand\"/>\n",
              "            </a>\n",
              "        </div>\n",
              "    </div>\n",
              "    \n",
              "    <div class=\"ipyplot-placeholder-div-Xh4vQCYHYwTtSEJ9VKoKrj\">\n",
              "        <div id=\"ipyplot-content-div-Xh4vQCYHYwTtSEJ9VKoKrj-oTYFm774S7haknXxJTHh5y\" class=\"ipyplot-content-div-Xh4vQCYHYwTtSEJ9VKoKrj\">\n",
              "            <h4 style=\"font-size: 12px; word-wrap: break-word;\">6</h4>\n",
              "            <img src=\"data:image/png;base64,iVBORw0KGgoAAAANSUhEUgAAADIAAAAyCAAAAAA7VNdtAAADqklEQVR4nM2W23JTVRiAv7X3zrFpEpKW1tQ2FhuBisUDlUZOoqOMjsMMXuCNT+Az+BQ8gXrheCWeSkdBGQUL0sJUaKuNDLGH1E4awm6Stjmu5QWh3UkaSm8c/7u1//Xt/7j+tYRip6LtmPiPEOPxaqUQiB0h9yZT7UcDT4JUSmslBKhfLs/3GP2eFpdFKbZMcurP76ZsOkLOL+Y8vR2dZ95obqW0Zt5fliSnv4ohEEqBuWDvjgzZdK0Jkoz9MT6ap1zIgKLqgSwmYp0et7YVko2PTszOxBsiy9wQJw86t0Tufnt+WkprpDZRAJW5Ok6Hz2hEsrGRC7FiddHVJkG3+7X7iwlUOfejp/XZekTJ+PCFMQkITcc1uK+iMJztxuLvaysScUt/bY+oQ9bjP5yPSwDXi4O6PdqrFJru1FYH/KMxlEqaeaeoRVI/X5oAjF2BrpNvG1qk5ZEiJFQqWyJ7O3zAUYvEP58CCHw05Ap1CrFZbu9xVsdmMT/NfFyHrM2YQNeRd16tS7EeHMyVltfLf/9VH77DDWinPojQIJ1nUnfmyrire6v1KV0ZWQVH1/793kbE8OyyCVgYiSmLlcxnX5rQ+lzI3UgAhQoQ+6TQJzaQ0lIiDbg6nmptckwF5FO5zVhUatoEtNDeTvvWBIDQLHVRv309B3r7ibNPNyc2QwNgdvIB6N7IvsfurTbMQ9cNuwbUNPFWm62I9tDNZpNTVhQgi2ULso3kchUJqvrHbYYSAOmxSVNC+PQr4kmRue9vmkDkw4jFsVKhAvVT8ZGsxycSAPixIC3+5iXM3B6/mwHcPuupFP1Hlkya5GLm3PWkBDEUdVit9B7eDbJSzWKNjRvDF+8VEIGXTg3arVbaBgIgi2Z6dx2Rnz53KQ1o0Xff7LEiGF4dZPZm17E9NTl4cOvilWUAvWcg7MSKUFJA5nISb7vVq+kvhlMA+IK+jdaoIka4ex5lTn2T8Osy3Le04LDJfC49e+0fAPqOR0O2OsR+cG7VlJg/jdtV5fDrkxMeVyWTzOUzIHTNe+zsoSB1iPOEt/XaDKxkNfg1nk4ZNlHIlSWgv9UbiL7spx4xnvGhkrkSUkIisaHWnd6+08/7eizEZo95j5Mbn7WmSyhE8MD7gyGvraY3NhA9eCjbPadUOrlU1EDZ2zraMYL974WpE8tdWc4XyuTvXL+64oCi/4XoUZvQ7O6GXrd8MDweoCXQu2qDckvP3iazo+FG3rghG54ITZHt5X/7UvoXxn1bGFwGDUAAAAAASUVORK5CYII=\"/>\n",
              "            <a href=\"#!\">\n",
              "                <span class=\"ipyplot-img-close\"/>\n",
              "            </a>\n",
              "            <a href=\"#ipyplot-content-div-Xh4vQCYHYwTtSEJ9VKoKrj-oTYFm774S7haknXxJTHh5y\">\n",
              "                <span class=\"ipyplot-img-expand\"/>\n",
              "            </a>\n",
              "        </div>\n",
              "    </div>\n",
              "    \n",
              "    <div class=\"ipyplot-placeholder-div-Xh4vQCYHYwTtSEJ9VKoKrj\">\n",
              "        <div id=\"ipyplot-content-div-Xh4vQCYHYwTtSEJ9VKoKrj-fkxwD6HXKij76jY3vkx4kF\" class=\"ipyplot-content-div-Xh4vQCYHYwTtSEJ9VKoKrj\">\n",
              "            <h4 style=\"font-size: 12px; word-wrap: break-word;\">7</h4>\n",
              "            <img src=\"data:image/png;base64,iVBORw0KGgoAAAANSUhEUgAAADIAAAAyCAAAAAA7VNdtAAAD5ElEQVR4nM2W3U9bdRjHP+f0tKVrR8rW0kJbRMaEuWwwRybMxKkzkS0LiZkXXhhdvNTExJj4N/gPGI1RE+eFF1M3TXQaiXFB5st0GyK2pIIIY+UdSlv6ds7v50V7+gJlgZvF5+rk9zyf53m+v9ejSHZr6q6J+4Ro93IWdCq7QPLxhFSE3e3aISKT6wt3F4RqOAN+j9O+E0T//ObK7KJUpCPgDZzruQeSno0bEmDuyu3UsgAI1zfu8Xid2yLRd6+nBIC+mhGikCW7+tn6c921kNxafOnfW4PRzS0KoYc5URNZ/n08/ONUviLYZlONrA4k/5xYdStbEH3sk6mFSVGZ/+SAmor8MQJy40vxgs8clkXLx94qK1Q1TQVejUvjhzeaNICOr7NGIbJUJTUSTpeQYGc6Np3jt/cH2o/W7R/8Hph5Z+ps0FLVWHw4UmxWrXc/eTwZXlsi8kVHe8MJjzEaz7HxTf7wflcVkhj8q6jDOfBy015j7NclVJsKSvBk+OdJyM/PtjmVMmJMD48nAFD8vQOnAOuj8TlDANh9zQ6ATCpbOWPpT68Ulbh6Xz8G4HjWcjmvC4BsWgdQVaUCycyMjBVSNJ7pP+YCcDyienLBFgDv43cmdFDrbEoJkYnJWEKAzal0vdJTOHXWgO8JVBtA8Hz0Ox1ENi/LWjJrawLU7seCBw6Z51SxWs0vi0MB5i6pzfYSkstkAEv3i4fNsGozAJavtp63Y579gi7hO1ibMC0ry/IVVQHN43NuE6sA2P0PVKy+RVNgX09wu/QqQOilZ+wlRKzEshB4ur02IDeSAthzMFCuYkyMrEOo/0BtJB29awDGRqY8yfnwzQTY3NvcHWOXbuiAUdgLZpUIYGRqAvn5axfnAQpnyJRv1E4PIG59/NMCgOpt8ZQ3DBYAZcv9nE+LXGzwowSAo+14a325itQBrPWbkalvV5JTkRQAwddONVNG1H3upM78UI+/sqPFmaGvVpKxJICz9fSZkOmRUsr0e6cbwNn5gaywlQ+P+J11NhVA7X57Omc6NACtvSu6SioytugFjIV5oVrWR6+OFrP6upvbnyrVKDRmCXW6AG32Rl8DIvbL9azNPnftjhnT92abdS/VCJomATFycbiB3OpEVLdoiX8A7H536Ejv0artWlxw1apIxPjfVg1h5Mwr02LreDjYc85RPY8agOLpaAnnQep6lbPr+Qc97sZNRLGKq60vMRtPGMXLTwFpd1vpv+BlqymFJzQ/t7QydDnhkEVA0Q9daMIXstRAilqsoRBuknXFUakYD5211QivqAKQ3ZDl91paXZsf7xrITu1/+w9zf5D/ACfCk9AYXkVKAAAAAElFTkSuQmCC\"/>\n",
              "            <a href=\"#!\">\n",
              "                <span class=\"ipyplot-img-close\"/>\n",
              "            </a>\n",
              "            <a href=\"#ipyplot-content-div-Xh4vQCYHYwTtSEJ9VKoKrj-fkxwD6HXKij76jY3vkx4kF\">\n",
              "                <span class=\"ipyplot-img-expand\"/>\n",
              "            </a>\n",
              "        </div>\n",
              "    </div>\n",
              "    \n",
              "    <div class=\"ipyplot-placeholder-div-Xh4vQCYHYwTtSEJ9VKoKrj\">\n",
              "        <div id=\"ipyplot-content-div-Xh4vQCYHYwTtSEJ9VKoKrj-jmosMWek9pQNGb7eg7vxat\" class=\"ipyplot-content-div-Xh4vQCYHYwTtSEJ9VKoKrj\">\n",
              "            <h4 style=\"font-size: 12px; word-wrap: break-word;\">8</h4>\n",
              "            <img src=\"data:image/png;base64,iVBORw0KGgoAAAANSUhEUgAAADIAAAAyCAAAAAA7VNdtAAADcklEQVR4nN2WS28TVxTH//d6xh4/iOMQ6pg4TkJjngZqobQilFRNpLICihpRBCu2IL4EHwEkPgAbhCokXmrKS4CKUNQmihWqgkOxoXFwjLGTGNuTjH3nshgnc/0CsqlQz2IWZ85vzvtoCMdaha6Z+F8hUkMtY5zKa0PmEyVP3ycjiTwl/ElU885vbLd9EqJeijgs+nS87AkOHt70cWRxNvHPzecK1dN5JFPvCl125gj55ZoSEXFg/vzt1pSqA+AcoLJDonn/meEWt7MZUnx6ffRpviYKMrjF3T/cVqXjFdFLU2f3VMwopZRSUrFQRh68WWZ8VVa9FB7fvR3LAQCsnRYGgoVs5VXPNx2BkUBt+lyLj975CwBA3cFdEgPBTEQjtLzIMJOxdrd9v85hI2IuWuzehbgKAGg5NhSmHMCLsYKspH5JA4Qq/p7D326xil5KzyfiKoBtPgQOfb0BAOBbr8pKcm7sNTgrRF+EdutVgZWi0wDgOPUTLK5K0x27OEgPa7uoAYDbaSVVCIvGSsCO74Z9Zi2pDYCtX2p9NpVWsTzu32oTi5wYIgBOvyrzWtF19vuJbgDS0aShMYaBZYocAHFZUCuE0J1HQgDKc2lmeAcAnogUAItiXWJ1CAD3/j4AyE4muIlcOfcK2PjjPk+TJaUA8O+5KwISmcgBreE+O2kE6NTbqwC5iYiJwChFsytIW/ce6TLNqPBsykgbAs464w8SgKYKdREQi2Jthsh24QwICFOXmyGS+DVh92evejY7GiMKyrVeOABk/xhPquU6c6blUtGXuVWzihdjU/D2yWJ7Z83M6Nm5R6NzmZRpJgEACYXjCwBm7n6xab9fZN6mssnY/dsAAGcwZHSac855euwAACht3qFLKXGOLx8/uM/vMvDwozTnnHMjsPb2Q9rkApaWoN147ZP1lUTZtYfLRSMcp3dvv1G2yu7r6fvnJ1UA1GE1Tz7heZUbSbv6BoZ/cAnpg3oH1Gs3GaDX3j4A67b2+lwd279UICJA4IT0LMZgHFfTDwG17z4wsF22uFem3GyldRC/PuaSvrAoIB5PMfhzsLPDI2yF0P3uo3a7Lpdn/15aeU9c27refXXSXh1n1eXPZDgpvRzPVwrAaUu4l7n8+AACAMhNF1cRe7DB0NUjeslUUanBMahHPiqf7d/Ff4O8B1f7doNcfYxWAAAAAElFTkSuQmCC\"/>\n",
              "            <a href=\"#!\">\n",
              "                <span class=\"ipyplot-img-close\"/>\n",
              "            </a>\n",
              "            <a href=\"#ipyplot-content-div-Xh4vQCYHYwTtSEJ9VKoKrj-jmosMWek9pQNGb7eg7vxat\">\n",
              "                <span class=\"ipyplot-img-expand\"/>\n",
              "            </a>\n",
              "        </div>\n",
              "    </div>\n",
              "    \n",
              "    <div class=\"ipyplot-placeholder-div-Xh4vQCYHYwTtSEJ9VKoKrj\">\n",
              "        <div id=\"ipyplot-content-div-Xh4vQCYHYwTtSEJ9VKoKrj-4YX8w8YEvyrc23vKiduYr8\" class=\"ipyplot-content-div-Xh4vQCYHYwTtSEJ9VKoKrj\">\n",
              "            <h4 style=\"font-size: 12px; word-wrap: break-word;\">9</h4>\n",
              "            <img src=\"data:image/png;base64,iVBORw0KGgoAAAANSUhEUgAAADIAAAAyCAAAAAA7VNdtAAADxElEQVR4nL2WS28bVRTH/zPj96O2YzvYbUKcYPpIAgmW2lCQ21QVRVWlUglWoEpdIJQNOz4CEl2xgY9QVZUAoT5EsyGJQwIVhJZHcNsEO7ES202dpLGnHnucmbks5uG5tktUFpzVuefc3/zPuff4ygzB8xr73MR/QSwdo8IO0b+lcDaXY2+EZB82EaunN07V0gmRFr+da65Y66lL4X9BZLEqIZe6dZcKJj3OZyPbC9fWIWwVqWDxp1D8mUj151vfVNsKLaX8jrC9uSYma/x1MdDh1C3e8cuZ5i5K5d71H5/ovjMRaaQzAACJ/03xjfcZ/ZhVPrU3Nfqvrac/1heM/eTltU4qpCLqLhseGT4QfS+IxvKDJRFEXNx3tqe9faVU113f/peTIbAnTkCevp4XAWyl80NcG1KYvq+7b130RwIAAC7x+GsAQHkhMmRrRdYml1XHHT533oh2DQ7wAgGkldzBNuRRalN1jk28aeqw+11nSgLAcUxLYcLybB4AEBi5cNZrQlgLAQDWam1tf+2zKYYAQOLzmNtE4MnUrzIAsKymol8E2fijRADYDx8f3meeALKVKxMA4mK6QSFyKVsDALiSY3UTALn0945a+J1fRKqwp1duq71zfj81ZUaCiHVCIcKNlOpwAS+F1G7O6IkgR/ei6IUMxahJ9ekbHKOjNkoF6gky0aOHfObeNx4+1Vz38UQLoprtow96zGvx6pUlXS75Co04VH0Sj1NEYeGesejWb0srldGuSaBEy+lNw+caumcBADI/uwoAtqiHQurrZa3g0FgySiPffckDgPulLjOhFLO86nkOT5wBhaChXn1Xv99ElKZm5rXXyRXrRgtid1cIAJvL2syISzdS6mxbnEde9bQiskQAYKfAGwny+w+r2p30nDrzRqgVcXpqCgB+pazHt7OTd/LaHEZOn4yiFXkhxgsAhMy2Hp+7Ob0hSqofPEKdigUAmJF35HRdgVL5XoY71hvazkzOZLQd3mPnXrSbEfXpkwoTEQsAWB2OvktX73/1YcyY5+HJqmx+H7Wnj/PyggIAu7vIzW5MFx/ktdFmvAOHXJSGPmN8oWKEsllzvnfQTRP6jJEaOps0ctTZEtJUrAOrDaHeBiB40Jh5w9SHCLX5P1fn7rYjn7wfCdiZjiqOsb5cONSormyak77I+Gvtn9FUoMiSWBeXv7jNSrKec7z+9vnBdkT/IbOs1QkES/FG5dEuAwCKr384sb+dMFSgi/HFbM0CgEgHRl0MszcCQNzZ5QAQxevrsL8jsqf9P3+u/gFtKIf27INIowAAAABJRU5ErkJggg==\"/>\n",
              "            <a href=\"#!\">\n",
              "                <span class=\"ipyplot-img-close\"/>\n",
              "            </a>\n",
              "            <a href=\"#ipyplot-content-div-Xh4vQCYHYwTtSEJ9VKoKrj-4YX8w8YEvyrc23vKiduYr8\">\n",
              "                <span class=\"ipyplot-img-expand\"/>\n",
              "            </a>\n",
              "        </div>\n",
              "    </div>\n",
              "    \n",
              "    <div class=\"ipyplot-placeholder-div-Xh4vQCYHYwTtSEJ9VKoKrj\">\n",
              "        <div id=\"ipyplot-content-div-Xh4vQCYHYwTtSEJ9VKoKrj-esu6CBthZCW8VXphkN6bfZ\" class=\"ipyplot-content-div-Xh4vQCYHYwTtSEJ9VKoKrj\">\n",
              "            <h4 style=\"font-size: 12px; word-wrap: break-word;\">10</h4>\n",
              "            <img src=\"data:image/png;base64,iVBORw0KGgoAAAANSUhEUgAAADIAAAAyCAAAAAA7VNdtAAADs0lEQVR4nM2W308UVxTHv3d22B3Y2UYEXFl+dJEa0ya1ihSVWkl9QqI2RWijNk2aPjTpP9CXPrQvTROf8MWkjSZ9MNFo3NhWQ0SpP6IYokFqBZUfrhZx6QIusLuzO7Mztw9zd5l7d2iiT56nmXvO554f99wzQyheVqSXJl4FkfnXS8MEtGFTjQ/A44tJjxnYuYGIDHWIlfoCAD48NmFZZvp4FWQEe57qFuWE8zJ9dwwA7h032qbH7g/FkcPMicmPN69aObCxP2IAkLixxnw0eMuu5eCEnHmn0r9SYEdqS+3F0JaGQN5AenPL3ojTyoGkJr9aqUhf3llwRe7/0MQsiFikVbv6XdOf6XtSiBZAQ8CUzGgadnanzOZ8ERzI87upvBdQlLeHNZ92btheMX599FOLiLwYuJgEADTuH/0doQ0bO9YashF+ivHfFgEr83C4ulrmKzb6echunt2JMxU1nUeHs0zRH7bT+fp8Sshl9u+4Ze9htfaUBOuCXqbw+QAA2q3Q9jI+MG3WAAAiK8m6Q85qScFoFoARjebYQl5TZsNysFYBJ5XN6yUARJIIl74xOZgBACitraU84lUVAgBSfneGLB2LzAMAAt3tZTySjc1TwHG+DDGnpwwAxFfToPIEaC4HADSrUy4XUuaXAJBAvVcgYJkWAEiKwudCWKQ+tURE0hMJCkA9uNfPIZZlH4pHFoeB8exxEgBWd+7kc9EXlixxe1uGbmoAiFxVKCRDckmdJcsDWqx/IAMA3nKPgJiau4/xvrMPMgCoz+8TEJhugBa7fGEkBQDy+x+tFpGiYQUAU71nbtsBV3YfUETERVL/9EVGsgCApq4dyz3xP0j8UuRPFsLubx21FxDJs6ybP3fPfli7udl5WgKip1ixYS4MDbBZUL61HsUIZTdybmSWKeYO96bZY9awXBDZL5sUoJm4nS+iVyMTTKU2Lo9OB1JaHVg0AUC2O1n75eQzZqFu3bfvDRdEIqbdKsnz8gfAg+u9k3kLb8u2KrgglLKznO95sn6NFTkSL1hUtLxFiQvi/8RzagkAqH7zx3L9cqxgsKd9Y0Bojfzo61/n1jMl9adzVJDCuVTWxdLFSFfXdo+4VkACrQt/ibdMDe/vdHGdd6eNf1fUbx0XZsWo+E/SlU9rOReNbT8bLoQT0Wa+cRCk+fuRRcsNcQSjKB0JPZOdGgWApvc2bXvbJQ8Indz27mLixbV/5+RcxWfdoaIh6Iaoqp7Rgo0pj+nfEXa92gBAXtefq/8A93YT4VyYXsoAAAAASUVORK5CYII=\"/>\n",
              "            <a href=\"#!\">\n",
              "                <span class=\"ipyplot-img-close\"/>\n",
              "            </a>\n",
              "            <a href=\"#ipyplot-content-div-Xh4vQCYHYwTtSEJ9VKoKrj-esu6CBthZCW8VXphkN6bfZ\">\n",
              "                <span class=\"ipyplot-img-expand\"/>\n",
              "            </a>\n",
              "        </div>\n",
              "    </div>\n",
              "    \n",
              "    <div class=\"ipyplot-placeholder-div-Xh4vQCYHYwTtSEJ9VKoKrj\">\n",
              "        <div id=\"ipyplot-content-div-Xh4vQCYHYwTtSEJ9VKoKrj-635ZfFkm6kfhvfsivZc3af\" class=\"ipyplot-content-div-Xh4vQCYHYwTtSEJ9VKoKrj\">\n",
              "            <h4 style=\"font-size: 12px; word-wrap: break-word;\">11</h4>\n",
              "            <img src=\"data:image/png;base64,iVBORw0KGgoAAAANSUhEUgAAADIAAAAyCAAAAAA7VNdtAAAEAUlEQVR4nN2Wz28bVRDHv+/trr32Jv4R50fj/CRN3ISEJDQKUZsGiSYpCHpqQxWlEjfEFW7wL4AQJ/4A1CsHJJQCKghEgCB+mFISUrVp4tTBduO4SW1vbO+u93HY9XqddaX2woE5rHbmzeftzJs3oyUMTyv0qYn/COErL7pSKOiEcR6Pizwhkvnxj1gZcPedOf+kX0lfvxEDgFOHXWHJWpYLIFT01Efk3xMAgJ3P4gsL1vIXNzRv6Mw8dSJMTqxsKwCA4maicai7sVAE5Xnt5rLiDZHRZsGBlO58/FW2YiqsuN6Yim3BGwyUsuVyPr++NtbqQPY3fv3HMrFNYUj8+i+EBrrYIXFBY+AcgbHd27LNxjK/7H2+jo5zw40yL/AIeJxI+XCvaOrSRJvK8en1uyoe5T1hmna5ENVeeZFqRPLbECWdNHIn0sjrgwWS/SQKQBTahrqkhwz70ayblrjwmEgsRL4VzQEAhKVL/UGNpEIAwJir82rfR1sAVtOkTEaWhpsspBSvJD/zMoDD1BEA6GU0TPR9uasyJJMA4k1kSqggpFIqRQGAn95fBwCtoALc4O0dzVhMXlNOtViHbCLNva0AEF/RASA00QHw09nlB2Vjv/hWsVoXUyaWRgGA98gAMPpmG+C50Lp5UDRbV6S2/Q3xdTYAQORyL9C1cLlHBIjU7rV8SPWQK6LkVQA4/Tb9tHHmndOGUdaOjYcaRNcZAEgDi8Ni/5C5OVO0xyOE5ykAMGlullrRUElUaxB7Lt7mFhEACOH4qr1xfKCilPRjCOc/ccINh/imxwwnIdjqOoa4Qp3tLicSmDtrRB+cnfYfy4UTG+oQOLq3pQMAPL2d7mMI08t1CMQ/+NZIn/JG29DqU5MPsroTYck9ozC6uUiByrVUD5IPVCehcuasEEQjJNtN1h+lsw4C93/bVRgA4j750jPVFjOleP+Wv1uwjVeml+WNaEoDAMKHxwPVr+hGGyO6n3ktYhsNpYO93b8TRrB6Pm+ejhEYR3UAyGRCbtojWsjOz/FEattAGgZHqA3hfeKRoa5mMD9oIasf7mmaUgIA9L8347Mhnshza8Ygk9eXU71tza0+fX+jqFxfq8D85MVzLbAh0ng8Zc4+9ZvvSO8Lkz3qn9dSrFra8NXFAOwI9fq8vFsvMoBpGu6UYk3lxLbtLM9fmg2hBmF88CSEg4S5q75tdwe48JW3bKpxYt3zw6l7PyRRX6aW5uyqea+DEW0lVh+QIq8uhuwGq/oKoDn9ATz77mSgxmAhpCXyfE7L5Gr9wz3Bs3M+1EfEiO7O5b6/WahZnr4y1tKAxyDE1UdLRx0TWXufCRem2x2REttcY2BywT7oGPV7nf8N5H/0p/QvBb5my0yfQyUAAAAASUVORK5CYII=\"/>\n",
              "            <a href=\"#!\">\n",
              "                <span class=\"ipyplot-img-close\"/>\n",
              "            </a>\n",
              "            <a href=\"#ipyplot-content-div-Xh4vQCYHYwTtSEJ9VKoKrj-635ZfFkm6kfhvfsivZc3af\">\n",
              "                <span class=\"ipyplot-img-expand\"/>\n",
              "            </a>\n",
              "        </div>\n",
              "    </div>\n",
              "    \n",
              "    <div class=\"ipyplot-placeholder-div-Xh4vQCYHYwTtSEJ9VKoKrj\">\n",
              "        <div id=\"ipyplot-content-div-Xh4vQCYHYwTtSEJ9VKoKrj-hWsPxMVqmJXWMJoaJ34HeW\" class=\"ipyplot-content-div-Xh4vQCYHYwTtSEJ9VKoKrj\">\n",
              "            <h4 style=\"font-size: 12px; word-wrap: break-word;\">12</h4>\n",
              "            <img src=\"data:image/png;base64,iVBORw0KGgoAAAANSUhEUgAAADIAAAAyCAAAAAA7VNdtAAADrUlEQVR4nN2Wz08cZRjHP+/szu4s+wsodKFAC4JYSQmtAfqDBGxs0wYxIV70ZuKp/4AX7x68ejWpVQ/GaNLUpAcsXkxopW4rrtFSGoEWdqlQFihbdmdnZ14PuzvMLFtML8b4XGbemefzfp/nfed9nhGSFzXlhYn/FeJ93ovCdkEU76TX53e6PRdJXX4QFACW1dw3dGhfJL1oAIVfr86VELPl4caJ9kbbQVRspZmf+CgNyNyGXspTqlow+uG79uROFbkwt/as8FPcxktXXd9KXRVv1tp+tlnpK6MtmqZWTU3tuVP2c6g8vnE9vmoHrBQ1tCH11hZgLE1HD6vuwKQR/9omFG9MfawLy6JmNJL63QSUmw2xCmTr8sTMennQ0j2kTa2ryQVpNHW8lpkHcnfbz7nSNzd//qqUticSiPadfF2rW/P/EVhrbmwdXEvlwEimCi4k8/n1uZJC+J0jwd7uWmU8r/zZvx45Ej2ZSqRMhEcRLiT/2+0MQE19U+9bh9W2GmiC+uaMLxZ4qTP6lwkej8eFCNWfNYH2kfHekF+UngY6LOEVkUbNAyDcKsWxP3bh4unw7rILFUB4LQuknp7virhWDCB25u0hwR6TigJyZzkeDAvs8+L3CuD0+z1VCOp6YiDN1dkViY0Y689MoO98fRWCg2c6Afk0lcZG5Mw3iYxVzRuAprG+YmrO9JfuLOeBQnUk0BIFEELZRaRQquVQtuzDFQAp5W5gCPZD1ibvAXh8XgeyL8H8t78A1NQVT3YRLORNAF/VsBanHzwFoXUMdzgQtVh1spbYK7c9fXsbUIKdIwewEdE1OJc2JN9r40f3ymymcwBCKR1xBUC0D7T6BEx/cb9yd6xccmnDBLAKeXZVCLRGvACFzZ2QG9mJT048sgBTN6RDBSUc0gSIbCL+xI3kpiZntwEig70+J4KMRDxgrl77LJF1IdlbiWKp6f7gvZAzMPynNr7MQ35RNDyqO/oKgL48r3tZuJ8FPAeOXzhVW56mVPaMH9sA8LW9/OrHUkpp3vtk+NjA4LEQwMHR73SrovQJb8fYD3NAPgnXsgoYq7MzOyoyD976kbF+xzaX2c0bl8I+T9UPJzZ6JW1rOAps8Hi0/+7NRLWefuJSX61jrt0W0NAw0B0JJ+XOhlHuhlKEgj5f3RsXXaXd1V+21zd1Y+rTZLD4Ct1/7mxXSG1sdYm6Kkw4DNQ/WQmWxrr/7PAhKq2yi0E+Y5YDl0LT9nbGvcg/2n/27+LfQf4GK9lwQ/UvYtgAAAAASUVORK5CYII=\"/>\n",
              "            <a href=\"#!\">\n",
              "                <span class=\"ipyplot-img-close\"/>\n",
              "            </a>\n",
              "            <a href=\"#ipyplot-content-div-Xh4vQCYHYwTtSEJ9VKoKrj-hWsPxMVqmJXWMJoaJ34HeW\">\n",
              "                <span class=\"ipyplot-img-expand\"/>\n",
              "            </a>\n",
              "        </div>\n",
              "    </div>\n",
              "    \n",
              "    <div class=\"ipyplot-placeholder-div-Xh4vQCYHYwTtSEJ9VKoKrj\">\n",
              "        <div id=\"ipyplot-content-div-Xh4vQCYHYwTtSEJ9VKoKrj-5aCw68BbM7MfPV58BpvyN9\" class=\"ipyplot-content-div-Xh4vQCYHYwTtSEJ9VKoKrj\">\n",
              "            <h4 style=\"font-size: 12px; word-wrap: break-word;\">13</h4>\n",
              "            <img src=\"data:image/png;base64,iVBORw0KGgoAAAANSUhEUgAAADIAAAAyCAAAAAA7VNdtAAADq0lEQVR4nL2W308cVRTHv3dmtrM/uj9YitBll0rAShQYBSvEJaRqsRr00RhNNCb6YnxU3/wjjA+NiTGa+GBfjIYYfxJLFLS2JZZWQLSULT+2tNCyzu7sz5k5PsyPnVl2afHB+zJnTs7n3u85956Zywj7Hdy+if+CCA38i+vMMMptA3eFUP7HaQYGgBQp1sruAtn+bfKCGVdZU546eQekIqts4fyldet9c7XQFfPviay8nwp1UKnq2Pkm8+JzeyD62uQXaXEgcSSq76RNV2q7ayQoNERyH03cQvniymvJ8uQp3XTmr8z1Rxshy2cn51VQQY1KPnFjdtVc54/Pm6sIyDVOJUMMAALvXi4pM69aQXz4dDXGtcqFmZkbBQIA9XwsHul7wT+1AADQ/vm5XQrWE3b2PZ4TKgCgpZbkSPDk0dyicWz5mWC7hbjOGJ/NFo2U1ZHxCMDihzym/KuXt7AbUVbW9VJeBwDvkcdHggAO3P+oMTfJaxm7TappnRntEAQPAwDprTmdiIjSP/SbcZ0TFb0m/WJ66ifL9jz0TMI4Yoejgze3VQBQmSXIFrb12feWzdqGHwubtno8aZwvjudYTcW2Z5dMsYL07LDPcrOmsDFT4dw9vaIbub122ySan347YNeESmVjJvkrT1cNwsmm4U8+crBaRiqXCAyESuqa5hKmZzcVQ4jQOdZD1TbkAiFDmC7LbiT36ZcZAIAonTiecDSueEz5NkMASNdVcxbjUfplOg8A8A2N3VfNBOBjPaIpUdkqOxF7+IcHeLfHnBv69flNcqVvTNAzah9YuwDWM58pOHMBYwDgef7lOBoNTuDrCfNHDjREbNQt4tp8dp+IeuaT6/tE9MXvdhrHUj0EEHy1gfa+aqpWF0Fqq6ypTofdjP5WY49rP33ZifxQSG1xbGfFYmKDxi+gFsn/Ki8FtOZ7j0UAQF1Y0WZzAADf4Fib9e0gIqKbL3lNzbxH9HrDo1NERHT1ne7EIWPFjg83Kq7ep3zRSlIDULz4wRQA9db0FbMG0Qf6DrsbmYuEFM2hTz7t1svF+u1/mVmx4OtvtmCPoUXavZZtriImDy6fU7LFBoTY1NstWi/MKqHy51/zX//eAHlwfLw3ZBXXLnJgsLuznFst1QHE+OiTUth+dexL8GFP08d/10ESrwwddfSEA+HEHiYsZW5slJytXGmR+p6IhxwIc117iIrLs9MZ0eFRpDdaGZyXBVZ7UyqlV4vOVXZfSHYhdx7/z+XqX+kHed+en3qaAAAAAElFTkSuQmCC\"/>\n",
              "            <a href=\"#!\">\n",
              "                <span class=\"ipyplot-img-close\"/>\n",
              "            </a>\n",
              "            <a href=\"#ipyplot-content-div-Xh4vQCYHYwTtSEJ9VKoKrj-5aCw68BbM7MfPV58BpvyN9\">\n",
              "                <span class=\"ipyplot-img-expand\"/>\n",
              "            </a>\n",
              "        </div>\n",
              "    </div>\n",
              "    \n",
              "    <div class=\"ipyplot-placeholder-div-Xh4vQCYHYwTtSEJ9VKoKrj\">\n",
              "        <div id=\"ipyplot-content-div-Xh4vQCYHYwTtSEJ9VKoKrj-EeKuNEu3d4NBedAbdEXjNk\" class=\"ipyplot-content-div-Xh4vQCYHYwTtSEJ9VKoKrj\">\n",
              "            <h4 style=\"font-size: 12px; word-wrap: break-word;\">14</h4>\n",
              "            <img src=\"data:image/png;base64,iVBORw0KGgoAAAANSUhEUgAAADIAAAAyCAAAAAA7VNdtAAAD00lEQVR4nM3Wy1McRRzA8W/PsC9YYEmAJewiqAmB5RFiEoNaWiYEjWWlylf5OuhBc0iV/4dnD14tPVklsQzGKkuDJpTxEQUSgYA8Axvez7DsLrO7M9MeWDaZfShcLPs0M92f+f1+3V3TIyR7bcqexX9E8nL2mBKEEHsgW58OGErlKw27IzIR1sToZzeg0uu32Wy7ILGRL38mPAwsd4Zq6w/9KzEjI12XBravE70bh+/GfR7LAJGxlOH+zouzsZ032u2+9hfP/GMUMzF2+cfJ1K2uRzeEy+cvzE0iodD1z2cAhMvYDiWHCyrb6nMRfbm7LzQyYwBUniscGxwHMOaGjuRMLDr51dcaIBz5jpPnK290BBMSiI6PN3iU7GRzekYDUJ5u89XUFrQuTvx1D9jsN2deDWQjMjHWswTgrD37uh/wHnpkPmyTWnxxbbUlK4nPfP/FKkDthWe927WZznJfYsAgsbQhRRay8G33LOBubm+vUQFIxOLOE+rmnCZD/Q31zkwy9PEUQO1Hj7qTtZp6tOiJ8pXfpuXWd+KDqnQSHu0e18ETOHtU3Xn28LmmguN48sCY/P12QXLWUmT18jWBUKvfOXN/CwXqQYzrOhCe/rPSbbcSubJuIJ3exqr7uQoBCCkBwqFo8l07K2RuRTRQqxt9dqxNKgqAaRjSUosZujN7z8T90pveNIFQFQGYhoklirEenI+A7UijK53k1x+0gXC5XcIaZW1pxQRNTwdQ9pa9RyOvwl+uWoixtrwlqWjKSAtspSUqoOu6tXxjadGE4+/XZZJEcDIOiaXZFdNCtL7BGHgb9mWS6C+9GmCkyk8mFusbBlzF6TMMcrGrJwYUFRdYy5c6gFAyP46Lvb0LJmJ/3VFfnoUIG4A0ZZrRQ39cm9RAFPkP7iSd+5sMwFLvJz0RwIxEU/NvIYot/SAY/OanVRCKKxBwZiV5GdVf7QiBmm+vee/54jQiEwADnaeqdzpMMX1TE9fXAX9rxUNPlZJGhAJwNai+sR0ovqkpP3y44A4BrhMXAsUPZJO8dD65PmSgT1zaavAYyNjyrQXl9gQRYP9rLzRZVjhJ8ttjqwsmetedU1UxYUbvXpkFhECoLeePWetLEkcz679O6IRGwwUmUo8sADgOxD3Pnc5xvqilx1a2pnSIjKV6HM7aRq3s7cfSd0SqrMLT8xctPaX1La0t0ubN2EMpopQ+/vLU8lwCoMRfhqOmrrmhLH04WE6x2MbNKx1BoPDku21Im91uV7ORB+bbUd7qLAkC+w4/cyDb2MwogJQSEGT7Q8hBdtX+t39KfwPRcnloFtxukQAAAABJRU5ErkJggg==\"/>\n",
              "            <a href=\"#!\">\n",
              "                <span class=\"ipyplot-img-close\"/>\n",
              "            </a>\n",
              "            <a href=\"#ipyplot-content-div-Xh4vQCYHYwTtSEJ9VKoKrj-EeKuNEu3d4NBedAbdEXjNk\">\n",
              "                <span class=\"ipyplot-img-expand\"/>\n",
              "            </a>\n",
              "        </div>\n",
              "    </div>\n",
              "    </div></div><div class=\"tab contentPnZqWRfjjEpuaLLFsdwEJF\">\n",
              "        <style>\n",
              "        #ipyplot-imgs-container-div-5i6VxxiJYuagkTJhLc95ve {\n",
              "            width: 100%;\n",
              "            height: 100%;\n",
              "            margin: 0%;\n",
              "            overflow: auto;\n",
              "            position: relative;\n",
              "            overflow-y: scroll;\n",
              "        }\n",
              "\n",
              "        div.ipyplot-placeholder-div-5i6VxxiJYuagkTJhLc95ve {\n",
              "            width: 50px;\n",
              "            display: inline-block;\n",
              "            margin: 3px;\n",
              "            position: relative;\n",
              "        }\n",
              "\n",
              "        div.ipyplot-content-div-5i6VxxiJYuagkTJhLc95ve {\n",
              "            width: 50px;\n",
              "            background: white;\n",
              "            display: inline-block;\n",
              "            vertical-align: top;\n",
              "            text-align: center;\n",
              "            position: relative;\n",
              "            border: 2px solid #ddd;\n",
              "            top: 0;\n",
              "            left: 0;\n",
              "        }\n",
              "\n",
              "        div.ipyplot-content-div-5i6VxxiJYuagkTJhLc95ve span.ipyplot-img-close {\n",
              "            display: none;\n",
              "        }\n",
              "\n",
              "        div.ipyplot-content-div-5i6VxxiJYuagkTJhLc95ve span {\n",
              "            width: 100%;\n",
              "            height: 100%;\n",
              "            position: absolute;\n",
              "            top: 0;\n",
              "            left: 0;\n",
              "        }\n",
              "\n",
              "        div.ipyplot-content-div-5i6VxxiJYuagkTJhLc95ve img {\n",
              "            width: 50px;\n",
              "        }\n",
              "\n",
              "        div.ipyplot-content-div-5i6VxxiJYuagkTJhLc95ve span.ipyplot-img-close:hover {\n",
              "            cursor: zoom-out;\n",
              "        }\n",
              "        div.ipyplot-content-div-5i6VxxiJYuagkTJhLc95ve span.ipyplot-img-expand:hover {\n",
              "            cursor: zoom-in;\n",
              "        }\n",
              "\n",
              "        div[id^=ipyplot-content-div-5i6VxxiJYuagkTJhLc95ve]:target {\n",
              "            transform: scale(2.5);\n",
              "            transform-origin: left top;\n",
              "            z-index: 5000;\n",
              "            top: 0;\n",
              "            left: 0;\n",
              "            position: absolute;\n",
              "        }\n",
              "\n",
              "        div[id^=ipyplot-content-div-5i6VxxiJYuagkTJhLc95ve]:target span.ipyplot-img-close {\n",
              "            display: block;\n",
              "        }\n",
              "\n",
              "        div[id^=ipyplot-content-div-5i6VxxiJYuagkTJhLc95ve]:target span.ipyplot-img-expand {\n",
              "            display: none;\n",
              "        }\n",
              "        </style>\n",
              "    <div id=\"ipyplot-imgs-container-div-5i6VxxiJYuagkTJhLc95ve\">\n",
              "    <div class=\"ipyplot-placeholder-div-5i6VxxiJYuagkTJhLc95ve\">\n",
              "        <div id=\"ipyplot-content-div-5i6VxxiJYuagkTJhLc95ve-MJTGthy5LcDW5UZneQaMNo\" class=\"ipyplot-content-div-5i6VxxiJYuagkTJhLc95ve\">\n",
              "            <h4 style=\"font-size: 12px; word-wrap: break-word;\">0</h4>\n",
              "            <img src=\"data:image/png;base64,iVBORw0KGgoAAAANSUhEUgAAADIAAAAyCAAAAAA7VNdtAAABHElEQVR4nN3WvWoCQRAH8P+q6wcarUK6NFY2RwRThUgaXzCtha+QIm/gIwTxA0TIcWKaIIGc8bzs5AVmhgyImGx5x29nlpn9cATrKJjFiUiJ/0wEOGchefL02r659QYSj0ezvu8aSHgeLr33RT4xdvk0f0nL2H9+/56gAoTtJvkyEAD7ZPV+MJAA7OJlakkMAEIW+B9K9UtCKc+2Lf8kETbMsRPjTx+t+vWqlXxM1/xUMlk8HtrcjEqUdLKyJgYEdv06sUc5TSktRNj1GvFacPafu2iaSTS4kgnbMO6uGL/ZoqDW4u8JhWTC2aoQdQiElOcATyjPrKR8ed0EYLlfGp1+5KS+4TdyoXVf76V4YLvfCeskIsDxvfGPXko/1LhIJ5oFceUAAAAASUVORK5CYII=\"/>\n",
              "            <a href=\"#!\">\n",
              "                <span class=\"ipyplot-img-close\"/>\n",
              "            </a>\n",
              "            <a href=\"#ipyplot-content-div-5i6VxxiJYuagkTJhLc95ve-MJTGthy5LcDW5UZneQaMNo\">\n",
              "                <span class=\"ipyplot-img-expand\"/>\n",
              "            </a>\n",
              "        </div>\n",
              "    </div>\n",
              "    \n",
              "    <div class=\"ipyplot-placeholder-div-5i6VxxiJYuagkTJhLc95ve\">\n",
              "        <div id=\"ipyplot-content-div-5i6VxxiJYuagkTJhLc95ve-gR5jfvNMD5HtWMyCqwmmJK\" class=\"ipyplot-content-div-5i6VxxiJYuagkTJhLc95ve\">\n",
              "            <h4 style=\"font-size: 12px; word-wrap: break-word;\">1</h4>\n",
              "            <img src=\"data:image/png;base64,iVBORw0KGgoAAAANSUhEUgAAADIAAAAyCAAAAAA7VNdtAAABdUlEQVR4nNWVO0sDURCFz90HEhM32SAIGkUT4iMgprCxsU8l+Bv9AYIIYmmlECxEBEVEE4WQVUKM5mV2r4XbBM4u9wqKnubCDB8zOzM7IyR0ZWgTv4RY3CwlBIQOMvLOXhbzSxpIUDvff1rfnk7StCnSOdh77N13Z0sZZWRwVQXaN408TSymYqbJ7fzzTSCRnU9xJ49iGZhaLqRtDcSX6NbvWkONxHyJt1vH62tEAQBIyac8rmKCTwxFxNijESVK/wuRY89PRQn1jSLrI0Kn+1/yh74uMnh+DdSRAAC842pPGREGADSPTrvKiOk4BgCMaDMpYi+sJAHApiWjSGJrN8fsMYiVW3UAwKCbjFfsox/oIjKQANC4aLEcKBKO1/VhylWNEurhpK6cWKh3j/Uy+vABWKsUNaIIAChW2O3jiBABAKQLjnJik3MlrzMQ2QxzcyRT3nEvm/YMHcuIQ+VsuuW2uTHBnCJiWUlIgP/8UUiM/uwa/wSMFVy3mpMQhAAAAABJRU5ErkJggg==\"/>\n",
              "            <a href=\"#!\">\n",
              "                <span class=\"ipyplot-img-close\"/>\n",
              "            </a>\n",
              "            <a href=\"#ipyplot-content-div-5i6VxxiJYuagkTJhLc95ve-gR5jfvNMD5HtWMyCqwmmJK\">\n",
              "                <span class=\"ipyplot-img-expand\"/>\n",
              "            </a>\n",
              "        </div>\n",
              "    </div>\n",
              "    \n",
              "    <div class=\"ipyplot-placeholder-div-5i6VxxiJYuagkTJhLc95ve\">\n",
              "        <div id=\"ipyplot-content-div-5i6VxxiJYuagkTJhLc95ve-SxDnZJd52FSFkxU2D9vQAW\" class=\"ipyplot-content-div-5i6VxxiJYuagkTJhLc95ve\">\n",
              "            <h4 style=\"font-size: 12px; word-wrap: break-word;\">2</h4>\n",
              "            <img src=\"data:image/png;base64,iVBORw0KGgoAAAANSUhEUgAAADIAAAAyCAAAAAA7VNdtAAABz0lEQVR4nL2Vu0osQRCG/57pnZ1F0bOjeMEbKyJqYuIFAy8Y+ABGB9/Ad/EVTAQTQTAzMTHygIiCIgYqKuh6V8S96vScYFaT/W26RayoqZqvq4v6q0ZEsDXHmvgOIrk73D6XMtXTbYE8rm34fjCbEcbIze7ukZR+51hL0hCJTjaPcwDOrgOC0PLDvfUsAAhh+rDw+fioBAAuvZA5S5e3ZfatBgmLpVgT0mePYIhw3figQmWIfNr+4gHxftHK2A5OBkcss8D8YZ8DYVw+FLtci8gg7bO2a5BkJhO4doiQCaGZb1pL4bWoqYZqLHudi7MU3g2Rt/uHIgDATfskrO1+9wQbfj4RFW/7ZIcp8mFBps4W8Wo9W0S9W88Ltx9ChFsRZURlwxBVrpTgOEzQVDBP+fjgeUzQrPtX/64AQHj19SzMfIdLWQBw0q2tplleLkIAUKGbIFFaS6IGACAcPmcaJffMjdsivfNN1K/ZY5JWwrNEAOAk/7yZI6oMIDUwkDJH2sZ3npCcHpKnF3XNjdV/y6jabtdngK6tfG6h9+9ytirMsjQOz3Whoy+Vf717JguNrkWlIjguCiur/VMjDSa1fGyYxGhD0FZjlkVvvzP7/wEX0JtNAaJIGwAAAABJRU5ErkJggg==\"/>\n",
              "            <a href=\"#!\">\n",
              "                <span class=\"ipyplot-img-close\"/>\n",
              "            </a>\n",
              "            <a href=\"#ipyplot-content-div-5i6VxxiJYuagkTJhLc95ve-SxDnZJd52FSFkxU2D9vQAW\">\n",
              "                <span class=\"ipyplot-img-expand\"/>\n",
              "            </a>\n",
              "        </div>\n",
              "    </div>\n",
              "    \n",
              "    <div class=\"ipyplot-placeholder-div-5i6VxxiJYuagkTJhLc95ve\">\n",
              "        <div id=\"ipyplot-content-div-5i6VxxiJYuagkTJhLc95ve-hp5nR8wnH5tctmcetH2dks\" class=\"ipyplot-content-div-5i6VxxiJYuagkTJhLc95ve\">\n",
              "            <h4 style=\"font-size: 12px; word-wrap: break-word;\">3</h4>\n",
              "            <img src=\"data:image/png;base64,iVBORw0KGgoAAAANSUhEUgAAADIAAAAyCAAAAAA7VNdtAAABsUlEQVR4nM2Wu0sDQRDGv72HifFMihgS0QiKiEVUfEIKS+3E0n/Hf8TS1s5KsLAQOyE+UAhaGOMLjY+oF++xFrny27AHIpnq2Lnf7c7MN7MnJOKaEZv4J8RSrEsAIg4SNGsNpPPpXm0kvK9W6igujWoj8u1g97yBqcKg9sHCj8r+HeBPZgd6SDwUcR+fADzspMYGiZ8lWQauD8C7qn2FxE3rIsw26lE1dSxloI0IM2kKAMKkxWSInS/N9APo7aMMQ77qXsYCjD6HFpotVrYPr5uAnXFs9kWG3OxVAwCy5dL42Wc+bkMA8O7uXd26+N8SAKTfYgRFDDt60E+y77I3OyLpkYSiIZVIeXOF9lZkLMmj2ff65WesXeCU14cBKAYGRYxcMQUAhkUTSvduuQEAhJ52i7XHGHC6dUJ8qtEHADg+m5jX3UVEcf/4+geLLGmTRY7ITrdO194vf4dE8Ye6vQ9AtNe15xhgWm1VJJg4OJIqDPUDVm4xT5xcYwMLF09HMre2Ma2NJAqlWjOYXV1mglEoORwu55y5ceoVXE3hy/NrasQxYyCAVP4qKBG1da0sfwHSrXcdU9sdpgAAAABJRU5ErkJggg==\"/>\n",
              "            <a href=\"#!\">\n",
              "                <span class=\"ipyplot-img-close\"/>\n",
              "            </a>\n",
              "            <a href=\"#ipyplot-content-div-5i6VxxiJYuagkTJhLc95ve-hp5nR8wnH5tctmcetH2dks\">\n",
              "                <span class=\"ipyplot-img-expand\"/>\n",
              "            </a>\n",
              "        </div>\n",
              "    </div>\n",
              "    \n",
              "    <div class=\"ipyplot-placeholder-div-5i6VxxiJYuagkTJhLc95ve\">\n",
              "        <div id=\"ipyplot-content-div-5i6VxxiJYuagkTJhLc95ve-A7afc9TSLe6fXhv8WpciXM\" class=\"ipyplot-content-div-5i6VxxiJYuagkTJhLc95ve\">\n",
              "            <h4 style=\"font-size: 12px; word-wrap: break-word;\">4</h4>\n",
              "            <img src=\"data:image/png;base64,iVBORw0KGgoAAAANSUhEUgAAADIAAAAyCAAAAAA7VNdtAAABt0lEQVR4nL2WzUrDQBDHZ/PR2JpC1dr6ARahB0FEWhG89Cji2VfwAXweH8GjF0G8evLgSbAKUhQq/bbGJK2bZj1k46FM4qQH55Jlp7/M/787uykTkDSUxMQsiIZPu/dvmmaUywkQ+/JmLr14kgTxG49aqlBLIEyMBjYwzUWTuH2vzwGYqidAXm67AIw/3/VRDVicV+YBmLF2dIUkMS/CbdQdADFujlpEYX7P8oPRxCci/NP6liMq4jmO/KmOpeN7LKVSEcaC58JOHslGNEwQ+6e7xCosrFJEq+DC5JPbHhHhtlzjiUddZOt1KJMqQ9KY/frFEwCAYq6tG0SkcT0CAGBmcQWrErOVDNeFImoq+j3xVWZBGKorvkpixLd6A+pWhsiw1aI2TBjCdamICD8gHrnH+Jcc4EuGIcVKbqrcn0j1bC9EMAZDlraDw2jkcljroPal6cxyAWv+uIM8Hn5wKiIdOJ3OmIgoTM7S7aumGUwrCvVU6hurWbyJo4Wlq8d5gF9PU4FfsIebzQ5E7T6OZLYOul1HzWrUewwARA0e2nopjV7ZuF7/vdm2lVI5i7wyAomL//lz9QP3GqpWTG1nSAAAAABJRU5ErkJggg==\"/>\n",
              "            <a href=\"#!\">\n",
              "                <span class=\"ipyplot-img-close\"/>\n",
              "            </a>\n",
              "            <a href=\"#ipyplot-content-div-5i6VxxiJYuagkTJhLc95ve-A7afc9TSLe6fXhv8WpciXM\">\n",
              "                <span class=\"ipyplot-img-expand\"/>\n",
              "            </a>\n",
              "        </div>\n",
              "    </div>\n",
              "    \n",
              "    <div class=\"ipyplot-placeholder-div-5i6VxxiJYuagkTJhLc95ve\">\n",
              "        <div id=\"ipyplot-content-div-5i6VxxiJYuagkTJhLc95ve-VCdEYAyydZHFerbdYHhCCS\" class=\"ipyplot-content-div-5i6VxxiJYuagkTJhLc95ve\">\n",
              "            <h4 style=\"font-size: 12px; word-wrap: break-word;\">5</h4>\n",
              "            <img src=\"data:image/png;base64,iVBORw0KGgoAAAANSUhEUgAAADIAAAAyCAAAAAA7VNdtAAAB9ElEQVR4nL2WuU7DQBCG/7WdhCQGFEi4xCGUCKgQoqJCHKKgoKKj4hl4G3peAAlRctPRUCABigggLoFIogSTxPGuKexUOw5rCrbxaMbfzszOzNrMRdilhSb+ghjBpqfzYmJqolN+ww1cB3Op3NZxSdK3CSzyUrrf335UDcyt1Zv3NTjXb5uqiH10cvVYBmAwVYQXzs4BAExGAnJhMTPpuROqXlwhNADIzmSUA7MsAUCb3xhTDUwrPNgA9PRoXNGL+Lx9BgBNh+qJXZ8+AwCcekNOnw4sf/gJgDziIOT9rgoAiPekI4pIrdL0vBiG/AKN6Lqnd74tRxFpnZNwHHnQ208l03XVHtN8tdnfo0tGsi6i4Zcjke6WrRTCPwovzYBQAxC3WvzyJbn2dC7MkBP4BXHqrWLYXBGxXqutECkvVC753RtPyC3lKIa483ZGfNv6WZkwk6W0/afZl1DLRYioLzGd2lHWuV/Fb1/knMpfTl9YlYa3W6wrrjaVvNbwyhIdzvarBaaZnTFPiCcjal6MzIAJAHC5PJE0AhbxWozX6XZu90kyO8Iig6vTYZHMwkRYJJolphh0JwsbAOubTNMXNuVFcADJ5ZUY7Z3aaHzt4j01uTYbJWwAGNF45fzeZW5uMUWVPgARVv6td2iYBmjkl/U/P1c/Q+7gXhPD4mIAAAAASUVORK5CYII=\"/>\n",
              "            <a href=\"#!\">\n",
              "                <span class=\"ipyplot-img-close\"/>\n",
              "            </a>\n",
              "            <a href=\"#ipyplot-content-div-5i6VxxiJYuagkTJhLc95ve-VCdEYAyydZHFerbdYHhCCS\">\n",
              "                <span class=\"ipyplot-img-expand\"/>\n",
              "            </a>\n",
              "        </div>\n",
              "    </div>\n",
              "    \n",
              "    <div class=\"ipyplot-placeholder-div-5i6VxxiJYuagkTJhLc95ve\">\n",
              "        <div id=\"ipyplot-content-div-5i6VxxiJYuagkTJhLc95ve-XzWi5kiW6nYUZpMD3JQhSd\" class=\"ipyplot-content-div-5i6VxxiJYuagkTJhLc95ve\">\n",
              "            <h4 style=\"font-size: 12px; word-wrap: break-word;\">6</h4>\n",
              "            <img src=\"data:image/png;base64,iVBORw0KGgoAAAANSUhEUgAAADIAAAAyCAAAAAA7VNdtAAABm0lEQVR4nM2Wu0vDUBTGv5uHNn0MVXzRUjexokN1qCA69C9wc3F1959yd1HE2UFBpKCoQ9VaEKXakqZSm5jmOqRu55R7F/GO+e6Pk/OdRyIkdI+hTfwRYhHPpASE0EKerrrZzUktpH74Nuesp00NpFV9Sbdudmc0kH7Tdd3kNodQjgkTEJKtMWmyGEWwdRlhMltKwSqsIAe6iBwEukjoPrqRFiKD2tHZt16UqFN/1YsCWONjjMLPC1sZFon6PV8dkRGA/v3FnauMGCaA4Ln64CkjdoqbLhaZLecAwLJoA6gRK+2HDQCC8YyKklmaBoBBQHcmafKnDwD+h0fWn0TiiXw/vfxSRuIcmifnPWXk94TkAqCR4VWbVOlchhNpkCUlETufTwCA3w1VkVRlJwcAbbLL6CiFYgYAasd1QqUaBsJ2LAC49UqrilFgmAIAIo/aTIzJUWyzQ70Et5RihIxC5oJhz6QXssqIiJf4xl5ZGXEKlVSjjeWtKWUku1ZsHFzLeVKlESORmOisyMUkJQr2AyclszB5hD3/9k/pB9bSdoYZlrYGAAAAAElFTkSuQmCC\"/>\n",
              "            <a href=\"#!\">\n",
              "                <span class=\"ipyplot-img-close\"/>\n",
              "            </a>\n",
              "            <a href=\"#ipyplot-content-div-5i6VxxiJYuagkTJhLc95ve-XzWi5kiW6nYUZpMD3JQhSd\">\n",
              "                <span class=\"ipyplot-img-expand\"/>\n",
              "            </a>\n",
              "        </div>\n",
              "    </div>\n",
              "    \n",
              "    <div class=\"ipyplot-placeholder-div-5i6VxxiJYuagkTJhLc95ve\">\n",
              "        <div id=\"ipyplot-content-div-5i6VxxiJYuagkTJhLc95ve-SNeB7oytEA7UAciwjnQYaS\" class=\"ipyplot-content-div-5i6VxxiJYuagkTJhLc95ve\">\n",
              "            <h4 style=\"font-size: 12px; word-wrap: break-word;\">7</h4>\n",
              "            <img src=\"data:image/png;base64,iVBORw0KGgoAAAANSUhEUgAAADIAAAAyCAAAAAA7VNdtAAABL0lEQVR4nO3Wv0oDQRAG8G8TTWJh0CDxLyIBTWUp+CR2vkveSm0shEDAIqSQpDkRhUhiFD30krvc7VjZfbvcNCroljf7u9nd251bI9C2glp8E1lwPBcARkcGD9hslhRkNrnq4aihIZ3z9h0qp5qBBZc3EXrt5gYL8hWL3y3QbV3kzmKjcJoCr4MRJSxLfP8UC1CqVnKTUacfWtrbObBxN/hwC5pFxLu9GTEF785jwWyWaEntcG/Jk4dNv3HyfDt0Lxl72+L6WtmThYc8X+UXn/1/8ieI4UEvKWqJfQv6oY7Mx9dnQ+XAspfHSEmQJpmW8ArIibdeOsrFPAGAJGN1g//FlrdsDMj2ajk32TmeJEZk96Cam+wXp6kRWanXSNDQecrXXYHdFjjxtp8/L472CU2ZX9fGFqaSAAAAAElFTkSuQmCC\"/>\n",
              "            <a href=\"#!\">\n",
              "                <span class=\"ipyplot-img-close\"/>\n",
              "            </a>\n",
              "            <a href=\"#ipyplot-content-div-5i6VxxiJYuagkTJhLc95ve-SNeB7oytEA7UAciwjnQYaS\">\n",
              "                <span class=\"ipyplot-img-expand\"/>\n",
              "            </a>\n",
              "        </div>\n",
              "    </div>\n",
              "    \n",
              "    <div class=\"ipyplot-placeholder-div-5i6VxxiJYuagkTJhLc95ve\">\n",
              "        <div id=\"ipyplot-content-div-5i6VxxiJYuagkTJhLc95ve-7hsD6eo9w98CZqYAPen8a6\" class=\"ipyplot-content-div-5i6VxxiJYuagkTJhLc95ve\">\n",
              "            <h4 style=\"font-size: 12px; word-wrap: break-word;\">8</h4>\n",
              "            <img src=\"data:image/png;base64,iVBORw0KGgoAAAANSUhEUgAAADIAAAAyCAAAAAA7VNdtAAABW0lEQVR4nO3VPUsDQRAG4HfWy8UceIeaXKGFEFEkWouglejP8M/Z2AVbU1ukDuFitNIgRCRRE8zl8rFrIXaz626jFk55y8OwM7NzpOAawln8EPG4j1/3I2uSDiczkBIiDG3Jy83zGKREvrJnS+6rzR5IieUza/Ka1DMACI45wVaMvBwAIMixhMsSltPu0xBC2FcsPtjs1NrQjRJHSoeyk7Q1gCdRJFWgFXz3s6vLhq73PBm2qhcTtyzJed0g2L70Wl2DYIkX+K6ESHdzLfkm/skvETmduxLhs0/CRIqVNZPhSLxfNs0lm+Vou2AYTI7k4xWPAN1T5os8/1xILkQBgJLvb1y1Da1Us+7dyI0gbdYeHEl2e/1oTaZjCQBKcnuZJ2HsAwAtcDXjye5JEQBGmWQO+WHaOh00AKzuRNZkPYo6BCyWNphD0vx4+gMAnr9UsCfQj4yW6OPPbpgPf0Jb12PAeewAAAAASUVORK5CYII=\"/>\n",
              "            <a href=\"#!\">\n",
              "                <span class=\"ipyplot-img-close\"/>\n",
              "            </a>\n",
              "            <a href=\"#ipyplot-content-div-5i6VxxiJYuagkTJhLc95ve-7hsD6eo9w98CZqYAPen8a6\">\n",
              "                <span class=\"ipyplot-img-expand\"/>\n",
              "            </a>\n",
              "        </div>\n",
              "    </div>\n",
              "    \n",
              "    <div class=\"ipyplot-placeholder-div-5i6VxxiJYuagkTJhLc95ve\">\n",
              "        <div id=\"ipyplot-content-div-5i6VxxiJYuagkTJhLc95ve-cAXkbBqEUNRJVMr8Fj8xbs\" class=\"ipyplot-content-div-5i6VxxiJYuagkTJhLc95ve\">\n",
              "            <h4 style=\"font-size: 12px; word-wrap: break-word;\">9</h4>\n",
              "            <img src=\"data:image/png;base64,iVBORw0KGgoAAAANSUhEUgAAADIAAAAyCAAAAAA7VNdtAAABNklEQVR4nNXUu0oDQRQG4H92Y8KKSIgKagIqUVACQuyENIJvY+ET2QoWvoCVjVimsNnYqFUIIQgGYVd3Z2ws/3PIEZF4yhk+5nIuLsAakVn8EanQ1VB++CiuOgNxk+vBxl5nc3l2Mulf3be7o97h7OTucvD5/JrGBpLejpFloye6yX/sbewBoDSQg5MVACgM5PRsV97kb6k3E2Bpa9twSvAAkp11A4EDMH2w/BgCgOxlaCHapkp4Wf5av7iIH6CQ4JWRwEmR8/JSyPBxKhNeMDcXPIsKSfuyEC62oIifJHhup+X/JJY59h18jvGCAQCsdrpW0j4/puvKxZJmw0rgvZkI/a+QIPS/QgphZgjjAkCtsRgbSAmgtb/Gm5PnpfeOWuuozt/v6H3zPERxpUqFQNSYg37h8QW5uUjnXRETCgAAAABJRU5ErkJggg==\"/>\n",
              "            <a href=\"#!\">\n",
              "                <span class=\"ipyplot-img-close\"/>\n",
              "            </a>\n",
              "            <a href=\"#ipyplot-content-div-5i6VxxiJYuagkTJhLc95ve-cAXkbBqEUNRJVMr8Fj8xbs\">\n",
              "                <span class=\"ipyplot-img-expand\"/>\n",
              "            </a>\n",
              "        </div>\n",
              "    </div>\n",
              "    \n",
              "    <div class=\"ipyplot-placeholder-div-5i6VxxiJYuagkTJhLc95ve\">\n",
              "        <div id=\"ipyplot-content-div-5i6VxxiJYuagkTJhLc95ve-ku8gTmjCrGKpbFXwBsSRsQ\" class=\"ipyplot-content-div-5i6VxxiJYuagkTJhLc95ve\">\n",
              "            <h4 style=\"font-size: 12px; word-wrap: break-word;\">10</h4>\n",
              "            <img src=\"data:image/png;base64,iVBORw0KGgoAAAANSUhEUgAAADIAAAAyCAAAAAA7VNdtAAAByUlEQVR4nL2WzUrDQBDHJ0mTtCmSRqVYEUW9lBYVDz146MGDjyDiM/hMvoD4BHoRRfAgHioKfvSLIhH7RVuqzSabeEjaSybLxoN7Gnbyy39mdnZYwYO4S4xN/AVJ4Nv0w2xPJKpur3EjzuPNU08m8yf8CH2/exuLNNPjDswbV1++XABqIU48fcesdV0AEGVupHZdtwEAvG7f4USuThsAAEAq90NOpNP89gPsfBJORE37ZfEocTmR6fKIFRcRUprEiUjBdnK3nAk5saP0nAnx74S8vhl2YyrUNPvhFJgqdDiYNgp2ATEVx7ajNXDEHk0C6yfcLjgyak27RA2XGM/l5ezVNwr7RU6kcREElj/KcwY2W7KG/RFDEkpgCNxFTgiB4aFzMaxstVtYaVkqg9sHbEiwEHswooHpuny5CNLs/ERRCLnZRZZ1XY2JJA2Df44BAICU1nVsn6UiypgIC3EJfm0YyEJpIy6yeliKi2R2luIiqZzGibjEDtoEO3oUkY05f9OjIV8EYuwVFORDFqKsZP3f04iHB5K+pPjTNSIudMIUjitNqi1upXBEQNTH9fNLO1ssH2CtjyNgPVfddHY5hx8airDX/zyufgH+L41/yms56wAAAABJRU5ErkJggg==\"/>\n",
              "            <a href=\"#!\">\n",
              "                <span class=\"ipyplot-img-close\"/>\n",
              "            </a>\n",
              "            <a href=\"#ipyplot-content-div-5i6VxxiJYuagkTJhLc95ve-ku8gTmjCrGKpbFXwBsSRsQ\">\n",
              "                <span class=\"ipyplot-img-expand\"/>\n",
              "            </a>\n",
              "        </div>\n",
              "    </div>\n",
              "    \n",
              "    <div class=\"ipyplot-placeholder-div-5i6VxxiJYuagkTJhLc95ve\">\n",
              "        <div id=\"ipyplot-content-div-5i6VxxiJYuagkTJhLc95ve-BBBsdFRPy44eJgogRxpTsH\" class=\"ipyplot-content-div-5i6VxxiJYuagkTJhLc95ve\">\n",
              "            <h4 style=\"font-size: 12px; word-wrap: break-word;\">11</h4>\n",
              "            <img src=\"data:image/png;base64,iVBORw0KGgoAAAANSUhEUgAAADIAAAAyCAAAAAA7VNdtAAABqElEQVR4nM2WPUsDQRCG3727xCSSaD4wH2iwMTYpFFGxsLIQf4Ctv8xCbG0FG+0VEQSxEEFDxICSGMkR9e5yOxaCTWZ0D0Sy5SzPzPDOx64iRD1WZOKfEIexEZFSUOYIeacnvdxKvcx5E6L4l7vP0y1vPSfE4VzpMEHHbmkxzjMM4hTnm97DWFsLiQ0rphL1zWIHA0sSk7FbmWJiAFKSZJyr4COErLFcSgoGURG/2QojIp39g/cICBHQPz/zzRE9CAEgJmTAmZNT+TEF2EItOaRQrxVsIHgzRxLVyoQDNA9vWYRrSzuXTTnAzV58zjQKYCkA/bura9cY0RqAdhvXPWPE6wcA/J7LlYZHSvOTAMht95lLfsA30u4TgNf7Fz3sk4+SXSgAQPfqMTBNDI4CgO5F0xtewAJiKwDQns80jYDoL+eWzQznyK5xCRHm/geEmHr8gsRXl8cjIsntnXxExK5U4xERODFxw/6hyETAd98YRiENAAHTltIbCssBsuWZmDmiYhmVXtpaSw2roPg/DIV3R41kbWk2zXiTvj1EpMA+fiIin5EdsU/RhX5QDwV7bQAAAABJRU5ErkJggg==\"/>\n",
              "            <a href=\"#!\">\n",
              "                <span class=\"ipyplot-img-close\"/>\n",
              "            </a>\n",
              "            <a href=\"#ipyplot-content-div-5i6VxxiJYuagkTJhLc95ve-BBBsdFRPy44eJgogRxpTsH\">\n",
              "                <span class=\"ipyplot-img-expand\"/>\n",
              "            </a>\n",
              "        </div>\n",
              "    </div>\n",
              "    \n",
              "    <div class=\"ipyplot-placeholder-div-5i6VxxiJYuagkTJhLc95ve\">\n",
              "        <div id=\"ipyplot-content-div-5i6VxxiJYuagkTJhLc95ve-9ZPhA2ET47RF4iWPhW5T79\" class=\"ipyplot-content-div-5i6VxxiJYuagkTJhLc95ve\">\n",
              "            <h4 style=\"font-size: 12px; word-wrap: break-word;\">12</h4>\n",
              "            <img src=\"data:image/png;base64,iVBORw0KGgoAAAANSUhEUgAAADIAAAAyCAAAAAA7VNdtAAABRElEQVR4nO3WT0rDQBQG8G+SdAxSSlsxSguCiwYU4lIKLt25cuENvIcH8ga6cNGluBGLQpXS1ir0n6IVE1Mz4wXeKzMg4qJvmeTHN3kzw4zQsC3HWvwR8aiHGhpC2JDXx+FburabtyHXzV686UVFOogi7/dXreT24fDYPEUux0963M+FtXWKUB2r7NV8IGmcnBmn5MMD96KrJ3cDY+IFR9GoC1nwSUJOpZg+f5Jf8wTN8z7AzSVN2pcjsIYmk96H7cAcl11hHBGONZlbC7Igv0eYZc4D9TUezOxINmycti1T4s7Nix0BpO8ak+9UAdzmZJpiv5G39ys8IU8x7CStjmVKeavEp9BErkoA0OSlgGlyNgOANFPEO/pfIFYCoVEtLZmTXDR1FDbCgjmR9aqjUAzK1AiYa4/WAAR5XnBkTv2DjUzXD22LVF4+EHGwAAAAAElFTkSuQmCC\"/>\n",
              "            <a href=\"#!\">\n",
              "                <span class=\"ipyplot-img-close\"/>\n",
              "            </a>\n",
              "            <a href=\"#ipyplot-content-div-5i6VxxiJYuagkTJhLc95ve-9ZPhA2ET47RF4iWPhW5T79\">\n",
              "                <span class=\"ipyplot-img-expand\"/>\n",
              "            </a>\n",
              "        </div>\n",
              "    </div>\n",
              "    \n",
              "    <div class=\"ipyplot-placeholder-div-5i6VxxiJYuagkTJhLc95ve\">\n",
              "        <div id=\"ipyplot-content-div-5i6VxxiJYuagkTJhLc95ve-hnuSVnMhS3qjzMSU7a6ghU\" class=\"ipyplot-content-div-5i6VxxiJYuagkTJhLc95ve\">\n",
              "            <h4 style=\"font-size: 12px; word-wrap: break-word;\">13</h4>\n",
              "            <img src=\"data:image/png;base64,iVBORw0KGgoAAAANSUhEUgAAADIAAAAyCAAAAAA7VNdtAAABdElEQVR4nO2Wu07DMBSGf/eSpldIKWoLQlRQIYQYQEJILMCA2HkUBt6DN2BmZuvEBAMqEzCVhbua0jRCoChNbIZILD0O9gIMnMly8vn/bZ9zZCagGwlt4oeQFDEnADAdZDi4f8jXZ4o6SPfirLZm6SCBc33arCd1jHHv9S6cqi01ShKEOLGEwbonB/ttn6uqAIwNXdc+9razyggAwD96W6eRUWOChxyA8F2JsVGEJVORdE5ynaNI2qpWDUCeAARSmW3kJH/LkMmFxTIQpZoawjLjlqmnAoQBB3T2Aoj44o4pMfW9fAWTfIsr5FAb4YE2YrdtXeTqsKWLODePuki6QCdB3IkpJ/+38Y/8EhJ6fjSg75JC0sUsAyB816EaJtWTG3uDl75AYJ9Pb82pqUxsLFfMBPh757KnaAwsP2aZAIyCoWgMmN/tPXccc3WlTC1Ith7vw79tPZU2dzLEkrSKaaKU7OeaedK2tDNKHwxyRBp/Ni0/AXIQYGeyrqM8AAAAAElFTkSuQmCC\"/>\n",
              "            <a href=\"#!\">\n",
              "                <span class=\"ipyplot-img-close\"/>\n",
              "            </a>\n",
              "            <a href=\"#ipyplot-content-div-5i6VxxiJYuagkTJhLc95ve-hnuSVnMhS3qjzMSU7a6ghU\">\n",
              "                <span class=\"ipyplot-img-expand\"/>\n",
              "            </a>\n",
              "        </div>\n",
              "    </div>\n",
              "    \n",
              "    <div class=\"ipyplot-placeholder-div-5i6VxxiJYuagkTJhLc95ve\">\n",
              "        <div id=\"ipyplot-content-div-5i6VxxiJYuagkTJhLc95ve-DnqYZPJAsQ86Aw9GESzS8K\" class=\"ipyplot-content-div-5i6VxxiJYuagkTJhLc95ve\">\n",
              "            <h4 style=\"font-size: 12px; word-wrap: break-word;\">14</h4>\n",
              "            <img src=\"data:image/png;base64,iVBORw0KGgoAAAANSUhEUgAAADIAAAAyCAAAAAA7VNdtAAABrElEQVR4nL2Wz07CQBDGp11a/hVjQIIKMWDAoAcvEOORmxKPxqsv4Kv4PHozMRITNdw8KcEAEoQYhQawUKAeCp6+brbGOKfJ7P7yzcx2titZ5NZk18RvEA+ITYeVdtzb1Fk6K4x0r+/3Q6W6eryFkkCIZeqtinz3xnbeVwCDELLIbI1qfWr3wqIIedhgYBFJElwEMYm+PnVjSiQLIzK1n8kaQ33HxAzDaT85HSXjEBDx+LA2Bxn3HesgwrVUL59sh6koQ6TSuHqxHaOL2oCQbuXDdprljiAy6pm2Uy81BRFpUUH95lUQUYOK7Uxg6xCiaHNE21gCy6jJ5nBeS+50V1DF7M+R9VxMEPmx2/MHUWQxJrWLqlsV8uNx4hlDy39+WxoTt4gUUECUO3/Zg7RblUwx5RYJrGkgyklM9kajqjsVNZFCtzgPkfxBmAOvlik6FS5iTWZuEV8MzSS3Y5tneXHEIiJiyUOsghKbzYhI1iK4FIdLiRGxSBT+wzASSoSIlPgq+owdkGQxSxQu5B0QVH7mpNPQt4/2HBKT0EvJLD+O4oVlTGCEb//zuPoGYxtrPHsAGicAAAAASUVORK5CYII=\"/>\n",
              "            <a href=\"#!\">\n",
              "                <span class=\"ipyplot-img-close\"/>\n",
              "            </a>\n",
              "            <a href=\"#ipyplot-content-div-5i6VxxiJYuagkTJhLc95ve-DnqYZPJAsQ86Aw9GESzS8K\">\n",
              "                <span class=\"ipyplot-img-expand\"/>\n",
              "            </a>\n",
              "        </div>\n",
              "    </div>\n",
              "    </div></div><div class=\"tab contentHa2qwvPcHTHAMxnLC64VMf\">\n",
              "        <style>\n",
              "        #ipyplot-imgs-container-div-AY2u6fWyjwES4NZCAPLN7Y {\n",
              "            width: 100%;\n",
              "            height: 100%;\n",
              "            margin: 0%;\n",
              "            overflow: auto;\n",
              "            position: relative;\n",
              "            overflow-y: scroll;\n",
              "        }\n",
              "\n",
              "        div.ipyplot-placeholder-div-AY2u6fWyjwES4NZCAPLN7Y {\n",
              "            width: 50px;\n",
              "            display: inline-block;\n",
              "            margin: 3px;\n",
              "            position: relative;\n",
              "        }\n",
              "\n",
              "        div.ipyplot-content-div-AY2u6fWyjwES4NZCAPLN7Y {\n",
              "            width: 50px;\n",
              "            background: white;\n",
              "            display: inline-block;\n",
              "            vertical-align: top;\n",
              "            text-align: center;\n",
              "            position: relative;\n",
              "            border: 2px solid #ddd;\n",
              "            top: 0;\n",
              "            left: 0;\n",
              "        }\n",
              "\n",
              "        div.ipyplot-content-div-AY2u6fWyjwES4NZCAPLN7Y span.ipyplot-img-close {\n",
              "            display: none;\n",
              "        }\n",
              "\n",
              "        div.ipyplot-content-div-AY2u6fWyjwES4NZCAPLN7Y span {\n",
              "            width: 100%;\n",
              "            height: 100%;\n",
              "            position: absolute;\n",
              "            top: 0;\n",
              "            left: 0;\n",
              "        }\n",
              "\n",
              "        div.ipyplot-content-div-AY2u6fWyjwES4NZCAPLN7Y img {\n",
              "            width: 50px;\n",
              "        }\n",
              "\n",
              "        div.ipyplot-content-div-AY2u6fWyjwES4NZCAPLN7Y span.ipyplot-img-close:hover {\n",
              "            cursor: zoom-out;\n",
              "        }\n",
              "        div.ipyplot-content-div-AY2u6fWyjwES4NZCAPLN7Y span.ipyplot-img-expand:hover {\n",
              "            cursor: zoom-in;\n",
              "        }\n",
              "\n",
              "        div[id^=ipyplot-content-div-AY2u6fWyjwES4NZCAPLN7Y]:target {\n",
              "            transform: scale(2.5);\n",
              "            transform-origin: left top;\n",
              "            z-index: 5000;\n",
              "            top: 0;\n",
              "            left: 0;\n",
              "            position: absolute;\n",
              "        }\n",
              "\n",
              "        div[id^=ipyplot-content-div-AY2u6fWyjwES4NZCAPLN7Y]:target span.ipyplot-img-close {\n",
              "            display: block;\n",
              "        }\n",
              "\n",
              "        div[id^=ipyplot-content-div-AY2u6fWyjwES4NZCAPLN7Y]:target span.ipyplot-img-expand {\n",
              "            display: none;\n",
              "        }\n",
              "        </style>\n",
              "    <div id=\"ipyplot-imgs-container-div-AY2u6fWyjwES4NZCAPLN7Y\">\n",
              "    <div class=\"ipyplot-placeholder-div-AY2u6fWyjwES4NZCAPLN7Y\">\n",
              "        <div id=\"ipyplot-content-div-AY2u6fWyjwES4NZCAPLN7Y-2DPz3Ppb9zaDKAgpefQKnd\" class=\"ipyplot-content-div-AY2u6fWyjwES4NZCAPLN7Y\">\n",
              "            <h4 style=\"font-size: 12px; word-wrap: break-word;\">0</h4>\n",
              "            <img src=\"data:image/png;base64,iVBORw0KGgoAAAANSUhEUgAAADIAAAAyCAAAAAA7VNdtAAADVElEQVR4nM2Wz08TQRTHv7PbbbeU7bZV0wraxpQfVhHiD4zGIMjBRIxcPBjj0ZMXD179L7x586ImHoyJioIJ4I+ANaQVjFETa6ENldgVBSn9we6Mh3btli4rXIzvNPNmPu/HvDezSxi2KtyWiX+E2GqnDJXcCMgmka8f41mBoOTq7tq5GYSyYnxkJO0gKHjSywd3yOaOSPWQ2XI+dfNZtsAB1ObfLp+5Zv+Ll1JqZjH1Mg1QAOr8PMTzu0VLRP06cmt+bcmw9HOSC1simaFHcRUAnJKg/coBUKIhK4Tl4rdiGgBIzS1SMfElR6HEjvRaICu3hz+oADoint0Rl/ol9mIWq59f7w9v2xi5+wIA7+wfkPxhYLEtNQtVmZ6QN0agAUBH37kuQQTgjXgBgFGzPq8gRATAtQ4c8panPhEAbIJZCxp1jd5GvjI0NV+POHYG/UJlvGFPoqbH3C2RoD4lFoxeFw2Aw6k7yc39AgBKLQLj3HB4nH9ML0wpAOBw2kyQik66fFJwB/bq2uSrDGDzdh43KYuONAwadFT98CYLuPZ2H7DIpUaUd9HZItB0KmJGmCLfpz6tAPAfD5oiZuVdTv4EAHmfb5NeCu9HZxYB8WCf3ywEAGy9fLoctnNA6I6i1a0xxhhbb6gQHX2ZpOC8kXazAzYJjM3dfpqhAB/satiAWI9ERyYzGoC1QIu8KaSYGn6Y0EB43h1pk4FSnlbbkzpcJsjbO88TBYD37+q8cBRA4tEqpzO00HWhDllJPxlKahCkQEjkF6ZVhvEHOf3OgeVTgdYmoOaBnbgRzZQA3+EDgVeTkpMBy4uG7meNbZeucAYv2XRyfOwbQHiylF6ay2br0y5O9RgDK8Uf3ldUAMRRjMWI+dXyuaoIS8w8nsiU3a8xtWajzUGLZQvtF/tIFZm+N6pUIi4BhK8SQtBLlTQDeHfvVdkQWPLtD4NhufNP5Yu+0yH2fixvL3m6T1SKW0Z+LGgAYG+082Do6Jf1T2Z+x1kf2qWcWNjeE2TEmH55sqe/dRulrLmtQUeoIAPNgxpHBY9+tcqIzW5TSVPrsd6wj2lMctUelT1QeyAAAKeHlcjAdUkUOFg/lTpCjmJVQ0/Ieqsu5YZhDNaPaj2yJflv/5R+A5anSYumsTrcAAAAAElFTkSuQmCC\"/>\n",
              "            <a href=\"#!\">\n",
              "                <span class=\"ipyplot-img-close\"/>\n",
              "            </a>\n",
              "            <a href=\"#ipyplot-content-div-AY2u6fWyjwES4NZCAPLN7Y-2DPz3Ppb9zaDKAgpefQKnd\">\n",
              "                <span class=\"ipyplot-img-expand\"/>\n",
              "            </a>\n",
              "        </div>\n",
              "    </div>\n",
              "    \n",
              "    <div class=\"ipyplot-placeholder-div-AY2u6fWyjwES4NZCAPLN7Y\">\n",
              "        <div id=\"ipyplot-content-div-AY2u6fWyjwES4NZCAPLN7Y-Zk9pVDj6oRBJ4BxoXekeM2\" class=\"ipyplot-content-div-AY2u6fWyjwES4NZCAPLN7Y\">\n",
              "            <h4 style=\"font-size: 12px; word-wrap: break-word;\">1</h4>\n",
              "            <img src=\"data:image/png;base64,iVBORw0KGgoAAAANSUhEUgAAADIAAAAyCAAAAAA7VNdtAAADTklEQVR4nM2W208TQRTGv9nd3rItBREKqA1CRRTQRlIxeI2J96ggJhoefNDwyLN/hj75H/hilKBGYiQxgibebzF4JVSEcCmFFkqp293t+DBt3Vup+uR5mp3T35nvzHyzW0Lxt8H9NfEviGCamR6OOUGl6oOeP0a+Xx31gi4FfTsLKaDGeOmHIPAoP3PdlGKhW0WRUjLCKSgA5vvkFr/HaiGi3eSJp4NjWBiR2VP5lrOX3KsLS8/f7F6jyx24PWMhTIPM9J/38jpEbOtfvZepgReLegXJLzELXRrk88CUMVtiXw1ZuHdzJsOGdW3jI8uqVeM6JBO+9gwAwHHc7p6H8z9SxRB54tUEG5VvDR5rmd60UBRRxj+tAEBZxba2fS0ut2g2khHJRCIqAHR1+MtKnZgNLxdFaGpFBWqaTx7lASC5xBxgef9yAjiOAkd6A8xUHE9QkMkhxFnhaToVzP7SxlxABCtbZhHiqgo2n6vL1ZbYCYk+sTBi3+5L+Boc7OHH4OCMDAAt3VutmjG5Tk3eaC9huZ7JTLErBgCI9g2MJNhQ9JBV2s8vmhzpf84M7dnWaOVKk7DU8OWq7KVpG4qoRe8+gPjQUIRtV3Wo3do1ho2n3++/ZoRn394C/tcXSj6685lZpa61o7WQNXUyZy9mj919oS9u1Ye5Fy+YmC27Toe8BdbQCpMW1WjKJgMgzWd2l/5OZNIUAOEFYkTeX4mkxxQAsNc2l2jKLr+VbCpx+GptekSOPetLs6HDH/ATAKArkOd+CmOPl228u5puMCCxB8PZFwwqQo1MQuIbnbs9VhobTRBvfaiWGnpZfPyOtU4EEn8SzQDA7Li6MDzllpaAqKeyhjcgiTdhVoVzJF++ZSesSGlZpRIF4CoPNXEGRIlndVFZURRN86AAHCc66nNGySM0Z4+MBF0QgSO2QHdnfiKPZGRYh6NzPV3XsOP3RB4RSngLG9pF9+augFqvtUIeERsjUTOycc/xwDoXnLBCyg6pQ3FtgqvYaBeb2g87jGXySGV35dybn/l5t9d+uHcNZ3Oa77Lm8zp599Pk16i7cr1TAbe21N56xCzUgFA5Gb71oSa4v0yinOiy81avFxg+4kh9nPVUZQ1bMMj/+ufqF9mf4vHkNwx7AAAAAElFTkSuQmCC\"/>\n",
              "            <a href=\"#!\">\n",
              "                <span class=\"ipyplot-img-close\"/>\n",
              "            </a>\n",
              "            <a href=\"#ipyplot-content-div-AY2u6fWyjwES4NZCAPLN7Y-Zk9pVDj6oRBJ4BxoXekeM2\">\n",
              "                <span class=\"ipyplot-img-expand\"/>\n",
              "            </a>\n",
              "        </div>\n",
              "    </div>\n",
              "    \n",
              "    <div class=\"ipyplot-placeholder-div-AY2u6fWyjwES4NZCAPLN7Y\">\n",
              "        <div id=\"ipyplot-content-div-AY2u6fWyjwES4NZCAPLN7Y-BV8narLJ6egHxrjs2RsWXf\" class=\"ipyplot-content-div-AY2u6fWyjwES4NZCAPLN7Y\">\n",
              "            <h4 style=\"font-size: 12px; word-wrap: break-word;\">2</h4>\n",
              "            <img src=\"data:image/png;base64,iVBORw0KGgoAAAANSUhEUgAAADIAAAAyCAAAAAA7VNdtAAADD0lEQVR4nN2WwU8bRxSHv9m1wWAjqAG3NqAiiiIR0kYmAaHmEqlNlN6IOPWcc6So/0ovzaG9IlVqhZAi0qIWKVRtHHEoKkmspCkBOSRgTJ0A9np3dicHY+Ld9TpwySFzmrc7n39vfvP8ZoXipEM7MfGOkJD3gXO0OSHEsZDKt49r01PTg29HlH3w4PtsLRrpkf26pvmkRL3JcvOn23+UalFk+MpUIhZvbaqy/9/vv76JjFVHPz3c5kNcjuWzWwB6y2H85Ie5+wfN9qKMlYUcQG/a2N55ZSgq+VzRaooUM7dMgDPX7Id/P1ivgNCMpgjyoAJ8eOXypPoknZlZAzb+nBxoFcGI0EHon11Pa/SfS2VyUqlnpfXxFg/iLZjYV9NDGkD3QI8GOEp5a92LRNLnYwBE06MhIOwvQn+N2Q4AH0zb9yq+5V4VJUFKu5pIuG9Qb0i4EOGA8yb1SsAfti4xERv74nlL15FBXqcaIV2XEncPBmM1YePtKpBq6zeS3dUt5GfnDKAifaALiSSTR/PdmUUg1BnxuewzuTbaQgglTl0YiXqZgHah9nJWCEiMfhT2uhCgIpd/WbMVyrb8HgSo2E//KSrQUkPtx0X2t3ckEB+7EPe9a5zYv78tbZhwbupib4PfVP7hyO8mOgBuWA3eqkYq939eyO4B2A1z8D9U5bs3NwFC0U5ly+oqXTRDjMU7eQBSX18V20+Eji1SfXWn40Xki+ziqgW09o58bD26t6LpSO3zeDhY5eXM0tZzgJ6rnZllbWUNAHG+I1hlP/OXUwJCYvf/lbL9zASgYAduX4mt9QKAaNmflyWHw3JxtTI3IpZmc9VV0jaDLl73/VKe/7FQnZkA1WvM28hcSH714QtZF7cmNaWX8iZ2PeZCitlDItwW1hQMf6opvfh4k+76/uRCpHnY5/smkjEl1dlxgSiu5syJaNDpdwz2aA70jo6NJaNKMpQCSBTMRKTesvoatQrfxIHpjcKrklEul6uFbBmG5QRVcih+qX1X8uWA2yHPcQu3g0opEM0/OcR79KX0GhD/ZRTqQUIIAAAAAElFTkSuQmCC\"/>\n",
              "            <a href=\"#!\">\n",
              "                <span class=\"ipyplot-img-close\"/>\n",
              "            </a>\n",
              "            <a href=\"#ipyplot-content-div-AY2u6fWyjwES4NZCAPLN7Y-BV8narLJ6egHxrjs2RsWXf\">\n",
              "                <span class=\"ipyplot-img-expand\"/>\n",
              "            </a>\n",
              "        </div>\n",
              "    </div>\n",
              "    \n",
              "    <div class=\"ipyplot-placeholder-div-AY2u6fWyjwES4NZCAPLN7Y\">\n",
              "        <div id=\"ipyplot-content-div-AY2u6fWyjwES4NZCAPLN7Y-HgiTXqBS3nzQmjQfJozdCc\" class=\"ipyplot-content-div-AY2u6fWyjwES4NZCAPLN7Y\">\n",
              "            <h4 style=\"font-size: 12px; word-wrap: break-word;\">3</h4>\n",
              "            <img src=\"data:image/png;base64,iVBORw0KGgoAAAANSUhEUgAAADIAAAAyCAAAAAA7VNdtAAADmklEQVR4nM2WS1PbVhTH/1eSJdlIfgAOj9okNCQYJiGQQttJypRhkbDITCeZrDqTVRf9GF32M2S67qrtomnLNA2lLJr0QWmbRwmPxA9MRGPs2EZEtmRZNwvZ2LGFgU2nZ6U55/7u+Z+rc89cQnFUY45M/EcI1+yiADkaYj5Whf72wyGmZhGAbM4/l949z3LuQyDKbJ4D4TYWXojLf8snpw9ESls/3cpyIFxqmSK/4Y2gLyAJTgip/krlszv/6AQgpg5wPO/rHp8ZDbXIUo7+Mnd/t1aWqeWSzFixlTDtx68fvXw9QrVSuQVCdxRl15bYeeqcO/37KkALGdV0+G0VpLCVLjAACLwjM9d8K8VVAMWYEpH2Q2hy6cG/JgC3MHzjQh8blAkF0gtdo6JDGtuVjm+oIK5Qv3zuUi+str6TSR3a0+iuta8whmUBMXT1A58UBJhj0/oXTwCwjr1WKZ9SoP3tqQu2kw+flgGAcUTs5qcWBUKXh6peo+h8vnVI92C4TQx0y1Uvcd6/Thg5btxXt7mc6mdtb7ncYiTYtXCh6z1fJb8jAS8BACOjFA4SBvnilXDm3opmb67FV9SDsgAQ5IDotjcwc3/dywKA6ShvDxFHJHFAtDMbigKA4SXO6RT2kOCHOpElBgAYjxsAxP7jHrYVwndVPnIPt1NxAJDOnpKdZlZz261/8oioANA+HpGboo5INroNACQ4cj7cosdqZuYVW793dHIoUBegqE7EBqQUu/1DBgDcZ25M1M+/QiZL/D65GTESd79c0gDGMzQ907mXWaNWLJYQhwaaEZqa/WZZo4A8/NFUTZUyq2IjHu8x/CHSiER/vv3bLgCcvjLzBgDoz7OEweKtHElvZ/PjhaZaCnduRjUAwPsfdwAAnn0+z/JIPTGIWQbHMo1IYuHbh2XA09vpn+rYjKV0trD5/SLjokbJXlA58jrkz0+fWgC8E28NDsbn5hbTAi1rJgzQ14h65OWWCQDamrY2r6+uJdFgJdNqRFh7zu8sLVU9BAAYXnBZZrFEvLLQiFhGw7Ysx4GWgqNjw9r63UTnxekTpAFxeVULIFzlklCpx+8hlt773uSZ0gN5vfedMb4xSyCykwdcx0JCGYBlnpgc7CbUEnx+uCLBguDlm8oPXXI9pnywf9htI+GJN13VWFtbbR2pXW8j8+sfZU/XwFm7SsoJjve4HgGeJSxBDnY4rdsPocABz4Qm5HD2v30pvQKWt0bWGbAKDQAAAABJRU5ErkJggg==\"/>\n",
              "            <a href=\"#!\">\n",
              "                <span class=\"ipyplot-img-close\"/>\n",
              "            </a>\n",
              "            <a href=\"#ipyplot-content-div-AY2u6fWyjwES4NZCAPLN7Y-HgiTXqBS3nzQmjQfJozdCc\">\n",
              "                <span class=\"ipyplot-img-expand\"/>\n",
              "            </a>\n",
              "        </div>\n",
              "    </div>\n",
              "    \n",
              "    <div class=\"ipyplot-placeholder-div-AY2u6fWyjwES4NZCAPLN7Y\">\n",
              "        <div id=\"ipyplot-content-div-AY2u6fWyjwES4NZCAPLN7Y-REUkuJpA65B5wWgQAsCNES\" class=\"ipyplot-content-div-AY2u6fWyjwES4NZCAPLN7Y\">\n",
              "            <h4 style=\"font-size: 12px; word-wrap: break-word;\">4</h4>\n",
              "            <img src=\"data:image/png;base64,iVBORw0KGgoAAAANSUhEUgAAADIAAAAyCAAAAAA7VNdtAAADBElEQVR4nO3W3W9TdRjA8e/vvPXVDijrtiZkCww3oWTAxMk0McZMExNBwwV6KX+I/4ZemphwYWI0A2KW3SAJUXzZMifYTbcqLl3HZGxlpafn5ffjYu1pD2uF3XnBc3XO0/P5vTznOedUKPYa2p7Fc7LnMIIjVbOVaBzryc5jBURWin+5ev3ET57c93RSnpovNUmqMtr7VLL06S0lg3Si7Lyd+C/iV1d/vD5vt6Q3bz74fvz9DkYppR7Nf3bWABBCj0YNbacKF9Z91S4MgO3Jrxc9gIR59KJ+Lb/mABSmxgY7Lqw28zMQS/dkIiOXDD1bWFp3FQ9+yHYmwgQ4/MHYgEimxIWJta+uFm3sfx923j4CoHfiTAygr29o+Zf7Nr7ttiXaTgkA9g1FG9lUJgJCb98BGoCVTkGmv0sEadH24paFxQaP/Wmdeil4DdjlrfZrapLoG93r+qEXzUayWlh8BL7jdybmqZNSNXu6fHv+HyDek2w/TZvb+935PoDXb5Q63/1QyOrclA1G96vj+q4fg4WFovprXgIHP36vQ9l2EXfp2qyPlj79Vu4Zibp/6/KKj3n8zeHEs5GN0t3fii64ejwWiOofrg5IdTBr7iLe7zMreQ2wLOEBSikg/20lAnhyNL2LeMtXrm9vOJDMfTTRDduzPy1rOqsLrgFIJV9Lholyl29MzwCGdeT0oFlS3J6+egdE0EjHnSf2Ulv48pu7AL2jI+nPCz48XF8Dml8gIULEry5MT90BdCuVkivThdYa6Xg+jf4OiL0w+cUqQKRXm71Z3moR4kAX97YAqULE2/h7Z2BZq1U2G9mBfinVgYGMOzmHns5GQkS6wnQB7GLL+BPnPEd2H86WF+dIvTySCBHl1eqPlQIiKJV7J2qczfm+SuwX+y3E8IdnwrMIKx4PHsWeDFK++4kVTFeJv5AaPdcV3n4kOy6cnW739NywplR/U2COydgr8frgjaq7m6Wi2yAnDhEON180eobMMFGe69Q/SVIkzSeIqjrCrDeqeP7v4n9JHgNgB1tflw8KlwAAAABJRU5ErkJggg==\"/>\n",
              "            <a href=\"#!\">\n",
              "                <span class=\"ipyplot-img-close\"/>\n",
              "            </a>\n",
              "            <a href=\"#ipyplot-content-div-AY2u6fWyjwES4NZCAPLN7Y-REUkuJpA65B5wWgQAsCNES\">\n",
              "                <span class=\"ipyplot-img-expand\"/>\n",
              "            </a>\n",
              "        </div>\n",
              "    </div>\n",
              "    \n",
              "    <div class=\"ipyplot-placeholder-div-AY2u6fWyjwES4NZCAPLN7Y\">\n",
              "        <div id=\"ipyplot-content-div-AY2u6fWyjwES4NZCAPLN7Y-HGyvqbRjDTVSXWRF2BZDpx\" class=\"ipyplot-content-div-AY2u6fWyjwES4NZCAPLN7Y\">\n",
              "            <h4 style=\"font-size: 12px; word-wrap: break-word;\">5</h4>\n",
              "            <img src=\"data:image/png;base64,iVBORw0KGgoAAAANSUhEUgAAADIAAAAyCAAAAAA7VNdtAAADAElEQVR4nO3VS09TWxTA8f8+D1ptiy1QHpUago8Y5BoFND6iKDEaJyYmJkYnfgGd+CGc+AGcOTImDu7AO7n3+oqPxEg0BA0RoSogCtRqLaW0Pe05Zzs47ZW2xyozc+Oa9az8zlq7e+19hGS1oaxa/CarDq3yZypl2gLA1nwB30+R4YfJggpQCPb09YsfkZnnOev+yGJRATD9sVS43VOHSNMs3ru8oGcNq5QQsfSGfRvqEGNkbPrZhF2RGr9mnXVtTUoppUxeGnCwEN5we1s41ABwwZQuUa4yOmE6VQO7TgVtY/qvURNstxrlxqz5JcDr87dEjp7TYXJ29rOJXo94dICeve2dPVEdiOyYGl5yBWWSimUBokeirVFnhZrmvillIsf+jgO0/BFxerHisbdGffLidgKaN+9e73WeFr/MxM26hPcTGYic2F0SZJNzi98TpUneeSQMUubSVpnkANyvEg1A7DVfJ8i8Xmf0tgAwP5n99j53Eu5dCx/vjUQvHgZg+MYHAMX1X3PW4mlrUq3szMyr0wDL8cfjgLe76/tVQERDnwDnrS+uPgHYeH7ItbPy7u8rTBlCNkdgafbO7TlQAz37u+tV8R3vX8irtncbTF+/88ECz+btTWo9ooZDnUVFKn5IPJo0AZrbAz84yNo6AKzUm1dpQASjrQ1Oxv5vf4RSQUpRuPLvIkDv4MleZxbyN8cSJXPgrFJNpLX88vo4qqb7Bw71+TJ5A4XYjQfJUj5/pqaKNffnP+8gtKWrs3vNZHbu2SiCzFSqnBfUkHTs7i1A961R4x+L6fmnUxVNq/5asjA2D7D8ZtwQSLuYq1xnsEnUkHw6B5BPZKpmuDGiYzfv3FNLVF0DKBSrp37rUKMwNh0L1hJpO0fxm2jduKXJlGzbvlaYLc7BqCRCbXAG0etVFaDg6R8c6jJsAo0rBqGCNDR2JBUFU+sb6PBJia2GO9b77aqzVkH8XXvaVJWCfnBwxQVefQLEypUay0t5IbBFMOR+UdaSn4tf9ov8fyJfAfOPHktRlVF+AAAAAElFTkSuQmCC\"/>\n",
              "            <a href=\"#!\">\n",
              "                <span class=\"ipyplot-img-close\"/>\n",
              "            </a>\n",
              "            <a href=\"#ipyplot-content-div-AY2u6fWyjwES4NZCAPLN7Y-HGyvqbRjDTVSXWRF2BZDpx\">\n",
              "                <span class=\"ipyplot-img-expand\"/>\n",
              "            </a>\n",
              "        </div>\n",
              "    </div>\n",
              "    \n",
              "    <div class=\"ipyplot-placeholder-div-AY2u6fWyjwES4NZCAPLN7Y\">\n",
              "        <div id=\"ipyplot-content-div-AY2u6fWyjwES4NZCAPLN7Y-5x7PGLfJ6zyudca36j5Lj9\" class=\"ipyplot-content-div-AY2u6fWyjwES4NZCAPLN7Y\">\n",
              "            <h4 style=\"font-size: 12px; word-wrap: break-word;\">6</h4>\n",
              "            <img src=\"data:image/png;base64,iVBORw0KGgoAAAANSUhEUgAAADIAAAAyCAAAAAA7VNdtAAADAElEQVR4nL2WzU8TQRTA3+xuPygtlBbSaPnGggIpKLFiiRIFAifiQY2JRv8B49V/wYMxHrx4MeHiSaNyEOLBoGA4KISEgGIFBNJiBWxpad222xkP3W53d6YCHnynN/PmN+/Nm7fzFhE4rHCHJv4FEfQTkT0eAYBU6jgQQggk58IGBADpyq7yIhFokOlRggO7HAAALqnrvbYvkomPP8JCXBlvNjdZeRZDFPl8t0NjqfTf/5EltChexOWxFysaZHubc/bV/MXLl2GXEelslsZnDC/5rMy/nAqn9ZWQXPkYSFJOZGTv6ZM9RghoZnyHmhQAAKSJibHVDCvqxape6jQCAJDYq8cKwPMcwVksj0JfaecCAMQCGwUXXb726OwnJXeJLBNJbspbGa2W6qF+/7ppI4+4O2zss2A5VbVDPS3OCiQpyeZu3aAvRlUwlQ3nB7ttACBBPtuo9QRFqBC+53ab3QQAAIX7oW9FzpgUh6oW77luq96KcREE8Tx0Xb5UQX8fnL6E8kiZ984VT5uzsFDIr7QZiyClHo9m7veWmFNM9eVFEL0EnwdzSsMFVu3TSHLzw4KsOj32AyGBe5N5FWdYGaOzFJ8N5tXsARGhXMksYiaZRsRC7db5nJSZPguRIqJSL009GhMBhBgIjmztKgPNRSZm3rp6a2w0Is4vxAqrkogAACIpEdLL4yMdNQ4GEh15r1Qvtz5hSAOAAU9NA0783EmnMCOw1NxaYfBtVEbeLQJArn5pBJlV51pczQUGidyEwWqkELw0GVUfTFQbrb6hWjOA+hknhIgPTpdCMTn5JpbF6mc8J4moxF5vr68+K782OsRkYXYUwdzpP9Uut0IdkkmxChEuXne7nHaBiZQ5gqJuObKVmIdvql1qzLx37XtcS4Chz9/q1USpMXPHfK9D6nHzUXANnjmu3UTboTJL/QWTzeB4GAqF4+kivVJ26r5aH04SAADsaCQlA0eAEqRvdvjXfJQQBERyd1pyH8h+CEBEBIKAYBvrEWMj+8n/+bn6A7fZVwDhvOeMAAAAAElFTkSuQmCC\"/>\n",
              "            <a href=\"#!\">\n",
              "                <span class=\"ipyplot-img-close\"/>\n",
              "            </a>\n",
              "            <a href=\"#ipyplot-content-div-AY2u6fWyjwES4NZCAPLN7Y-5x7PGLfJ6zyudca36j5Lj9\">\n",
              "                <span class=\"ipyplot-img-expand\"/>\n",
              "            </a>\n",
              "        </div>\n",
              "    </div>\n",
              "    \n",
              "    <div class=\"ipyplot-placeholder-div-AY2u6fWyjwES4NZCAPLN7Y\">\n",
              "        <div id=\"ipyplot-content-div-AY2u6fWyjwES4NZCAPLN7Y-JcTUHjct9HrWkjKXtUVbvF\" class=\"ipyplot-content-div-AY2u6fWyjwES4NZCAPLN7Y\">\n",
              "            <h4 style=\"font-size: 12px; word-wrap: break-word;\">7</h4>\n",
              "            <img src=\"data:image/png;base64,iVBORw0KGgoAAAANSUhEUgAAADIAAAAyCAAAAAA7VNdtAAADTklEQVR4nM2WyU8TURzHv+/N0oW2lK2UFhSQTSMBRY0xUdSocQkXb3r1//Ks3jTxYFwQBeNGLKUYg1GEigWFVqbLTKcz8zx0WqfUtuPF+E4vL79Pftv398sjDH976F8T/wjhf1/LWRG7SCabNwjAqOhz20J06WNC0inAuKb+EbGeIxPRf0bvLm4ZBGC8/wy3z2UD2Vx8tqgV75T5tWFnbT8lJL68bhIwoooi9jsbIUxOy4DPnVQBpGIenB9y1ap/KX1O4IHuvmgcAHLPN71tQbEBAgDoOBaMRgoAU+Pb+ZrisyCE6zky3p38ogPQdL1RLmBECIyeHOM65KevAYsU6iDgXUO9AcGnkcQPBaROL8uBEaKmUpkW15ghzcbqDlGpkszQdj6vbinENzjUVg+wiJ9p0vvlhAwYjebUDIx4AntFpwuUpVeWN20hXPtQ5rtrpMWhbyy8Wa3vx0T4Htdgjg90iYaS2pBteaFtbcMAwLJf1yVWty2VggHyy7dmcwBkVbcjGABIf361AqCps8Ndc5HsQlKbGgCMnDseEmwhmcT0nAQArYMhRy2iEok/vjWvAgC1pTEA+HR/SQEAvslTM6zK1cdiMzIACMFwu3UkmVk807UF+TH9otjEgXMXDngsyNKjrANMDR/t8RIrosuROxHCADF4YupwUcwFRdWIkXly86cbRn7M3+Kt8JJ6+ODlNgMQvnZ+wlt8W3kaTVBSWPtU4MCMjqxWGVh64d03AGLP2Yvda+ksAB7zjyPfCIUOFABkVKMSURSNGoD/xqXQ29uxZPEto4CV90apCiaibUQ+JBkA6k3Nv5qOV5eWhg/3eq2IGp2Z32YA8gvv7klaNQH/5JXxFmJBmJJVGADkXua3rJacYKgAEJ6YOtpc0RciOIr9zscAgJQE4/G35r8oBN6Jy6cDqMgFumqdRaG92ckYdL53/6Hk7XWnELp6qrx3Sl6c/q4UgZErQHBTtqc/7DMYdH7g4LHtndUmR2iyF7sQrmuCSByXnltD8KRPHTjQ52MAIy4Pbb2ucFS07LYS0jneKfN0x7FI919qLoT2BMoWXPeu2hGzP7quMQJlKU7Cow5wPFdV5SrEPDsS8fhrW/8JAWv0UahGbJz/9qf0CzkqRTRc4lVHAAAAAElFTkSuQmCC\"/>\n",
              "            <a href=\"#!\">\n",
              "                <span class=\"ipyplot-img-close\"/>\n",
              "            </a>\n",
              "            <a href=\"#ipyplot-content-div-AY2u6fWyjwES4NZCAPLN7Y-JcTUHjct9HrWkjKXtUVbvF\">\n",
              "                <span class=\"ipyplot-img-expand\"/>\n",
              "            </a>\n",
              "        </div>\n",
              "    </div>\n",
              "    \n",
              "    <div class=\"ipyplot-placeholder-div-AY2u6fWyjwES4NZCAPLN7Y\">\n",
              "        <div id=\"ipyplot-content-div-AY2u6fWyjwES4NZCAPLN7Y-YjyFDDNK7QgCm6i6bMMmCd\" class=\"ipyplot-content-div-AY2u6fWyjwES4NZCAPLN7Y\">\n",
              "            <h4 style=\"font-size: 12px; word-wrap: break-word;\">8</h4>\n",
              "            <img src=\"data:image/png;base64,iVBORw0KGgoAAAANSUhEUgAAADIAAAAyCAAAAAA7VNdtAAADXElEQVR4nM3W208cVRzA8e+Z3R2GJbuS3cKWFraUS4rVEhOChhqUKKHYBo19MPXJFx/8y0yMiaI2XoBAq2nN2hZsA1Lk4kJ2EbvsjYW9DDNzfOAiu7M7lhfjeTtzfp+Z+f3OmTNHSE7blFOL/4i4q1+WEoE4FdmKJC9canteYuR1K/H0y3hvYtAjFNVrixC2IsfG51O7uehuIHRWuAIvvRf+t6fomcg3c0kLyKyBEox2vOCrKFFlxZLffT6bso56VurXO49LOJP0T5FtE1DqVAUwk08WCo5EFuKPNgBEc/vFZgGwNv+nLM+3PBd9enzDAho6R7pZnljdw9y6r40M1dUmpakvsiCUzuGPXmbeYsGSu4/XrQEHYqbSEnw9N97pgI5bgYnFBDKdNB1eTOoS4em6NtoPePv1xFYC2HfKBQFa2/CHh0vFf7bh8KIzcTVefPGwp/nUKqTK4hfyaCpF1bVcMS8lyBeNw8ji0r0tAN0pF6GCprqkADC2f/4qD+ARDkS7HkILvXIQYmxu7gGBweE6JzIygNvjE4Dc35iLATSNvaU5ECXQiBAKwN7czLdrAPWhgOJATnQLv0xGQNQFe1vqa8VUNH1+RUhcre9f63Q7pX/crHhkMQmozQN9jRVjNcjOxNfLhgRfywV/5Vg1Uohn1yceZiVogzfDtvVRhcj1Hzei9zeBuo6xD1y2cTspzE5PpXaeAfR9/KZd2IjU177/4QGAy62+fqsewCiWLE07rlslMRcmb68CKE3tPVcPpj12dzY99EarVp0U16cmF/YB5cyrV7oDv2WyKO6n0w9SWf16uDqJTn22ZACi/tLNy/n41L0VhCjt5c2ZWHebsJH9zM723TuLBSAYajwXyyTXl54c7Xu5lZ0q6admV5ZmfjcB2q4EM5/GdNM63mrxeWzESEfGV5/9YQCQWPTmovnDkVa/ItDDfhvZ33p4O3HUiccB4RICOPPaeY8i8+eabMQq5bLlpdCuhhuFaQX7QqqQhve8bV5k2Yv73EJ23ehpUgzT395QfqtjIhQONhKB5O2xoCp9rX4Niav8Mz5B3IGu3nje8F1uoqi+Oxqs+e39Q9TwUP5RdKf7k34kXq/DeeDE7zW3vPZXoWU0WDvYRpCSWptqLfKc7X97Uvobbt9EdQYCxKAAAAAASUVORK5CYII=\"/>\n",
              "            <a href=\"#!\">\n",
              "                <span class=\"ipyplot-img-close\"/>\n",
              "            </a>\n",
              "            <a href=\"#ipyplot-content-div-AY2u6fWyjwES4NZCAPLN7Y-YjyFDDNK7QgCm6i6bMMmCd\">\n",
              "                <span class=\"ipyplot-img-expand\"/>\n",
              "            </a>\n",
              "        </div>\n",
              "    </div>\n",
              "    \n",
              "    <div class=\"ipyplot-placeholder-div-AY2u6fWyjwES4NZCAPLN7Y\">\n",
              "        <div id=\"ipyplot-content-div-AY2u6fWyjwES4NZCAPLN7Y-JoQg9AbgAPAKCTHHH76mgy\" class=\"ipyplot-content-div-AY2u6fWyjwES4NZCAPLN7Y\">\n",
              "            <h4 style=\"font-size: 12px; word-wrap: break-word;\">9</h4>\n",
              "            <img src=\"data:image/png;base64,iVBORw0KGgoAAAANSUhEUgAAADIAAAAyCAAAAAA7VNdtAAADL0lEQVR4nL2Wz08TQRTHvzM7W7Y0QLG2EiiIVgLYqAgYERMJQQ/+OKgHozHx5L+gV008GM968Wo8aLz6IxoTo1FQsKIWo9KIlaRoqWKFtralu+Nhy7o/hgY8+JJNXt7MJ+/73mTmLeFYrdFVE/+CsJVtW/ySogSq1NJgQTg4AJDyZ7H8ywiTUHDttyC/vyV+pGe0trWUKp01NqQYve+SkVPCJmFa+sPHj4lkTOsNMsmT3uZWXBaGMpmBMQqA6E3WssNX4pl8Icu9CiGsPjg0sMWSJZYkFCoNNRtZ1NTEoywAIAUAeLmwkGxt/avaFQ4bfjla+jwtW4Q8j1YfPOe3d0HXWC4ll7PGs7PxsXfpSghhzNHY9JNYJQSca/al5N1xIbJUIaESIUwCBwHXVBXArxf9lRAiMZc7OLCLLoIim3gYAQA4EpsRWh/qy7UdGQIAZKJTEYsEISJ3NO7V3P6llI5WiLLU1DQZsVKuWHaEiOi+ZJMZ3alYi9mK0dtxAPBv7REr43bLT56VCQDsuJlwLHLOuTPL9OXHiwAApWnNyoTxqes/da/KIwkRe/k8O6uWXc+6iudiWC7yqpxjU493meOx1RY/sU6Xs+FGQhVWby8/82k8CQDYuG+gQZzDJkybihT08OFjtcsQNmTx6b05AGjvGuxUlkOstSSP68GTD2ZK4kI455YmZ+L6+4JA+1rxmQC2c5kengMAkLo1snC3s5bhqwkAgFJbvTxhRkqZiQ8AAF9vW6UZYkLm337VnZ1nuioQZqSQ0p9YtOyxJkmO5+Wid7vXiWhqeW7ar/7Ixe816fAlAYKlSTt2nqpGkACvo78BnhUIM2bX6KhdPiFUMVKbhZXEzwOAulCg0ydAXB7xlVJk1r07GBIhvlaPEAk3+wf7q9zGIgOQSmiUU9nb2P9pct66vTYQaOgO+rqCphjhwJ1rRUV1+QYO5UcuPLMi/Qf2N1VJksssmQGYe5+vVpXAZlbbdyo0+VNfJhLnTaEtvd0OoQyA219wq1X1bpXWnT56a9JNAHBJ1vjuISJ4MQgHYm9UpjFlfQcFEPvBCABOKUeLzwkYc3819n9+rv4ANbNgQyvXKfwAAAAASUVORK5CYII=\"/>\n",
              "            <a href=\"#!\">\n",
              "                <span class=\"ipyplot-img-close\"/>\n",
              "            </a>\n",
              "            <a href=\"#ipyplot-content-div-AY2u6fWyjwES4NZCAPLN7Y-JoQg9AbgAPAKCTHHH76mgy\">\n",
              "                <span class=\"ipyplot-img-expand\"/>\n",
              "            </a>\n",
              "        </div>\n",
              "    </div>\n",
              "    \n",
              "    <div class=\"ipyplot-placeholder-div-AY2u6fWyjwES4NZCAPLN7Y\">\n",
              "        <div id=\"ipyplot-content-div-AY2u6fWyjwES4NZCAPLN7Y-8PyXtXXv5W8362NmwDdiEf\" class=\"ipyplot-content-div-AY2u6fWyjwES4NZCAPLN7Y\">\n",
              "            <h4 style=\"font-size: 12px; word-wrap: break-word;\">10</h4>\n",
              "            <img src=\"data:image/png;base64,iVBORw0KGgoAAAANSUhEUgAAADIAAAAyCAAAAAA7VNdtAAADpElEQVR4nM2WW28bRRTH/7O+7CV2jFviurHThNRJExo3CkkLNKloH1KkSuUBgcQjEl8B8T3ghZeqEvAEQgKpCYUqFVClQnFTt2lKqCFqEtdx0jgX2+u1d707Ozzs2m59g74gztPO+es358ycMztDGF7UuBcm/iPEWe8w7cWRlpPVI/qnf1lA9EPxnxFTK6rc2pWENXr91RGvizRDSG2T5Ts3YqR4X7VG3uGzH0WEtlH07PLszJ81QY7tDgiRtkhu7se53eek3W8PtUcKv99PA4Df53GYhrJdhvLgB1803AbJJg84ExBGhntEvfjk5hPQ/Wtrn7RGjK2llX0GiAOXx/0uWk6r8091lt0qtk7MSK6sKYCz79ylkwAgH6i39uFyN6unjRCBBwDunff7AADeC1IqazI0K0wlynaGAULv+XHb30sCBIyZrZHCN3MyMPR2T1XQGYFJNdYYx062/ChtAD3nAlWBEABKcl1rhYAHgK6hl54RCGH7SwvZVok5gwGxK3Sh22W7aWoxYwKmXm486DbCj8j8icnRar/rSz+lKCB2BflWiHQpPL/yVPV77ERJMacBDt/QkNQKESa6YvHtjjc7bLehFCnAefqONRC1s2/qZVOvJl5KrmsA1WgjUWtL0xt0HKqMNhcepHVAOOxuh4iDhXyEtws38/mGTIHARLAd4hkLqIOiheQeLgHwhKemQ+0Q78QYczoJACiJHQAIfXBxzNUOIS5bpnuL15cBwDd8vP3vomq5e999LQPgXg42JZogiStxGYC7/1R/YxmbIGYxfWu2BACdZ04fsUSD0pIKjhfszalD8vGrsRIAwD89aWtbmZ1fFyCNTr0lNSI0v3h9JgcAwvHpySMoHxR1kl9Obd1MAI+5M02QbPzLGzIAIPzxu53A5s+JXVd+dacgA3h8T2tcixL7/vYOgMMDRyPdG0mFS9zZOHCqmTIAQMvSBqS0eu0rDQBeeW9cWrh6d89dVg0KVHrVTeoQfe/u7C8lAB0h1/w6t/IohTqr9HkVKf0x80UJAMRw5jfbR6x5XTxhmsH5HXVI7nbc2t1CQqn4+KOcCdPsPeVRHsrR8576KKtp63pSNwHAIzIgEuVMUHriDV/+WO5sVKpfvtPxzI2GqddgsNHTBGBM8jloxPB11CcGqlt/U2lUZBAvjzED/d1VtbM2WxVh1LA+Bj8LmeAkgTXr2ecQ/8WePQYAJ8eb3sM1q+Vv2jVr/UZoQP61/W9fSn8Dktti63SyFwYAAAAASUVORK5CYII=\"/>\n",
              "            <a href=\"#!\">\n",
              "                <span class=\"ipyplot-img-close\"/>\n",
              "            </a>\n",
              "            <a href=\"#ipyplot-content-div-AY2u6fWyjwES4NZCAPLN7Y-8PyXtXXv5W8362NmwDdiEf\">\n",
              "                <span class=\"ipyplot-img-expand\"/>\n",
              "            </a>\n",
              "        </div>\n",
              "    </div>\n",
              "    \n",
              "    <div class=\"ipyplot-placeholder-div-AY2u6fWyjwES4NZCAPLN7Y\">\n",
              "        <div id=\"ipyplot-content-div-AY2u6fWyjwES4NZCAPLN7Y-J9gVPnBMTyGqPVaVLSjnZF\" class=\"ipyplot-content-div-AY2u6fWyjwES4NZCAPLN7Y\">\n",
              "            <h4 style=\"font-size: 12px; word-wrap: break-word;\">11</h4>\n",
              "            <img src=\"data:image/png;base64,iVBORw0KGgoAAAANSUhEUgAAADIAAAAyCAAAAAA7VNdtAAADXUlEQVR4nM2Wy28bVRSHvzsPYydxmoydODENaaEkceOWhBQqFSJKF5VAKAs2lZCQeGzYsESIP4INLHkIiU26pQogSmgRLEKgFEQeTpqYpsZObTfjpM7DzthzWThJHXc6cTeIs7rnzHzzO+eeM1dXSB7WlIcm/iNEq3ak3KtMCEQ9yLUfUluVld5/IhI4GLHM8U8Xdp3TZ3N9Ya/qhIh7mxwf/fq34q7jDxhDrw6GXFW2EuOXpouA4lesopXP31zWeK7BQWcPSXz4Y6IA0HzKk13KANmL0ug95IJs/DUHIthu9D1biuUzQMmMLYTdEADUyPND0SO5idkYAKvz0cP3I/daKQG98/jgE57Q02+93wOQvLzkVj4CUJuDhgpdF0ZSi7Ykm005IPtVyiW70nPfmeGm3eCDEQGUzPQmAIXuXi+gOI1gjcrN6ZWKVyzagG271dJy1p7dIDWzYiuAmogXQW3yuql0vfdur18151dLEpB/Tm6Cr6fVTUUzhm9/f+1OftsG/r4+VQC6XnBoS3UrH3tTTd7RhAAmvlgAePzFLrfEQATaD2mqogrW4nN3ARSv7q4Cwb6tYDPk/pg3LVB9AY/Tn7kPGWzPeXs0fv44tgm0j7wcaXRAkDW29OuVdwD08IVvs7UPpZRSajVfyI1eTaQBjLfP9/udNGqGn7mr30xWRiYwNORzJGqR0c8zld/fE27VpfOxtA+Znrx8C4DoQEukuzZnB0Sa330WB0A883pba9sDiGokNja2WACUzm59JtLqqQNZuDhTABBNnbfTmXyxEUDz34dWIavxyulqJ++WmRs3dCmFPPrGSRekYO7UtL4OmZ3gkUC+o/mRRtUZcdzS5EeXXuoNRav3oupM/unLDd1emTI1EFIWC7vx091tx45Hw05I2ZJye/qTqUaBkGXzhrXzhqL59Cc/eMUpMVWFhpOvLXsEUE5fX1ML5o0cslwuYv1T8DogAPjP7yxWBta0fPyr320JsLkYO9agOCN7ZgxsK9aJrc15C8Aay4wMHdbcEWEAj6bX5a2SVUbOLgfbOg5AKnYqZEyklrNAKZkqHZBYxVpa1kPLv1zZBr0tqNaFwGD/dsdMAgLnznjrRLxehldSZY4+1bATEXVce6SUIMTuQNWD1Nj/9qb0L9IWU1DKAfJFAAAAAElFTkSuQmCC\"/>\n",
              "            <a href=\"#!\">\n",
              "                <span class=\"ipyplot-img-close\"/>\n",
              "            </a>\n",
              "            <a href=\"#ipyplot-content-div-AY2u6fWyjwES4NZCAPLN7Y-J9gVPnBMTyGqPVaVLSjnZF\">\n",
              "                <span class=\"ipyplot-img-expand\"/>\n",
              "            </a>\n",
              "        </div>\n",
              "    </div>\n",
              "    \n",
              "    <div class=\"ipyplot-placeholder-div-AY2u6fWyjwES4NZCAPLN7Y\">\n",
              "        <div id=\"ipyplot-content-div-AY2u6fWyjwES4NZCAPLN7Y-GpHpTRUWwDKD4GzHUDTnab\" class=\"ipyplot-content-div-AY2u6fWyjwES4NZCAPLN7Y\">\n",
              "            <h4 style=\"font-size: 12px; word-wrap: break-word;\">12</h4>\n",
              "            <img src=\"data:image/png;base64,iVBORw0KGgoAAAANSUhEUgAAADIAAAAyCAAAAAA7VNdtAAADUElEQVR4nO3VXVMbVRjA8f85u0uWLBBSQAoGWtop4KhVsEZhLDpOX8aRcRzHG73zI/gl+i0cR2/seNWOto7QQcepfVM6gE4NGN7SloYmJU0IIdlN9nhBCAkzScqN44XnZs/uPr999tnd56xQHHTIA4v/yYGHvjfNRB0JKAyvz3w2svhVvAFwVfvA6RPPQjJ/TUwmdECp1pDe0q7VJytfTi3md6YPQlbrSEc9kpu79suyvXuwcDufeaPbU5tsT15ayAFCoBQs3de0M3WIeW8+B+D35zc3AOemP+ivSeLz8ynA4x/ucSJ3U3lYnc/WrMX94mIY4Nh75/vUtHn3kRKyzhNTczNAc9eZ8aAFvy+vgdRETYIJ0Pvx+WEDjA5f1QTA7jfW2a7DZiRlSDg0NtJWNUOJiP6hJohcuv5YgW80+JxUNZYEHUCMiOWnkEjllSAZmo7XXEN2sgyMD5oSXICn12/FXFHj1oqv0vpQ+zkpJAp00wAcu2qmItFOZxc2FYBKP04LJVr8ejVS7Er9SPAFS9lKYv/9458KbeCkt04W4TnyltgYNAVPlpa2QA2NNtUh0HR2yOlpIR9etgEjOGbUJWZfgBYZnblyexv6X3+loTxKRSNPCj2v7iPSApW7dflKDAh+dqwUjVKszv66YI883yYrCMDlq0uLcdAOBQKlSmLTUylSsYeJwqOls5/KSpIJffsNAJ7ubh+Oq4STLWzNXv262ODxOT7Zl2X2wm87k8bAQGf24UZBhqYjidR6aUlAVNbibtyZsAFDlx1tW+GVcNSR9+482LuiBlYl2Zy6KQHhb24MeH/6bm0t7ojcdplo1qVflJFCYu6HmTxYHt0tJOxkLJna/ca0/lwkD9rg8cMj5SQ39/1E1EX4rURau59z1V7DdH+0fjEN1uj4sFVOMpPX1l0gbSdzohT94jsNjgq8e0NBQ9+pk8UGL5LsjT8AVFIqicA0NUmWc59b225za/zoatPhN19qo4K4WztbpXU0FvLaa6e6LJVnsFtzlcbQhbTh7TxKJdF7VgQgvB0nfAXbGHu7t3heAl0fUD52u/L944bA1ayul1uVK1qrLa4AxVrtcMwQuJqnrbdGcAVRjruzq1Xt3/3kIOM/+9//d8g/mpY/hJdAIqYAAAAASUVORK5CYII=\"/>\n",
              "            <a href=\"#!\">\n",
              "                <span class=\"ipyplot-img-close\"/>\n",
              "            </a>\n",
              "            <a href=\"#ipyplot-content-div-AY2u6fWyjwES4NZCAPLN7Y-GpHpTRUWwDKD4GzHUDTnab\">\n",
              "                <span class=\"ipyplot-img-expand\"/>\n",
              "            </a>\n",
              "        </div>\n",
              "    </div>\n",
              "    \n",
              "    <div class=\"ipyplot-placeholder-div-AY2u6fWyjwES4NZCAPLN7Y\">\n",
              "        <div id=\"ipyplot-content-div-AY2u6fWyjwES4NZCAPLN7Y-kEFhphp2HBJJqhQGQNw7no\" class=\"ipyplot-content-div-AY2u6fWyjwES4NZCAPLN7Y\">\n",
              "            <h4 style=\"font-size: 12px; word-wrap: break-word;\">13</h4>\n",
              "            <img src=\"data:image/png;base64,iVBORw0KGgoAAAANSUhEUgAAADIAAAAyCAAAAAA7VNdtAAADKklEQVR4nM2Wy08TURTGv9uZaacFWkoptKXIQ2wQgvKGgFFWLlhAWOCOjRvi0j/GlTEuXeiCkBgNisiKBPFBERAICkKAUiqPvmc6c13Qx5SZlrIx3tWde85v7vnOPfdBKK7adFcm/hHCKj+ydJGCkL3t5KxUp7fW5GIUiHg0v0DPv2XGWMeXs5cie68+rCbDoTq2Cf3uSxBxf+b1l9OM4cwauVVp12tER1KS956+WwrJGYPBXmobeuDQCC45JP6ae78YUhriu7ucJyyridS6xKZffA9ftCWOA7HcWuSzPxEKAM6BakE8ndsEAOp9Nt6dEwGjZwWAtfU86gjHdvU+gYgy1jc7O3SqBGTLs40NtZhMknm8f+7zjyggeeebLHkRZ+9IHwDG0t1tCe9EAWZpxqFCsspy4HFLskdtLgshkJem/CotWYi7rSTZk13NDp6Anu1E8yNCOs9MXe+1EgLAoN4dyREqRCJATE6XP2c1sYDmFkgihON5QFlRMVFr5YF0xvi7jgMRXSUphsZ8IREAJPVxkkQMPT1UGYTs3ziKU4Bwai2ZdcmKmmwsbMcoiKlcnwdRNunE+9WfANDYZy0QCS4vrMQB0OGHtoIQGp1/sxiggKWmo0pt1kIS+5PPBQrg+nC1hlkLkY/3IgCA8k5nYQj1/wwDACHuBrNyWUguRNqYnlwGANf9UQ98vpAOAGTOXGbPgcR3ZienALDGxnv1wcP11SOGAJAMlZ72YkYLkb0zE2sA4Bqs2jpkfFvrpwQAKFvaSZsriBqJ7nx8+ykB6PSlNvFbUDw5OshIaXVXaMyyOT2xKAHgysls8LdAJUnxu7OISkt0zbuyuBIGABoP7IfOPVBWaWNkgDQ4jRcRGnz5JKaLAwBJBNLZLWrtbTMKoLLZbScXZ5GOU8c4TQEDnRJ/w1PLSaCUNfKqwMClhBaZQAFErKNjgmzgszeAxsXHSMaRQUaiQMLQUQJVy0IIQPTFFbx9ZETtqYVQEMBY29R+s16j5LVnYd23o66ulmZPcT5CiRC+XRd33nFwXG53QHHxAVT0BxLmhvz+2ch5xnK+ELSRwtp/+1L6C6iEHMQyRnYcAAAAAElFTkSuQmCC\"/>\n",
              "            <a href=\"#!\">\n",
              "                <span class=\"ipyplot-img-close\"/>\n",
              "            </a>\n",
              "            <a href=\"#ipyplot-content-div-AY2u6fWyjwES4NZCAPLN7Y-kEFhphp2HBJJqhQGQNw7no\">\n",
              "                <span class=\"ipyplot-img-expand\"/>\n",
              "            </a>\n",
              "        </div>\n",
              "    </div>\n",
              "    \n",
              "    <div class=\"ipyplot-placeholder-div-AY2u6fWyjwES4NZCAPLN7Y\">\n",
              "        <div id=\"ipyplot-content-div-AY2u6fWyjwES4NZCAPLN7Y-oFn6oed7j4wibXLL76JCvB\" class=\"ipyplot-content-div-AY2u6fWyjwES4NZCAPLN7Y\">\n",
              "            <h4 style=\"font-size: 12px; word-wrap: break-word;\">14</h4>\n",
              "            <img src=\"data:image/png;base64,iVBORw0KGgoAAAANSUhEUgAAADIAAAAyCAAAAAA7VNdtAAADUUlEQVR4nL2Wy08TURTGv3uZTksLpbSVQmnQoIiviBhFrYr4Qo2Jj8SYaHTjwoU7Y1z4PxhduNTowsSFiZGY+IiyUOKLREkgKmDiA62gFGhLH9N2pnNdzAht762iC89mZs7J757vzD3nzhCGvzX618S/IFLhYzatjPQly3Jyw/yAh/wRYXoyOh2N9FyblDR7cHNbc50s1EBmy++/ksxk05nQIAB4ArVux7aDNhHDGGOM5eIT4Qtc7MQUE5gpLNXVpwxwiMXym1oyfXdj01zwW/cGH4+YBTIlFklzwSenu0tnQS6b5YPx+G3bJi7PzGukZYIFcefsYClhDi2d32x2r9W4Ucf55AaijkZSOgAQSimltLG12ow7JQ4xPDe6XhlJ3E4wqPLhlvPfRTpnEKZ0dwEURLesWMwYMuV7ll834zl+OCQA6U9JoMxmkZLVB/YygFF/+lcJcU2I5KIKIC1t8ChVW5oMt6Ib10UtNeJaqA5U7tq5hNIK023KoUdOihFL3f4FqOlscc54h599M0h/QFA/Y4zpOU3L6XnNenVjlbHgpVKdTIrmL6ukNAAg1RXgTTh3qgYCAPZG91wRx+SnNAD4gn5BlO8HLREbHYwCkCvXttfNCYk+e/h4DAB82/d1OOaEjN1/9BEA4O1sc4lk88jIA2NPMG9jrYgQIKmIBgBSdaNHOHUcooXDMgCgfOVKIcAj05cfJgAA9kNbrSWYwmZQB1YBAIht/ZDo2Ms7+kzTv76OG8lX73KVyFEkjCXCRttbg7ur8iuMT2dkpla4ZcrVYrUbZ6oj2JbvDve9HPWxcOsev60Y0ftfxAAAmV5pns2cTKpEhgbeTLip6krqnDDt/k1j1mMXr3fUZgxC+jEcmtJZyBoggloQV82isqNPnQZNaHw8DQApm6fGwiP22U/Ul4IAIcTbvLCGcAixSyqE5vTaWo8tI7wwumTNW/4zA8iO1ib7mh1mzxVsrB66ExTlaDp66/2HceHuk3rXO0/y4+cCX4PPv3h1u3fWU9RAucj3kXMFy7jP3BuZTGilegygLmDvVEphybHQJNC8rLK+c5WrUIrgt4fpExP6WG/P85R86nigylJ0zIkQAFmWCH3+kpXWtZRzsRLI7+z//Fz9BFTQp1BI2mXSAAAAAElFTkSuQmCC\"/>\n",
              "            <a href=\"#!\">\n",
              "                <span class=\"ipyplot-img-close\"/>\n",
              "            </a>\n",
              "            <a href=\"#ipyplot-content-div-AY2u6fWyjwES4NZCAPLN7Y-oFn6oed7j4wibXLL76JCvB\">\n",
              "                <span class=\"ipyplot-img-expand\"/>\n",
              "            </a>\n",
              "        </div>\n",
              "    </div>\n",
              "    </div></div></div>\n",
              "        </textarea>\n",
              "    </div>\n",
              "    "
            ],
            "text/plain": [
              "<IPython.core.display.HTML object>"
            ]
          },
          "metadata": {}
        },
        {
          "output_type": "display_data",
          "data": {
            "text/html": [
              "<div>\n",
              "        <style>\n",
              "            input.ipyplot-tab-hbByzKV5TfZZYRzrG5quRn {\n",
              "                display: none;\n",
              "            }\n",
              "            input.ipyplot-tab-hbByzKV5TfZZYRzrG5quRn + label.ipyplot-tab-label-hbByzKV5TfZZYRzrG5quRn {\n",
              "                border: 1px solid #999;\n",
              "                background: #EEE;\n",
              "                padding: 4px 12px;\n",
              "                border-radius: 4px 4px 0 0;\n",
              "                position: relative;\n",
              "                top: 1px;\n",
              "            }\n",
              "            input.ipyplot-tab-hbByzKV5TfZZYRzrG5quRn:checked + label.ipyplot-tab-label-hbByzKV5TfZZYRzrG5quRn {\n",
              "                background: #FFF;\n",
              "                border-bottom: 1px solid transparent;\n",
              "            }\n",
              "            input.ipyplot-tab-hbByzKV5TfZZYRzrG5quRn ~ .tab {\n",
              "                border-top: 1px solid #999;\n",
              "                padding: 12px;\n",
              "            }\n",
              "\n",
              "            input.ipyplot-tab-hbByzKV5TfZZYRzrG5quRn ~ .tab {\n",
              "                display: none\n",
              "            }\n",
              "    #tabBsLEvDJMLVRiT4KRMndZoy:checked ~ .tab.contentBsLEvDJMLVRiT4KRMndZoy,#tabPnZqWRfjjEpuaLLFsdwEJF:checked ~ .tab.contentPnZqWRfjjEpuaLLFsdwEJF,#tabHa2qwvPcHTHAMxnLC64VMf:checked ~ .tab.contentHa2qwvPcHTHAMxnLC64VMf{ display: block; }</style><input class=\"ipyplot-tab-hbByzKV5TfZZYRzrG5quRn\" type=\"radio\" name=\"tabs-hbByzKV5TfZZYRzrG5quRn\" id=\"tabBsLEvDJMLVRiT4KRMndZoy\" checked /><label class=\"ipyplot-tab-label-hbByzKV5TfZZYRzrG5quRn\" for=\"tabBsLEvDJMLVRiT4KRMndZoy\">0</label><input class=\"ipyplot-tab-hbByzKV5TfZZYRzrG5quRn\" type=\"radio\" name=\"tabs-hbByzKV5TfZZYRzrG5quRn\" id=\"tabPnZqWRfjjEpuaLLFsdwEJF\"/><label class=\"ipyplot-tab-label-hbByzKV5TfZZYRzrG5quRn\" for=\"tabPnZqWRfjjEpuaLLFsdwEJF\">1</label><input class=\"ipyplot-tab-hbByzKV5TfZZYRzrG5quRn\" type=\"radio\" name=\"tabs-hbByzKV5TfZZYRzrG5quRn\" id=\"tabHa2qwvPcHTHAMxnLC64VMf\"/><label class=\"ipyplot-tab-label-hbByzKV5TfZZYRzrG5quRn\" for=\"tabHa2qwvPcHTHAMxnLC64VMf\">2</label><div class=\"tab contentBsLEvDJMLVRiT4KRMndZoy\">\n",
              "        <style>\n",
              "        #ipyplot-imgs-container-div-Xh4vQCYHYwTtSEJ9VKoKrj {\n",
              "            width: 100%;\n",
              "            height: 100%;\n",
              "            margin: 0%;\n",
              "            overflow: auto;\n",
              "            position: relative;\n",
              "            overflow-y: scroll;\n",
              "        }\n",
              "\n",
              "        div.ipyplot-placeholder-div-Xh4vQCYHYwTtSEJ9VKoKrj {\n",
              "            width: 50px;\n",
              "            display: inline-block;\n",
              "            margin: 3px;\n",
              "            position: relative;\n",
              "        }\n",
              "\n",
              "        div.ipyplot-content-div-Xh4vQCYHYwTtSEJ9VKoKrj {\n",
              "            width: 50px;\n",
              "            background: white;\n",
              "            display: inline-block;\n",
              "            vertical-align: top;\n",
              "            text-align: center;\n",
              "            position: relative;\n",
              "            border: 2px solid #ddd;\n",
              "            top: 0;\n",
              "            left: 0;\n",
              "        }\n",
              "\n",
              "        div.ipyplot-content-div-Xh4vQCYHYwTtSEJ9VKoKrj span.ipyplot-img-close {\n",
              "            display: none;\n",
              "        }\n",
              "\n",
              "        div.ipyplot-content-div-Xh4vQCYHYwTtSEJ9VKoKrj span {\n",
              "            width: 100%;\n",
              "            height: 100%;\n",
              "            position: absolute;\n",
              "            top: 0;\n",
              "            left: 0;\n",
              "        }\n",
              "\n",
              "        div.ipyplot-content-div-Xh4vQCYHYwTtSEJ9VKoKrj img {\n",
              "            width: 50px;\n",
              "        }\n",
              "\n",
              "        div.ipyplot-content-div-Xh4vQCYHYwTtSEJ9VKoKrj span.ipyplot-img-close:hover {\n",
              "            cursor: zoom-out;\n",
              "        }\n",
              "        div.ipyplot-content-div-Xh4vQCYHYwTtSEJ9VKoKrj span.ipyplot-img-expand:hover {\n",
              "            cursor: zoom-in;\n",
              "        }\n",
              "\n",
              "        div[id^=ipyplot-content-div-Xh4vQCYHYwTtSEJ9VKoKrj]:target {\n",
              "            transform: scale(2.5);\n",
              "            transform-origin: left top;\n",
              "            z-index: 5000;\n",
              "            top: 0;\n",
              "            left: 0;\n",
              "            position: absolute;\n",
              "        }\n",
              "\n",
              "        div[id^=ipyplot-content-div-Xh4vQCYHYwTtSEJ9VKoKrj]:target span.ipyplot-img-close {\n",
              "            display: block;\n",
              "        }\n",
              "\n",
              "        div[id^=ipyplot-content-div-Xh4vQCYHYwTtSEJ9VKoKrj]:target span.ipyplot-img-expand {\n",
              "            display: none;\n",
              "        }\n",
              "        </style>\n",
              "    <div id=\"ipyplot-imgs-container-div-Xh4vQCYHYwTtSEJ9VKoKrj\">\n",
              "    <div class=\"ipyplot-placeholder-div-Xh4vQCYHYwTtSEJ9VKoKrj\">\n",
              "        <div id=\"ipyplot-content-div-Xh4vQCYHYwTtSEJ9VKoKrj-FaxRzSJyyGSycsHvUDNyUm\" class=\"ipyplot-content-div-Xh4vQCYHYwTtSEJ9VKoKrj\">\n",
              "            <h4 style=\"font-size: 12px; word-wrap: break-word;\">0</h4>\n",
              "            <img src=\"data:image/png;base64,iVBORw0KGgoAAAANSUhEUgAAADIAAAAyCAAAAAA7VNdtAAADlklEQVR4nM2WTWwbRRTHf7P+ims7re1QJ2pSShpLIR9NSwkgJS0XBG3VUwQVlRAcuCJx5Q5CHLghDsCBAzcuqG0CEUpAoFSJ1BalIqEJiZMqxUn80djxOolrr3c4rO14vXYgF8Q77ZvRb96b/7x5O0JyWFMOTfxHiP2gSSkBIQ6DzN/KOH19l/4doqk5BBNfJt2Bl9s6PI7q/EV9kf/6akogopG84gyeeular+egKOqeDo/v3rhvuHouGl137545amsYRZtZ2RP67J0ldX/Mcey1N4aCjaKokfH5J0KPrGoAXq+2uwuFxJRTGQza6yIy8uONRQm6BPB1ndpZj+wBa99J/YK/HpLfHPt+pVBynj/p7+3KPFp9MKuip6a0wFmPsCLx6dEZI3s7rVfP+cOtT2Lxnx+qwNL2xbDbZkWmP1swPkauSmfPcZcPV5s/UZp0u4UlsXxm6jbQFHAdH7lWUcvR+dxeElA2NzpLByortvzJIEDvhzfvJfZH5e7cBwBN5z9KGQMVJL/+zXAAmnrfv6tJs42e9gCO12OGWyme9OSt2TQE33y7u/ZCtLzSDmgZ3XDL0zL953JWB9dAt6e22lv6Q4Asq1/eUXEruq0ArtYj1JqvI1C9elkxmXoQl4gjbVYCxVT7ZaS4trCsgnjmnNuK6JpeB1G/vpkG9EvvhKxIOZjThORu/w54QsN9DQnyW15nFSIUgL4r4cYE2/dc7YKapvRUf+AAJDExbyRY8gWAzXZQW4v9cEdWIwav1J5itWnRLaCm+KU8qKnbAs0mRADoel3E67YDdL51RdRGURyOOnvRdzaSewAnrodNUSQo/lDQZUWy3/6RWAEoerHsRShWxWRsdnRBewyKN+SwIHoqnirUIrnR0ek0RWg686IZkTmguDimDDiaKsll81p2dWImbizYf9ZcY9gA5iJS84VOl4bUpW310f3pUofxDPSYEe/1wKRKMfvTxrGOZ906gBKbS2RTG5s6OFwtFweGgqWNltq43Jn8+LeiBHwnutwaIGzxxaQGIJrbj3a9N7ivUvnw1sbGf00DuH02CSBymSKACAyPtDb3eatULFnh4acna+UCIPjqF1lTj6qIbG/rcNRFut8dNl/u/XNxhi+v5iisJAu6Uc86/pC/2Tt4oc28RtVfLK9qUiY+/yWVNzp8gRcuDz2tOL32hohh43NZzVCzSPh8jw2LWRDTlbE8E+oi/2z/25fS31Ugiy4sEspKAAAAAElFTkSuQmCC\"/>\n",
              "            <a href=\"#!\">\n",
              "                <span class=\"ipyplot-img-close\"/>\n",
              "            </a>\n",
              "            <a href=\"#ipyplot-content-div-Xh4vQCYHYwTtSEJ9VKoKrj-FaxRzSJyyGSycsHvUDNyUm\">\n",
              "                <span class=\"ipyplot-img-expand\"/>\n",
              "            </a>\n",
              "        </div>\n",
              "    </div>\n",
              "    \n",
              "    <div class=\"ipyplot-placeholder-div-Xh4vQCYHYwTtSEJ9VKoKrj\">\n",
              "        <div id=\"ipyplot-content-div-Xh4vQCYHYwTtSEJ9VKoKrj-nBUnSyRKxff2DVbEGWgNN3\" class=\"ipyplot-content-div-Xh4vQCYHYwTtSEJ9VKoKrj\">\n",
              "            <h4 style=\"font-size: 12px; word-wrap: break-word;\">1</h4>\n",
              "            <img src=\"data:image/png;base64,iVBORw0KGgoAAAANSUhEUgAAADIAAAAyCAAAAAA7VNdtAAADt0lEQVR4nM2WS28bVRTH/9cz47EdvzAOjkkT4Y6xklQJKQqtUAhRCkJqJTZQCZYRnwHxEfgCsGDBhg2rCqEiFIWWPoDQgKqQotYlxEmaNnGdxHHcxHY8z8PCj8xcT4BuEGd3557f/M85c869wwhPa56nJv4jRHR5RkQAO/Zlbkj2q7wlDE/7/y2i6/rcZ3ng7FCGfAFGYEwQHB6ML/Ly/T+vX9GB0GAQr56XdRLkRPLvVMqbNxaWcjqAg1+BLUPWyeMfngjb3TiVq99e2dQ0o7mSQ4zAxKnp0/HjVA42rl3N2t6hqgCA+S6akmxuZLPsJ2edmTbM4/uoYB152VWMfDZvAvAmRxQyAQC+4uxjWPXcPSnmGlh9M1cD4Hl+/J0J0gEA4aXlAgEbt3qOQVZ/PwAQf3Na6YbViCmZkHRCbuaVITfErBa2wOTE2FvjaDefP92/rqN0t+haMb2qA76hcxdP2pR9E6VLZUDUibWrcbS7dX0NkJQzZ+wfQehJCgCMews1FyT76S1A7HtOtREgtW4CqM58WehAKgs3c3WgKx5ldkRInkqHGMzd7VZLHOWy+80NBibEYkHHoEgp46fdKjGfvzMXKu6ZQKQ/0+2cLeYVGQBDU3nEOqyqAIv29oe4cdQtAKjv7WjkQMwnaxtlAvMIDJwxwcNA+38srugOxCo/3KoCkpKReSQwkJZA6vbmjuVIn8rFskkIvv1ujEe63xNv1wFBbDV5E7HUwzoBYl+CJyAl+kQAjLVCbuVKZAGw6h0EgLrlWHLlcT2hZacT9xHcCOuQAKAdmNvR57Ty7OUKAF0zyBXpkCHjwaUfa4CnKxzwuAbm5RHj4S93dgksMvByWnIiZBEAI180uUTu/pw3AAqnUhFOxbIsALUfrh1wyPycCgDRRKD1qJmLJxJ/Zt+E9pu/56VIc2t9oSZ59uY2TDkajE+ORzlETContqtkLNdSwRERAOjJ9x8/DjFzX6PoqDL4xosCh7Bw77PeCmCVcotquhswlmZnVtCYd5/y2mjqqLQtxJtQVis6gdbnH4xPMvPRzc/vN3YEnzI4Omgva6tFakvffbGiQYgF/ZkRSSss3W5IyGPvD/T3dtmQtl7gtPhIzKnmzg5WFyVtv6IDQDCcOv9BAA6z3S+1tctfZysA4GVkWAAgTp0bGUhxLWFrmMCpQ1O/YwHQGlmnY8nXJxROg+ux4RPF9VJ7lfpwLO73STzhROSeC6FS+4jLTL7Q4c7lAjT/ElpbzHV8Oi/xf7b/7Z/SX9Ede/aWnuJ+AAAAAElFTkSuQmCC\"/>\n",
              "            <a href=\"#!\">\n",
              "                <span class=\"ipyplot-img-close\"/>\n",
              "            </a>\n",
              "            <a href=\"#ipyplot-content-div-Xh4vQCYHYwTtSEJ9VKoKrj-nBUnSyRKxff2DVbEGWgNN3\">\n",
              "                <span class=\"ipyplot-img-expand\"/>\n",
              "            </a>\n",
              "        </div>\n",
              "    </div>\n",
              "    \n",
              "    <div class=\"ipyplot-placeholder-div-Xh4vQCYHYwTtSEJ9VKoKrj\">\n",
              "        <div id=\"ipyplot-content-div-Xh4vQCYHYwTtSEJ9VKoKrj-eVvfMGg3HvnhgMLEHqkcGs\" class=\"ipyplot-content-div-Xh4vQCYHYwTtSEJ9VKoKrj\">\n",
              "            <h4 style=\"font-size: 12px; word-wrap: break-word;\">2</h4>\n",
              "            <img src=\"data:image/png;base64,iVBORw0KGgoAAAANSUhEUgAAADIAAAAyCAAAAAA7VNdtAAADw0lEQVR4nO3W7U9bVRzA8e/p7W3pAx1jBcaEdoAjgEwZgyybEtiy6DKJGk3UxPd76Tvjf+Af4EsTE9+IZgka92Juc0FwxLCkE8bD6BzjYbaOh8JKRx/vw/FFSym0zPDWeN7d3z2f+zu/c8499wrJQZvlwOI/RawlYqYuZTqj5eZSCKdb+TeSeqTHJx8sprJXirvv45oXERneUhbGU1sT08v52POac74XkOTA/fK/ZuNGKr0Tu5dMfmLbj8hg4EbQ+WwDAPdRt7GwBUTHf7L2+vYh0cGr80lydXv7muQPAYDU9SAf2UqSuZFfH2byV0p5q786sLLwICO1uUGtx6+KvcSMjgxMZAAsDpue1tLr9o6TfcHhlWWJcSviOVxZRJa+HZrcBBC+npeXZqY2Rk9eUnweyx+JTUguzbd6bLtJZvPO1aAGKB7/6f7W0dhsbH7BUNSqk11rMybEV9cb99TyZOD2vAZQ8UFfZ5ViRGOQAfD0rQRNILNdZY6YyT9/CaQAcay7/6wXw3+mLM4pATjaF8cXY2iPZrscuaWQUkqZvv/FMQHgunJtXZdSxiN/h0JRKaU0tcBnr4HF0R/O9s1lSY4OrUtQatvf7K4EcDq3RyysxnIUzOTG7oElhod1wH76nTeq2dtWJsIA9twS594XY0MH0Dp7vaKI1JxrAMhsGIUEA8DmP9WkFAl8l1oBYuMhWUCEAOj7vKMYQEVzNcDSl4OyoJbsaJovHy1FyiqdALF7LcVZ9NLnoGnsilsB5NRvy+D0vlRWXDuAlACeE50iT8xvvk6A93xHeWmSbf5Pe3cIazHAVV+tluxrKbcBuDrqCogTwOqyl0ximptpQDiPKDu15B6mljqhiNyaeTIO1qrGMvYSPZmWJdKsXb8ZAdTGltwqFxyw8VBEL5FlK64B2NvbbIXEBIjNhoqJDI49NQSg1tbsyqIDbAbmMkUk/f1XMwkJqNbt3WcFECeaQwmMxNjg+QbyaS08XXgWujlrwKFaV/MruQnLkdfXB5eAO2GOqKoVYjEEqvj9x8nQcxNovljX0F1pKSQt8dsA+uPvHjfVeR3pu9OAIuamwjpQ3vL2W4crtgUiu+NWrvyc3ZPqmbZ6T/zaWL4YIUT7+5e7CsrLrcuhD503ogDadNil6ks7Hcq9FRfeO04xUS8oqzPaVgai0WxE8agmSHvb8eqeVylBLN6z+vzy0MOdG5Xv+lISzd3V4KjYPe9i++0xwpHVkbv5sKWxvz4l0ZzNHtiHoBtGMpUPY3VbTUCoRd9s8f8/zAHbP0sff43+GEvdAAAAAElFTkSuQmCC\"/>\n",
              "            <a href=\"#!\">\n",
              "                <span class=\"ipyplot-img-close\"/>\n",
              "            </a>\n",
              "            <a href=\"#ipyplot-content-div-Xh4vQCYHYwTtSEJ9VKoKrj-eVvfMGg3HvnhgMLEHqkcGs\">\n",
              "                <span class=\"ipyplot-img-expand\"/>\n",
              "            </a>\n",
              "        </div>\n",
              "    </div>\n",
              "    \n",
              "    <div class=\"ipyplot-placeholder-div-Xh4vQCYHYwTtSEJ9VKoKrj\">\n",
              "        <div id=\"ipyplot-content-div-Xh4vQCYHYwTtSEJ9VKoKrj-8ew3a89GLwra7mEK6Dh8U6\" class=\"ipyplot-content-div-Xh4vQCYHYwTtSEJ9VKoKrj\">\n",
              "            <h4 style=\"font-size: 12px; word-wrap: break-word;\">3</h4>\n",
              "            <img src=\"data:image/png;base64,iVBORw0KGgoAAAANSUhEUgAAADIAAAAyCAAAAAA7VNdtAAADrklEQVR4nL2Wz28TRxTHv7PrH7FTx9hySAh2RBzUSKCUKg4KIU4patpICKJWlUDlxgGJC1L/mB57gFsrtRWoFAgRQWmbH2obNyYVSdqGgB0c/COxE/9Y27ve7WFnnGV3bSk9MKfn9+az78133niGKDjo4A5M/B/E0jycScnuwEEQpRRZlrpHj3AgGi9ptvyl75aSssvfd/aUr3kWWRQEUeEdpDr5dRIA/GnlTIulCSKXl39d2oSrv/LX8wwA4PWdbDocaILkZhd+jpSAdWGDeqT4jD2oEUHRjz8G250EgN26P8k28MP+BH0WMT73tAoAqGi81firvVae/tBvZWF6ykz3/OuE2GgtZP0fiYU6g0drgphcKQM1SW60fDH2PFWj8OEzI+/JudJirAxwHGmEfPN9JE+/5xm53uOFsJuzAYCsmCO13cm71OS9oU/GCIB3vDwAeXOls8UM2VlOUYs7NHQjpGksaSrZ5zVDCi/zTIWhi2E3AEiFggxASUUzCjFBijtlatmvfNaq1pqg6toygkNl3tiX+HxSNbrHTrnUiDQ3WwIAVBajVZMsK9NZ1Qhd7WCJp5+oWpXmO07Y9Uh+YzWnWo5j/Yco8XKbqlvbZeprCkvNrKphrj3QpSqqpJ+VaNTS6eMNhcUmV1TDGQw4VUt+EaWlwn35nEOHKLV4NAMAFufJc0H6QenvP2mtaAkFoUNqmS31g20Dlz5lR728vMgKk+uHoY5s31sQAADWjuPd1CemEnRvueCo24BsfrWqKsJZFbbP2TXWDZZLXxxlM+uKSUma2fPBcdZcGw/Z8ec8nXZ9FqVIG5X0fuxn5Ufvx6hpJftnjCLC7H21htahMdaxO1OTCXrcYD/is+iQyuKcKo1zZFh1iULk2wWmkmeg1wUdQji6E9auLh4AlI1HM/PbbNaFL3uhR2Cx0M52u3lAyq799mApwxbiDQ/CiNQH4QFkZm//nmdnB4fH+2CCKLRhi0/Kx5Bdj8zVi+L94YleM4SN3K2Hg8K/6aJU93g/mhi3mSDEZlXXolRjkpjWTOganhhsgQnC+zrYXy4SmjDnOn3hfBvMEPtw8R5Mxrvhi++36Z3sCng26jEAvPvaT3nDbVJHCo9vGBDf53d2ZANSV6z1w0rqRXprXyl4Tp4Ih4yptbdYcevHm35NZPxpek805HjjFnM6zzra1zYLPCDbAm6M9JsJorv3Fchbv7yyEVTbzveANHisGJ4K8T2eoGbvafy4afq6MB9v53H1HxgSuSLs4pPaAAAAAElFTkSuQmCC\"/>\n",
              "            <a href=\"#!\">\n",
              "                <span class=\"ipyplot-img-close\"/>\n",
              "            </a>\n",
              "            <a href=\"#ipyplot-content-div-Xh4vQCYHYwTtSEJ9VKoKrj-8ew3a89GLwra7mEK6Dh8U6\">\n",
              "                <span class=\"ipyplot-img-expand\"/>\n",
              "            </a>\n",
              "        </div>\n",
              "    </div>\n",
              "    \n",
              "    <div class=\"ipyplot-placeholder-div-Xh4vQCYHYwTtSEJ9VKoKrj\">\n",
              "        <div id=\"ipyplot-content-div-Xh4vQCYHYwTtSEJ9VKoKrj-hy4JsgtGYmirFov3D49esH\" class=\"ipyplot-content-div-Xh4vQCYHYwTtSEJ9VKoKrj\">\n",
              "            <h4 style=\"font-size: 12px; word-wrap: break-word;\">4</h4>\n",
              "            <img src=\"data:image/png;base64,iVBORw0KGgoAAAANSUhEUgAAADIAAAAyCAAAAAA7VNdtAAADbUlEQVR4nO2WTW8TVxSG3zsfbhxPEjs2sU0SWkc4iREkJlGDQAUhEEoQQlRCahdlg1jCgmWl/gD+BhskVFWISKAqbSqVlkaluCmBEEIcYqj8lXRI6ng+PZ65LGLHM8ZGyZ6zu3POo/eee885dwjFbo3ZNfER2bVxzRw0L1NKAMpwXu/OEPnOvGURwHR1nhj/IFJ8tMoDIGTt3rJlEcDiO/JibMBTCyH2ginr3JPvZgQGAClLRsXFEuGbK/3uxirLj9IvZ1W1TtjC+nT5/OeB9xBqWtLMrcRmRRwUvIdniFnUQfHiteUa8ZI6RH6YzCaeVAi3R1OsTy/2t5H/f3hcNAD1J0kZ7eLsCC2lfnycWdOAFlIC1//Z5lvx8JejPAzNlRUlWUtpAz17HCpG6rfpf3UDYAe5lBm6cLqQzfUGAfAXxxbSqzOz0NeLvAMpJ/9OqQC4vceNnL7nwDFFfOv2EQDhcHgtnZuFthDq7O2wqywtAQACo+f+mzbaW1nB3U24rXzDAW8XoP6ekSaOkRrCLq0YXCvvPX1yqHBZiewnpFZ8HCcwAFWTU8GjNmQjmacd+/zRy2Mk9C1AnBdjAABKiRG6vTHrztQiRdvQWDzG1McDIJ5oPFUAaKmWPr1/E2BCRyai9dEVZGB0owCAd14l2xk/1dOQAHh/d2tttYW4AFboibqaIKRF4GurnXUltWwFb0M+MDep3WdX2eGsrSEM3ywVwNXCNkKskt4U0VWzAVIW5x5kmxA0cTcDAAqA6iFTwCou/uHf2yC+JCu5X/8CwLWHbIgKAEq22EgiefupuAIA4avjzDZCDsaXJcjJhL/d08na48U1+c/JZwDABY9fGARQHUriy+sJsJ9Eh3sOTvjsyPeT0upCEQCCl84eEWwbCwixlYKpLG4E0l1DPs4CAPLmH42ZfKDpMgBEvhgf2SKqZakdWHqqopTOrHbpMY8BEJBfbuQFSd2635YzX4144UD4/X3zAKXI/7wSdJkAAXn+CjIAoG0wEjk1vL3hCsL1xR5qlFKYc3P2XAgB4x4eP3rIXzuVqkrfiVfPxJxRf8I+nxL9Otod8tladXuMr0/Np5+/cQJEiPUW49fcdV+riLkubc4tWPaxTpn2wxFTqO9Vx2OReU1ZB+KOtuI9c74v5TovwzXoWvLxH2aX9g4WS0iMAHLWmAAAAABJRU5ErkJggg==\"/>\n",
              "            <a href=\"#!\">\n",
              "                <span class=\"ipyplot-img-close\"/>\n",
              "            </a>\n",
              "            <a href=\"#ipyplot-content-div-Xh4vQCYHYwTtSEJ9VKoKrj-hy4JsgtGYmirFov3D49esH\">\n",
              "                <span class=\"ipyplot-img-expand\"/>\n",
              "            </a>\n",
              "        </div>\n",
              "    </div>\n",
              "    \n",
              "    <div class=\"ipyplot-placeholder-div-Xh4vQCYHYwTtSEJ9VKoKrj\">\n",
              "        <div id=\"ipyplot-content-div-Xh4vQCYHYwTtSEJ9VKoKrj-aGnN4mgvwuWiJZy8GeynyP\" class=\"ipyplot-content-div-Xh4vQCYHYwTtSEJ9VKoKrj\">\n",
              "            <h4 style=\"font-size: 12px; word-wrap: break-word;\">5</h4>\n",
              "            <img src=\"data:image/png;base64,iVBORw0KGgoAAAANSUhEUgAAADIAAAAyCAAAAAA7VNdtAAADxklEQVR4nL2WXWgcVRTH/zOzO7vT7FfaNEljotmGNAlr3Ca6LtYqFStYLRaKiCCIaFBBsT7piwQfC76pL/qoLwq1KFopoqEtNQ+GNoZNmqKwoYZdZk3Sbjadnd3ZzBwfZu587aRYHzwvc++59zf3nHPPPfdyhLsV/q6J/4KEdh7SUSrKwoP7/x1CBqdVNJqb+V2c4nuinGeQC3R/5hxP6w2SV/8Wxge7jz7j+2G7qGunQqJkz4hMrcjrtYbOhoNWufTlTNHd7xtO9U9kR2N38KV4purpl8vok/VBhgQFuVltU61fmVNZ27fK5m10pDp6dUGvK269Vp4/f2hYDEC2Cqs0lL/nESWqVRZb7pHW8meVtwOQiz+Ub9FjuYMvqFFBLV39acsZovr1pVabYfrm2Y8B6K90jWjRwSTOVxYbHLV0a1iRt9uQwqcXAaB0Vp3V4+/kkZuW1V2Vr64S2wc2l21Qs3RaAMBF9j+dATC9fJuIiOSTHEuX3C83iYjIRv54Iw0A0tj4XgnAvS/+qhERyU/aViSPfK4TEdn7olxYAQAylDUVwF+X5QYBCA0NiCxoG3WvL5zpZrNoWS4aOnGA9Bz/zZqp2XfyEOdCmoWZTdM1ezcMAoDw8HDYUux+NO1epf79tzV4xHKajyeY+/FMl6my4tZQDAQJGTqLMWc5ZSFcRAquAqRpDGE271guqO0gadY3tOMM74FHuHdc9CLwu8L5kD2njic8iL62qduj+zJ7wkr6PtEDSQ+NeA1rFWVnmcn3RyIkREMehIvAi1DDJkKpsYNxe6YgsSomMBULctieFM9mOpyfbyt1KzDOPy1klz2pZyrnRJ7KX/xsZpLqR/hkpGk24pPPOmahtvzdAgAgsjfsQ4REckMHgM6Xjzt1Elj5rWo2HjjW7fNFnHw4ajkVcQD1xqXZLQBIHDj6VKdjLRER6Te/7jGX63qtZhfnwof5mAAAhz9aUOyabB/kxcetLD/wScGq5vOn81bsXl1oOFXeRorvZc3I86kPTM21d+8XrD2Z3jYcxM6x1OEbZmyM6jlelLpQLs4WWRIZ9j7ClZaxyaUf6+aU+XmucwgLLNnBh6NwC1vOaF5+K+OoYzGnPTo9576xXLfYrQsvBd6c4ef/1N2I61TGJ7I9AYeU7x/r9ahdHSGRO9F2Y0McOpbv8Ko892rpdclHCOk3rynkEY/10b4TyWrpuly3+smBgcH+iVHfkfbdyKTXrpyZW22FAGwj88SRbCrkIwKeChtL5arBAzDQnU7vbnNuh9fFHeX/eVz9A804ASUVK0VeAAAAAElFTkSuQmCC\"/>\n",
              "            <a href=\"#!\">\n",
              "                <span class=\"ipyplot-img-close\"/>\n",
              "            </a>\n",
              "            <a href=\"#ipyplot-content-div-Xh4vQCYHYwTtSEJ9VKoKrj-aGnN4mgvwuWiJZy8GeynyP\">\n",
              "                <span class=\"ipyplot-img-expand\"/>\n",
              "            </a>\n",
              "        </div>\n",
              "    </div>\n",
              "    \n",
              "    <div class=\"ipyplot-placeholder-div-Xh4vQCYHYwTtSEJ9VKoKrj\">\n",
              "        <div id=\"ipyplot-content-div-Xh4vQCYHYwTtSEJ9VKoKrj-oTYFm774S7haknXxJTHh5y\" class=\"ipyplot-content-div-Xh4vQCYHYwTtSEJ9VKoKrj\">\n",
              "            <h4 style=\"font-size: 12px; word-wrap: break-word;\">6</h4>\n",
              "            <img src=\"data:image/png;base64,iVBORw0KGgoAAAANSUhEUgAAADIAAAAyCAAAAAA7VNdtAAADqklEQVR4nM2W23JTVRiAv7X3zrFpEpKW1tQ2FhuBisUDlUZOoqOMjsMMXuCNT+Az+BQ8gXrheCWeSkdBGQUL0sJUaKuNDLGH1E4awm6Stjmu5QWh3UkaSm8c/7u1//Xt/7j+tYRip6LtmPiPEOPxaqUQiB0h9yZT7UcDT4JUSmslBKhfLs/3GP2eFpdFKbZMcurP76ZsOkLOL+Y8vR2dZ95obqW0Zt5fliSnv4ohEEqBuWDvjgzZdK0Jkoz9MT6ap1zIgKLqgSwmYp0et7YVko2PTszOxBsiy9wQJw86t0Tufnt+WkprpDZRAJW5Ok6Hz2hEsrGRC7FiddHVJkG3+7X7iwlUOfejp/XZekTJ+PCFMQkITcc1uK+iMJztxuLvaysScUt/bY+oQ9bjP5yPSwDXi4O6PdqrFJru1FYH/KMxlEqaeaeoRVI/X5oAjF2BrpNvG1qk5ZEiJFQqWyJ7O3zAUYvEP58CCHw05Ap1CrFZbu9xVsdmMT/NfFyHrM2YQNeRd16tS7EeHMyVltfLf/9VH77DDWinPojQIJ1nUnfmyrire6v1KV0ZWQVH1/793kbE8OyyCVgYiSmLlcxnX5rQ+lzI3UgAhQoQ+6TQJzaQ0lIiDbg6nmptckwF5FO5zVhUatoEtNDeTvvWBIDQLHVRv309B3r7ibNPNyc2QwNgdvIB6N7IvsfurTbMQ9cNuwbUNPFWm62I9tDNZpNTVhQgi2ULso3kchUJqvrHbYYSAOmxSVNC+PQr4kmRue9vmkDkw4jFsVKhAvVT8ZGsxycSAPixIC3+5iXM3B6/mwHcPuupFP1Hlkya5GLm3PWkBDEUdVit9B7eDbJSzWKNjRvDF+8VEIGXTg3arVbaBgIgi2Z6dx2Rnz53KQ1o0Xff7LEiGF4dZPZm17E9NTl4cOvilWUAvWcg7MSKUFJA5nISb7vVq+kvhlMA+IK+jdaoIka4ex5lTn2T8Osy3Le04LDJfC49e+0fAPqOR0O2OsR+cG7VlJg/jdtV5fDrkxMeVyWTzOUzIHTNe+zsoSB1iPOEt/XaDKxkNfg1nk4ZNlHIlSWgv9UbiL7spx4xnvGhkrkSUkIisaHWnd6+08/7eizEZo95j5Mbn7WmSyhE8MD7gyGvraY3NhA9eCjbPadUOrlU1EDZ2zraMYL974WpE8tdWc4XyuTvXL+64oCi/4XoUZvQ7O6GXrd8MDweoCXQu2qDckvP3iazo+FG3rghG54ITZHt5X/7UvoXxn1bGFwGDUAAAAAASUVORK5CYII=\"/>\n",
              "            <a href=\"#!\">\n",
              "                <span class=\"ipyplot-img-close\"/>\n",
              "            </a>\n",
              "            <a href=\"#ipyplot-content-div-Xh4vQCYHYwTtSEJ9VKoKrj-oTYFm774S7haknXxJTHh5y\">\n",
              "                <span class=\"ipyplot-img-expand\"/>\n",
              "            </a>\n",
              "        </div>\n",
              "    </div>\n",
              "    \n",
              "    <div class=\"ipyplot-placeholder-div-Xh4vQCYHYwTtSEJ9VKoKrj\">\n",
              "        <div id=\"ipyplot-content-div-Xh4vQCYHYwTtSEJ9VKoKrj-fkxwD6HXKij76jY3vkx4kF\" class=\"ipyplot-content-div-Xh4vQCYHYwTtSEJ9VKoKrj\">\n",
              "            <h4 style=\"font-size: 12px; word-wrap: break-word;\">7</h4>\n",
              "            <img src=\"data:image/png;base64,iVBORw0KGgoAAAANSUhEUgAAADIAAAAyCAAAAAA7VNdtAAAD5ElEQVR4nM2W3U9bdRjHP+f0tKVrR8rW0kJbRMaEuWwwRybMxKkzkS0LiZkXXhhdvNTExJj4N/gPGI1RE+eFF1M3TXQaiXFB5st0GyK2pIIIY+UdSlv6ds7v50V7+gJlgZvF5+rk9zyf53m+v9ejSHZr6q6J+4Ro93IWdCq7QPLxhFSE3e3aISKT6wt3F4RqOAN+j9O+E0T//ObK7KJUpCPgDZzruQeSno0bEmDuyu3UsgAI1zfu8Xid2yLRd6+nBIC+mhGikCW7+tn6c921kNxafOnfW4PRzS0KoYc5URNZ/n08/ONUviLYZlONrA4k/5xYdStbEH3sk6mFSVGZ/+SAmor8MQJy40vxgs8clkXLx94qK1Q1TQVejUvjhzeaNICOr7NGIbJUJTUSTpeQYGc6Np3jt/cH2o/W7R/8Hph5Z+ps0FLVWHw4UmxWrXc/eTwZXlsi8kVHe8MJjzEaz7HxTf7wflcVkhj8q6jDOfBy015j7NclVJsKSvBk+OdJyM/PtjmVMmJMD48nAFD8vQOnAOuj8TlDANh9zQ6ATCpbOWPpT68Ulbh6Xz8G4HjWcjmvC4BsWgdQVaUCycyMjBVSNJ7pP+YCcDyienLBFgDv43cmdFDrbEoJkYnJWEKAzal0vdJTOHXWgO8JVBtA8Hz0Ox1ENi/LWjJrawLU7seCBw6Z51SxWs0vi0MB5i6pzfYSkstkAEv3i4fNsGozAJavtp63Y579gi7hO1ibMC0ry/IVVQHN43NuE6sA2P0PVKy+RVNgX09wu/QqQOilZ+wlRKzEshB4ur02IDeSAthzMFCuYkyMrEOo/0BtJB29awDGRqY8yfnwzQTY3NvcHWOXbuiAUdgLZpUIYGRqAvn5axfnAQpnyJRv1E4PIG59/NMCgOpt8ZQ3DBYAZcv9nE+LXGzwowSAo+14a325itQBrPWbkalvV5JTkRQAwddONVNG1H3upM78UI+/sqPFmaGvVpKxJICz9fSZkOmRUsr0e6cbwNn5gaywlQ+P+J11NhVA7X57Omc6NACtvSu6SioytugFjIV5oVrWR6+OFrP6upvbnyrVKDRmCXW6AG32Rl8DIvbL9azNPnftjhnT92abdS/VCJomATFycbiB3OpEVLdoiX8A7H536Ejv0artWlxw1apIxPjfVg1h5Mwr02LreDjYc85RPY8agOLpaAnnQep6lbPr+Qc97sZNRLGKq60vMRtPGMXLTwFpd1vpv+BlqymFJzQ/t7QydDnhkEVA0Q9daMIXstRAilqsoRBuknXFUakYD5211QivqAKQ3ZDl91paXZsf7xrITu1/+w9zf5D/ACfCk9AYXkVKAAAAAElFTkSuQmCC\"/>\n",
              "            <a href=\"#!\">\n",
              "                <span class=\"ipyplot-img-close\"/>\n",
              "            </a>\n",
              "            <a href=\"#ipyplot-content-div-Xh4vQCYHYwTtSEJ9VKoKrj-fkxwD6HXKij76jY3vkx4kF\">\n",
              "                <span class=\"ipyplot-img-expand\"/>\n",
              "            </a>\n",
              "        </div>\n",
              "    </div>\n",
              "    \n",
              "    <div class=\"ipyplot-placeholder-div-Xh4vQCYHYwTtSEJ9VKoKrj\">\n",
              "        <div id=\"ipyplot-content-div-Xh4vQCYHYwTtSEJ9VKoKrj-jmosMWek9pQNGb7eg7vxat\" class=\"ipyplot-content-div-Xh4vQCYHYwTtSEJ9VKoKrj\">\n",
              "            <h4 style=\"font-size: 12px; word-wrap: break-word;\">8</h4>\n",
              "            <img src=\"data:image/png;base64,iVBORw0KGgoAAAANSUhEUgAAADIAAAAyCAAAAAA7VNdtAAADcklEQVR4nN2WS28TVxTH//d6xh4/iOMQ6pg4TkJjngZqobQilFRNpLICihpRBCu2IL4EHwEkPgAbhCokXmrKS4CKUNQmihWqgkOxoXFwjLGTGNuTjH3nshgnc/0CsqlQz2IWZ85vzvtoCMdaha6Z+F8hUkMtY5zKa0PmEyVP3ycjiTwl/ElU885vbLd9EqJeijgs+nS87AkOHt70cWRxNvHPzecK1dN5JFPvCl125gj55ZoSEXFg/vzt1pSqA+AcoLJDonn/meEWt7MZUnx6ffRpviYKMrjF3T/cVqXjFdFLU2f3VMwopZRSUrFQRh68WWZ8VVa9FB7fvR3LAQCsnRYGgoVs5VXPNx2BkUBt+lyLj975CwBA3cFdEgPBTEQjtLzIMJOxdrd9v85hI2IuWuzehbgKAGg5NhSmHMCLsYKspH5JA4Qq/p7D326xil5KzyfiKoBtPgQOfb0BAOBbr8pKcm7sNTgrRF+EdutVgZWi0wDgOPUTLK5K0x27OEgPa7uoAYDbaSVVCIvGSsCO74Z9Zi2pDYCtX2p9NpVWsTzu32oTi5wYIgBOvyrzWtF19vuJbgDS0aShMYaBZYocAHFZUCuE0J1HQgDKc2lmeAcAnogUAItiXWJ1CAD3/j4AyE4muIlcOfcK2PjjPk+TJaUA8O+5KwISmcgBreE+O2kE6NTbqwC5iYiJwChFsytIW/ce6TLNqPBsykgbAs464w8SgKYKdREQi2Jthsh24QwICFOXmyGS+DVh92evejY7GiMKyrVeOABk/xhPquU6c6blUtGXuVWzihdjU/D2yWJ7Z83M6Nm5R6NzmZRpJgEACYXjCwBm7n6xab9fZN6mssnY/dsAAGcwZHSac855euwAACht3qFLKXGOLx8/uM/vMvDwozTnnHMjsPb2Q9rkApaWoN147ZP1lUTZtYfLRSMcp3dvv1G2yu7r6fvnJ1UA1GE1Tz7heZUbSbv6BoZ/cAnpg3oH1Gs3GaDX3j4A67b2+lwd279UICJA4IT0LMZgHFfTDwG17z4wsF22uFem3GyldRC/PuaSvrAoIB5PMfhzsLPDI2yF0P3uo3a7Lpdn/15aeU9c27refXXSXh1n1eXPZDgpvRzPVwrAaUu4l7n8+AACAMhNF1cRe7DB0NUjeslUUanBMahHPiqf7d/Ff4O8B1f7doNcfYxWAAAAAElFTkSuQmCC\"/>\n",
              "            <a href=\"#!\">\n",
              "                <span class=\"ipyplot-img-close\"/>\n",
              "            </a>\n",
              "            <a href=\"#ipyplot-content-div-Xh4vQCYHYwTtSEJ9VKoKrj-jmosMWek9pQNGb7eg7vxat\">\n",
              "                <span class=\"ipyplot-img-expand\"/>\n",
              "            </a>\n",
              "        </div>\n",
              "    </div>\n",
              "    \n",
              "    <div class=\"ipyplot-placeholder-div-Xh4vQCYHYwTtSEJ9VKoKrj\">\n",
              "        <div id=\"ipyplot-content-div-Xh4vQCYHYwTtSEJ9VKoKrj-4YX8w8YEvyrc23vKiduYr8\" class=\"ipyplot-content-div-Xh4vQCYHYwTtSEJ9VKoKrj\">\n",
              "            <h4 style=\"font-size: 12px; word-wrap: break-word;\">9</h4>\n",
              "            <img src=\"data:image/png;base64,iVBORw0KGgoAAAANSUhEUgAAADIAAAAyCAAAAAA7VNdtAAADxElEQVR4nL2WS28bVRTH/zPj96O2YzvYbUKcYPpIAgmW2lCQ21QVRVWlUglWoEpdIJQNOz4CEl2xgY9QVZUAoT5EsyGJQwIVhJZHcNsEO7ES202dpLGnHnucmbks5uG5tktUFpzVuefc3/zPuff4ygzB8xr73MR/QSwdo8IO0b+lcDaXY2+EZB82EaunN07V0gmRFr+da65Y66lL4X9BZLEqIZe6dZcKJj3OZyPbC9fWIWwVqWDxp1D8mUj151vfVNsKLaX8jrC9uSYma/x1MdDh1C3e8cuZ5i5K5d71H5/ovjMRaaQzAACJ/03xjfcZ/ZhVPrU3Nfqvrac/1heM/eTltU4qpCLqLhseGT4QfS+IxvKDJRFEXNx3tqe9faVU113f/peTIbAnTkCevp4XAWyl80NcG1KYvq+7b130RwIAAC7x+GsAQHkhMmRrRdYml1XHHT533oh2DQ7wAgGkldzBNuRRalN1jk28aeqw+11nSgLAcUxLYcLybB4AEBi5cNZrQlgLAQDWam1tf+2zKYYAQOLzmNtE4MnUrzIAsKymol8E2fijRADYDx8f3meeALKVKxMA4mK6QSFyKVsDALiSY3UTALn0945a+J1fRKqwp1duq71zfj81ZUaCiHVCIcKNlOpwAS+F1G7O6IkgR/ei6IUMxahJ9ekbHKOjNkoF6gky0aOHfObeNx4+1Vz38UQLoprtow96zGvx6pUlXS75Co04VH0Sj1NEYeGesejWb0srldGuSaBEy+lNw+caumcBADI/uwoAtqiHQurrZa3g0FgySiPffckDgPulLjOhFLO86nkOT5wBhaChXn1Xv99ElKZm5rXXyRXrRgtid1cIAJvL2syISzdS6mxbnEde9bQiskQAYKfAGwny+w+r2p30nDrzRqgVcXpqCgB+pazHt7OTd/LaHEZOn4yiFXkhxgsAhMy2Hp+7Ob0hSqofPEKdigUAmJF35HRdgVL5XoY71hvazkzOZLQd3mPnXrSbEfXpkwoTEQsAWB2OvktX73/1YcyY5+HJqmx+H7Wnj/PyggIAu7vIzW5MFx/ktdFmvAOHXJSGPmN8oWKEsllzvnfQTRP6jJEaOps0ctTZEtJUrAOrDaHeBiB40Jh5w9SHCLX5P1fn7rYjn7wfCdiZjiqOsb5cONSormyak77I+Gvtn9FUoMiSWBeXv7jNSrKec7z+9vnBdkT/IbOs1QkES/FG5dEuAwCKr384sb+dMFSgi/HFbM0CgEgHRl0MszcCQNzZ5QAQxevrsL8jsqf9P3+u/gFtKIf27INIowAAAABJRU5ErkJggg==\"/>\n",
              "            <a href=\"#!\">\n",
              "                <span class=\"ipyplot-img-close\"/>\n",
              "            </a>\n",
              "            <a href=\"#ipyplot-content-div-Xh4vQCYHYwTtSEJ9VKoKrj-4YX8w8YEvyrc23vKiduYr8\">\n",
              "                <span class=\"ipyplot-img-expand\"/>\n",
              "            </a>\n",
              "        </div>\n",
              "    </div>\n",
              "    \n",
              "    <div class=\"ipyplot-placeholder-div-Xh4vQCYHYwTtSEJ9VKoKrj\">\n",
              "        <div id=\"ipyplot-content-div-Xh4vQCYHYwTtSEJ9VKoKrj-esu6CBthZCW8VXphkN6bfZ\" class=\"ipyplot-content-div-Xh4vQCYHYwTtSEJ9VKoKrj\">\n",
              "            <h4 style=\"font-size: 12px; word-wrap: break-word;\">10</h4>\n",
              "            <img src=\"data:image/png;base64,iVBORw0KGgoAAAANSUhEUgAAADIAAAAyCAAAAAA7VNdtAAADs0lEQVR4nM2W308UVxTHv3d22B3Y2UYEXFl+dJEa0ya1ihSVWkl9QqI2RWijNk2aPjTpP9CXPrQvTROf8MWkjSZ9MNFo3NhWQ0SpP6IYokFqBZUfrhZx6QIusLuzO7Mztw9zd5l7d2iiT56nmXvO554f99wzQyheVqSXJl4FkfnXS8MEtGFTjQ/A44tJjxnYuYGIDHWIlfoCAD48NmFZZvp4FWQEe57qFuWE8zJ9dwwA7h032qbH7g/FkcPMicmPN69aObCxP2IAkLixxnw0eMuu5eCEnHmn0r9SYEdqS+3F0JaGQN5AenPL3ojTyoGkJr9aqUhf3llwRe7/0MQsiFikVbv6XdOf6XtSiBZAQ8CUzGgadnanzOZ8ERzI87upvBdQlLeHNZ92btheMX599FOLiLwYuJgEADTuH/0doQ0bO9YashF+ivHfFgEr83C4ulrmKzb6echunt2JMxU1nUeHs0zRH7bT+fp8Sshl9u+4Ze9htfaUBOuCXqbw+QAA2q3Q9jI+MG3WAAAiK8m6Q85qScFoFoARjebYQl5TZsNysFYBJ5XN6yUARJIIl74xOZgBACitraU84lUVAgBSfneGLB2LzAMAAt3tZTySjc1TwHG+DDGnpwwAxFfToPIEaC4HADSrUy4XUuaXAJBAvVcgYJkWAEiKwudCWKQ+tURE0hMJCkA9uNfPIZZlH4pHFoeB8exxEgBWd+7kc9EXlixxe1uGbmoAiFxVKCRDckmdJcsDWqx/IAMA3nKPgJiau4/xvrMPMgCoz+8TEJhugBa7fGEkBQDy+x+tFpGiYQUAU71nbtsBV3YfUETERVL/9EVGsgCApq4dyz3xP0j8UuRPFsLubx21FxDJs6ybP3fPfli7udl5WgKip1ixYS4MDbBZUL61HsUIZTdybmSWKeYO96bZY9awXBDZL5sUoJm4nS+iVyMTTKU2Lo9OB1JaHVg0AUC2O1n75eQzZqFu3bfvDRdEIqbdKsnz8gfAg+u9k3kLb8u2KrgglLKznO95sn6NFTkSL1hUtLxFiQvi/8RzagkAqH7zx3L9cqxgsKd9Y0Bojfzo61/n1jMl9adzVJDCuVTWxdLFSFfXdo+4VkACrQt/ibdMDe/vdHGdd6eNf1fUbx0XZsWo+E/SlU9rOReNbT8bLoQT0Wa+cRCk+fuRRcsNcQSjKB0JPZOdGgWApvc2bXvbJQ8Indz27mLixbV/5+RcxWfdoaIh6Iaoqp7Rgo0pj+nfEXa92gBAXtefq/8A93YT4VyYXsoAAAAASUVORK5CYII=\"/>\n",
              "            <a href=\"#!\">\n",
              "                <span class=\"ipyplot-img-close\"/>\n",
              "            </a>\n",
              "            <a href=\"#ipyplot-content-div-Xh4vQCYHYwTtSEJ9VKoKrj-esu6CBthZCW8VXphkN6bfZ\">\n",
              "                <span class=\"ipyplot-img-expand\"/>\n",
              "            </a>\n",
              "        </div>\n",
              "    </div>\n",
              "    \n",
              "    <div class=\"ipyplot-placeholder-div-Xh4vQCYHYwTtSEJ9VKoKrj\">\n",
              "        <div id=\"ipyplot-content-div-Xh4vQCYHYwTtSEJ9VKoKrj-635ZfFkm6kfhvfsivZc3af\" class=\"ipyplot-content-div-Xh4vQCYHYwTtSEJ9VKoKrj\">\n",
              "            <h4 style=\"font-size: 12px; word-wrap: break-word;\">11</h4>\n",
              "            <img src=\"data:image/png;base64,iVBORw0KGgoAAAANSUhEUgAAADIAAAAyCAAAAAA7VNdtAAAEAUlEQVR4nN2Wz28bVRDHv+/trr32Jv4R50fj/CRN3ISEJDQKUZsGiSYpCHpqQxWlEjfEFW7wL4AQJ/4A1CsHJJQCKghEgCB+mFISUrVp4tTBduO4SW1vbO+u93HY9XqddaX2woE5rHbmzeftzJs3oyUMTyv0qYn/COErL7pSKOiEcR6Pizwhkvnxj1gZcPedOf+kX0lfvxEDgFOHXWHJWpYLIFT01Efk3xMAgJ3P4gsL1vIXNzRv6Mw8dSJMTqxsKwCA4maicai7sVAE5Xnt5rLiDZHRZsGBlO58/FW2YiqsuN6Yim3BGwyUsuVyPr++NtbqQPY3fv3HMrFNYUj8+i+EBrrYIXFBY+AcgbHd27LNxjK/7H2+jo5zw40yL/AIeJxI+XCvaOrSRJvK8en1uyoe5T1hmna5ENVeeZFqRPLbECWdNHIn0sjrgwWS/SQKQBTahrqkhwz70ayblrjwmEgsRL4VzQEAhKVL/UGNpEIAwJir82rfR1sAVtOkTEaWhpsspBSvJD/zMoDD1BEA6GU0TPR9uasyJJMA4k1kSqggpFIqRQGAn95fBwCtoALc4O0dzVhMXlNOtViHbCLNva0AEF/RASA00QHw09nlB2Vjv/hWsVoXUyaWRgGA98gAMPpmG+C50Lp5UDRbV6S2/Q3xdTYAQORyL9C1cLlHBIjU7rV8SPWQK6LkVQA4/Tb9tHHmndOGUdaOjYcaRNcZAEgDi8Ni/5C5OVO0xyOE5ykAMGlullrRUElUaxB7Lt7mFhEACOH4qr1xfKCilPRjCOc/ccINh/imxwwnIdjqOoa4Qp3tLicSmDtrRB+cnfYfy4UTG+oQOLq3pQMAPL2d7mMI08t1CMQ/+NZIn/JG29DqU5MPsroTYck9ozC6uUiByrVUD5IPVCehcuasEEQjJNtN1h+lsw4C93/bVRgA4j750jPVFjOleP+Wv1uwjVeml+WNaEoDAMKHxwPVr+hGGyO6n3ktYhsNpYO93b8TRrB6Pm+ejhEYR3UAyGRCbtojWsjOz/FEattAGgZHqA3hfeKRoa5mMD9oIasf7mmaUgIA9L8347Mhnshza8Ygk9eXU71tza0+fX+jqFxfq8D85MVzLbAh0ng8Zc4+9ZvvSO8Lkz3qn9dSrFra8NXFAOwI9fq8vFsvMoBpGu6UYk3lxLbtLM9fmg2hBmF88CSEg4S5q75tdwe48JW3bKpxYt3zw6l7PyRRX6aW5uyqea+DEW0lVh+QIq8uhuwGq/oKoDn9ATz77mSgxmAhpCXyfE7L5Gr9wz3Bs3M+1EfEiO7O5b6/WahZnr4y1tKAxyDE1UdLRx0TWXufCRem2x2REttcY2BywT7oGPV7nf8N5H/0p/QvBb5my0yfQyUAAAAASUVORK5CYII=\"/>\n",
              "            <a href=\"#!\">\n",
              "                <span class=\"ipyplot-img-close\"/>\n",
              "            </a>\n",
              "            <a href=\"#ipyplot-content-div-Xh4vQCYHYwTtSEJ9VKoKrj-635ZfFkm6kfhvfsivZc3af\">\n",
              "                <span class=\"ipyplot-img-expand\"/>\n",
              "            </a>\n",
              "        </div>\n",
              "    </div>\n",
              "    \n",
              "    <div class=\"ipyplot-placeholder-div-Xh4vQCYHYwTtSEJ9VKoKrj\">\n",
              "        <div id=\"ipyplot-content-div-Xh4vQCYHYwTtSEJ9VKoKrj-hWsPxMVqmJXWMJoaJ34HeW\" class=\"ipyplot-content-div-Xh4vQCYHYwTtSEJ9VKoKrj\">\n",
              "            <h4 style=\"font-size: 12px; word-wrap: break-word;\">12</h4>\n",
              "            <img src=\"data:image/png;base64,iVBORw0KGgoAAAANSUhEUgAAADIAAAAyCAAAAAA7VNdtAAADrUlEQVR4nN2Wz08cZRjHP+/szu4s+wsodKFAC4JYSQmtAfqDBGxs0wYxIV70ZuKp/4AX7x68ejWpVQ/GaNLUpAcsXkxopW4rrtFSGoEWdqlQFihbdmdnZ14PuzvMLFtML8b4XGbemefzfp/nfed9nhGSFzXlhYn/FeJ93ovCdkEU76TX53e6PRdJXX4QFACW1dw3dGhfJL1oAIVfr86VELPl4caJ9kbbQVRspZmf+CgNyNyGXspTqlow+uG79uROFbkwt/as8FPcxktXXd9KXRVv1tp+tlnpK6MtmqZWTU3tuVP2c6g8vnE9vmoHrBQ1tCH11hZgLE1HD6vuwKQR/9omFG9MfawLy6JmNJL63QSUmw2xCmTr8sTMennQ0j2kTa2ryQVpNHW8lpkHcnfbz7nSNzd//qqUticSiPadfF2rW/P/EVhrbmwdXEvlwEimCi4k8/n1uZJC+J0jwd7uWmU8r/zZvx45Ej2ZSqRMhEcRLiT/2+0MQE19U+9bh9W2GmiC+uaMLxZ4qTP6lwkej8eFCNWfNYH2kfHekF+UngY6LOEVkUbNAyDcKsWxP3bh4unw7rILFUB4LQuknp7virhWDCB25u0hwR6TigJyZzkeDAvs8+L3CuD0+z1VCOp6YiDN1dkViY0Y689MoO98fRWCg2c6Afk0lcZG5Mw3iYxVzRuAprG+YmrO9JfuLOeBQnUk0BIFEELZRaRQquVQtuzDFQAp5W5gCPZD1ibvAXh8XgeyL8H8t78A1NQVT3YRLORNAF/VsBanHzwFoXUMdzgQtVh1spbYK7c9fXsbUIKdIwewEdE1OJc2JN9r40f3ymymcwBCKR1xBUC0D7T6BEx/cb9yd6xccmnDBLAKeXZVCLRGvACFzZ2QG9mJT048sgBTN6RDBSUc0gSIbCL+xI3kpiZntwEig70+J4KMRDxgrl77LJF1IdlbiWKp6f7gvZAzMPynNr7MQ35RNDyqO/oKgL48r3tZuJ8FPAeOXzhVW56mVPaMH9sA8LW9/OrHUkpp3vtk+NjA4LEQwMHR73SrovQJb8fYD3NAPgnXsgoYq7MzOyoyD976kbF+xzaX2c0bl8I+T9UPJzZ6JW1rOAps8Hi0/+7NRLWefuJSX61jrt0W0NAw0B0JJ+XOhlHuhlKEgj5f3RsXXaXd1V+21zd1Y+rTZLD4Ct1/7mxXSG1sdYm6Kkw4DNQ/WQmWxrr/7PAhKq2yi0E+Y5YDl0LT9nbGvcg/2n/27+LfQf4GK9lwQ/UvYtgAAAAASUVORK5CYII=\"/>\n",
              "            <a href=\"#!\">\n",
              "                <span class=\"ipyplot-img-close\"/>\n",
              "            </a>\n",
              "            <a href=\"#ipyplot-content-div-Xh4vQCYHYwTtSEJ9VKoKrj-hWsPxMVqmJXWMJoaJ34HeW\">\n",
              "                <span class=\"ipyplot-img-expand\"/>\n",
              "            </a>\n",
              "        </div>\n",
              "    </div>\n",
              "    \n",
              "    <div class=\"ipyplot-placeholder-div-Xh4vQCYHYwTtSEJ9VKoKrj\">\n",
              "        <div id=\"ipyplot-content-div-Xh4vQCYHYwTtSEJ9VKoKrj-5aCw68BbM7MfPV58BpvyN9\" class=\"ipyplot-content-div-Xh4vQCYHYwTtSEJ9VKoKrj\">\n",
              "            <h4 style=\"font-size: 12px; word-wrap: break-word;\">13</h4>\n",
              "            <img src=\"data:image/png;base64,iVBORw0KGgoAAAANSUhEUgAAADIAAAAyCAAAAAA7VNdtAAADq0lEQVR4nL2W308cVRTHv3dmtrM/uj9YitBll0rAShQYBSvEJaRqsRr00RhNNCb6YnxU3/wjjA+NiTGa+GBfjIYYfxJLFLS2JZZWQLSULT+2tNCyzu7sz5k5PsyPnVl2afHB+zJnTs7n3u85956Zywj7Hdy+if+CCA38i+vMMMptA3eFUP7HaQYGgBQp1sruAtn+bfKCGVdZU546eQekIqts4fyldet9c7XQFfPviay8nwp1UKnq2Pkm8+JzeyD62uQXaXEgcSSq76RNV2q7ayQoNERyH03cQvniymvJ8uQp3XTmr8z1Rxshy2cn51VQQY1KPnFjdtVc54/Pm6sIyDVOJUMMAALvXi4pM69aQXz4dDXGtcqFmZkbBQIA9XwsHul7wT+1AADQ/vm5XQrWE3b2PZ4TKgCgpZbkSPDk0dyicWz5mWC7hbjOGJ/NFo2U1ZHxCMDihzym/KuXt7AbUVbW9VJeBwDvkcdHggAO3P+oMTfJaxm7TappnRntEAQPAwDprTmdiIjSP/SbcZ0TFb0m/WJ66ifL9jz0TMI4Yoejgze3VQBQmSXIFrb12feWzdqGHwubtno8aZwvjudYTcW2Z5dMsYL07LDPcrOmsDFT4dw9vaIbub122ySan347YNeESmVjJvkrT1cNwsmm4U8+crBaRiqXCAyESuqa5hKmZzcVQ4jQOdZD1TbkAiFDmC7LbiT36ZcZAIAonTiecDSueEz5NkMASNdVcxbjUfplOg8A8A2N3VfNBOBjPaIpUdkqOxF7+IcHeLfHnBv69flNcqVvTNAzah9YuwDWM58pOHMBYwDgef7lOBoNTuDrCfNHDjREbNQt4tp8dp+IeuaT6/tE9MXvdhrHUj0EEHy1gfa+aqpWF0Fqq6ypTofdjP5WY49rP33ZifxQSG1xbGfFYmKDxi+gFsn/Ki8FtOZ7j0UAQF1Y0WZzAADf4Fib9e0gIqKbL3lNzbxH9HrDo1NERHT1ne7EIWPFjg83Kq7ep3zRSlIDULz4wRQA9db0FbMG0Qf6DrsbmYuEFM2hTz7t1svF+u1/mVmx4OtvtmCPoUXavZZtriImDy6fU7LFBoTY1NstWi/MKqHy51/zX//eAHlwfLw3ZBXXLnJgsLuznFst1QHE+OiTUth+dexL8GFP08d/10ESrwwddfSEA+HEHiYsZW5slJytXGmR+p6IhxwIc117iIrLs9MZ0eFRpDdaGZyXBVZ7UyqlV4vOVXZfSHYhdx7/z+XqX+kHed+en3qaAAAAAElFTkSuQmCC\"/>\n",
              "            <a href=\"#!\">\n",
              "                <span class=\"ipyplot-img-close\"/>\n",
              "            </a>\n",
              "            <a href=\"#ipyplot-content-div-Xh4vQCYHYwTtSEJ9VKoKrj-5aCw68BbM7MfPV58BpvyN9\">\n",
              "                <span class=\"ipyplot-img-expand\"/>\n",
              "            </a>\n",
              "        </div>\n",
              "    </div>\n",
              "    \n",
              "    <div class=\"ipyplot-placeholder-div-Xh4vQCYHYwTtSEJ9VKoKrj\">\n",
              "        <div id=\"ipyplot-content-div-Xh4vQCYHYwTtSEJ9VKoKrj-EeKuNEu3d4NBedAbdEXjNk\" class=\"ipyplot-content-div-Xh4vQCYHYwTtSEJ9VKoKrj\">\n",
              "            <h4 style=\"font-size: 12px; word-wrap: break-word;\">14</h4>\n",
              "            <img src=\"data:image/png;base64,iVBORw0KGgoAAAANSUhEUgAAADIAAAAyCAAAAAA7VNdtAAAD00lEQVR4nM3Wy1McRRzA8W/PsC9YYEmAJewiqAmB5RFiEoNaWiYEjWWlylf5OuhBc0iV/4dnD14tPVklsQzGKkuDJpTxEQUSgYA8Axvez7DsLrO7M9MeWDaZfShcLPs0M92f+f1+3V3TIyR7bcqexX9E8nL2mBKEEHsgW58OGErlKw27IzIR1sToZzeg0uu32Wy7ILGRL38mPAwsd4Zq6w/9KzEjI12XBravE70bh+/GfR7LAJGxlOH+zouzsZ032u2+9hfP/GMUMzF2+cfJ1K2uRzeEy+cvzE0iodD1z2cAhMvYDiWHCyrb6nMRfbm7LzQyYwBUniscGxwHMOaGjuRMLDr51dcaIBz5jpPnK290BBMSiI6PN3iU7GRzekYDUJ5u89XUFrQuTvx1D9jsN2deDWQjMjHWswTgrD37uh/wHnpkPmyTWnxxbbUlK4nPfP/FKkDthWe927WZznJfYsAgsbQhRRay8G33LOBubm+vUQFIxOLOE+rmnCZD/Q31zkwy9PEUQO1Hj7qTtZp6tOiJ8pXfpuXWd+KDqnQSHu0e18ETOHtU3Xn28LmmguN48sCY/P12QXLWUmT18jWBUKvfOXN/CwXqQYzrOhCe/rPSbbcSubJuIJ3exqr7uQoBCCkBwqFo8l07K2RuRTRQqxt9dqxNKgqAaRjSUosZujN7z8T90pveNIFQFQGYhoklirEenI+A7UijK53k1x+0gXC5XcIaZW1pxQRNTwdQ9pa9RyOvwl+uWoixtrwlqWjKSAtspSUqoOu6tXxjadGE4+/XZZJEcDIOiaXZFdNCtL7BGHgb9mWS6C+9GmCkyk8mFusbBlzF6TMMcrGrJwYUFRdYy5c6gFAyP46Lvb0LJmJ/3VFfnoUIG4A0ZZrRQ39cm9RAFPkP7iSd+5sMwFLvJz0RwIxEU/NvIYot/SAY/OanVRCKKxBwZiV5GdVf7QiBmm+vee/54jQiEwADnaeqdzpMMX1TE9fXAX9rxUNPlZJGhAJwNai+sR0ovqkpP3y44A4BrhMXAsUPZJO8dD65PmSgT1zaavAYyNjyrQXl9gQRYP9rLzRZVjhJ8ttjqwsmetedU1UxYUbvXpkFhECoLeePWetLEkcz679O6IRGwwUmUo8sADgOxD3Pnc5xvqilx1a2pnSIjKV6HM7aRq3s7cfSd0SqrMLT8xctPaX1La0t0ubN2EMpopQ+/vLU8lwCoMRfhqOmrrmhLH04WE6x2MbNKx1BoPDku21Im91uV7ORB+bbUd7qLAkC+w4/cyDb2MwogJQSEGT7Q8hBdtX+t39KfwPRcnloFtxukQAAAABJRU5ErkJggg==\"/>\n",
              "            <a href=\"#!\">\n",
              "                <span class=\"ipyplot-img-close\"/>\n",
              "            </a>\n",
              "            <a href=\"#ipyplot-content-div-Xh4vQCYHYwTtSEJ9VKoKrj-EeKuNEu3d4NBedAbdEXjNk\">\n",
              "                <span class=\"ipyplot-img-expand\"/>\n",
              "            </a>\n",
              "        </div>\n",
              "    </div>\n",
              "    </div></div><div class=\"tab contentPnZqWRfjjEpuaLLFsdwEJF\">\n",
              "        <style>\n",
              "        #ipyplot-imgs-container-div-5i6VxxiJYuagkTJhLc95ve {\n",
              "            width: 100%;\n",
              "            height: 100%;\n",
              "            margin: 0%;\n",
              "            overflow: auto;\n",
              "            position: relative;\n",
              "            overflow-y: scroll;\n",
              "        }\n",
              "\n",
              "        div.ipyplot-placeholder-div-5i6VxxiJYuagkTJhLc95ve {\n",
              "            width: 50px;\n",
              "            display: inline-block;\n",
              "            margin: 3px;\n",
              "            position: relative;\n",
              "        }\n",
              "\n",
              "        div.ipyplot-content-div-5i6VxxiJYuagkTJhLc95ve {\n",
              "            width: 50px;\n",
              "            background: white;\n",
              "            display: inline-block;\n",
              "            vertical-align: top;\n",
              "            text-align: center;\n",
              "            position: relative;\n",
              "            border: 2px solid #ddd;\n",
              "            top: 0;\n",
              "            left: 0;\n",
              "        }\n",
              "\n",
              "        div.ipyplot-content-div-5i6VxxiJYuagkTJhLc95ve span.ipyplot-img-close {\n",
              "            display: none;\n",
              "        }\n",
              "\n",
              "        div.ipyplot-content-div-5i6VxxiJYuagkTJhLc95ve span {\n",
              "            width: 100%;\n",
              "            height: 100%;\n",
              "            position: absolute;\n",
              "            top: 0;\n",
              "            left: 0;\n",
              "        }\n",
              "\n",
              "        div.ipyplot-content-div-5i6VxxiJYuagkTJhLc95ve img {\n",
              "            width: 50px;\n",
              "        }\n",
              "\n",
              "        div.ipyplot-content-div-5i6VxxiJYuagkTJhLc95ve span.ipyplot-img-close:hover {\n",
              "            cursor: zoom-out;\n",
              "        }\n",
              "        div.ipyplot-content-div-5i6VxxiJYuagkTJhLc95ve span.ipyplot-img-expand:hover {\n",
              "            cursor: zoom-in;\n",
              "        }\n",
              "\n",
              "        div[id^=ipyplot-content-div-5i6VxxiJYuagkTJhLc95ve]:target {\n",
              "            transform: scale(2.5);\n",
              "            transform-origin: left top;\n",
              "            z-index: 5000;\n",
              "            top: 0;\n",
              "            left: 0;\n",
              "            position: absolute;\n",
              "        }\n",
              "\n",
              "        div[id^=ipyplot-content-div-5i6VxxiJYuagkTJhLc95ve]:target span.ipyplot-img-close {\n",
              "            display: block;\n",
              "        }\n",
              "\n",
              "        div[id^=ipyplot-content-div-5i6VxxiJYuagkTJhLc95ve]:target span.ipyplot-img-expand {\n",
              "            display: none;\n",
              "        }\n",
              "        </style>\n",
              "    <div id=\"ipyplot-imgs-container-div-5i6VxxiJYuagkTJhLc95ve\">\n",
              "    <div class=\"ipyplot-placeholder-div-5i6VxxiJYuagkTJhLc95ve\">\n",
              "        <div id=\"ipyplot-content-div-5i6VxxiJYuagkTJhLc95ve-MJTGthy5LcDW5UZneQaMNo\" class=\"ipyplot-content-div-5i6VxxiJYuagkTJhLc95ve\">\n",
              "            <h4 style=\"font-size: 12px; word-wrap: break-word;\">0</h4>\n",
              "            <img src=\"data:image/png;base64,iVBORw0KGgoAAAANSUhEUgAAADIAAAAyCAAAAAA7VNdtAAABHElEQVR4nN3WvWoCQRAH8P+q6wcarUK6NFY2RwRThUgaXzCtha+QIm/gIwTxA0TIcWKaIIGc8bzs5AVmhgyImGx5x29nlpn9cATrKJjFiUiJ/0wEOGchefL02r659QYSj0ezvu8aSHgeLr33RT4xdvk0f0nL2H9+/56gAoTtJvkyEAD7ZPV+MJAA7OJlakkMAEIW+B9K9UtCKc+2Lf8kETbMsRPjTx+t+vWqlXxM1/xUMlk8HtrcjEqUdLKyJgYEdv06sUc5TSktRNj1GvFacPafu2iaSTS4kgnbMO6uGL/ZoqDW4u8JhWTC2aoQdQiElOcATyjPrKR8ed0EYLlfGp1+5KS+4TdyoXVf76V4YLvfCeskIsDxvfGPXko/1LhIJ5oFceUAAAAASUVORK5CYII=\"/>\n",
              "            <a href=\"#!\">\n",
              "                <span class=\"ipyplot-img-close\"/>\n",
              "            </a>\n",
              "            <a href=\"#ipyplot-content-div-5i6VxxiJYuagkTJhLc95ve-MJTGthy5LcDW5UZneQaMNo\">\n",
              "                <span class=\"ipyplot-img-expand\"/>\n",
              "            </a>\n",
              "        </div>\n",
              "    </div>\n",
              "    \n",
              "    <div class=\"ipyplot-placeholder-div-5i6VxxiJYuagkTJhLc95ve\">\n",
              "        <div id=\"ipyplot-content-div-5i6VxxiJYuagkTJhLc95ve-gR5jfvNMD5HtWMyCqwmmJK\" class=\"ipyplot-content-div-5i6VxxiJYuagkTJhLc95ve\">\n",
              "            <h4 style=\"font-size: 12px; word-wrap: break-word;\">1</h4>\n",
              "            <img src=\"data:image/png;base64,iVBORw0KGgoAAAANSUhEUgAAADIAAAAyCAAAAAA7VNdtAAABdUlEQVR4nNWVO0sDURCFz90HEhM32SAIGkUT4iMgprCxsU8l+Bv9AYIIYmmlECxEBEVEE4WQVUKM5mV2r4XbBM4u9wqKnubCDB8zOzM7IyR0ZWgTv4RY3CwlBIQOMvLOXhbzSxpIUDvff1rfnk7StCnSOdh77N13Z0sZZWRwVQXaN408TSymYqbJ7fzzTSCRnU9xJ49iGZhaLqRtDcSX6NbvWkONxHyJt1vH62tEAQBIyac8rmKCTwxFxNijESVK/wuRY89PRQn1jSLrI0Kn+1/yh74uMnh+DdSRAAC842pPGREGADSPTrvKiOk4BgCMaDMpYi+sJAHApiWjSGJrN8fsMYiVW3UAwKCbjFfsox/oIjKQANC4aLEcKBKO1/VhylWNEurhpK6cWKh3j/Uy+vABWKsUNaIIAChW2O3jiBABAKQLjnJik3MlrzMQ2QxzcyRT3nEvm/YMHcuIQ+VsuuW2uTHBnCJiWUlIgP/8UUiM/uwa/wSMFVy3mpMQhAAAAABJRU5ErkJggg==\"/>\n",
              "            <a href=\"#!\">\n",
              "                <span class=\"ipyplot-img-close\"/>\n",
              "            </a>\n",
              "            <a href=\"#ipyplot-content-div-5i6VxxiJYuagkTJhLc95ve-gR5jfvNMD5HtWMyCqwmmJK\">\n",
              "                <span class=\"ipyplot-img-expand\"/>\n",
              "            </a>\n",
              "        </div>\n",
              "    </div>\n",
              "    \n",
              "    <div class=\"ipyplot-placeholder-div-5i6VxxiJYuagkTJhLc95ve\">\n",
              "        <div id=\"ipyplot-content-div-5i6VxxiJYuagkTJhLc95ve-SxDnZJd52FSFkxU2D9vQAW\" class=\"ipyplot-content-div-5i6VxxiJYuagkTJhLc95ve\">\n",
              "            <h4 style=\"font-size: 12px; word-wrap: break-word;\">2</h4>\n",
              "            <img src=\"data:image/png;base64,iVBORw0KGgoAAAANSUhEUgAAADIAAAAyCAAAAAA7VNdtAAABz0lEQVR4nL2Vu0osQRCG/57pnZ1F0bOjeMEbKyJqYuIFAy8Y+ABGB9/Ad/EVTAQTQTAzMTHygIiCIgYqKuh6V8S96vScYFaT/W26RayoqZqvq4v6q0ZEsDXHmvgOIrk73D6XMtXTbYE8rm34fjCbEcbIze7ukZR+51hL0hCJTjaPcwDOrgOC0PLDvfUsAAhh+rDw+fioBAAuvZA5S5e3ZfatBgmLpVgT0mePYIhw3figQmWIfNr+4gHxftHK2A5OBkcss8D8YZ8DYVw+FLtci8gg7bO2a5BkJhO4doiQCaGZb1pL4bWoqYZqLHudi7MU3g2Rt/uHIgDATfskrO1+9wQbfj4RFW/7ZIcp8mFBps4W8Wo9W0S9W88Ltx9ChFsRZURlwxBVrpTgOEzQVDBP+fjgeUzQrPtX/64AQHj19SzMfIdLWQBw0q2tplleLkIAUKGbIFFaS6IGACAcPmcaJffMjdsivfNN1K/ZY5JWwrNEAOAk/7yZI6oMIDUwkDJH2sZ3npCcHpKnF3XNjdV/y6jabtdngK6tfG6h9+9ytirMsjQOz3Whoy+Vf717JguNrkWlIjguCiur/VMjDSa1fGyYxGhD0FZjlkVvvzP7/wEX0JtNAaJIGwAAAABJRU5ErkJggg==\"/>\n",
              "            <a href=\"#!\">\n",
              "                <span class=\"ipyplot-img-close\"/>\n",
              "            </a>\n",
              "            <a href=\"#ipyplot-content-div-5i6VxxiJYuagkTJhLc95ve-SxDnZJd52FSFkxU2D9vQAW\">\n",
              "                <span class=\"ipyplot-img-expand\"/>\n",
              "            </a>\n",
              "        </div>\n",
              "    </div>\n",
              "    \n",
              "    <div class=\"ipyplot-placeholder-div-5i6VxxiJYuagkTJhLc95ve\">\n",
              "        <div id=\"ipyplot-content-div-5i6VxxiJYuagkTJhLc95ve-hp5nR8wnH5tctmcetH2dks\" class=\"ipyplot-content-div-5i6VxxiJYuagkTJhLc95ve\">\n",
              "            <h4 style=\"font-size: 12px; word-wrap: break-word;\">3</h4>\n",
              "            <img src=\"data:image/png;base64,iVBORw0KGgoAAAANSUhEUgAAADIAAAAyCAAAAAA7VNdtAAABsUlEQVR4nM2Wu0sDQRDGv72HifFMihgS0QiKiEVUfEIKS+3E0n/Hf8TS1s5KsLAQOyE+UAhaGOMLjY+oF++xFrny27AHIpnq2Lnf7c7MN7MnJOKaEZv4J8RSrEsAIg4SNGsNpPPpXm0kvK9W6igujWoj8u1g97yBqcKg9sHCj8r+HeBPZgd6SDwUcR+fADzspMYGiZ8lWQauD8C7qn2FxE3rIsw26lE1dSxloI0IM2kKAMKkxWSInS/N9APo7aMMQ77qXsYCjD6HFpotVrYPr5uAnXFs9kWG3OxVAwCy5dL42Wc+bkMA8O7uXd26+N8SAKTfYgRFDDt60E+y77I3OyLpkYSiIZVIeXOF9lZkLMmj2ff65WesXeCU14cBKAYGRYxcMQUAhkUTSvduuQEAhJ52i7XHGHC6dUJ8qtEHADg+m5jX3UVEcf/4+geLLGmTRY7ITrdO194vf4dE8Ye6vQ9AtNe15xhgWm1VJJg4OJIqDPUDVm4xT5xcYwMLF09HMre2Ma2NJAqlWjOYXV1mglEoORwu55y5ceoVXE3hy/NrasQxYyCAVP4qKBG1da0sfwHSrXcdU9sdpgAAAABJRU5ErkJggg==\"/>\n",
              "            <a href=\"#!\">\n",
              "                <span class=\"ipyplot-img-close\"/>\n",
              "            </a>\n",
              "            <a href=\"#ipyplot-content-div-5i6VxxiJYuagkTJhLc95ve-hp5nR8wnH5tctmcetH2dks\">\n",
              "                <span class=\"ipyplot-img-expand\"/>\n",
              "            </a>\n",
              "        </div>\n",
              "    </div>\n",
              "    \n",
              "    <div class=\"ipyplot-placeholder-div-5i6VxxiJYuagkTJhLc95ve\">\n",
              "        <div id=\"ipyplot-content-div-5i6VxxiJYuagkTJhLc95ve-A7afc9TSLe6fXhv8WpciXM\" class=\"ipyplot-content-div-5i6VxxiJYuagkTJhLc95ve\">\n",
              "            <h4 style=\"font-size: 12px; word-wrap: break-word;\">4</h4>\n",
              "            <img src=\"data:image/png;base64,iVBORw0KGgoAAAANSUhEUgAAADIAAAAyCAAAAAA7VNdtAAABt0lEQVR4nL2WzUrDQBDHZ/PR2JpC1dr6ARahB0FEWhG89Cji2VfwAXweH8GjF0G8evLgSbAKUhQq/bbGJK2bZj1k46FM4qQH55Jlp7/M/787uykTkDSUxMQsiIZPu/dvmmaUywkQ+/JmLr14kgTxG49aqlBLIEyMBjYwzUWTuH2vzwGYqidAXm67AIw/3/VRDVicV+YBmLF2dIUkMS/CbdQdADFujlpEYX7P8oPRxCci/NP6liMq4jmO/KmOpeN7LKVSEcaC58JOHslGNEwQ+6e7xCosrFJEq+DC5JPbHhHhtlzjiUddZOt1KJMqQ9KY/frFEwCAYq6tG0SkcT0CAGBmcQWrErOVDNeFImoq+j3xVWZBGKorvkpixLd6A+pWhsiw1aI2TBjCdamICD8gHrnH+Jcc4EuGIcVKbqrcn0j1bC9EMAZDlraDw2jkcljroPal6cxyAWv+uIM8Hn5wKiIdOJ3OmIgoTM7S7aumGUwrCvVU6hurWbyJo4Wlq8d5gF9PU4FfsIebzQ5E7T6OZLYOul1HzWrUewwARA0e2nopjV7ZuF7/vdm2lVI5i7wyAomL//lz9QP3GqpWTG1nSAAAAABJRU5ErkJggg==\"/>\n",
              "            <a href=\"#!\">\n",
              "                <span class=\"ipyplot-img-close\"/>\n",
              "            </a>\n",
              "            <a href=\"#ipyplot-content-div-5i6VxxiJYuagkTJhLc95ve-A7afc9TSLe6fXhv8WpciXM\">\n",
              "                <span class=\"ipyplot-img-expand\"/>\n",
              "            </a>\n",
              "        </div>\n",
              "    </div>\n",
              "    \n",
              "    <div class=\"ipyplot-placeholder-div-5i6VxxiJYuagkTJhLc95ve\">\n",
              "        <div id=\"ipyplot-content-div-5i6VxxiJYuagkTJhLc95ve-VCdEYAyydZHFerbdYHhCCS\" class=\"ipyplot-content-div-5i6VxxiJYuagkTJhLc95ve\">\n",
              "            <h4 style=\"font-size: 12px; word-wrap: break-word;\">5</h4>\n",
              "            <img src=\"data:image/png;base64,iVBORw0KGgoAAAANSUhEUgAAADIAAAAyCAAAAAA7VNdtAAAB9ElEQVR4nL2WuU7DQBCG/7WdhCQGFEi4xCGUCKgQoqJCHKKgoKKj4hl4G3peAAlRctPRUCABigggLoFIogSTxPGuKexUOw5rCrbxaMbfzszOzNrMRdilhSb+ghjBpqfzYmJqolN+ww1cB3Op3NZxSdK3CSzyUrrf335UDcyt1Zv3NTjXb5uqiH10cvVYBmAwVYQXzs4BAExGAnJhMTPpuROqXlwhNADIzmSUA7MsAUCb3xhTDUwrPNgA9PRoXNGL+Lx9BgBNh+qJXZ8+AwCcekNOnw4sf/gJgDziIOT9rgoAiPekI4pIrdL0vBiG/AKN6Lqnd74tRxFpnZNwHHnQ208l03XVHtN8tdnfo0tGsi6i4Zcjke6WrRTCPwovzYBQAxC3WvzyJbn2dC7MkBP4BXHqrWLYXBGxXqutECkvVC753RtPyC3lKIa483ZGfNv6WZkwk6W0/afZl1DLRYioLzGd2lHWuV/Fb1/knMpfTl9YlYa3W6wrrjaVvNbwyhIdzvarBaaZnTFPiCcjal6MzIAJAHC5PJE0AhbxWozX6XZu90kyO8Iig6vTYZHMwkRYJJolphh0JwsbAOubTNMXNuVFcADJ5ZUY7Z3aaHzt4j01uTYbJWwAGNF45fzeZW5uMUWVPgARVv6td2iYBmjkl/U/P1c/Q+7gXhPD4mIAAAAASUVORK5CYII=\"/>\n",
              "            <a href=\"#!\">\n",
              "                <span class=\"ipyplot-img-close\"/>\n",
              "            </a>\n",
              "            <a href=\"#ipyplot-content-div-5i6VxxiJYuagkTJhLc95ve-VCdEYAyydZHFerbdYHhCCS\">\n",
              "                <span class=\"ipyplot-img-expand\"/>\n",
              "            </a>\n",
              "        </div>\n",
              "    </div>\n",
              "    \n",
              "    <div class=\"ipyplot-placeholder-div-5i6VxxiJYuagkTJhLc95ve\">\n",
              "        <div id=\"ipyplot-content-div-5i6VxxiJYuagkTJhLc95ve-XzWi5kiW6nYUZpMD3JQhSd\" class=\"ipyplot-content-div-5i6VxxiJYuagkTJhLc95ve\">\n",
              "            <h4 style=\"font-size: 12px; word-wrap: break-word;\">6</h4>\n",
              "            <img src=\"data:image/png;base64,iVBORw0KGgoAAAANSUhEUgAAADIAAAAyCAAAAAA7VNdtAAABm0lEQVR4nM2Wu0vDUBTGv5uHNn0MVXzRUjexokN1qCA69C9wc3F1959yd1HE2UFBpKCoQ9VaEKXakqZSm5jmOqRu55R7F/GO+e6Pk/OdRyIkdI+hTfwRYhHPpASE0EKerrrZzUktpH74Nuesp00NpFV9Sbdudmc0kH7Tdd3kNodQjgkTEJKtMWmyGEWwdRlhMltKwSqsIAe6iBwEukjoPrqRFiKD2tHZt16UqFN/1YsCWONjjMLPC1sZFon6PV8dkRGA/v3FnauMGCaA4Ln64CkjdoqbLhaZLecAwLJoA6gRK+2HDQCC8YyKklmaBoBBQHcmafKnDwD+h0fWn0TiiXw/vfxSRuIcmifnPWXk94TkAqCR4VWbVOlchhNpkCUlETufTwCA3w1VkVRlJwcAbbLL6CiFYgYAasd1QqUaBsJ2LAC49UqrilFgmAIAIo/aTIzJUWyzQ70Et5RihIxC5oJhz6QXssqIiJf4xl5ZGXEKlVSjjeWtKWUku1ZsHFzLeVKlESORmOisyMUkJQr2AyclszB5hD3/9k/pB9bSdoYZlrYGAAAAAElFTkSuQmCC\"/>\n",
              "            <a href=\"#!\">\n",
              "                <span class=\"ipyplot-img-close\"/>\n",
              "            </a>\n",
              "            <a href=\"#ipyplot-content-div-5i6VxxiJYuagkTJhLc95ve-XzWi5kiW6nYUZpMD3JQhSd\">\n",
              "                <span class=\"ipyplot-img-expand\"/>\n",
              "            </a>\n",
              "        </div>\n",
              "    </div>\n",
              "    \n",
              "    <div class=\"ipyplot-placeholder-div-5i6VxxiJYuagkTJhLc95ve\">\n",
              "        <div id=\"ipyplot-content-div-5i6VxxiJYuagkTJhLc95ve-SNeB7oytEA7UAciwjnQYaS\" class=\"ipyplot-content-div-5i6VxxiJYuagkTJhLc95ve\">\n",
              "            <h4 style=\"font-size: 12px; word-wrap: break-word;\">7</h4>\n",
              "            <img src=\"data:image/png;base64,iVBORw0KGgoAAAANSUhEUgAAADIAAAAyCAAAAAA7VNdtAAABL0lEQVR4nO3Wv0oDQRAG8G8TTWJh0CDxLyIBTWUp+CR2vkveSm0shEDAIqSQpDkRhUhiFD30krvc7VjZfbvcNCroljf7u9nd251bI9C2glp8E1lwPBcARkcGD9hslhRkNrnq4aihIZ3z9h0qp5qBBZc3EXrt5gYL8hWL3y3QbV3kzmKjcJoCr4MRJSxLfP8UC1CqVnKTUacfWtrbObBxN/hwC5pFxLu9GTEF785jwWyWaEntcG/Jk4dNv3HyfDt0Lxl72+L6WtmThYc8X+UXn/1/8ieI4UEvKWqJfQv6oY7Mx9dnQ+XAspfHSEmQJpmW8ArIibdeOsrFPAGAJGN1g//FlrdsDMj2ajk32TmeJEZk96Cam+wXp6kRWanXSNDQecrXXYHdFjjxtp8/L472CU2ZX9fGFqaSAAAAAElFTkSuQmCC\"/>\n",
              "            <a href=\"#!\">\n",
              "                <span class=\"ipyplot-img-close\"/>\n",
              "            </a>\n",
              "            <a href=\"#ipyplot-content-div-5i6VxxiJYuagkTJhLc95ve-SNeB7oytEA7UAciwjnQYaS\">\n",
              "                <span class=\"ipyplot-img-expand\"/>\n",
              "            </a>\n",
              "        </div>\n",
              "    </div>\n",
              "    \n",
              "    <div class=\"ipyplot-placeholder-div-5i6VxxiJYuagkTJhLc95ve\">\n",
              "        <div id=\"ipyplot-content-div-5i6VxxiJYuagkTJhLc95ve-7hsD6eo9w98CZqYAPen8a6\" class=\"ipyplot-content-div-5i6VxxiJYuagkTJhLc95ve\">\n",
              "            <h4 style=\"font-size: 12px; word-wrap: break-word;\">8</h4>\n",
              "            <img src=\"data:image/png;base64,iVBORw0KGgoAAAANSUhEUgAAADIAAAAyCAAAAAA7VNdtAAABW0lEQVR4nO3VPUsDQRAG4HfWy8UceIeaXKGFEFEkWouglejP8M/Z2AVbU1ukDuFitNIgRCRRE8zl8rFrIXaz626jFk55y8OwM7NzpOAawln8EPG4j1/3I2uSDiczkBIiDG3Jy83zGKREvrJnS+6rzR5IieUza/Ka1DMACI45wVaMvBwAIMixhMsSltPu0xBC2FcsPtjs1NrQjRJHSoeyk7Q1gCdRJFWgFXz3s6vLhq73PBm2qhcTtyzJed0g2L70Wl2DYIkX+K6ESHdzLfkm/skvETmduxLhs0/CRIqVNZPhSLxfNs0lm+Vou2AYTI7k4xWPAN1T5os8/1xILkQBgJLvb1y1Da1Us+7dyI0gbdYeHEl2e/1oTaZjCQBKcnuZJ2HsAwAtcDXjye5JEQBGmWQO+WHaOh00AKzuRNZkPYo6BCyWNphD0vx4+gMAnr9UsCfQj4yW6OPPbpgPf0Jb12PAeewAAAAASUVORK5CYII=\"/>\n",
              "            <a href=\"#!\">\n",
              "                <span class=\"ipyplot-img-close\"/>\n",
              "            </a>\n",
              "            <a href=\"#ipyplot-content-div-5i6VxxiJYuagkTJhLc95ve-7hsD6eo9w98CZqYAPen8a6\">\n",
              "                <span class=\"ipyplot-img-expand\"/>\n",
              "            </a>\n",
              "        </div>\n",
              "    </div>\n",
              "    \n",
              "    <div class=\"ipyplot-placeholder-div-5i6VxxiJYuagkTJhLc95ve\">\n",
              "        <div id=\"ipyplot-content-div-5i6VxxiJYuagkTJhLc95ve-cAXkbBqEUNRJVMr8Fj8xbs\" class=\"ipyplot-content-div-5i6VxxiJYuagkTJhLc95ve\">\n",
              "            <h4 style=\"font-size: 12px; word-wrap: break-word;\">9</h4>\n",
              "            <img src=\"data:image/png;base64,iVBORw0KGgoAAAANSUhEUgAAADIAAAAyCAAAAAA7VNdtAAABNklEQVR4nNXUu0oDQRQG4H92Y8KKSIgKagIqUVACQuyENIJvY+ET2QoWvoCVjVimsNnYqFUIIQgGYVd3Z2ws/3PIEZF4yhk+5nIuLsAakVn8EanQ1VB++CiuOgNxk+vBxl5nc3l2Mulf3be7o97h7OTucvD5/JrGBpLejpFloye6yX/sbewBoDSQg5MVACgM5PRsV97kb6k3E2Bpa9twSvAAkp11A4EDMH2w/BgCgOxlaCHapkp4Wf5av7iIH6CQ4JWRwEmR8/JSyPBxKhNeMDcXPIsKSfuyEC62oIifJHhup+X/JJY59h18jvGCAQCsdrpW0j4/puvKxZJmw0rgvZkI/a+QIPS/QgphZgjjAkCtsRgbSAmgtb/Gm5PnpfeOWuuozt/v6H3zPERxpUqFQNSYg37h8QW5uUjnXRETCgAAAABJRU5ErkJggg==\"/>\n",
              "            <a href=\"#!\">\n",
              "                <span class=\"ipyplot-img-close\"/>\n",
              "            </a>\n",
              "            <a href=\"#ipyplot-content-div-5i6VxxiJYuagkTJhLc95ve-cAXkbBqEUNRJVMr8Fj8xbs\">\n",
              "                <span class=\"ipyplot-img-expand\"/>\n",
              "            </a>\n",
              "        </div>\n",
              "    </div>\n",
              "    \n",
              "    <div class=\"ipyplot-placeholder-div-5i6VxxiJYuagkTJhLc95ve\">\n",
              "        <div id=\"ipyplot-content-div-5i6VxxiJYuagkTJhLc95ve-ku8gTmjCrGKpbFXwBsSRsQ\" class=\"ipyplot-content-div-5i6VxxiJYuagkTJhLc95ve\">\n",
              "            <h4 style=\"font-size: 12px; word-wrap: break-word;\">10</h4>\n",
              "            <img src=\"data:image/png;base64,iVBORw0KGgoAAAANSUhEUgAAADIAAAAyCAAAAAA7VNdtAAAByUlEQVR4nL2WzUrDQBDHJ0mTtCmSRqVYEUW9lBYVDz146MGDjyDiM/hMvoD4BHoRRfAgHioKfvSLIhH7RVuqzSabeEjaSybLxoN7Gnbyy39mdnZYwYO4S4xN/AVJ4Nv0w2xPJKpur3EjzuPNU08m8yf8CH2/exuLNNPjDswbV1++XABqIU48fcesdV0AEGVupHZdtwEAvG7f4USuThsAAEAq90NOpNP89gPsfBJORE37ZfEocTmR6fKIFRcRUprEiUjBdnK3nAk5saP0nAnx74S8vhl2YyrUNPvhFJgqdDiYNgp2ATEVx7ajNXDEHk0C6yfcLjgyak27RA2XGM/l5ezVNwr7RU6kcREElj/KcwY2W7KG/RFDEkpgCNxFTgiB4aFzMaxstVtYaVkqg9sHbEiwEHswooHpuny5CNLs/ERRCLnZRZZ1XY2JJA2Df44BAICU1nVsn6UiypgIC3EJfm0YyEJpIy6yeliKi2R2luIiqZzGibjEDtoEO3oUkY05f9OjIV8EYuwVFORDFqKsZP3f04iHB5K+pPjTNSIudMIUjitNqi1upXBEQNTH9fNLO1ssH2CtjyNgPVfddHY5hx8airDX/zyufgH+L41/yms56wAAAABJRU5ErkJggg==\"/>\n",
              "            <a href=\"#!\">\n",
              "                <span class=\"ipyplot-img-close\"/>\n",
              "            </a>\n",
              "            <a href=\"#ipyplot-content-div-5i6VxxiJYuagkTJhLc95ve-ku8gTmjCrGKpbFXwBsSRsQ\">\n",
              "                <span class=\"ipyplot-img-expand\"/>\n",
              "            </a>\n",
              "        </div>\n",
              "    </div>\n",
              "    \n",
              "    <div class=\"ipyplot-placeholder-div-5i6VxxiJYuagkTJhLc95ve\">\n",
              "        <div id=\"ipyplot-content-div-5i6VxxiJYuagkTJhLc95ve-BBBsdFRPy44eJgogRxpTsH\" class=\"ipyplot-content-div-5i6VxxiJYuagkTJhLc95ve\">\n",
              "            <h4 style=\"font-size: 12px; word-wrap: break-word;\">11</h4>\n",
              "            <img src=\"data:image/png;base64,iVBORw0KGgoAAAANSUhEUgAAADIAAAAyCAAAAAA7VNdtAAABqElEQVR4nM2WPUsDQRCG3727xCSSaD4wH2iwMTYpFFGxsLIQf4Ctv8xCbG0FG+0VEQSxEEFDxICSGMkR9e5yOxaCTWZ0D0Sy5SzPzPDOx64iRD1WZOKfEIexEZFSUOYIeacnvdxKvcx5E6L4l7vP0y1vPSfE4VzpMEHHbmkxzjMM4hTnm97DWFsLiQ0rphL1zWIHA0sSk7FbmWJiAFKSZJyr4COErLFcSgoGURG/2QojIp39g/cICBHQPz/zzRE9CAEgJmTAmZNT+TEF2EItOaRQrxVsIHgzRxLVyoQDNA9vWYRrSzuXTTnAzV58zjQKYCkA/bura9cY0RqAdhvXPWPE6wcA/J7LlYZHSvOTAMht95lLfsA30u4TgNf7Fz3sk4+SXSgAQPfqMTBNDI4CgO5F0xtewAJiKwDQns80jYDoL+eWzQznyK5xCRHm/geEmHr8gsRXl8cjIsntnXxExK5U4xERODFxw/6hyETAd98YRiENAAHTltIbCssBsuWZmDmiYhmVXtpaSw2roPg/DIV3R41kbWk2zXiTvj1EpMA+fiIin5EdsU/RhX5QDwV7bQAAAABJRU5ErkJggg==\"/>\n",
              "            <a href=\"#!\">\n",
              "                <span class=\"ipyplot-img-close\"/>\n",
              "            </a>\n",
              "            <a href=\"#ipyplot-content-div-5i6VxxiJYuagkTJhLc95ve-BBBsdFRPy44eJgogRxpTsH\">\n",
              "                <span class=\"ipyplot-img-expand\"/>\n",
              "            </a>\n",
              "        </div>\n",
              "    </div>\n",
              "    \n",
              "    <div class=\"ipyplot-placeholder-div-5i6VxxiJYuagkTJhLc95ve\">\n",
              "        <div id=\"ipyplot-content-div-5i6VxxiJYuagkTJhLc95ve-9ZPhA2ET47RF4iWPhW5T79\" class=\"ipyplot-content-div-5i6VxxiJYuagkTJhLc95ve\">\n",
              "            <h4 style=\"font-size: 12px; word-wrap: break-word;\">12</h4>\n",
              "            <img src=\"data:image/png;base64,iVBORw0KGgoAAAANSUhEUgAAADIAAAAyCAAAAAA7VNdtAAABRElEQVR4nO3WT0rDQBQG8G+SdAxSSlsxSguCiwYU4lIKLt25cuENvIcH8ga6cNGluBGLQpXS1ir0n6IVE1Mz4wXeKzMg4qJvmeTHN3kzw4zQsC3HWvwR8aiHGhpC2JDXx+FburabtyHXzV686UVFOogi7/dXreT24fDYPEUux0963M+FtXWKUB2r7NV8IGmcnBmn5MMD96KrJ3cDY+IFR9GoC1nwSUJOpZg+f5Jf8wTN8z7AzSVN2pcjsIYmk96H7cAcl11hHBGONZlbC7Igv0eYZc4D9TUezOxINmycti1T4s7Nix0BpO8ak+9UAdzmZJpiv5G39ys8IU8x7CStjmVKeavEp9BErkoA0OSlgGlyNgOANFPEO/pfIFYCoVEtLZmTXDR1FDbCgjmR9aqjUAzK1AiYa4/WAAR5XnBkTv2DjUzXD22LVF4+EHGwAAAAAElFTkSuQmCC\"/>\n",
              "            <a href=\"#!\">\n",
              "                <span class=\"ipyplot-img-close\"/>\n",
              "            </a>\n",
              "            <a href=\"#ipyplot-content-div-5i6VxxiJYuagkTJhLc95ve-9ZPhA2ET47RF4iWPhW5T79\">\n",
              "                <span class=\"ipyplot-img-expand\"/>\n",
              "            </a>\n",
              "        </div>\n",
              "    </div>\n",
              "    \n",
              "    <div class=\"ipyplot-placeholder-div-5i6VxxiJYuagkTJhLc95ve\">\n",
              "        <div id=\"ipyplot-content-div-5i6VxxiJYuagkTJhLc95ve-hnuSVnMhS3qjzMSU7a6ghU\" class=\"ipyplot-content-div-5i6VxxiJYuagkTJhLc95ve\">\n",
              "            <h4 style=\"font-size: 12px; word-wrap: break-word;\">13</h4>\n",
              "            <img src=\"data:image/png;base64,iVBORw0KGgoAAAANSUhEUgAAADIAAAAyCAAAAAA7VNdtAAABdElEQVR4nO2Wu07DMBSGf/eSpldIKWoLQlRQIYQYQEJILMCA2HkUBt6DN2BmZuvEBAMqEzCVhbua0jRCoChNbIZILD0O9gIMnMly8vn/bZ9zZCagGwlt4oeQFDEnADAdZDi4f8jXZ4o6SPfirLZm6SCBc33arCd1jHHv9S6cqi01ShKEOLGEwbonB/ttn6uqAIwNXdc+9razyggAwD96W6eRUWOChxyA8F2JsVGEJVORdE5ynaNI2qpWDUCeAARSmW3kJH/LkMmFxTIQpZoawjLjlqmnAoQBB3T2Aoj44o4pMfW9fAWTfIsr5FAb4YE2YrdtXeTqsKWLODePuki6QCdB3IkpJ/+38Y/8EhJ6fjSg75JC0sUsAyB816EaJtWTG3uDl75AYJ9Pb82pqUxsLFfMBPh757KnaAwsP2aZAIyCoWgMmN/tPXccc3WlTC1Ith7vw79tPZU2dzLEkrSKaaKU7OeaedK2tDNKHwxyRBp/Ni0/AXIQYGeyrqM8AAAAAElFTkSuQmCC\"/>\n",
              "            <a href=\"#!\">\n",
              "                <span class=\"ipyplot-img-close\"/>\n",
              "            </a>\n",
              "            <a href=\"#ipyplot-content-div-5i6VxxiJYuagkTJhLc95ve-hnuSVnMhS3qjzMSU7a6ghU\">\n",
              "                <span class=\"ipyplot-img-expand\"/>\n",
              "            </a>\n",
              "        </div>\n",
              "    </div>\n",
              "    \n",
              "    <div class=\"ipyplot-placeholder-div-5i6VxxiJYuagkTJhLc95ve\">\n",
              "        <div id=\"ipyplot-content-div-5i6VxxiJYuagkTJhLc95ve-DnqYZPJAsQ86Aw9GESzS8K\" class=\"ipyplot-content-div-5i6VxxiJYuagkTJhLc95ve\">\n",
              "            <h4 style=\"font-size: 12px; word-wrap: break-word;\">14</h4>\n",
              "            <img src=\"data:image/png;base64,iVBORw0KGgoAAAANSUhEUgAAADIAAAAyCAAAAAA7VNdtAAABrElEQVR4nL2Wz07CQBDGp11a/hVjQIIKMWDAoAcvEOORmxKPxqsv4Kv4PHozMRITNdw8KcEAEoQYhQawUKAeCp6+brbGOKfJ7P7yzcx2titZ5NZk18RvEA+ITYeVdtzb1Fk6K4x0r+/3Q6W6eryFkkCIZeqtinz3xnbeVwCDELLIbI1qfWr3wqIIedhgYBFJElwEMYm+PnVjSiQLIzK1n8kaQ33HxAzDaT85HSXjEBDx+LA2Bxn3HesgwrVUL59sh6koQ6TSuHqxHaOL2oCQbuXDdprljiAy6pm2Uy81BRFpUUH95lUQUYOK7Uxg6xCiaHNE21gCy6jJ5nBeS+50V1DF7M+R9VxMEPmx2/MHUWQxJrWLqlsV8uNx4hlDy39+WxoTt4gUUECUO3/Zg7RblUwx5RYJrGkgyklM9kajqjsVNZFCtzgPkfxBmAOvlik6FS5iTWZuEV8MzSS3Y5tneXHEIiJiyUOsghKbzYhI1iK4FIdLiRGxSBT+wzASSoSIlPgq+owdkGQxSxQu5B0QVH7mpNPQt4/2HBKT0EvJLD+O4oVlTGCEb//zuPoGYxtrPHsAGicAAAAASUVORK5CYII=\"/>\n",
              "            <a href=\"#!\">\n",
              "                <span class=\"ipyplot-img-close\"/>\n",
              "            </a>\n",
              "            <a href=\"#ipyplot-content-div-5i6VxxiJYuagkTJhLc95ve-DnqYZPJAsQ86Aw9GESzS8K\">\n",
              "                <span class=\"ipyplot-img-expand\"/>\n",
              "            </a>\n",
              "        </div>\n",
              "    </div>\n",
              "    </div></div><div class=\"tab contentHa2qwvPcHTHAMxnLC64VMf\">\n",
              "        <style>\n",
              "        #ipyplot-imgs-container-div-AY2u6fWyjwES4NZCAPLN7Y {\n",
              "            width: 100%;\n",
              "            height: 100%;\n",
              "            margin: 0%;\n",
              "            overflow: auto;\n",
              "            position: relative;\n",
              "            overflow-y: scroll;\n",
              "        }\n",
              "\n",
              "        div.ipyplot-placeholder-div-AY2u6fWyjwES4NZCAPLN7Y {\n",
              "            width: 50px;\n",
              "            display: inline-block;\n",
              "            margin: 3px;\n",
              "            position: relative;\n",
              "        }\n",
              "\n",
              "        div.ipyplot-content-div-AY2u6fWyjwES4NZCAPLN7Y {\n",
              "            width: 50px;\n",
              "            background: white;\n",
              "            display: inline-block;\n",
              "            vertical-align: top;\n",
              "            text-align: center;\n",
              "            position: relative;\n",
              "            border: 2px solid #ddd;\n",
              "            top: 0;\n",
              "            left: 0;\n",
              "        }\n",
              "\n",
              "        div.ipyplot-content-div-AY2u6fWyjwES4NZCAPLN7Y span.ipyplot-img-close {\n",
              "            display: none;\n",
              "        }\n",
              "\n",
              "        div.ipyplot-content-div-AY2u6fWyjwES4NZCAPLN7Y span {\n",
              "            width: 100%;\n",
              "            height: 100%;\n",
              "            position: absolute;\n",
              "            top: 0;\n",
              "            left: 0;\n",
              "        }\n",
              "\n",
              "        div.ipyplot-content-div-AY2u6fWyjwES4NZCAPLN7Y img {\n",
              "            width: 50px;\n",
              "        }\n",
              "\n",
              "        div.ipyplot-content-div-AY2u6fWyjwES4NZCAPLN7Y span.ipyplot-img-close:hover {\n",
              "            cursor: zoom-out;\n",
              "        }\n",
              "        div.ipyplot-content-div-AY2u6fWyjwES4NZCAPLN7Y span.ipyplot-img-expand:hover {\n",
              "            cursor: zoom-in;\n",
              "        }\n",
              "\n",
              "        div[id^=ipyplot-content-div-AY2u6fWyjwES4NZCAPLN7Y]:target {\n",
              "            transform: scale(2.5);\n",
              "            transform-origin: left top;\n",
              "            z-index: 5000;\n",
              "            top: 0;\n",
              "            left: 0;\n",
              "            position: absolute;\n",
              "        }\n",
              "\n",
              "        div[id^=ipyplot-content-div-AY2u6fWyjwES4NZCAPLN7Y]:target span.ipyplot-img-close {\n",
              "            display: block;\n",
              "        }\n",
              "\n",
              "        div[id^=ipyplot-content-div-AY2u6fWyjwES4NZCAPLN7Y]:target span.ipyplot-img-expand {\n",
              "            display: none;\n",
              "        }\n",
              "        </style>\n",
              "    <div id=\"ipyplot-imgs-container-div-AY2u6fWyjwES4NZCAPLN7Y\">\n",
              "    <div class=\"ipyplot-placeholder-div-AY2u6fWyjwES4NZCAPLN7Y\">\n",
              "        <div id=\"ipyplot-content-div-AY2u6fWyjwES4NZCAPLN7Y-2DPz3Ppb9zaDKAgpefQKnd\" class=\"ipyplot-content-div-AY2u6fWyjwES4NZCAPLN7Y\">\n",
              "            <h4 style=\"font-size: 12px; word-wrap: break-word;\">0</h4>\n",
              "            <img src=\"data:image/png;base64,iVBORw0KGgoAAAANSUhEUgAAADIAAAAyCAAAAAA7VNdtAAADVElEQVR4nM2Wz08TQRTHv7PbbbeU7bZV0wraxpQfVhHiD4zGIMjBRIxcPBjj0ZMXD179L7x586ImHoyJioIJ4I+ANaQVjFETa6ENldgVBSn9we6Mh3btli4rXIzvNPNmPu/HvDezSxi2KtyWiX+E2GqnDJXcCMgmka8f41mBoOTq7tq5GYSyYnxkJO0gKHjSywd3yOaOSPWQ2XI+dfNZtsAB1ObfLp+5Zv+Ll1JqZjH1Mg1QAOr8PMTzu0VLRP06cmt+bcmw9HOSC1simaFHcRUAnJKg/coBUKIhK4Tl4rdiGgBIzS1SMfElR6HEjvRaICu3hz+oADoint0Rl/ol9mIWq59f7w9v2xi5+wIA7+wfkPxhYLEtNQtVmZ6QN0agAUBH37kuQQTgjXgBgFGzPq8gRATAtQ4c8panPhEAbIJZCxp1jd5GvjI0NV+POHYG/UJlvGFPoqbH3C2RoD4lFoxeFw2Aw6k7yc39AgBKLQLj3HB4nH9ML0wpAOBw2kyQik66fFJwB/bq2uSrDGDzdh43KYuONAwadFT98CYLuPZ2H7DIpUaUd9HZItB0KmJGmCLfpz6tAPAfD5oiZuVdTv4EAHmfb5NeCu9HZxYB8WCf3ywEAGy9fLoctnNA6I6i1a0xxhhbb6gQHX2ZpOC8kXazAzYJjM3dfpqhAB/satiAWI9ERyYzGoC1QIu8KaSYGn6Y0EB43h1pk4FSnlbbkzpcJsjbO88TBYD37+q8cBRA4tEqpzO00HWhDllJPxlKahCkQEjkF6ZVhvEHOf3OgeVTgdYmoOaBnbgRzZQA3+EDgVeTkpMBy4uG7meNbZeucAYv2XRyfOwbQHiylF6ay2br0y5O9RgDK8Uf3ldUAMRRjMWI+dXyuaoIS8w8nsiU3a8xtWajzUGLZQvtF/tIFZm+N6pUIi4BhK8SQtBLlTQDeHfvVdkQWPLtD4NhufNP5Yu+0yH2fixvL3m6T1SKW0Z+LGgAYG+082Do6Jf1T2Z+x1kf2qWcWNjeE2TEmH55sqe/dRulrLmtQUeoIAPNgxpHBY9+tcqIzW5TSVPrsd6wj2lMctUelT1QeyAAAKeHlcjAdUkUOFg/lTpCjmJVQ0/Ieqsu5YZhDNaPaj2yJflv/5R+A5anSYumsTrcAAAAAElFTkSuQmCC\"/>\n",
              "            <a href=\"#!\">\n",
              "                <span class=\"ipyplot-img-close\"/>\n",
              "            </a>\n",
              "            <a href=\"#ipyplot-content-div-AY2u6fWyjwES4NZCAPLN7Y-2DPz3Ppb9zaDKAgpefQKnd\">\n",
              "                <span class=\"ipyplot-img-expand\"/>\n",
              "            </a>\n",
              "        </div>\n",
              "    </div>\n",
              "    \n",
              "    <div class=\"ipyplot-placeholder-div-AY2u6fWyjwES4NZCAPLN7Y\">\n",
              "        <div id=\"ipyplot-content-div-AY2u6fWyjwES4NZCAPLN7Y-Zk9pVDj6oRBJ4BxoXekeM2\" class=\"ipyplot-content-div-AY2u6fWyjwES4NZCAPLN7Y\">\n",
              "            <h4 style=\"font-size: 12px; word-wrap: break-word;\">1</h4>\n",
              "            <img src=\"data:image/png;base64,iVBORw0KGgoAAAANSUhEUgAAADIAAAAyCAAAAAA7VNdtAAADTklEQVR4nM2W208TQRTGv9nd3rItBREKqA1CRRTQRlIxeI2J96ggJhoefNDwyLN/hj75H/hilKBGYiQxgibebzF4JVSEcCmFFkqp293t+DBt3Vup+uR5mp3T35nvzHyzW0Lxt8H9NfEviGCamR6OOUGl6oOeP0a+Xx31gi4FfTsLKaDGeOmHIPAoP3PdlGKhW0WRUjLCKSgA5vvkFr/HaiGi3eSJp4NjWBiR2VP5lrOX3KsLS8/f7F6jyx24PWMhTIPM9J/38jpEbOtfvZepgReLegXJLzELXRrk88CUMVtiXw1ZuHdzJsOGdW3jI8uqVeM6JBO+9gwAwHHc7p6H8z9SxRB54tUEG5VvDR5rmd60UBRRxj+tAEBZxba2fS0ut2g2khHJRCIqAHR1+MtKnZgNLxdFaGpFBWqaTx7lASC5xBxgef9yAjiOAkd6A8xUHE9QkMkhxFnhaToVzP7SxlxABCtbZhHiqgo2n6vL1ZbYCYk+sTBi3+5L+Boc7OHH4OCMDAAt3VutmjG5Tk3eaC9huZ7JTLErBgCI9g2MJNhQ9JBV2s8vmhzpf84M7dnWaOVKk7DU8OWq7KVpG4qoRe8+gPjQUIRtV3Wo3do1ho2n3++/ZoRn394C/tcXSj6685lZpa61o7WQNXUyZy9mj919oS9u1Ye5Fy+YmC27Toe8BdbQCpMW1WjKJgMgzWd2l/5OZNIUAOEFYkTeX4mkxxQAsNc2l2jKLr+VbCpx+GptekSOPetLs6HDH/ATAKArkOd+CmOPl228u5puMCCxB8PZFwwqQo1MQuIbnbs9VhobTRBvfaiWGnpZfPyOtU4EEn8SzQDA7Li6MDzllpaAqKeyhjcgiTdhVoVzJF++ZSesSGlZpRIF4CoPNXEGRIlndVFZURRN86AAHCc66nNGySM0Z4+MBF0QgSO2QHdnfiKPZGRYh6NzPV3XsOP3RB4RSngLG9pF9+augFqvtUIeERsjUTOycc/xwDoXnLBCyg6pQ3FtgqvYaBeb2g87jGXySGV35dybn/l5t9d+uHcNZ3Oa77Lm8zp599Pk16i7cr1TAbe21N56xCzUgFA5Gb71oSa4v0yinOiy81avFxg+4kh9nPVUZQ1bMMj/+ufqF9mf4vHkNwx7AAAAAElFTkSuQmCC\"/>\n",
              "            <a href=\"#!\">\n",
              "                <span class=\"ipyplot-img-close\"/>\n",
              "            </a>\n",
              "            <a href=\"#ipyplot-content-div-AY2u6fWyjwES4NZCAPLN7Y-Zk9pVDj6oRBJ4BxoXekeM2\">\n",
              "                <span class=\"ipyplot-img-expand\"/>\n",
              "            </a>\n",
              "        </div>\n",
              "    </div>\n",
              "    \n",
              "    <div class=\"ipyplot-placeholder-div-AY2u6fWyjwES4NZCAPLN7Y\">\n",
              "        <div id=\"ipyplot-content-div-AY2u6fWyjwES4NZCAPLN7Y-BV8narLJ6egHxrjs2RsWXf\" class=\"ipyplot-content-div-AY2u6fWyjwES4NZCAPLN7Y\">\n",
              "            <h4 style=\"font-size: 12px; word-wrap: break-word;\">2</h4>\n",
              "            <img src=\"data:image/png;base64,iVBORw0KGgoAAAANSUhEUgAAADIAAAAyCAAAAAA7VNdtAAADD0lEQVR4nN2WwU8bRxSHv9m1wWAjqAG3NqAiiiIR0kYmAaHmEqlNlN6IOPWcc6So/0ovzaG9IlVqhZAi0qIWKVRtHHEoKkmspCkBOSRgTJ0A9np3dicHY+Ld9TpwySFzmrc7n39vfvP8ZoXipEM7MfGOkJD3gXO0OSHEsZDKt49r01PTg29HlH3w4PtsLRrpkf26pvmkRL3JcvOn23+UalFk+MpUIhZvbaqy/9/vv76JjFVHPz3c5kNcjuWzWwB6y2H85Ie5+wfN9qKMlYUcQG/a2N55ZSgq+VzRaooUM7dMgDPX7Id/P1ivgNCMpgjyoAJ8eOXypPoknZlZAzb+nBxoFcGI0EHon11Pa/SfS2VyUqlnpfXxFg/iLZjYV9NDGkD3QI8GOEp5a92LRNLnYwBE06MhIOwvQn+N2Q4AH0zb9yq+5V4VJUFKu5pIuG9Qb0i4EOGA8yb1SsAfti4xERv74nlL15FBXqcaIV2XEncPBmM1YePtKpBq6zeS3dUt5GfnDKAifaALiSSTR/PdmUUg1BnxuewzuTbaQgglTl0YiXqZgHah9nJWCEiMfhT2uhCgIpd/WbMVyrb8HgSo2E//KSrQUkPtx0X2t3ckEB+7EPe9a5zYv78tbZhwbupib4PfVP7hyO8mOgBuWA3eqkYq939eyO4B2A1z8D9U5bs3NwFC0U5ly+oqXTRDjMU7eQBSX18V20+Eji1SfXWn40Xki+ziqgW09o58bD26t6LpSO3zeDhY5eXM0tZzgJ6rnZllbWUNAHG+I1hlP/OXUwJCYvf/lbL9zASgYAduX4mt9QKAaNmflyWHw3JxtTI3IpZmc9VV0jaDLl73/VKe/7FQnZkA1WvM28hcSH714QtZF7cmNaWX8iZ2PeZCitlDItwW1hQMf6opvfh4k+76/uRCpHnY5/smkjEl1dlxgSiu5syJaNDpdwz2aA70jo6NJaNKMpQCSBTMRKTesvoatQrfxIHpjcKrklEul6uFbBmG5QRVcih+qX1X8uWA2yHPcQu3g0opEM0/OcR79KX0GhD/ZRTqQUIIAAAAAElFTkSuQmCC\"/>\n",
              "            <a href=\"#!\">\n",
              "                <span class=\"ipyplot-img-close\"/>\n",
              "            </a>\n",
              "            <a href=\"#ipyplot-content-div-AY2u6fWyjwES4NZCAPLN7Y-BV8narLJ6egHxrjs2RsWXf\">\n",
              "                <span class=\"ipyplot-img-expand\"/>\n",
              "            </a>\n",
              "        </div>\n",
              "    </div>\n",
              "    \n",
              "    <div class=\"ipyplot-placeholder-div-AY2u6fWyjwES4NZCAPLN7Y\">\n",
              "        <div id=\"ipyplot-content-div-AY2u6fWyjwES4NZCAPLN7Y-HgiTXqBS3nzQmjQfJozdCc\" class=\"ipyplot-content-div-AY2u6fWyjwES4NZCAPLN7Y\">\n",
              "            <h4 style=\"font-size: 12px; word-wrap: break-word;\">3</h4>\n",
              "            <img src=\"data:image/png;base64,iVBORw0KGgoAAAANSUhEUgAAADIAAAAyCAAAAAA7VNdtAAADmklEQVR4nM2WS1PbVhTH/1eSJdlIfgAOj9okNCQYJiGQQttJypRhkbDITCeZrDqTVRf9GF32M2S67qrtomnLNA2lLJr0QWmbRwmPxA9MRGPs2EZEtmRZNwvZ2LGFgU2nZ6U55/7u+Z+rc89cQnFUY45M/EcI1+yiADkaYj5Whf72wyGmZhGAbM4/l949z3LuQyDKbJ4D4TYWXojLf8snpw9ESls/3cpyIFxqmSK/4Y2gLyAJTgip/krlszv/6AQgpg5wPO/rHp8ZDbXIUo7+Mnd/t1aWqeWSzFixlTDtx68fvXw9QrVSuQVCdxRl15bYeeqcO/37KkALGdV0+G0VpLCVLjAACLwjM9d8K8VVAMWYEpH2Q2hy6cG/JgC3MHzjQh8blAkF0gtdo6JDGtuVjm+oIK5Qv3zuUi+str6TSR3a0+iuta8whmUBMXT1A58UBJhj0/oXTwCwjr1WKZ9SoP3tqQu2kw+flgGAcUTs5qcWBUKXh6peo+h8vnVI92C4TQx0y1Uvcd6/Thg5btxXt7mc6mdtb7ncYiTYtXCh6z1fJb8jAS8BACOjFA4SBvnilXDm3opmb67FV9SDsgAQ5IDotjcwc3/dywKA6ShvDxFHJHFAtDMbigKA4SXO6RT2kOCHOpElBgAYjxsAxP7jHrYVwndVPnIPt1NxAJDOnpKdZlZz261/8oioANA+HpGboo5INroNACQ4cj7cosdqZuYVW793dHIoUBegqE7EBqQUu/1DBgDcZ25M1M+/QiZL/D65GTESd79c0gDGMzQ907mXWaNWLJYQhwaaEZqa/WZZo4A8/NFUTZUyq2IjHu8x/CHSiER/vv3bLgCcvjLzBgDoz7OEweKtHElvZ/PjhaZaCnduRjUAwPsfdwAAnn0+z/JIPTGIWQbHMo1IYuHbh2XA09vpn+rYjKV0trD5/SLjokbJXlA58jrkz0+fWgC8E28NDsbn5hbTAi1rJgzQ14h65OWWCQDamrY2r6+uJdFgJdNqRFh7zu8sLVU9BAAYXnBZZrFEvLLQiFhGw7Ysx4GWgqNjw9r63UTnxekTpAFxeVULIFzlklCpx+8hlt773uSZ0gN5vfedMb4xSyCykwdcx0JCGYBlnpgc7CbUEnx+uCLBguDlm8oPXXI9pnywf9htI+GJN13VWFtbbR2pXW8j8+sfZU/XwFm7SsoJjve4HgGeJSxBDnY4rdsPocABz4Qm5HD2v30pvQKWt0bWGbAKDQAAAABJRU5ErkJggg==\"/>\n",
              "            <a href=\"#!\">\n",
              "                <span class=\"ipyplot-img-close\"/>\n",
              "            </a>\n",
              "            <a href=\"#ipyplot-content-div-AY2u6fWyjwES4NZCAPLN7Y-HgiTXqBS3nzQmjQfJozdCc\">\n",
              "                <span class=\"ipyplot-img-expand\"/>\n",
              "            </a>\n",
              "        </div>\n",
              "    </div>\n",
              "    \n",
              "    <div class=\"ipyplot-placeholder-div-AY2u6fWyjwES4NZCAPLN7Y\">\n",
              "        <div id=\"ipyplot-content-div-AY2u6fWyjwES4NZCAPLN7Y-REUkuJpA65B5wWgQAsCNES\" class=\"ipyplot-content-div-AY2u6fWyjwES4NZCAPLN7Y\">\n",
              "            <h4 style=\"font-size: 12px; word-wrap: break-word;\">4</h4>\n",
              "            <img src=\"data:image/png;base64,iVBORw0KGgoAAAANSUhEUgAAADIAAAAyCAAAAAA7VNdtAAADBElEQVR4nO3W3W9TdRjA8e/vvPXVDijrtiZkCww3oWTAxMk0McZMExNBwwV6KX+I/4ZemphwYWI0A2KW3SAJUXzZMifYTbcqLl3HZGxlpafn5ffjYu1pD2uF3XnBc3XO0/P5vTznOedUKPYa2p7Fc7LnMIIjVbOVaBzryc5jBURWin+5ev3ET57c93RSnpovNUmqMtr7VLL06S0lg3Si7Lyd+C/iV1d/vD5vt6Q3bz74fvz9DkYppR7Nf3bWABBCj0YNbacKF9Z91S4MgO3Jrxc9gIR59KJ+Lb/mABSmxgY7Lqw28zMQS/dkIiOXDD1bWFp3FQ9+yHYmwgQ4/MHYgEimxIWJta+uFm3sfx923j4CoHfiTAygr29o+Zf7Nr7ttiXaTgkA9g1FG9lUJgJCb98BGoCVTkGmv0sEadH24paFxQaP/Wmdeil4DdjlrfZrapLoG93r+qEXzUayWlh8BL7jdybmqZNSNXu6fHv+HyDek2w/TZvb+935PoDXb5Q63/1QyOrclA1G96vj+q4fg4WFovprXgIHP36vQ9l2EXfp2qyPlj79Vu4Zibp/6/KKj3n8zeHEs5GN0t3fii64ejwWiOofrg5IdTBr7iLe7zMreQ2wLOEBSikg/20lAnhyNL2LeMtXrm9vOJDMfTTRDduzPy1rOqsLrgFIJV9Lholyl29MzwCGdeT0oFlS3J6+egdE0EjHnSf2Ulv48pu7AL2jI+nPCz48XF8Dml8gIULEry5MT90BdCuVkivThdYa6Xg+jf4OiL0w+cUqQKRXm71Z3moR4kAX97YAqULE2/h7Z2BZq1U2G9mBfinVgYGMOzmHns5GQkS6wnQB7GLL+BPnPEd2H86WF+dIvTySCBHl1eqPlQIiKJV7J2qczfm+SuwX+y3E8IdnwrMIKx4PHsWeDFK++4kVTFeJv5AaPdcV3n4kOy6cnW739NywplR/U2COydgr8frgjaq7m6Wi2yAnDhEON180eobMMFGe69Q/SVIkzSeIqjrCrDeqeP7v4n9JHgNgB1tflw8KlwAAAABJRU5ErkJggg==\"/>\n",
              "            <a href=\"#!\">\n",
              "                <span class=\"ipyplot-img-close\"/>\n",
              "            </a>\n",
              "            <a href=\"#ipyplot-content-div-AY2u6fWyjwES4NZCAPLN7Y-REUkuJpA65B5wWgQAsCNES\">\n",
              "                <span class=\"ipyplot-img-expand\"/>\n",
              "            </a>\n",
              "        </div>\n",
              "    </div>\n",
              "    \n",
              "    <div class=\"ipyplot-placeholder-div-AY2u6fWyjwES4NZCAPLN7Y\">\n",
              "        <div id=\"ipyplot-content-div-AY2u6fWyjwES4NZCAPLN7Y-HGyvqbRjDTVSXWRF2BZDpx\" class=\"ipyplot-content-div-AY2u6fWyjwES4NZCAPLN7Y\">\n",
              "            <h4 style=\"font-size: 12px; word-wrap: break-word;\">5</h4>\n",
              "            <img src=\"data:image/png;base64,iVBORw0KGgoAAAANSUhEUgAAADIAAAAyCAAAAAA7VNdtAAADAElEQVR4nO3VS09TWxTA8f8+D1ptiy1QHpUago8Y5BoFND6iKDEaJyYmJkYnfgGd+CGc+AGcOTImDu7AO7n3+oqPxEg0BA0RoSogCtRqLaW0Pe05Zzs47ZW2xyozc+Oa9az8zlq7e+19hGS1oaxa/CarDq3yZypl2gLA1nwB30+R4YfJggpQCPb09YsfkZnnOev+yGJRATD9sVS43VOHSNMs3ru8oGcNq5QQsfSGfRvqEGNkbPrZhF2RGr9mnXVtTUoppUxeGnCwEN5we1s41ABwwZQuUa4yOmE6VQO7TgVtY/qvURNstxrlxqz5JcDr87dEjp7TYXJ29rOJXo94dICeve2dPVEdiOyYGl5yBWWSimUBokeirVFnhZrmvillIsf+jgO0/BFxerHisbdGffLidgKaN+9e73WeFr/MxM26hPcTGYic2F0SZJNzi98TpUneeSQMUubSVpnkANyvEg1A7DVfJ8i8Xmf0tgAwP5n99j53Eu5dCx/vjUQvHgZg+MYHAMX1X3PW4mlrUq3szMyr0wDL8cfjgLe76/tVQERDnwDnrS+uPgHYeH7ItbPy7u8rTBlCNkdgafbO7TlQAz37u+tV8R3vX8irtncbTF+/88ECz+btTWo9ooZDnUVFKn5IPJo0AZrbAz84yNo6AKzUm1dpQASjrQ1Oxv5vf4RSQUpRuPLvIkDv4MleZxbyN8cSJXPgrFJNpLX88vo4qqb7Bw71+TJ5A4XYjQfJUj5/pqaKNffnP+8gtKWrs3vNZHbu2SiCzFSqnBfUkHTs7i1A961R4x+L6fmnUxVNq/5asjA2D7D8ZtwQSLuYq1xnsEnUkHw6B5BPZKpmuDGiYzfv3FNLVF0DKBSrp37rUKMwNh0L1hJpO0fxm2jduKXJlGzbvlaYLc7BqCRCbXAG0etVFaDg6R8c6jJsAo0rBqGCNDR2JBUFU+sb6PBJia2GO9b77aqzVkH8XXvaVJWCfnBwxQVefQLEypUay0t5IbBFMOR+UdaSn4tf9ov8fyJfAfOPHktRlVF+AAAAAElFTkSuQmCC\"/>\n",
              "            <a href=\"#!\">\n",
              "                <span class=\"ipyplot-img-close\"/>\n",
              "            </a>\n",
              "            <a href=\"#ipyplot-content-div-AY2u6fWyjwES4NZCAPLN7Y-HGyvqbRjDTVSXWRF2BZDpx\">\n",
              "                <span class=\"ipyplot-img-expand\"/>\n",
              "            </a>\n",
              "        </div>\n",
              "    </div>\n",
              "    \n",
              "    <div class=\"ipyplot-placeholder-div-AY2u6fWyjwES4NZCAPLN7Y\">\n",
              "        <div id=\"ipyplot-content-div-AY2u6fWyjwES4NZCAPLN7Y-5x7PGLfJ6zyudca36j5Lj9\" class=\"ipyplot-content-div-AY2u6fWyjwES4NZCAPLN7Y\">\n",
              "            <h4 style=\"font-size: 12px; word-wrap: break-word;\">6</h4>\n",
              "            <img src=\"data:image/png;base64,iVBORw0KGgoAAAANSUhEUgAAADIAAAAyCAAAAAA7VNdtAAADAElEQVR4nL2WzU8TQRTA3+xuPygtlBbSaPnGggIpKLFiiRIFAifiQY2JRv8B49V/wYMxHrx4MeHiSaNyEOLBoGA4KISEgGIFBNJiBWxpad222xkP3W53d6YCHnynN/PmN+/Nm7fzFhE4rHCHJv4FEfQTkT0eAYBU6jgQQggk58IGBADpyq7yIhFokOlRggO7HAAALqnrvbYvkomPP8JCXBlvNjdZeRZDFPl8t0NjqfTf/5EltChexOWxFysaZHubc/bV/MXLl2GXEelslsZnDC/5rMy/nAqn9ZWQXPkYSFJOZGTv6ZM9RghoZnyHmhQAAKSJibHVDCvqxape6jQCAJDYq8cKwPMcwVksj0JfaecCAMQCGwUXXb726OwnJXeJLBNJbspbGa2W6qF+/7ppI4+4O2zss2A5VbVDPS3OCiQpyeZu3aAvRlUwlQ3nB7ttACBBPtuo9QRFqBC+53ab3QQAAIX7oW9FzpgUh6oW77luq96KcREE8Tx0Xb5UQX8fnL6E8kiZ984VT5uzsFDIr7QZiyClHo9m7veWmFNM9eVFEL0EnwdzSsMFVu3TSHLzw4KsOj32AyGBe5N5FWdYGaOzFJ8N5tXsARGhXMksYiaZRsRC7db5nJSZPguRIqJSL009GhMBhBgIjmztKgPNRSZm3rp6a2w0Is4vxAqrkogAACIpEdLL4yMdNQ4GEh15r1Qvtz5hSAOAAU9NA0783EmnMCOw1NxaYfBtVEbeLQJArn5pBJlV51pczQUGidyEwWqkELw0GVUfTFQbrb6hWjOA+hknhIgPTpdCMTn5JpbF6mc8J4moxF5vr68+K782OsRkYXYUwdzpP9Uut0IdkkmxChEuXne7nHaBiZQ5gqJuObKVmIdvql1qzLx37XtcS4Chz9/q1USpMXPHfK9D6nHzUXANnjmu3UTboTJL/QWTzeB4GAqF4+kivVJ26r5aH04SAADsaCQlA0eAEqRvdvjXfJQQBERyd1pyH8h+CEBEBIKAYBvrEWMj+8n/+bn6A7fZVwDhvOeMAAAAAElFTkSuQmCC\"/>\n",
              "            <a href=\"#!\">\n",
              "                <span class=\"ipyplot-img-close\"/>\n",
              "            </a>\n",
              "            <a href=\"#ipyplot-content-div-AY2u6fWyjwES4NZCAPLN7Y-5x7PGLfJ6zyudca36j5Lj9\">\n",
              "                <span class=\"ipyplot-img-expand\"/>\n",
              "            </a>\n",
              "        </div>\n",
              "    </div>\n",
              "    \n",
              "    <div class=\"ipyplot-placeholder-div-AY2u6fWyjwES4NZCAPLN7Y\">\n",
              "        <div id=\"ipyplot-content-div-AY2u6fWyjwES4NZCAPLN7Y-JcTUHjct9HrWkjKXtUVbvF\" class=\"ipyplot-content-div-AY2u6fWyjwES4NZCAPLN7Y\">\n",
              "            <h4 style=\"font-size: 12px; word-wrap: break-word;\">7</h4>\n",
              "            <img src=\"data:image/png;base64,iVBORw0KGgoAAAANSUhEUgAAADIAAAAyCAAAAAA7VNdtAAADTklEQVR4nM2WyU8TURzHv+/N0oW2lK2UFhSQTSMBRY0xUdSocQkXb3r1//Ks3jTxYFwQBeNGLKUYg1GEigWFVqbLTKcz8zx0WqfUtuPF+E4vL79Pftv398sjDH976F8T/wjhf1/LWRG7SCabNwjAqOhz20J06WNC0inAuKb+EbGeIxPRf0bvLm4ZBGC8/wy3z2UD2Vx8tqgV75T5tWFnbT8lJL68bhIwoooi9jsbIUxOy4DPnVQBpGIenB9y1ap/KX1O4IHuvmgcAHLPN71tQbEBAgDoOBaMRgoAU+Pb+ZrisyCE6zky3p38ogPQdL1RLmBECIyeHOM65KevAYsU6iDgXUO9AcGnkcQPBaROL8uBEaKmUpkW15ghzcbqDlGpkszQdj6vbinENzjUVg+wiJ9p0vvlhAwYjebUDIx4AntFpwuUpVeWN20hXPtQ5rtrpMWhbyy8Wa3vx0T4Htdgjg90iYaS2pBteaFtbcMAwLJf1yVWty2VggHyy7dmcwBkVbcjGABIf361AqCps8Ndc5HsQlKbGgCMnDseEmwhmcT0nAQArYMhRy2iEok/vjWvAgC1pTEA+HR/SQEAvslTM6zK1cdiMzIACMFwu3UkmVk807UF+TH9otjEgXMXDngsyNKjrANMDR/t8RIrosuROxHCADF4YupwUcwFRdWIkXly86cbRn7M3+Kt8JJ6+ODlNgMQvnZ+wlt8W3kaTVBSWPtU4MCMjqxWGVh64d03AGLP2Yvda+ksAB7zjyPfCIUOFABkVKMSURSNGoD/xqXQ29uxZPEto4CV90apCiaibUQ+JBkA6k3Nv5qOV5eWhg/3eq2IGp2Z32YA8gvv7klaNQH/5JXxFmJBmJJVGADkXua3rJacYKgAEJ6YOtpc0RciOIr9zscAgJQE4/G35r8oBN6Jy6cDqMgFumqdRaG92ckYdL53/6Hk7XWnELp6qrx3Sl6c/q4UgZErQHBTtqc/7DMYdH7g4LHtndUmR2iyF7sQrmuCSByXnltD8KRPHTjQ52MAIy4Pbb2ucFS07LYS0jneKfN0x7FI919qLoT2BMoWXPeu2hGzP7quMQJlKU7Cow5wPFdV5SrEPDsS8fhrW/8JAWv0UahGbJz/9qf0CzkqRTRc4lVHAAAAAElFTkSuQmCC\"/>\n",
              "            <a href=\"#!\">\n",
              "                <span class=\"ipyplot-img-close\"/>\n",
              "            </a>\n",
              "            <a href=\"#ipyplot-content-div-AY2u6fWyjwES4NZCAPLN7Y-JcTUHjct9HrWkjKXtUVbvF\">\n",
              "                <span class=\"ipyplot-img-expand\"/>\n",
              "            </a>\n",
              "        </div>\n",
              "    </div>\n",
              "    \n",
              "    <div class=\"ipyplot-placeholder-div-AY2u6fWyjwES4NZCAPLN7Y\">\n",
              "        <div id=\"ipyplot-content-div-AY2u6fWyjwES4NZCAPLN7Y-YjyFDDNK7QgCm6i6bMMmCd\" class=\"ipyplot-content-div-AY2u6fWyjwES4NZCAPLN7Y\">\n",
              "            <h4 style=\"font-size: 12px; word-wrap: break-word;\">8</h4>\n",
              "            <img src=\"data:image/png;base64,iVBORw0KGgoAAAANSUhEUgAAADIAAAAyCAAAAAA7VNdtAAADXElEQVR4nM3W208cVRzA8e+Z3R2GJbuS3cKWFraUS4rVEhOChhqUKKHYBo19MPXJFx/8y0yMiaI2XoBAq2nN2hZsA1Lk4kJ2EbvsjYW9DDNzfOAiu7M7lhfjeTtzfp+Z+f3OmTNHSE7blFOL/4i4q1+WEoE4FdmKJC9canteYuR1K/H0y3hvYtAjFNVrixC2IsfG51O7uehuIHRWuAIvvRf+t6fomcg3c0kLyKyBEox2vOCrKFFlxZLffT6bso56VurXO49LOJP0T5FtE1DqVAUwk08WCo5EFuKPNgBEc/vFZgGwNv+nLM+3PBd9enzDAho6R7pZnljdw9y6r40M1dUmpakvsiCUzuGPXmbeYsGSu4/XrQEHYqbSEnw9N97pgI5bgYnFBDKdNB1eTOoS4em6NtoPePv1xFYC2HfKBQFa2/CHh0vFf7bh8KIzcTVefPGwp/nUKqTK4hfyaCpF1bVcMS8lyBeNw8ji0r0tAN0pF6GCprqkADC2f/4qD+ARDkS7HkILvXIQYmxu7gGBweE6JzIygNvjE4Dc35iLATSNvaU5ECXQiBAKwN7czLdrAPWhgOJATnQLv0xGQNQFe1vqa8VUNH1+RUhcre9f63Q7pX/crHhkMQmozQN9jRVjNcjOxNfLhgRfywV/5Vg1Uohn1yceZiVogzfDtvVRhcj1Hzei9zeBuo6xD1y2cTspzE5PpXaeAfR9/KZd2IjU177/4QGAy62+fqsewCiWLE07rlslMRcmb68CKE3tPVcPpj12dzY99EarVp0U16cmF/YB5cyrV7oDv2WyKO6n0w9SWf16uDqJTn22ZACi/tLNy/n41L0VhCjt5c2ZWHebsJH9zM723TuLBSAYajwXyyTXl54c7Xu5lZ0q6admV5ZmfjcB2q4EM5/GdNM63mrxeWzESEfGV5/9YQCQWPTmovnDkVa/ItDDfhvZ33p4O3HUiccB4RICOPPaeY8i8+eabMQq5bLlpdCuhhuFaQX7QqqQhve8bV5k2Yv73EJ23ehpUgzT395QfqtjIhQONhKB5O2xoCp9rX4Niav8Mz5B3IGu3nje8F1uoqi+Oxqs+e39Q9TwUP5RdKf7k34kXq/DeeDE7zW3vPZXoWU0WDvYRpCSWptqLfKc7X97Uvobbt9EdQYCxKAAAAAASUVORK5CYII=\"/>\n",
              "            <a href=\"#!\">\n",
              "                <span class=\"ipyplot-img-close\"/>\n",
              "            </a>\n",
              "            <a href=\"#ipyplot-content-div-AY2u6fWyjwES4NZCAPLN7Y-YjyFDDNK7QgCm6i6bMMmCd\">\n",
              "                <span class=\"ipyplot-img-expand\"/>\n",
              "            </a>\n",
              "        </div>\n",
              "    </div>\n",
              "    \n",
              "    <div class=\"ipyplot-placeholder-div-AY2u6fWyjwES4NZCAPLN7Y\">\n",
              "        <div id=\"ipyplot-content-div-AY2u6fWyjwES4NZCAPLN7Y-JoQg9AbgAPAKCTHHH76mgy\" class=\"ipyplot-content-div-AY2u6fWyjwES4NZCAPLN7Y\">\n",
              "            <h4 style=\"font-size: 12px; word-wrap: break-word;\">9</h4>\n",
              "            <img src=\"data:image/png;base64,iVBORw0KGgoAAAANSUhEUgAAADIAAAAyCAAAAAA7VNdtAAADL0lEQVR4nL2Wz08TQRTHvzM7W7Y0QLG2EiiIVgLYqAgYERMJQQ/+OKgHozHx5L+gV008GM968Wo8aLz6IxoTo1FQsKIWo9KIlaRoqWKFtralu+Nhy7o/hgY8+JJNXt7MJ+/73mTmLeFYrdFVE/+CsJVtW/ySogSq1NJgQTg4AJDyZ7H8ywiTUHDttyC/vyV+pGe0trWUKp01NqQYve+SkVPCJmFa+sPHj4lkTOsNMsmT3uZWXBaGMpmBMQqA6E3WssNX4pl8Icu9CiGsPjg0sMWSJZYkFCoNNRtZ1NTEoywAIAUAeLmwkGxt/avaFQ4bfjla+jwtW4Q8j1YfPOe3d0HXWC4ll7PGs7PxsXfpSghhzNHY9JNYJQSca/al5N1xIbJUIaESIUwCBwHXVBXArxf9lRAiMZc7OLCLLoIim3gYAQA4EpsRWh/qy7UdGQIAZKJTEYsEISJ3NO7V3P6llI5WiLLU1DQZsVKuWHaEiOi+ZJMZ3alYi9mK0dtxAPBv7REr43bLT56VCQDsuJlwLHLOuTPL9OXHiwAApWnNyoTxqes/da/KIwkRe/k8O6uWXc+6iudiWC7yqpxjU493meOx1RY/sU6Xs+FGQhVWby8/82k8CQDYuG+gQZzDJkybihT08OFjtcsQNmTx6b05AGjvGuxUlkOstSSP68GTD2ZK4kI455YmZ+L6+4JA+1rxmQC2c5kengMAkLo1snC3s5bhqwkAgFJbvTxhRkqZiQ8AAF9vW6UZYkLm337VnZ1nuioQZqSQ0p9YtOyxJkmO5+Wid7vXiWhqeW7ar/7Ixe816fAlAYKlSTt2nqpGkACvo78BnhUIM2bX6KhdPiFUMVKbhZXEzwOAulCg0ydAXB7xlVJk1r07GBIhvlaPEAk3+wf7q9zGIgOQSmiUU9nb2P9pct66vTYQaOgO+rqCphjhwJ1rRUV1+QYO5UcuPLMi/Qf2N1VJksssmQGYe5+vVpXAZlbbdyo0+VNfJhLnTaEtvd0OoQyA219wq1X1bpXWnT56a9JNAHBJ1vjuISJ4MQgHYm9UpjFlfQcFEPvBCABOKUeLzwkYc3819n9+rv4ANbNgQyvXKfwAAAAASUVORK5CYII=\"/>\n",
              "            <a href=\"#!\">\n",
              "                <span class=\"ipyplot-img-close\"/>\n",
              "            </a>\n",
              "            <a href=\"#ipyplot-content-div-AY2u6fWyjwES4NZCAPLN7Y-JoQg9AbgAPAKCTHHH76mgy\">\n",
              "                <span class=\"ipyplot-img-expand\"/>\n",
              "            </a>\n",
              "        </div>\n",
              "    </div>\n",
              "    \n",
              "    <div class=\"ipyplot-placeholder-div-AY2u6fWyjwES4NZCAPLN7Y\">\n",
              "        <div id=\"ipyplot-content-div-AY2u6fWyjwES4NZCAPLN7Y-8PyXtXXv5W8362NmwDdiEf\" class=\"ipyplot-content-div-AY2u6fWyjwES4NZCAPLN7Y\">\n",
              "            <h4 style=\"font-size: 12px; word-wrap: break-word;\">10</h4>\n",
              "            <img src=\"data:image/png;base64,iVBORw0KGgoAAAANSUhEUgAAADIAAAAyCAAAAAA7VNdtAAADpElEQVR4nM2WW28bRRTH/7O+7CV2jFviurHThNRJExo3CkkLNKloH1KkSuUBgcQjEl8B8T3ghZeqEvAEQgKpCYUqFVClQnFTt2lKqCFqEtdx0jgX2+u1d707Ozzs2m59g74gztPO+es358ycMztDGF7UuBcm/iPEWe8w7cWRlpPVI/qnf1lA9EPxnxFTK6rc2pWENXr91RGvizRDSG2T5Ts3YqR4X7VG3uGzH0WEtlH07PLszJ81QY7tDgiRtkhu7se53eek3W8PtUcKv99PA4Df53GYhrJdhvLgB1803AbJJg84ExBGhntEvfjk5hPQ/Wtrn7RGjK2llX0GiAOXx/0uWk6r8091lt0qtk7MSK6sKYCz79ylkwAgH6i39uFyN6unjRCBBwDunff7AADeC1IqazI0K0wlynaGAULv+XHb30sCBIyZrZHCN3MyMPR2T1XQGYFJNdYYx062/ChtAD3nAlWBEABKcl1rhYAHgK6hl54RCGH7SwvZVok5gwGxK3Sh22W7aWoxYwKmXm486DbCj8j8icnRar/rSz+lKCB2BflWiHQpPL/yVPV77ERJMacBDt/QkNQKESa6YvHtjjc7bLehFCnAefqONRC1s2/qZVOvJl5KrmsA1WgjUWtL0xt0HKqMNhcepHVAOOxuh4iDhXyEtws38/mGTIHARLAd4hkLqIOiheQeLgHwhKemQ+0Q78QYczoJACiJHQAIfXBxzNUOIS5bpnuL15cBwDd8vP3vomq5e999LQPgXg42JZogiStxGYC7/1R/YxmbIGYxfWu2BACdZ04fsUSD0pIKjhfszalD8vGrsRIAwD89aWtbmZ1fFyCNTr0lNSI0v3h9JgcAwvHpySMoHxR1kl9Obd1MAI+5M02QbPzLGzIAIPzxu53A5s+JXVd+dacgA3h8T2tcixL7/vYOgMMDRyPdG0mFS9zZOHCqmTIAQMvSBqS0eu0rDQBeeW9cWrh6d89dVg0KVHrVTeoQfe/u7C8lAB0h1/w6t/IohTqr9HkVKf0x80UJAMRw5jfbR6x5XTxhmsH5HXVI7nbc2t1CQqn4+KOcCdPsPeVRHsrR8576KKtp63pSNwHAIzIgEuVMUHriDV/+WO5sVKpfvtPxzI2GqddgsNHTBGBM8jloxPB11CcGqlt/U2lUZBAvjzED/d1VtbM2WxVh1LA+Bj8LmeAkgTXr2ecQ/8WePQYAJ8eb3sM1q+Vv2jVr/UZoQP61/W9fSn8Dktti63SyFwYAAAAASUVORK5CYII=\"/>\n",
              "            <a href=\"#!\">\n",
              "                <span class=\"ipyplot-img-close\"/>\n",
              "            </a>\n",
              "            <a href=\"#ipyplot-content-div-AY2u6fWyjwES4NZCAPLN7Y-8PyXtXXv5W8362NmwDdiEf\">\n",
              "                <span class=\"ipyplot-img-expand\"/>\n",
              "            </a>\n",
              "        </div>\n",
              "    </div>\n",
              "    \n",
              "    <div class=\"ipyplot-placeholder-div-AY2u6fWyjwES4NZCAPLN7Y\">\n",
              "        <div id=\"ipyplot-content-div-AY2u6fWyjwES4NZCAPLN7Y-J9gVPnBMTyGqPVaVLSjnZF\" class=\"ipyplot-content-div-AY2u6fWyjwES4NZCAPLN7Y\">\n",
              "            <h4 style=\"font-size: 12px; word-wrap: break-word;\">11</h4>\n",
              "            <img src=\"data:image/png;base64,iVBORw0KGgoAAAANSUhEUgAAADIAAAAyCAAAAAA7VNdtAAADXUlEQVR4nM2Wy28bVRSHvzsPYydxmoydODENaaEkceOWhBQqFSJKF5VAKAs2lZCQeGzYsESIP4INLHkIiU26pQogSmgRLEKgFEQeTpqYpsZObTfjpM7DzthzWThJHXc6cTeIs7rnzHzzO+eeM1dXSB7WlIcm/iNEq3ak3KtMCEQ9yLUfUluVld5/IhI4GLHM8U8Xdp3TZ3N9Ya/qhIh7mxwf/fq34q7jDxhDrw6GXFW2EuOXpouA4lesopXP31zWeK7BQWcPSXz4Y6IA0HzKk13KANmL0ug95IJs/DUHIthu9D1biuUzQMmMLYTdEADUyPND0SO5idkYAKvz0cP3I/daKQG98/jgE57Q02+93wOQvLzkVj4CUJuDhgpdF0ZSi7Ykm005IPtVyiW70nPfmeGm3eCDEQGUzPQmAIXuXi+gOI1gjcrN6ZWKVyzagG271dJy1p7dIDWzYiuAmogXQW3yuql0vfdur18151dLEpB/Tm6Cr6fVTUUzhm9/f+1OftsG/r4+VQC6XnBoS3UrH3tTTd7RhAAmvlgAePzFLrfEQATaD2mqogrW4nN3ARSv7q4Cwb6tYDPk/pg3LVB9AY/Tn7kPGWzPeXs0fv44tgm0j7wcaXRAkDW29OuVdwD08IVvs7UPpZRSajVfyI1eTaQBjLfP9/udNGqGn7mr30xWRiYwNORzJGqR0c8zld/fE27VpfOxtA+Znrx8C4DoQEukuzZnB0Sa330WB0A883pba9sDiGokNja2WACUzm59JtLqqQNZuDhTABBNnbfTmXyxEUDz34dWIavxyulqJ++WmRs3dCmFPPrGSRekYO7UtL4OmZ3gkUC+o/mRRtUZcdzS5EeXXuoNRav3oupM/unLDd1emTI1EFIWC7vx091tx45Hw05I2ZJye/qTqUaBkGXzhrXzhqL59Cc/eMUpMVWFhpOvLXsEUE5fX1ML5o0cslwuYv1T8DogAPjP7yxWBta0fPyr320JsLkYO9agOCN7ZgxsK9aJrc15C8Aay4wMHdbcEWEAj6bX5a2SVUbOLgfbOg5AKnYqZEyklrNAKZkqHZBYxVpa1kPLv1zZBr0tqNaFwGD/dsdMAgLnznjrRLxehldSZY4+1bATEXVce6SUIMTuQNWD1Nj/9qb0L9IWU1DKAfJFAAAAAElFTkSuQmCC\"/>\n",
              "            <a href=\"#!\">\n",
              "                <span class=\"ipyplot-img-close\"/>\n",
              "            </a>\n",
              "            <a href=\"#ipyplot-content-div-AY2u6fWyjwES4NZCAPLN7Y-J9gVPnBMTyGqPVaVLSjnZF\">\n",
              "                <span class=\"ipyplot-img-expand\"/>\n",
              "            </a>\n",
              "        </div>\n",
              "    </div>\n",
              "    \n",
              "    <div class=\"ipyplot-placeholder-div-AY2u6fWyjwES4NZCAPLN7Y\">\n",
              "        <div id=\"ipyplot-content-div-AY2u6fWyjwES4NZCAPLN7Y-GpHpTRUWwDKD4GzHUDTnab\" class=\"ipyplot-content-div-AY2u6fWyjwES4NZCAPLN7Y\">\n",
              "            <h4 style=\"font-size: 12px; word-wrap: break-word;\">12</h4>\n",
              "            <img src=\"data:image/png;base64,iVBORw0KGgoAAAANSUhEUgAAADIAAAAyCAAAAAA7VNdtAAADUElEQVR4nO3VXVMbVRjA8f85u0uWLBBSQAoGWtop4KhVsEZhLDpOX8aRcRzHG73zI/gl+i0cR2/seNWOto7QQcepfVM6gE4NGN7SloYmJU0IIdlN9nhBCAkzScqN44XnZs/uPr999tnd56xQHHTIA4v/yYGHvjfNRB0JKAyvz3w2svhVvAFwVfvA6RPPQjJ/TUwmdECp1pDe0q7VJytfTi3md6YPQlbrSEc9kpu79suyvXuwcDufeaPbU5tsT15ayAFCoBQs3de0M3WIeW8+B+D35zc3AOemP+ivSeLz8ynA4x/ucSJ3U3lYnc/WrMX94mIY4Nh75/vUtHn3kRKyzhNTczNAc9eZ8aAFvy+vgdRETYIJ0Pvx+WEDjA5f1QTA7jfW2a7DZiRlSDg0NtJWNUOJiP6hJohcuv5YgW80+JxUNZYEHUCMiOWnkEjllSAZmo7XXEN2sgyMD5oSXICn12/FXFHj1oqv0vpQ+zkpJAp00wAcu2qmItFOZxc2FYBKP04LJVr8ejVS7Er9SPAFS9lKYv/9458KbeCkt04W4TnyltgYNAVPlpa2QA2NNtUh0HR2yOlpIR9etgEjOGbUJWZfgBYZnblyexv6X3+loTxKRSNPCj2v7iPSApW7dflKDAh+dqwUjVKszv66YI883yYrCMDlq0uLcdAOBQKlSmLTUylSsYeJwqOls5/KSpIJffsNAJ7ubh+Oq4STLWzNXv262ODxOT7Zl2X2wm87k8bAQGf24UZBhqYjidR6aUlAVNbibtyZsAFDlx1tW+GVcNSR9+482LuiBlYl2Zy6KQHhb24MeH/6bm0t7ojcdplo1qVflJFCYu6HmTxYHt0tJOxkLJna/ca0/lwkD9rg8cMj5SQ39/1E1EX4rURau59z1V7DdH+0fjEN1uj4sFVOMpPX1l0gbSdzohT94jsNjgq8e0NBQ9+pk8UGL5LsjT8AVFIqicA0NUmWc59b225za/zoatPhN19qo4K4WztbpXU0FvLaa6e6LJVnsFtzlcbQhbTh7TxKJdF7VgQgvB0nfAXbGHu7t3heAl0fUD52u/L944bA1ayul1uVK1qrLa4AxVrtcMwQuJqnrbdGcAVRjruzq1Xt3/3kIOM/+9//d8g/mpY/hJdAIqYAAAAASUVORK5CYII=\"/>\n",
              "            <a href=\"#!\">\n",
              "                <span class=\"ipyplot-img-close\"/>\n",
              "            </a>\n",
              "            <a href=\"#ipyplot-content-div-AY2u6fWyjwES4NZCAPLN7Y-GpHpTRUWwDKD4GzHUDTnab\">\n",
              "                <span class=\"ipyplot-img-expand\"/>\n",
              "            </a>\n",
              "        </div>\n",
              "    </div>\n",
              "    \n",
              "    <div class=\"ipyplot-placeholder-div-AY2u6fWyjwES4NZCAPLN7Y\">\n",
              "        <div id=\"ipyplot-content-div-AY2u6fWyjwES4NZCAPLN7Y-kEFhphp2HBJJqhQGQNw7no\" class=\"ipyplot-content-div-AY2u6fWyjwES4NZCAPLN7Y\">\n",
              "            <h4 style=\"font-size: 12px; word-wrap: break-word;\">13</h4>\n",
              "            <img src=\"data:image/png;base64,iVBORw0KGgoAAAANSUhEUgAAADIAAAAyCAAAAAA7VNdtAAADKklEQVR4nM2Wy08TURTGv9uZaacFWkoptKXIQ2wQgvKGgFFWLlhAWOCOjRvi0j/GlTEuXeiCkBgNisiKBPFBERAICkKAUiqPvmc6c13Qx5SZlrIx3tWde85v7vnOPfdBKK7adFcm/hHCKj+ydJGCkL3t5KxUp7fW5GIUiHg0v0DPv2XGWMeXs5cie68+rCbDoTq2Cf3uSxBxf+b1l9OM4cwauVVp12tER1KS956+WwrJGYPBXmobeuDQCC45JP6ae78YUhriu7ucJyyridS6xKZffA9ftCWOA7HcWuSzPxEKAM6BakE8ndsEAOp9Nt6dEwGjZwWAtfU86gjHdvU+gYgy1jc7O3SqBGTLs40NtZhMknm8f+7zjyggeeebLHkRZ+9IHwDG0t1tCe9EAWZpxqFCsspy4HFLskdtLgshkJem/CotWYi7rSTZk13NDp6Anu1E8yNCOs9MXe+1EgLAoN4dyREqRCJATE6XP2c1sYDmFkgihON5QFlRMVFr5YF0xvi7jgMRXSUphsZ8IREAJPVxkkQMPT1UGYTs3ziKU4Bwai2ZdcmKmmwsbMcoiKlcnwdRNunE+9WfANDYZy0QCS4vrMQB0OGHtoIQGp1/sxiggKWmo0pt1kIS+5PPBQrg+nC1hlkLkY/3IgCA8k5nYQj1/wwDACHuBrNyWUguRNqYnlwGANf9UQ98vpAOAGTOXGbPgcR3ZienALDGxnv1wcP11SOGAJAMlZ72YkYLkb0zE2sA4Bqs2jpkfFvrpwQAKFvaSZsriBqJ7nx8+ykB6PSlNvFbUDw5OshIaXVXaMyyOT2xKAHgysls8LdAJUnxu7OISkt0zbuyuBIGABoP7IfOPVBWaWNkgDQ4jRcRGnz5JKaLAwBJBNLZLWrtbTMKoLLZbScXZ5GOU8c4TQEDnRJ/w1PLSaCUNfKqwMClhBaZQAFErKNjgmzgszeAxsXHSMaRQUaiQMLQUQJVy0IIQPTFFbx9ZETtqYVQEMBY29R+s16j5LVnYd23o66ulmZPcT5CiRC+XRd33nFwXG53QHHxAVT0BxLmhvz+2ch5xnK+ELSRwtp/+1L6C6iEHMQyRnYcAAAAAElFTkSuQmCC\"/>\n",
              "            <a href=\"#!\">\n",
              "                <span class=\"ipyplot-img-close\"/>\n",
              "            </a>\n",
              "            <a href=\"#ipyplot-content-div-AY2u6fWyjwES4NZCAPLN7Y-kEFhphp2HBJJqhQGQNw7no\">\n",
              "                <span class=\"ipyplot-img-expand\"/>\n",
              "            </a>\n",
              "        </div>\n",
              "    </div>\n",
              "    \n",
              "    <div class=\"ipyplot-placeholder-div-AY2u6fWyjwES4NZCAPLN7Y\">\n",
              "        <div id=\"ipyplot-content-div-AY2u6fWyjwES4NZCAPLN7Y-oFn6oed7j4wibXLL76JCvB\" class=\"ipyplot-content-div-AY2u6fWyjwES4NZCAPLN7Y\">\n",
              "            <h4 style=\"font-size: 12px; word-wrap: break-word;\">14</h4>\n",
              "            <img src=\"data:image/png;base64,iVBORw0KGgoAAAANSUhEUgAAADIAAAAyCAAAAAA7VNdtAAADUUlEQVR4nL2Wy08TURTGv3uZTksLpbSVQmnQoIiviBhFrYr4Qo2Jj8SYaHTjwoU7Y1z4PxhduNTowsSFiZGY+IiyUOKLREkgKmDiA62gFGhLH9N2pnNdzAht762iC89mZs7J757vzD3nzhCGvzX618S/IFLhYzatjPQly3Jyw/yAh/wRYXoyOh2N9FyblDR7cHNbc50s1EBmy++/ksxk05nQIAB4ArVux7aDNhHDGGOM5eIT4Qtc7MQUE5gpLNXVpwxwiMXym1oyfXdj01zwW/cGH4+YBTIlFklzwSenu0tnQS6b5YPx+G3bJi7PzGukZYIFcefsYClhDi2d32x2r9W4Ucf55AaijkZSOgAQSimltLG12ow7JQ4xPDe6XhlJ3E4wqPLhlvPfRTpnEKZ0dwEURLesWMwYMuV7ll834zl+OCQA6U9JoMxmkZLVB/YygFF/+lcJcU2I5KIKIC1t8ChVW5oMt6Ib10UtNeJaqA5U7tq5hNIK023KoUdOihFL3f4FqOlscc54h599M0h/QFA/Y4zpOU3L6XnNenVjlbHgpVKdTIrmL6ukNAAg1RXgTTh3qgYCAPZG91wRx+SnNAD4gn5BlO8HLREbHYwCkCvXttfNCYk+e/h4DAB82/d1OOaEjN1/9BEA4O1sc4lk88jIA2NPMG9jrYgQIKmIBgBSdaNHOHUcooXDMgCgfOVKIcAj05cfJgAA9kNbrSWYwmZQB1YBAIht/ZDo2Ms7+kzTv76OG8lX73KVyFEkjCXCRttbg7ur8iuMT2dkpla4ZcrVYrUbZ6oj2JbvDve9HPWxcOsev60Y0ftfxAAAmV5pns2cTKpEhgbeTLip6krqnDDt/k1j1mMXr3fUZgxC+jEcmtJZyBoggloQV82isqNPnQZNaHw8DQApm6fGwiP22U/Ul4IAIcTbvLCGcAixSyqE5vTaWo8tI7wwumTNW/4zA8iO1ib7mh1mzxVsrB66ExTlaDp66/2HceHuk3rXO0/y4+cCX4PPv3h1u3fWU9RAucj3kXMFy7jP3BuZTGilegygLmDvVEphybHQJNC8rLK+c5WrUIrgt4fpExP6WG/P85R86nigylJ0zIkQAFmWCH3+kpXWtZRzsRLI7+z//Fz9BFTQp1BI2mXSAAAAAElFTkSuQmCC\"/>\n",
              "            <a href=\"#!\">\n",
              "                <span class=\"ipyplot-img-close\"/>\n",
              "            </a>\n",
              "            <a href=\"#ipyplot-content-div-AY2u6fWyjwES4NZCAPLN7Y-oFn6oed7j4wibXLL76JCvB\">\n",
              "                <span class=\"ipyplot-img-expand\"/>\n",
              "            </a>\n",
              "        </div>\n",
              "    </div>\n",
              "    </div></div></div>"
            ],
            "text/plain": [
              "<IPython.core.display.HTML object>"
            ]
          },
          "metadata": {}
        }
      ]
    },
    {
      "cell_type": "code",
      "source": [
        "# save data \n",
        "\n",
        "import pickle\n",
        "dataset = [\"train\",\"test\",\"validate\"]\n",
        "name = dataset[1] # select name for data files \n",
        "pickle_out = open(\"x_\"+name+\".pickle\",\"wb\")\n",
        "pickle.dump(X, pickle_out)\n",
        "pickle_out.close()\n",
        "\n",
        "pickle_out = open(\"y_\"+name+\".pickle\",\"wb\")\n",
        "pickle.dump(y, pickle_out)\n",
        "pickle_out.close()\n",
        "files.download(\"x_\"+name+\".pickle\")\n",
        "files.download(\"y_\"+name+\".pickle\")"
      ],
      "metadata": {
        "id": "WgAolaEUgl3u"
      },
      "execution_count": null,
      "outputs": []
    },
    {
      "cell_type": "markdown",
      "source": [
        "# Mounting drive, reading and writing into drive"
      ],
      "metadata": {
        "id": "zyU5pctr5X-x"
      }
    },
    {
      "cell_type": "code",
      "execution_count": null,
      "metadata": {
        "id": "RDfNxkSxM9JL"
      },
      "outputs": [],
      "source": [
        "from google.colab import drive\n",
        "drive.mount('/content/gdrive')"
      ]
    },
    {
      "cell_type": "code",
      "source": [
        "from google.colab.patches import cv2_imshow\n",
        "import cv2\n",
        "img = cv2.imread('/content/gdrive/MyDrive/16317084377552879449875469890841.jpg')\n",
        "cv2_imshow(img)\n",
        "cv2.imwrite('/content/gdrive/MyDrive/temp_5_2_2022.jpg',img)"
      ],
      "metadata": {
        "id": "sXp0k2YC4pgZ"
      },
      "execution_count": null,
      "outputs": []
    },
    {
      "cell_type": "markdown",
      "source": [
        "# Encrypt PDF "
      ],
      "metadata": {
        "id": "Eo0CU0dD5mcd"
      }
    },
    {
      "cell_type": "code",
      "source": [
        "# https://stackoverflow.com/questions/43475295/encrypt-pdfs-in-python#:~:text=from%20pikepdf%20import%20Pdf%0Apdf%20%3D%20Pdf.open(path/to/file)%20%20%20%20%0Apdf.save(%27output_filename.pdf%27%2C%20encryption%3Dpikepdf.Encryption(owner%3Dpassword%2C%20user%3Dpassword%2C%20R%3D4))%20%0A%23%20you%20can%20change%20the%20R%20from%204%20to%206%20for%20256%20aes%20encryption%0Apdf.close() \n",
        "# https://pikepdf.readthedocs.io/en/latest/topics/security.html\n",
        "!pip install pikepdf"
      ],
      "metadata": {
        "id": "y80QCRs21v3Y"
      },
      "execution_count": null,
      "outputs": []
    },
    {
      "cell_type": "code",
      "source": [
        "from pikepdf.models.encryption import Permissions\n",
        "from pikepdf import Pdf\n",
        "import pikepdf\n",
        "pdf = Pdf.open('/content/InTech-Preprocessing_for_images_captured_by_cameras.pdf')    \n",
        "# https://pikepdf.readthedocs.io/en/latest/api/models.html#pikepdf.Permissions \n",
        "pdf.save('output_filename.pdf', encryption=pikepdf.Encryption(owner='sanketghodake',user='sanket', R=6,allow=Permissions(accessibility=False, extract=False, modify_annotation=False, modify_assembly=False, modify_form=False, modify_other=False, print_lowres=False, print_highres=False)))\n",
        "\n",
        "pdf.close()"
      ],
      "metadata": {
        "id": "1a3XGev81WAa"
      },
      "execution_count": null,
      "outputs": []
    },
    {
      "cell_type": "markdown",
      "source": [
        "# ipywidget"
      ],
      "metadata": {
        "id": "7HfbGwxrV_Zw"
      }
    },
    {
      "cell_type": "markdown",
      "source": [
        "https://stackoverflow.com/questions/64306088/google-colab-how-to-loop-through-data-filled-in-colab-forms-input \n",
        "\n",
        "https://ipywidgets.readthedocs.io/en/latest/examples/Widget%20List.html  "
      ],
      "metadata": {
        "id": "BuHQ2apsV25q"
      }
    },
    {
      "cell_type": "code",
      "source": [
        "!pip install ipywidgets"
      ],
      "metadata": {
        "id": "4GyrvGBwVHOB"
      },
      "execution_count": null,
      "outputs": []
    },
    {
      "cell_type": "code",
      "source": [
        "import ipywidgets as widgets"
      ],
      "metadata": {
        "id": "oysXtofUVNgD"
      },
      "execution_count": null,
      "outputs": []
    },
    {
      "cell_type": "code",
      "source": [
        "int_range =widgets.IntSlider(\n",
        "    value=7,\n",
        "    min=0,\n",
        "    max=10,\n",
        "    step=1,\n",
        "    description='Test:',\n",
        "    disabled=False,\n",
        "    continuous_update=False,\n",
        "    orientation='horizontal',\n",
        "    readout=True,\n",
        "    readout_format='d'\n",
        ")\n",
        "\n",
        "# int_range = widgets.IntSlider()\n",
        "output2 = widgets.Output()\n",
        "list1 = []\n",
        "\n",
        "display(int_range, output2)\n",
        "\n",
        "def on_value_change(change):\n",
        "   with output2:\n",
        "       list1.append(change['new'])\n",
        "       print(change['new'], list1)\n",
        "\n",
        "int_range.observe(on_value_change, names='value')"
      ],
      "metadata": {
        "id": "jcqApTeGVOvc"
      },
      "execution_count": null,
      "outputs": []
    },
    {
      "cell_type": "markdown",
      "source": [
        "# How to replace elements in a NumPy array if a condition is met in Python"
      ],
      "metadata": {
        "id": "PSL-jyhUTJip"
      }
    },
    {
      "cell_type": "markdown",
      "source": [
        "https://www.kite.com/python/answers/how-to-replace-elements-in-a-numpy-array-if-a-condition-is-met-in-python "
      ],
      "metadata": {
        "id": "ylFynY4RTLKi"
      }
    },
    {
      "cell_type": "code",
      "source": [
        "an_array = np.where(an_array > 20, 0, 1)"
      ],
      "metadata": {
        "id": "3eyI9ncXTPgp"
      },
      "execution_count": null,
      "outputs": []
    },
    {
      "cell_type": "markdown",
      "source": [
        "# plot histogram of color "
      ],
      "metadata": {
        "id": "AxyWQPrXWBDe"
      }
    },
    {
      "cell_type": "markdown",
      "source": [
        "https://docs.opencv.org/4.x/d1/db7/tutorial_py_histogram_begins.html "
      ],
      "metadata": {
        "id": "lLyZcaEJWFNK"
      }
    },
    {
      "cell_type": "code",
      "source": [
        "import numpy as np\n",
        "import cv2 as cv2\n",
        "from matplotlib import pyplot as plt\n",
        "img = cv2.imread('/content/1.jpeg',0)\n",
        "plt.hist(img.ravel(),256,[0,256]); plt.show()"
      ],
      "metadata": {
        "id": "h7yN5VySWES3"
      },
      "execution_count": null,
      "outputs": []
    },
    {
      "cell_type": "markdown",
      "source": [
        "# FindContours support only 8uC1 and 32sC1 images"
      ],
      "metadata": {
        "id": "9nA6XJJAF038"
      }
    },
    {
      "cell_type": "markdown",
      "source": [
        "https://stackoverflow.com/questions/38438646/findcontours-support-only-8uc1-and-32sc1-images/38446031#:~:text=thresh_image%20%3D%20thresh_image.astype(np.uint8) "
      ],
      "metadata": {
        "id": "jbRpy2j3F3h-"
      }
    },
    {
      "cell_type": "code",
      "source": [
        "thresh_image = thresh_image.astype(np.uint8) "
      ],
      "metadata": {
        "id": "TjsHEkZSF7Mv"
      },
      "execution_count": null,
      "outputs": []
    },
    {
      "cell_type": "markdown",
      "source": [
        "# How to draw vertical lines on a given plot in matplotlib"
      ],
      "metadata": {
        "id": "-e_jAypDhtm5"
      }
    },
    {
      "cell_type": "markdown",
      "source": [
        "https://stackoverflow.com/questions/24988448/how-to-draw-vertical-lines-on-a-given-plot-in-matplotlib "
      ],
      "metadata": {
        "id": "nnqpxTA4hurA"
      }
    },
    {
      "cell_type": "code",
      "source": [
        "xcoords = [0.22058956, 0.33088437, 2.20589566]\n",
        "for xc in xcoords:\n",
        "    plt.axvline(x=xc)"
      ],
      "metadata": {
        "id": "CBPn8gFHhxRR"
      },
      "execution_count": null,
      "outputs": []
    },
    {
      "cell_type": "markdown",
      "source": [
        "# Line segmentation into words "
      ],
      "metadata": {
        "id": "XkjNhadWjmC-"
      }
    },
    {
      "cell_type": "markdown",
      "source": [
        "## Method 1"
      ],
      "metadata": {
        "id": "jV1Zroqijptq"
      }
    },
    {
      "cell_type": "markdown",
      "source": [
        "https://nbviewer.org/github/muthuspark/line-segmentation-handwritten-doc/blob/master/A%2A%20Path%20Planning%20Line%20Segmentation%20Algorithm.ipynb#now-that-I-have-the-lines,-I-can-now-divide-these-lines-into-words. \n",
        "\n",
        "\n",
        "https://muthu.co/segmenting-lines-in-handwritten-documents-using-a-path-planning-algorithm/\n",
        "\n",
        "\n",
        "Working but we have to decide ('change here') value in below code "
      ],
      "metadata": {
        "id": "jq4ThPuYjtIR"
      }
    },
    {
      "cell_type": "code",
      "source": [
        "from skimage.filters import threshold_otsu\n",
        "\n",
        "#binarize the image, guassian blur will remove any noise in the image\n",
        "first_line =  cv2.imread('/content/Screenshot 2022-02-06 093814.jpeg',0)\n",
        "first_line = 255 -first_line\n",
        "thresh = threshold_otsu(first_line)\n",
        "binary = first_line > thresh\n",
        "\n",
        "# find the vertical projection by adding up the values of all pixels along rows\n",
        "vertical_projection = np.sum(binary, axis=0)\n",
        "\n",
        "# plot the vertical projects\n",
        "fig, ax = plt.subplots(nrows=2, figsize=(20,10))\n",
        "plt.xlim(0, first_line.shape[1])\n",
        "ax[0].imshow(binary, cmap=\"gray\")\n",
        "ax[1].plot(vertical_projection)"
      ],
      "metadata": {
        "colab": {
          "base_uri": "https://localhost:8080/",
          "height": 468
        },
        "id": "NAknkl7tONhx",
        "outputId": "5fc06ea1-826a-4cf3-e0d2-a1f25ef62f47"
      },
      "execution_count": null,
      "outputs": [
        {
          "output_type": "execute_result",
          "data": {
            "text/plain": [
              "[<matplotlib.lines.Line2D at 0x7fd946e3c3d0>]"
            ]
          },
          "metadata": {},
          "execution_count": 40
        },
        {
          "output_type": "display_data",
          "data": {
            "image/png": "[encoded data removed]",
            "text/plain": [
              "<Figure size 1440x720 with 2 Axes>"
            ]
          },
          "metadata": {
            "needs_background": "light"
          }
        }
      ]
    },
    {
      "cell_type": "code",
      "source": [
        "height = first_line.shape[0]\n",
        "\n",
        "## we will go through the vertical projections and \n",
        "## find the sequence of consecutive white spaces in the image\n",
        "whitespace_lengths = []\n",
        "whitespace = 0\n",
        "index = 0\n",
        "index_=[]\n",
        "for vp in vertical_projection:\n",
        "    \n",
        "    if vp == height:\n",
        "        whitespace = whitespace + 1\n",
        "    elif vp != height:\n",
        "        if whitespace != 0:\n",
        "            whitespace_lengths.append(whitespace)\n",
        "            index_.append(index)\n",
        "        whitespace = 0 # reset whitepsace counter. \n",
        "    index+=1\n",
        "print(\"whitespaces:\", whitespace_lengths)\n",
        "avg_white_space_length = np.mean(whitespace_lengths)\n",
        "print(\"average whitespace lenght:\", avg_white_space_length)\n",
        "\n",
        "plt.imshow(binary,cmap='gray')\n",
        "for xc in index_:\n",
        "    plt.axvline(x=xc)"
      ],
      "metadata": {
        "colab": {
          "base_uri": "https://localhost:8080/",
          "height": 132
        },
        "id": "Lyv6ytcVO2sK",
        "outputId": "c6c08cbd-7e77-4119-e460-f7b0a3174232"
      },
      "execution_count": null,
      "outputs": [
        {
          "output_type": "stream",
          "name": "stdout",
          "text": [
            "whitespaces: [15, 3, 17, 1, 14, 19, 20, 1, 1, 4, 20, 9, 3, 15, 4, 1]\n",
            "average whitespace lenght: 9.1875\n"
          ]
        },
        {
          "output_type": "display_data",
          "data": {
            "image/png": "[encoded data removed]",
            "text/plain": [
              "<Figure size 432x288 with 1 Axes>"
            ]
          },
          "metadata": {
            "needs_background": "light"
          }
        }
      ]
    },
    {
      "cell_type": "code",
      "source": [
        "## find index of whitespaces which are actually long spaces using the avg_white_space_length\n",
        "whitespace_length = 0\n",
        "divider_indexes = []\n",
        "for index, vp in enumerate(vertical_projection):\n",
        "    if vp == height:\n",
        "        whitespace_length = whitespace_length + 1\n",
        "    elif vp != height:\n",
        "        if whitespace_length != 0 and whitespace_length > (avg_white_space_length+5):#change here\n",
        "            divider_indexes.append(index-int(whitespace_length/2))\n",
        "            whitespace_length = 0 # reset it\n",
        "          \n",
        "print(divider_indexes)\n",
        "\n",
        "for index, vp in reversed(list(enumerate(vertical_projection))):# for last word segmentation\n",
        "    if vp == height:\n",
        "        whitespace_length = whitespace_length + 1\n",
        "    elif vp != height:\n",
        "        if whitespace_length != 0 and whitespace_length > (avg_white_space_length):\n",
        "            divider_indexes.append(index+int(whitespace_length/2))\n",
        "            break\n",
        "            whitespace_length = 0 # reset it\n",
        "  \n",
        "\n",
        "plt.imshow(binary,cmap='gray')\n",
        "for xc in divider_indexes:\n",
        "    plt.axvline(x=xc)"
      ],
      "metadata": {
        "colab": {
          "base_uri": "https://localhost:8080/",
          "height": 112
        },
        "id": "dH9Zcg4JO5MK",
        "outputId": "c98736fc-d788-442a-a256-097b9005ccfe"
      },
      "execution_count": null,
      "outputs": [
        {
          "output_type": "stream",
          "name": "stdout",
          "text": [
            "[8, 41, 114, 133, 167, 254, 320]\n"
          ]
        },
        {
          "output_type": "display_data",
          "data": {
            "image/png": "[encoded data removed]",
            "text/plain": [
              "<Figure size 432x288 with 1 Axes>"
            ]
          },
          "metadata": {
            "needs_background": "light"
          }
        }
      ]
    },
    {
      "cell_type": "code",
      "source": [
        "# lets create the block of words from divider_indexes\n",
        "divider_indexes = np.array(divider_indexes)\n",
        "dividers = np.column_stack((divider_indexes[:-1],divider_indexes[1:]))\n",
        "\n",
        "fig, ax = plt.subplots(nrows=len(dividers), figsize=(5,10))\n",
        "for index, window in enumerate(dividers):\n",
        "    ax[index].axis(\"off\")\n",
        "    ax[index].imshow(first_line[:,window[0]:window[1]], cmap=\"gray\")"
      ],
      "metadata": {
        "colab": {
          "base_uri": "https://localhost:8080/",
          "height": 575
        },
        "id": "EHUjjJvUO9JQ",
        "outputId": "24873979-084f-4a1d-ce41-a31faba9215b"
      },
      "execution_count": null,
      "outputs": [
        {
          "output_type": "display_data",
          "data": {
            "image/png": "[encoded data removed]",
            "text/plain": [
              "<Figure size 360x720 with 7 Axes>"
            ]
          },
          "metadata": {
            "needs_background": "light"
          }
        }
      ]
    },
    {
      "cell_type": "markdown",
      "source": [
        "# Word Segmentation into characters"
      ],
      "metadata": {
        "id": "MQeGrjctoEde"
      }
    },
    {
      "cell_type": "markdown",
      "source": [
        "## Method 1 - use same technique of Method 1 line segmentaion with some changes "
      ],
      "metadata": {
        "id": "6kbJYxKdoHOf"
      }
    },
    {
      "cell_type": "code",
      "source": [
        "from skimage.filters import threshold_otsu\n",
        "\n",
        "#binarize the image, guassian blur will remove any noise in the image\n",
        "first_line =  cv2.imread('/content/6.jpeg',0)\n",
        "\n",
        "# first_line = 255 -first_line\n",
        "thresh = threshold_otsu(first_line)\n",
        "binary = first_line > thresh\n",
        "print(thresh)\n",
        "\n",
        "# find the vertical projection by adding up the values of all pixels along rows\n",
        "vertical_projection = np.sum(binary, axis=0)\n",
        "\n",
        "# plot the vertical projects\n",
        "fig, ax = plt.subplots(nrows=2, figsize=(20,10))\n",
        "plt.xlim(0, first_line.shape[1])\n",
        "ax[0].imshow(binary, cmap=\"gray\")\n",
        "ax[1].plot(vertical_projection)"
      ],
      "metadata": {
        "colab": {
          "base_uri": "https://localhost:8080/",
          "height": 525
        },
        "outputId": "88e0a3bd-b17a-4e58-9bea-75d847c322bd",
        "id": "ZgO9b4OyogVq"
      },
      "execution_count": null,
      "outputs": [
        {
          "output_type": "stream",
          "name": "stdout",
          "text": [
            "87\n"
          ]
        },
        {
          "output_type": "execute_result",
          "data": {
            "text/plain": [
              "[<matplotlib.lines.Line2D at 0x7fd94679ecd0>]"
            ]
          },
          "metadata": {},
          "execution_count": 69
        },
        {
          "output_type": "display_data",
          "data": {
            "image/png": "[encoded data removed]",
            "text/plain": [
              "<Figure size 1440x720 with 2 Axes>"
            ]
          },
          "metadata": {
            "needs_background": "light"
          }
        }
      ]
    },
    {
      "cell_type": "code",
      "source": [
        "height = first_line.shape[0]\n",
        "\n",
        "## we will go through the vertical projections and \n",
        "## find the sequence of consecutive white spaces in the image\n",
        "whitespace_lengths = []\n",
        "whitespace = 0\n",
        "index = 0\n",
        "index_=[]\n",
        "for vp in vertical_projection:\n",
        "    \n",
        "    if vp == height:\n",
        "        whitespace = whitespace + 1\n",
        "    elif vp != height:\n",
        "        if whitespace != 0:\n",
        "            whitespace_lengths.append(whitespace)\n",
        "            index_.append(index)\n",
        "        whitespace = 0 # reset whitepsace counter. \n",
        "    index+=1\n",
        "print(\"whitespaces:\", whitespace_lengths)\n",
        "avg_white_space_length = np.mean(whitespace_lengths)\n",
        "print(\"average whitespace lenght:\", avg_white_space_length)\n",
        "\n",
        "plt.imshow(binary,cmap='gray')\n",
        "for xc in index_:\n",
        "    plt.axvline(x=xc)"
      ],
      "metadata": {
        "colab": {
          "base_uri": "https://localhost:8080/",
          "height": 208
        },
        "outputId": "51d364d3-fd50-4167-fb3d-86900855ecfe",
        "id": "zKKauwY7ogVr"
      },
      "execution_count": null,
      "outputs": [
        {
          "output_type": "stream",
          "name": "stdout",
          "text": [
            "whitespaces: [19, 3, 7, 1, 7, 9, 17]\n",
            "average whitespace lenght: 9.0\n"
          ]
        },
        {
          "output_type": "display_data",
          "data": {
            "image/png": "[encoded data removed]",
            "text/plain": [
              "<Figure size 432x288 with 1 Axes>"
            ]
          },
          "metadata": {
            "needs_background": "light"
          }
        }
      ]
    },
    {
      "cell_type": "code",
      "source": [
        "## find index of whitespaces which are actually long spaces using the avg_white_space_length\n",
        "whitespace_length = 0\n",
        "divider_indexes = []\n",
        "for index, vp in enumerate(vertical_projection):\n",
        "    if vp == height:\n",
        "        whitespace_length = whitespace_length + 1\n",
        "    elif vp != height:\n",
        "        if whitespace_length != 0 or whitespace_length > (avg_white_space_length):#change here\n",
        "            divider_indexes.append(index-int(whitespace_length/2))\n",
        "            whitespace_length = 0 # reset it\n",
        "          \n",
        "\n",
        "\n",
        "for index, vp in reversed(list(enumerate(vertical_projection))):# for last word segmentation\n",
        "    if vp == height:\n",
        "        whitespace_length = whitespace_length + 1\n",
        "    elif vp != height:\n",
        "        if whitespace_length != 0 or whitespace_length > (avg_white_space_length):\n",
        "            divider_indexes.append(index+int(whitespace_length/2))\n",
        "            break\n",
        "            whitespace_length = 0 # reset it\n",
        "  \n",
        "print(divider_indexes)\n",
        "\n",
        "plt.imshow(binary,cmap='gray')\n",
        "for xc in divider_indexes:\n",
        "    plt.axvline(x=xc)"
      ],
      "metadata": {
        "colab": {
          "base_uri": "https://localhost:8080/",
          "height": 190
        },
        "outputId": "1846eeca-368c-432b-d13d-5277fc101a88",
        "id": "R9adSQHOogVr"
      },
      "execution_count": null,
      "outputs": [
        {
          "output_type": "stream",
          "name": "stdout",
          "text": [
            "[10, 57, 111, 118, 147, 164, 191, 241]\n"
          ]
        },
        {
          "output_type": "display_data",
          "data": {
            "image/png": "[encoded data removed]",
            "text/plain": [
              "<Figure size 432x288 with 1 Axes>"
            ]
          },
          "metadata": {
            "needs_background": "light"
          }
        }
      ]
    },
    {
      "cell_type": "code",
      "source": [
        "# lets create the block of words from divider_indexes\n",
        "divider_indexes = np.array(divider_indexes)\n",
        "dividers = np.column_stack((divider_indexes[:-1],divider_indexes[1:]))\n",
        "\n",
        "fig, ax = plt.subplots(nrows=len(dividers), figsize=(5,10))\n",
        "for index, window in enumerate(dividers):\n",
        "    ax[index].axis(\"off\")\n",
        "    ax[index].imshow(first_line[:,window[0]:window[1]], cmap=\"gray\")"
      ],
      "metadata": {
        "colab": {
          "base_uri": "https://localhost:8080/",
          "height": 575
        },
        "outputId": "d213c680-e23e-4346-b26a-741331e5ef5b",
        "id": "67fQmbqXogVr"
      },
      "execution_count": null,
      "outputs": [
        {
          "output_type": "display_data",
          "data": {
            "image/png": "[encoded data removed]",
            "text/plain": [
              "<Figure size 360x720 with 7 Axes>"
            ]
          },
          "metadata": {
            "needs_background": "light"
          }
        }
      ]
    },
    {
      "cell_type": "markdown",
      "source": [
        "# ennumerate through list in reversed order"
      ],
      "metadata": {
        "id": "cSCiInaToq7E"
      }
    },
    {
      "cell_type": "markdown",
      "source": [
        "https://stackoverflow.com/questions/529424/traverse-a-list-in-reverse-order-in-python#:~:text=for%20i%2C%20e%20in%20reversed(list(enumerate(a)))%3A%0A...%20%20%20%20%20print(i%2C%20e) "
      ],
      "metadata": {
        "id": "xjxtjwzyov-v"
      }
    },
    {
      "cell_type": "code",
      "source": [
        "for i, e in reversed(list(enumerate(a))):\n",
        "  print(i, e)"
      ],
      "metadata": {
        "id": "ll8bJnGsowOu"
      },
      "execution_count": null,
      "outputs": []
    },
    {
      "cell_type": "markdown",
      "source": [
        "# Page segmentation into lines "
      ],
      "metadata": {
        "id": "xIR3AF4o1XuI"
      }
    },
    {
      "cell_type": "markdown",
      "source": [
        "## Method 1 - use same technique of Method 1 line segmentaion with some changes "
      ],
      "metadata": {
        "id": "nZ4V-CbL1bIY"
      }
    },
    {
      "cell_type": "code",
      "source": [
        "from skimage.filters import threshold_otsu\n",
        "\n",
        "#binarize the image, guassian blur will remove any noise in the image\n",
        "# first_line =  cv2.imread('/content/1.jpeg',0)\n",
        "first_line = img1.copy()\n",
        "first_line =cv2.rotate(first_line, cv2.ROTATE_90_CLOCKWISE)\n",
        "\n",
        "\n",
        "first_line = 255 -first_line\n",
        "thresh = threshold_otsu(first_line)\n",
        "binary = first_line > thresh\n",
        "print(thresh)\n",
        "\n",
        "# find the vertical projection by adding up the values of all pixels along rows\n",
        "vertical_projection = np.sum(binary, axis=0)\n",
        "\n",
        "# plot the vertical projects\n",
        "fig, ax = plt.subplots(nrows=2, figsize=(20,10))\n",
        "plt.xlim(0, first_line.shape[1])\n",
        "ax[0].imshow(binary, cmap=\"gray\")\n",
        "ax[1].plot(vertical_projection)"
      ],
      "metadata": {
        "colab": {
          "base_uri": "https://localhost:8080/",
          "height": 523
        },
        "outputId": "b5ed0544-7d50-4f5f-8c06-a6b3c15917f4",
        "id": "jmr4YmEz11TS"
      },
      "execution_count": null,
      "outputs": [
        {
          "output_type": "stream",
          "name": "stdout",
          "text": [
            "0\n"
          ]
        },
        {
          "output_type": "execute_result",
          "data": {
            "text/plain": [
              "[<matplotlib.lines.Line2D at 0x7fd945648490>]"
            ]
          },
          "metadata": {},
          "execution_count": 113
        },
        {
          "output_type": "display_data",
          "data": {
            "image/png": "[encoded data removed]",
            "text/plain": [
              "<Figure size 1440x720 with 2 Axes>"
            ]
          },
          "metadata": {
            "needs_background": "light"
          }
        }
      ]
    },
    {
      "cell_type": "code",
      "source": [
        "height = first_line.shape[0]\n",
        "\n",
        "## we will go through the vertical projections and \n",
        "## find the sequence of consecutive white spaces in the image\n",
        "whitespace_lengths = []\n",
        "whitespace = 0\n",
        "index = 0\n",
        "index_=[]\n",
        "for vp in vertical_projection:\n",
        "    \n",
        "    if vp == height:\n",
        "        whitespace = whitespace + 1\n",
        "    elif vp != height:\n",
        "        if whitespace != 0:\n",
        "            whitespace_lengths.append(whitespace)\n",
        "            index_.append(index)\n",
        "        whitespace = 0 # reset whitepsace counter. \n",
        "    index+=1\n",
        "print(\"whitespaces:\", whitespace_lengths)\n",
        "avg_white_space_length = np.mean(whitespace_lengths)\n",
        "print(\"average whitespace lenght:\", avg_white_space_length)\n",
        "\n",
        "plt.imshow(binary,cmap='gray')\n",
        "for xc in index_:\n",
        "    plt.axvline(x=xc)"
      ],
      "metadata": {
        "colab": {
          "base_uri": "https://localhost:8080/",
          "height": 304
        },
        "outputId": "4f3c7a29-9842-4023-821a-d011f7208de4",
        "id": "eTC1yxg711TV"
      },
      "execution_count": null,
      "outputs": [
        {
          "output_type": "stream",
          "name": "stdout",
          "text": [
            "whitespaces: [2, 2, 1, 5, 4, 4, 7, 17, 24]\n",
            "average whitespace lenght: 7.333333333333333\n"
          ]
        },
        {
          "output_type": "display_data",
          "data": {
            "image/png": "[encoded data removed]",
            "text/plain": [
              "<Figure size 432x288 with 1 Axes>"
            ]
          },
          "metadata": {
            "needs_background": "light"
          }
        }
      ]
    },
    {
      "cell_type": "code",
      "source": [
        "## find index of whitespaces which are actually long spaces using the avg_white_space_length\n",
        "whitespace_length = 0\n",
        "divider_indexes = []\n",
        "for index, vp in enumerate(vertical_projection):\n",
        "    if vp == height:\n",
        "        whitespace_length = whitespace_length + 1\n",
        "    elif vp != height:\n",
        "        if whitespace_length != 0 or whitespace_length > (avg_white_space_length):#change here\n",
        "            divider_indexes.append(index-int(whitespace_length/2))\n",
        "            whitespace_length = 0 # reset it\n",
        "          \n",
        "\n",
        "\n",
        "for index, vp in reversed(list(enumerate(vertical_projection))):# for last word segmentation\n",
        "    if vp == height:\n",
        "        whitespace_length = whitespace_length + 1\n",
        "    elif vp != height:\n",
        "        if whitespace_length != 0 or whitespace_length > (avg_white_space_length):\n",
        "            divider_indexes.append(index+int(whitespace_length/2))\n",
        "            break\n",
        "            whitespace_length = 0 # reset it\n",
        "  \n",
        "print(divider_indexes)\n",
        "\n",
        "plt.imshow(binary,cmap='gray')\n",
        "for xc in divider_indexes:\n",
        "    plt.axvline(x=xc)"
      ],
      "metadata": {
        "colab": {
          "base_uri": "https://localhost:8080/",
          "height": 286
        },
        "outputId": "91d099c3-f060-4d7c-f30f-2a6be6a32535",
        "id": "AWMZql7q11TW"
      },
      "execution_count": null,
      "outputs": [
        {
          "output_type": "stream",
          "name": "stdout",
          "text": [
            "[6, 10, 62, 67, 164, 234, 283, 340, 404, 403]\n"
          ]
        },
        {
          "output_type": "display_data",
          "data": {
            "image/png": "[encoded data removed]",
            "text/plain": [
              "<Figure size 432x288 with 1 Axes>"
            ]
          },
          "metadata": {
            "needs_background": "light"
          }
        }
      ]
    },
    {
      "cell_type": "code",
      "source": [
        "# lets create the block of words from divider_indexes\n",
        "divider_indexes = np.array(divider_indexes)\n",
        "dividers = np.column_stack((divider_indexes[:-1],divider_indexes[1:]))\n",
        "\n",
        "fig, ax = plt.subplots(nrows=len(dividers), figsize=(5,10))\n",
        "for index, window in enumerate(dividers):\n",
        "    ax[index].axis(\"off\")\n",
        "    ax[index].imshow(first_line[:,window[0]:window[1]], cmap=\"gray\")"
      ],
      "metadata": {
        "colab": {
          "base_uri": "https://localhost:8080/",
          "height": 629
        },
        "outputId": "086376e8-0a63-44b1-cc88-02c246d42ef9",
        "id": "ZnQgymZV11TX"
      },
      "execution_count": null,
      "outputs": [
        {
          "output_type": "stream",
          "name": "stderr",
          "text": [
            "/usr/local/lib/python3.7/dist-packages/ipykernel_launcher.py:8: UserWarning: Attempting to set identical left == right == -0.5 results in singular transformations; automatically expanding.\n",
            "  \n"
          ]
        },
        {
          "output_type": "display_data",
          "data": {
            "image/png": "[encoded data removed]",
            "text/plain": [
              "<Figure size 360x720 with 9 Axes>"
            ]
          },
          "metadata": {
            "needs_background": "light"
          }
        }
      ]
    },
    {
      "cell_type": "markdown",
      "source": [
        "# Split into train and test "
      ],
      "metadata": {
        "id": "Hus3Go8fr1r0"
      }
    },
    {
      "cell_type": "markdown",
      "source": [
        "https://stackoverflow.com/questions/3674409/how-to-split-partition-a-dataset-into-training-and-test-datasets-for-e-g-cros \n",
        "\n",
        "https://stackoverflow.com/questions/3674409/how-to-split-partition-a-dataset-into-training-and-test-datasets-for-e-g-cros#:~:text=from%20sklearn.model_selection%20import%20train_test_split%0A%0Adata%2C%20labels%20%3D%20np.arange(10).reshape((5%2C%202))%2C%20range(5)%0A%0Adata_train%2C%20data_test%2C%20labels_train%2C%20labels_test%20%3D%20train_test_split(data%2C%20labels%2C%20test_size%3D0.20%2C%20random_state%3D42) "
      ],
      "metadata": {
        "id": "yE526u7Jr5tW"
      }
    },
    {
      "cell_type": "code",
      "source": [
        "from sklearn.model_selection import train_test_split\n",
        "\n",
        "data, labels = np.arange(10).reshape((5, 2)), range(5)\n",
        "\n",
        "data_train, data_test, labels_train, labels_test = train_test_split(data, labels, test_size=0.20, random_state=42)"
      ],
      "metadata": {
        "id": "DtGq4D88r6hq"
      },
      "execution_count": null,
      "outputs": []
    },
    {
      "cell_type": "markdown",
      "source": [
        "# Model Checkpoint "
      ],
      "metadata": {
        "id": "y_6TnXVj45je"
      }
    },
    {
      "cell_type": "markdown",
      "source": [
        "https://www.tensorflow.org/api_docs/python/tf/keras/callbacks/ModelCheckpoint "
      ],
      "metadata": {
        "id": "5_Ezz8HL48IX"
      }
    },
    {
      "cell_type": "code",
      "source": [
        "def train_model(model, train_features, train_label, epochs,\n",
        "                batch_size=None, validation_split=0.1):\n",
        "  \"\"\"Train the model by feeding it data.\"\"\"\n",
        "\n",
        "  logdir = os.path.join(\"logs\", datetime.datetime.now().strftime(\"%Y%m%d-%H%M%S\"))\n",
        "  tensorboard_callback = tf.keras.callbacks.TensorBoard(logdir, histogram_freq=1)\n",
        "\n",
        "  # https://www.tensorflow.org/api_docs/python/tf/keras/callbacks/ModelCheckpoint \n",
        "  checkpoint_filepath = '/content/checkpoint'\n",
        "  model_checkpoint_callback = tf.keras.callbacks.ModelCheckpoint(\n",
        "      filepath=checkpoint_filepath,\n",
        "      save_weights_only=True,\n",
        "      monitor='val_accuracy',\n",
        "      mode='max',\n",
        "      save_best_only=True)\n",
        "\n",
        "  history = model.fit(x=train_features, y=train_label, batch_size=batch_size,\n",
        "                      epochs=epochs, shuffle=True, \n",
        "                      validation_split=validation_split,callbacks=[tensorboard_callback,model_checkpoint_callback])\n",
        "  \n",
        "  # The model weights (that are considered the best) are loaded into the model.\n",
        "  model.load_weights(checkpoint_filepath)\n",
        "\n",
        "  # To track the progression of training, gather a snapshot\n",
        "  # of the model's metrics at each epoch. \n",
        "  epochs = history.epoch\n",
        "  hist = pd.DataFrame(history.history)\n",
        "\n",
        "  return epochs, hist     "
      ],
      "metadata": {
        "id": "SPi6hgaU49pn"
      },
      "execution_count": null,
      "outputs": []
    },
    {
      "cell_type": "markdown",
      "source": [
        "# Installing Tesseract in colab"
      ],
      "metadata": {
        "id": "AgrvYLXW92WD"
      }
    },
    {
      "cell_type": "markdown",
      "source": [
        "https://bhadreshpsavani.medium.com/how-to-use-tesseract-library-for-ocr-in-google-colab-notebook-5da5470e4fe0 \n"
      ],
      "metadata": {
        "id": "0PHOKu1F98Mq"
      }
    },
    {
      "cell_type": "code",
      "source": [
        "!sudo apt install tesseract-ocr\n",
        "!pip install pytesseract"
      ],
      "metadata": {
        "colab": {
          "base_uri": "https://localhost:8080/",
          "height": 1000
        },
        "id": "Ke2BUE5Kja25",
        "outputId": "7b93d1d6-c3e3-45e6-fd8f-c530522beeb9"
      },
      "execution_count": null,
      "outputs": [
        {
          "output_type": "stream",
          "name": "stdout",
          "text": [
            "Reading package lists... Done\n",
            "Building dependency tree       \n",
            "Reading state information... Done\n",
            "The following package was automatically installed and is no longer required:\n",
            "  libnvidia-common-470\n",
            "Use 'sudo apt autoremove' to remove it.\n",
            "The following additional packages will be installed:\n",
            "  tesseract-ocr-eng tesseract-ocr-osd\n",
            "The following NEW packages will be installed:\n",
            "  tesseract-ocr tesseract-ocr-eng tesseract-ocr-osd\n",
            "0 upgraded, 3 newly installed, 0 to remove and 39 not upgraded.\n",
            "Need to get 4,795 kB of archives.\n",
            "After this operation, 15.8 MB of additional disk space will be used.\n",
            "Get:1 http://archive.ubuntu.com/ubuntu bionic/universe amd64 tesseract-ocr-eng all 4.00~git24-0e00fe6-1.2 [1,588 kB]\n",
            "Get:2 http://archive.ubuntu.com/ubuntu bionic/universe amd64 tesseract-ocr-osd all 4.00~git24-0e00fe6-1.2 [2,989 kB]\n",
            "Get:3 http://archive.ubuntu.com/ubuntu bionic/universe amd64 tesseract-ocr amd64 4.00~git2288-10f4998a-2 [218 kB]\n",
            "Fetched 4,795 kB in 2s (3,041 kB/s)\n",
            "debconf: unable to initialize frontend: Dialog\n",
            "debconf: (No usable dialog-like program is installed, so the dialog based frontend cannot be used. at /usr/share/perl5/Debconf/FrontEnd/Dialog.pm line 76, <> line 3.)\n",
            "debconf: falling back to frontend: Readline\n",
            "debconf: unable to initialize frontend: Readline\n",
            "debconf: (This frontend requires a controlling tty.)\n",
            "debconf: falling back to frontend: Teletype\n",
            "dpkg-preconfigure: unable to re-open stdin: \n",
            "Selecting previously unselected package tesseract-ocr-eng.\n",
            "(Reading database ... 155320 files and directories currently installed.)\n",
            "Preparing to unpack .../tesseract-ocr-eng_4.00~git24-0e00fe6-1.2_all.deb ...\n",
            "Unpacking tesseract-ocr-eng (4.00~git24-0e00fe6-1.2) ...\n",
            "Selecting previously unselected package tesseract-ocr-osd.\n",
            "Preparing to unpack .../tesseract-ocr-osd_4.00~git24-0e00fe6-1.2_all.deb ...\n",
            "Unpacking tesseract-ocr-osd (4.00~git24-0e00fe6-1.2) ...\n",
            "Selecting previously unselected package tesseract-ocr.\n",
            "Preparing to unpack .../tesseract-ocr_4.00~git2288-10f4998a-2_amd64.deb ...\n",
            "Unpacking tesseract-ocr (4.00~git2288-10f4998a-2) ...\n",
            "Setting up tesseract-ocr-osd (4.00~git24-0e00fe6-1.2) ...\n",
            "Setting up tesseract-ocr-eng (4.00~git24-0e00fe6-1.2) ...\n",
            "Setting up tesseract-ocr (4.00~git2288-10f4998a-2) ...\n",
            "Processing triggers for man-db (2.8.3-2ubuntu0.1) ...\n",
            "Requirement already satisfied: pytesseract in /usr/local/lib/python3.7/dist-packages (0.3.9)\n",
            "Collecting Pillow>=8.0.0\n",
            "  Using cached Pillow-9.0.1-cp37-cp37m-manylinux_2_17_x86_64.manylinux2014_x86_64.whl (4.3 MB)\n",
            "Requirement already satisfied: packaging>=21.3 in /usr/local/lib/python3.7/dist-packages (from pytesseract) (21.3)\n",
            "Requirement already satisfied: pyparsing!=3.0.5,>=2.0.2 in /usr/local/lib/python3.7/dist-packages (from packaging>=21.3->pytesseract) (3.0.7)\n",
            "Installing collected packages: Pillow\n",
            "  Attempting uninstall: Pillow\n",
            "    Found existing installation: Pillow 4.0.0\n",
            "    Uninstalling Pillow-4.0.0:\n",
            "      Successfully uninstalled Pillow-4.0.0\n",
            "\u001b[31mERROR: pip's dependency resolver does not currently take into account all the packages that are installed. This behaviour is the source of the following dependency conflicts.\n",
            "albumentations 0.1.12 requires imgaug<0.2.7,>=0.2.5, but you have imgaug 0.2.9 which is incompatible.\u001b[0m\n",
            "Successfully installed Pillow-9.0.1\n"
          ]
        },
        {
          "output_type": "display_data",
          "data": {
            "application/vnd.colab-display-data+json": {
              "pip_warning": {
                "packages": [
                  "PIL"
                ]
              }
            }
          },
          "metadata": {}
        }
      ]
    },
    {
      "cell_type": "markdown",
      "source": [
        "# Tesseract giving binary image as input"
      ],
      "metadata": {
        "id": "REEtTX6gPMvy"
      }
    },
    {
      "cell_type": "markdown",
      "source": [
        " https://stackoverflow.com/questions/55319949/pil-typeerror-cannot-handle-this-data-type#:~:text=Additionally%2C%20please%20make%20sure%20the%20dtype%20is%20uint8(for%20gray)%20or%20bool(for%20binary). "
      ],
      "metadata": {
        "id": "Zbhcfen7PS9s"
      }
    },
    {
      "cell_type": "code",
      "source": [
        "from pytesseract.pytesseract import Output\n",
        "from matplotlib import pyplot as plt\n",
        "import cv2\n",
        "import numpy as np\n",
        "\n",
        "img = cv2.imread('/content/WhatsApp Image 2022-01-19 at 1.34.32 PM.jpeg',0)\n",
        "img1 = np.where(img < 100, 0, 255)\n",
        "\n",
        "plt.hist(img1.ravel(),256,[0,256]); plt.show()\n",
        "from google.colab.patches import cv2_imshow\n",
        "cv2_imshow(img1)\n",
        "\n",
        "print(img.dtype,img1.dtype)\n",
        "print(img.shape,img1.shape)\n",
        "\n",
        "# For pytesseract input - https://stackoverflow.com/questions/55319949/pil-typeerror-cannot-handle-this-data-type#:~:text=Additionally%2C%20please%20make%20sure%20the%20dtype%20is%20uint8(for%20gray)%20or%20bool(for%20binary).\n",
        "img1 = np.array(img1,dtype=np.uint8)"
      ],
      "metadata": {
        "id": "NCd0DbnVPVg7"
      },
      "execution_count": null,
      "outputs": []
    },
    {
      "cell_type": "markdown",
      "source": [
        "# Tesseracy detect word"
      ],
      "metadata": {
        "id": "9OYE5A_R_UC5"
      }
    },
    {
      "cell_type": "code",
      "source": [
        "import pytesseract\n",
        "from pytesseract import Output\n",
        "import cv2\n",
        "\n",
        "# https://stackoverflow.com/questions/20831612/getting-the-bounding-box-of-the-recognized-words-using-python-tesseract#:~:text=Use%20pytesseract.image_to_data()\n",
        "d = pytesseract.image_to_data(img1, output_type=Output.DICT)\n",
        "n_boxes = len(d['level'])\n",
        "for i in range(n_boxes):\n",
        "    (x, y, w, h) = (d['left'][i], d['top'][i], d['width'][i], d['height'][i])\n",
        "    cv2.rectangle(img1, (x, y), (x + w, y + h), (0, 255, 0), 2)\n",
        "\n",
        "cv2_imshow(img1)\n"
      ],
      "metadata": {
        "colab": {
          "base_uri": "https://localhost:8080/",
          "height": 499
        },
        "id": "n9zQgpfrRB0-",
        "outputId": "81457029-b0de-42a9-84cb-f5ea30449317"
      },
      "execution_count": null,
      "outputs": [
        {
          "output_type": "display_data",
          "data": {
            "image/png": "[encoded data removed]",
            "text/plain": [
              "<PIL.Image.Image image mode=L size=749x482 at 0x7FAD3B480B50>"
            ]
          },
          "metadata": {}
        }
      ]
    },
    {
      "cell_type": "markdown",
      "source": [
        "# Tesseract detect character"
      ],
      "metadata": {
        "id": "hdsRgpFM_ah2"
      }
    },
    {
      "cell_type": "markdown",
      "source": [
        "https://stackoverflow.com/questions/20831612/getting-the-bounding-box-of-the-recognized-words-using-python-tesseract "
      ],
      "metadata": {
        "id": "ean5A-fA_iKK"
      }
    },
    {
      "cell_type": "code",
      "source": [
        "print(pytesseract.get_languages())\n",
        "h, w = img1.shape # assumes color image\n",
        "\n",
        "# run tesseract, returning the bounding boxes\n",
        "boxes = pytesseract.image_to_boxes(img1) # also include any config options you use\n",
        "\n",
        "# draw the bounding boxes on the image\n",
        "for b in boxes.splitlines():\n",
        "    b = b.split(' ')\n",
        "    img1 = cv2.rectangle(img1, (int(b[1]), h - int(b[2])), (int(b[3]), h - int(b[4])), (0, 255, 0), 2)\n",
        "\n",
        "# show annotated image and wait for keypress\n",
        "cv2_imshow( img1)"
      ],
      "metadata": {
        "colab": {
          "base_uri": "https://localhost:8080/",
          "height": 516
        },
        "id": "EaQDfD47HhMM",
        "outputId": "1c66e22b-a206-465a-f94b-da17e76da451"
      },
      "execution_count": null,
      "outputs": [
        {
          "output_type": "stream",
          "name": "stdout",
          "text": [
            "['eng', 'osd']\n"
          ]
        },
        {
          "output_type": "display_data",
          "data": {
            "image/png": "[encoded data removed]",
            "text/plain": [
              "<PIL.Image.Image image mode=L size=749x482 at 0x7FAD3F6F3210>"
            ]
          },
          "metadata": {}
        }
      ]
    },
    {
      "cell_type": "markdown",
      "source": [
        "# load drive file in colab through link"
      ],
      "metadata": {
        "id": "DDKREk2BB28E"
      }
    },
    {
      "cell_type": "code",
      "source": [
        "# https://stackoverflow.com/questions/65099766/is-there-a-way-to-download-data-from-a-public-link-to-google-colab \n",
        "!gdown --id 1_yb75x8hXoTs5_f0fGdOBf0G8X4TmFZw # https://drive.google.com/file/d/1_yb75x8hXoTs5_f0fGdOBf0G8X4TmFZw/view?usp=sharing \n",
        "!gdown --id 1QBNCVYkcqvnJ8rYQA9bf840r4u27Naig # https://drive.google.com/file/d/1QBNCVYkcqvnJ8rYQA9bf840r4u27Naig/view?usp=sharing "
      ],
      "metadata": {
        "id": "za2gqpbSB_nC"
      },
      "execution_count": null,
      "outputs": []
    }
  ]
}